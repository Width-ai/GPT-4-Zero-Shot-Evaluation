{
  "cells": [
    {
      "cell_type": "code",
      "execution_count": null,
      "metadata": {
        "id": "o6d3e7k2YTAi"
      },
      "outputs": [],
      "source": [
        "!pwd"
      ]
    },
    {
      "cell_type": "markdown",
      "metadata": {
        "id": "4JOblCzaT4Xk"
      },
      "source": [
        "# GPT Summarization Routines"
      ]
    },
    {
      "cell_type": "code",
      "execution_count": null,
      "metadata": {
        "id": "bW0K18j-UFAB",
        "colab": {
          "base_uri": "https://localhost:8080/"
        },
        "outputId": "aa9e18ed-8e9b-43b6-b544-6f95c2ab739f"
      },
      "outputs": [
        {
          "output_type": "stream",
          "name": "stdout",
          "text": [
            "Looking in indexes: https://pypi.org/simple, https://us-python.pkg.dev/colab-wheels/public/simple/\n",
            "Collecting openai\n",
            "  Downloading openai-0.27.8-py3-none-any.whl (73 kB)\n",
            "\u001b[2K     \u001b[90m━━━━━━━━━━━━━━━━━━━━━━━━━━━━━━━━━━━━━━━━\u001b[0m \u001b[32m73.6/73.6 kB\u001b[0m \u001b[31m3.2 MB/s\u001b[0m eta \u001b[36m0:00:00\u001b[0m\n",
            "\u001b[?25hCollecting tiktoken\n",
            "  Downloading tiktoken-0.4.0-cp310-cp310-manylinux_2_17_x86_64.manylinux2014_x86_64.whl (1.7 MB)\n",
            "\u001b[2K     \u001b[90m━━━━━━━━━━━━━━━━━━━━━━━━━━━━━━━━━━━━━━━━\u001b[0m \u001b[32m1.7/1.7 MB\u001b[0m \u001b[31m27.2 MB/s\u001b[0m eta \u001b[36m0:00:00\u001b[0m\n",
            "\u001b[?25hRequirement already satisfied: requests>=2.20 in /usr/local/lib/python3.10/dist-packages (from openai) (2.27.1)\n",
            "Requirement already satisfied: tqdm in /usr/local/lib/python3.10/dist-packages (from openai) (4.65.0)\n",
            "Collecting aiohttp (from openai)\n",
            "  Downloading aiohttp-3.8.4-cp310-cp310-manylinux_2_17_x86_64.manylinux2014_x86_64.whl (1.0 MB)\n",
            "\u001b[2K     \u001b[90m━━━━━━━━━━━━━━━━━━━━━━━━━━━━━━━━━━━━━━━━\u001b[0m \u001b[32m1.0/1.0 MB\u001b[0m \u001b[31m63.2 MB/s\u001b[0m eta \u001b[36m0:00:00\u001b[0m\n",
            "\u001b[?25hRequirement already satisfied: regex>=2022.1.18 in /usr/local/lib/python3.10/dist-packages (from tiktoken) (2022.10.31)\n",
            "Requirement already satisfied: urllib3<1.27,>=1.21.1 in /usr/local/lib/python3.10/dist-packages (from requests>=2.20->openai) (1.26.15)\n",
            "Requirement already satisfied: certifi>=2017.4.17 in /usr/local/lib/python3.10/dist-packages (from requests>=2.20->openai) (2022.12.7)\n",
            "Requirement already satisfied: charset-normalizer~=2.0.0 in /usr/local/lib/python3.10/dist-packages (from requests>=2.20->openai) (2.0.12)\n",
            "Requirement already satisfied: idna<4,>=2.5 in /usr/local/lib/python3.10/dist-packages (from requests>=2.20->openai) (3.4)\n",
            "Requirement already satisfied: attrs>=17.3.0 in /usr/local/lib/python3.10/dist-packages (from aiohttp->openai) (23.1.0)\n",
            "Collecting multidict<7.0,>=4.5 (from aiohttp->openai)\n",
            "  Downloading multidict-6.0.4-cp310-cp310-manylinux_2_17_x86_64.manylinux2014_x86_64.whl (114 kB)\n",
            "\u001b[2K     \u001b[90m━━━━━━━━━━━━━━━━━━━━━━━━━━━━━━━━━━━━━━\u001b[0m \u001b[32m114.5/114.5 kB\u001b[0m \u001b[31m13.1 MB/s\u001b[0m eta \u001b[36m0:00:00\u001b[0m\n",
            "\u001b[?25hCollecting async-timeout<5.0,>=4.0.0a3 (from aiohttp->openai)\n",
            "  Downloading async_timeout-4.0.2-py3-none-any.whl (5.8 kB)\n",
            "Collecting yarl<2.0,>=1.0 (from aiohttp->openai)\n",
            "  Downloading yarl-1.9.2-cp310-cp310-manylinux_2_17_x86_64.manylinux2014_x86_64.whl (268 kB)\n",
            "\u001b[2K     \u001b[90m━━━━━━━━━━━━━━━━━━━━━━━━━━━━━━━━━━━━━━\u001b[0m \u001b[32m268.8/268.8 kB\u001b[0m \u001b[31m23.2 MB/s\u001b[0m eta \u001b[36m0:00:00\u001b[0m\n",
            "\u001b[?25hCollecting frozenlist>=1.1.1 (from aiohttp->openai)\n",
            "  Downloading frozenlist-1.3.3-cp310-cp310-manylinux_2_5_x86_64.manylinux1_x86_64.manylinux_2_17_x86_64.manylinux2014_x86_64.whl (149 kB)\n",
            "\u001b[2K     \u001b[90m━━━━━━━━━━━━━━━━━━━━━━━━━━━━━━━━━━━━━━\u001b[0m \u001b[32m149.6/149.6 kB\u001b[0m \u001b[31m13.7 MB/s\u001b[0m eta \u001b[36m0:00:00\u001b[0m\n",
            "\u001b[?25hCollecting aiosignal>=1.1.2 (from aiohttp->openai)\n",
            "  Downloading aiosignal-1.3.1-py3-none-any.whl (7.6 kB)\n",
            "Installing collected packages: multidict, frozenlist, async-timeout, yarl, tiktoken, aiosignal, aiohttp, openai\n",
            "Successfully installed aiohttp-3.8.4 aiosignal-1.3.1 async-timeout-4.0.2 frozenlist-1.3.3 multidict-6.0.4 openai-0.27.8 tiktoken-0.4.0 yarl-1.9.2\n"
          ]
        }
      ],
      "source": [
        "!pip install openai tiktoken"
      ]
    },
    {
      "cell_type": "code",
      "source": [],
      "metadata": {
        "id": "z02I6xTpQbU0"
      },
      "execution_count": null,
      "outputs": []
    },
    {
      "cell_type": "markdown",
      "metadata": {
        "id": "Xm0NN7kzUcYz"
      },
      "source": [
        "**Get OpenAI API Key:**\n",
        "\n",
        "Enter API Key:"
      ]
    },
    {
      "cell_type": "code",
      "execution_count": null,
      "metadata": {
        "id": "3uIn5C5hUPjh",
        "colab": {
          "base_uri": "https://localhost:8080/"
        },
        "outputId": "6dd9cae4-b769-4aad-df91-0eda0edf793b"
      },
      "outputs": [
        {
          "name": "stdout",
          "output_type": "stream",
          "text": [
            "API Key: ··········\n"
          ]
        }
      ],
      "source": [
        "import openai\n",
        "import getpass\n",
        "import os\n",
        "\n",
        "openai.organization = 'org-eWvp2DebNMFgMDwVvbWAg5g3'\n",
        "\n",
        "openai.api_key = getpass.getpass('API Key: ')\n",
        "\n",
        "os.environ[\"OPENAI_API_KEY\"] = openai.api_key"
      ]
    },
    {
      "cell_type": "code",
      "source": [
        "# Test GPT-4 here\n",
        "\n",
        "prompt = \"\"\"\n",
        "  Your task is to classify the text fragments in the backticks below. Classify each of the\n",
        "  \"Text\" values as one of these \"Aspect\" labels - Kind,Mean.\n",
        "  If none of these labels is suitable, label it as 'General'.\n",
        "  Don't include backticks in your output.\n",
        "\n",
        "  ```\n",
        "  [\n",
        "    { \"Text\": \"You are a butt\", \"Aspect\":\"\"},\n",
        "    { \"Text\": \"You are a friend\", \"Aspect\":\"\"},\n",
        "    { \"Text\": \"You are a person\", \"Aspect\":\"\"}\n",
        "  ]\n",
        "  ```\n",
        "  \"\"\"\n",
        "\n",
        "msgs = [{'role':'user', 'content':prompt}]\n",
        "\n",
        "resp = openai.ChatCompletion.create(\n",
        "      model='gpt-4',\n",
        "      messages=msgs,\n",
        "      temperature=0.75\n",
        ")\n",
        "\n",
        "print(resp['choices'][0]['message']['content'])"
      ],
      "metadata": {
        "colab": {
          "base_uri": "https://localhost:8080/"
        },
        "id": "CwUSSOOyA4LZ",
        "outputId": "568b66b7-c3b1-4e28-98be-879d03b61ab2"
      },
      "execution_count": null,
      "outputs": [
        {
          "output_type": "stream",
          "name": "stdout",
          "text": [
            "[\n",
            "  { \"Text\": \"You are a butt\", \"Aspect\":\"Mean\"}, \n",
            "  { \"Text\": \"You are a friend\", \"Aspect\":\"Kind\"}, \n",
            "  { \"Text\": \"You are a person\", \"Aspect\":\"General\"}\n",
            "]\n"
          ]
        }
      ]
    },
    {
      "cell_type": "code",
      "execution_count": null,
      "metadata": {
        "id": "twSoKW5yXbvx"
      },
      "outputs": [],
      "source": [
        "for m in openai.Model.list()['data']:\n",
        "  print(m['id'])"
      ]
    },
    {
      "cell_type": "code",
      "execution_count": null,
      "metadata": {
        "id": "RiMH8OWYVhlM"
      },
      "outputs": [],
      "source": [
        "def gpt4_summarize_direct(text, prompt=None, system_msg=None, temperature=0.6):\n",
        "  return _gpt_summarize_common('gpt-4', text, prompt, system_msg, temperature)\n",
        "\n",
        "\n",
        "def gpt3_summarize_direct(text, prompt=None, system_msg=None, temperature=0.6):\n",
        "  return _gpt_summarize_common('gpt-3.5-turbo', text, prompt, system_msg, temperature)\n",
        "\n",
        "\n",
        "def _gpt_summarize_common(model, text, prompt, system_msg, temperature):\n",
        "  # Summarize the entire input text in one go by assuming it's within\n",
        "  # token limits.\n",
        "  # API Ref: https://platform.openai.com/docs/guides/chat\n",
        "\n",
        "  msgs = []\n",
        "  if system_msg:\n",
        "    msgs.append({'role':'system', 'content':system_msg})\n",
        "\n",
        "  default_prompt = f\"\"\"\n",
        "  Your task is to generate a short summary of an article on a website.\n",
        "\n",
        "  Summarize the article below, delimited by triple backticks, in at most 3 sentences.\n",
        "\n",
        "  ```{text}```\n",
        "  \"\"\"\n",
        "\n",
        "  user_msg = ''\n",
        "  if not prompt:\n",
        "    user_msg = default_prompt\n",
        "  else:\n",
        "    user_msg = f'{prompt}\\n\\n{text}'\n",
        "\n",
        "  msgs.append({'role':'user', 'content':user_msg})\n",
        "\n",
        "  resp = openai.ChatCompletion.create(\n",
        "      model=model,\n",
        "      messages=msgs,\n",
        "      temperature=temperature\n",
        "  )\n",
        "\n",
        "  asst_msg = resp['choices'][0]['message']['content']\n",
        "\n",
        "  return asst_msg, resp"
      ]
    },
    {
      "cell_type": "code",
      "execution_count": null,
      "metadata": {
        "id": "7DN217DuegoS"
      },
      "outputs": [],
      "source": [
        "import tiktoken\n",
        "\n",
        "def gpt4_count_tokens(text):\n",
        "  tokenizer = tiktoken.encoding_for_model('gpt-4')\n",
        "  tokens = tokenizer.encode(text)\n",
        "  return len(tokens)\n",
        "\n",
        "def gpt3_count_tokens(text):\n",
        "  tokenizer = tiktoken.encoding_for_model('gpt-3.5-turbo')\n",
        "  tokens = tokenizer.encode(text)\n",
        "  return len(tokens)"
      ]
    },
    {
      "cell_type": "markdown",
      "metadata": {
        "id": "K3Nt7wvjAjPC"
      },
      "source": [
        "# LangChain Summarization Routines\n",
        "\n",
        "https://python.langchain.com/en/latest/modules/chains/index_examples/summarize.html\n",
        "\n",
        "+ The `stuff` chain dumps the entire document. Not ideal for long docs.\n",
        "\n",
        "+ The `map_reduce` chain uses chunking. Good for long docs. However, the chunking is naive rather than semantically-aware and context-aware.\n",
        "\n",
        "+ The `refine` chain uses a supplied summary as a starting point and refines it."
      ]
    },
    {
      "cell_type": "code",
      "execution_count": null,
      "metadata": {
        "id": "IlFnf_2buA-n",
        "colab": {
          "base_uri": "https://localhost:8080/"
        },
        "outputId": "a4dbc142-2e71-4368-8822-f8cb92127372"
      },
      "outputs": [
        {
          "output_type": "stream",
          "name": "stdout",
          "text": [
            "Looking in indexes: https://pypi.org/simple, https://us-python.pkg.dev/colab-wheels/public/simple/\n",
            "Collecting langchain\n",
            "  Downloading langchain-0.0.166-py3-none-any.whl (803 kB)\n",
            "\u001b[2K     \u001b[90m━━━━━━━━━━━━━━━━━━━━━━━━━━━━━━━━━━━━━━\u001b[0m \u001b[32m803.5/803.5 kB\u001b[0m \u001b[31m12.9 MB/s\u001b[0m eta \u001b[36m0:00:00\u001b[0m\n",
            "\u001b[?25hRequirement already satisfied: PyYAML>=5.4.1 in /usr/local/lib/python3.10/dist-packages (from langchain) (6.0)\n",
            "Requirement already satisfied: SQLAlchemy<3,>=1.4 in /usr/local/lib/python3.10/dist-packages (from langchain) (2.0.10)\n",
            "Collecting aiohttp<4.0.0,>=3.8.3 (from langchain)\n",
            "  Downloading aiohttp-3.8.4-cp310-cp310-manylinux_2_17_x86_64.manylinux2014_x86_64.whl (1.0 MB)\n",
            "\u001b[2K     \u001b[90m━━━━━━━━━━━━━━━━━━━━━━━━━━━━━━━━━━━━━━━━\u001b[0m \u001b[32m1.0/1.0 MB\u001b[0m \u001b[31m50.6 MB/s\u001b[0m eta \u001b[36m0:00:00\u001b[0m\n",
            "\u001b[?25hCollecting async-timeout<5.0.0,>=4.0.0 (from langchain)\n",
            "  Downloading async_timeout-4.0.2-py3-none-any.whl (5.8 kB)\n",
            "Collecting dataclasses-json<0.6.0,>=0.5.7 (from langchain)\n",
            "  Downloading dataclasses_json-0.5.7-py3-none-any.whl (25 kB)\n",
            "Requirement already satisfied: numexpr<3.0.0,>=2.8.4 in /usr/local/lib/python3.10/dist-packages (from langchain) (2.8.4)\n",
            "Requirement already satisfied: numpy<2,>=1 in /usr/local/lib/python3.10/dist-packages (from langchain) (1.22.4)\n",
            "Collecting openapi-schema-pydantic<2.0,>=1.2 (from langchain)\n",
            "  Downloading openapi_schema_pydantic-1.2.4-py3-none-any.whl (90 kB)\n",
            "\u001b[2K     \u001b[90m━━━━━━━━━━━━━━━━━━━━━━━━━━━━━━━━━━━━━━━━\u001b[0m \u001b[32m90.0/90.0 kB\u001b[0m \u001b[31m10.6 MB/s\u001b[0m eta \u001b[36m0:00:00\u001b[0m\n",
            "\u001b[?25hRequirement already satisfied: pydantic<2,>=1 in /usr/local/lib/python3.10/dist-packages (from langchain) (1.10.7)\n",
            "Requirement already satisfied: requests<3,>=2 in /usr/local/lib/python3.10/dist-packages (from langchain) (2.27.1)\n",
            "Requirement already satisfied: tenacity<9.0.0,>=8.1.0 in /usr/local/lib/python3.10/dist-packages (from langchain) (8.2.2)\n",
            "Requirement already satisfied: tqdm>=4.48.0 in /usr/local/lib/python3.10/dist-packages (from langchain) (4.65.0)\n",
            "Requirement already satisfied: attrs>=17.3.0 in /usr/local/lib/python3.10/dist-packages (from aiohttp<4.0.0,>=3.8.3->langchain) (23.1.0)\n",
            "Requirement already satisfied: charset-normalizer<4.0,>=2.0 in /usr/local/lib/python3.10/dist-packages (from aiohttp<4.0.0,>=3.8.3->langchain) (2.0.12)\n",
            "Collecting multidict<7.0,>=4.5 (from aiohttp<4.0.0,>=3.8.3->langchain)\n",
            "  Downloading multidict-6.0.4-cp310-cp310-manylinux_2_17_x86_64.manylinux2014_x86_64.whl (114 kB)\n",
            "\u001b[2K     \u001b[90m━━━━━━━━━━━━━━━━━━━━━━━━━━━━━━━━━━━━━━\u001b[0m \u001b[32m114.5/114.5 kB\u001b[0m \u001b[31m13.6 MB/s\u001b[0m eta \u001b[36m0:00:00\u001b[0m\n",
            "\u001b[?25hCollecting yarl<2.0,>=1.0 (from aiohttp<4.0.0,>=3.8.3->langchain)\n",
            "  Downloading yarl-1.9.2-cp310-cp310-manylinux_2_17_x86_64.manylinux2014_x86_64.whl (268 kB)\n",
            "\u001b[2K     \u001b[90m━━━━━━━━━━━━━━━━━━━━━━━━━━━━━━━━━━━━━━\u001b[0m \u001b[32m268.8/268.8 kB\u001b[0m \u001b[31m28.3 MB/s\u001b[0m eta \u001b[36m0:00:00\u001b[0m\n",
            "\u001b[?25hCollecting frozenlist>=1.1.1 (from aiohttp<4.0.0,>=3.8.3->langchain)\n",
            "  Downloading frozenlist-1.3.3-cp310-cp310-manylinux_2_5_x86_64.manylinux1_x86_64.manylinux_2_17_x86_64.manylinux2014_x86_64.whl (149 kB)\n",
            "\u001b[2K     \u001b[90m━━━━━━━━━━━━━━━━━━━━━━━━━━━━━━━━━━━━━━\u001b[0m \u001b[32m149.6/149.6 kB\u001b[0m \u001b[31m14.9 MB/s\u001b[0m eta \u001b[36m0:00:00\u001b[0m\n",
            "\u001b[?25hCollecting aiosignal>=1.1.2 (from aiohttp<4.0.0,>=3.8.3->langchain)\n",
            "  Downloading aiosignal-1.3.1-py3-none-any.whl (7.6 kB)\n",
            "Collecting marshmallow<4.0.0,>=3.3.0 (from dataclasses-json<0.6.0,>=0.5.7->langchain)\n",
            "  Downloading marshmallow-3.19.0-py3-none-any.whl (49 kB)\n",
            "\u001b[2K     \u001b[90m━━━━━━━━━━━━━━━━━━━━━━━━━━━━━━━━━━━━━━━━\u001b[0m \u001b[32m49.1/49.1 kB\u001b[0m \u001b[31m5.9 MB/s\u001b[0m eta \u001b[36m0:00:00\u001b[0m\n",
            "\u001b[?25hCollecting marshmallow-enum<2.0.0,>=1.5.1 (from dataclasses-json<0.6.0,>=0.5.7->langchain)\n",
            "  Downloading marshmallow_enum-1.5.1-py2.py3-none-any.whl (4.2 kB)\n",
            "Collecting typing-inspect>=0.4.0 (from dataclasses-json<0.6.0,>=0.5.7->langchain)\n",
            "  Downloading typing_inspect-0.8.0-py3-none-any.whl (8.7 kB)\n",
            "Requirement already satisfied: typing-extensions>=4.2.0 in /usr/local/lib/python3.10/dist-packages (from pydantic<2,>=1->langchain) (4.5.0)\n",
            "Requirement already satisfied: urllib3<1.27,>=1.21.1 in /usr/local/lib/python3.10/dist-packages (from requests<3,>=2->langchain) (1.26.15)\n",
            "Requirement already satisfied: certifi>=2017.4.17 in /usr/local/lib/python3.10/dist-packages (from requests<3,>=2->langchain) (2022.12.7)\n",
            "Requirement already satisfied: idna<4,>=2.5 in /usr/local/lib/python3.10/dist-packages (from requests<3,>=2->langchain) (3.4)\n",
            "Requirement already satisfied: greenlet!=0.4.17 in /usr/local/lib/python3.10/dist-packages (from SQLAlchemy<3,>=1.4->langchain) (2.0.2)\n",
            "Requirement already satisfied: packaging>=17.0 in /usr/local/lib/python3.10/dist-packages (from marshmallow<4.0.0,>=3.3.0->dataclasses-json<0.6.0,>=0.5.7->langchain) (23.1)\n",
            "Collecting mypy-extensions>=0.3.0 (from typing-inspect>=0.4.0->dataclasses-json<0.6.0,>=0.5.7->langchain)\n",
            "  Downloading mypy_extensions-1.0.0-py3-none-any.whl (4.7 kB)\n",
            "Installing collected packages: mypy-extensions, multidict, marshmallow, frozenlist, async-timeout, yarl, typing-inspect, openapi-schema-pydantic, marshmallow-enum, aiosignal, dataclasses-json, aiohttp, langchain\n",
            "Successfully installed aiohttp-3.8.4 aiosignal-1.3.1 async-timeout-4.0.2 dataclasses-json-0.5.7 frozenlist-1.3.3 langchain-0.0.166 marshmallow-3.19.0 marshmallow-enum-1.5.1 multidict-6.0.4 mypy-extensions-1.0.0 openapi-schema-pydantic-1.2.4 typing-inspect-0.8.0 yarl-1.9.2\n"
          ]
        }
      ],
      "source": [
        "!pip install langchain"
      ]
    },
    {
      "cell_type": "markdown",
      "source": [
        "## Prototypes"
      ],
      "metadata": {
        "id": "_xMnG0WROZE_"
      }
    },
    {
      "cell_type": "code",
      "execution_count": null,
      "metadata": {
        "id": "PiOC6b8NuJJZ"
      },
      "outputs": [],
      "source": [
        "# Test basic langchain\n",
        "from langchain.llms import OpenAI\n",
        "\n",
        "llm = OpenAI(temperature=0.9)\n",
        "\n",
        "text = \"What would be a good company name for a company that makes colorful socks?\"\n",
        "print(llm(text))"
      ]
    },
    {
      "cell_type": "code",
      "execution_count": null,
      "metadata": {
        "id": "RQywXcztuyOQ"
      },
      "outputs": [],
      "source": [
        "from langchain.chat_models import ChatOpenAI\n",
        "from langchain.schema import (\n",
        "    AIMessage,\n",
        "    HumanMessage,\n",
        "    SystemMessage\n",
        ")\n",
        "\n",
        "chat = ChatOpenAI(temperature=0)\n",
        "\n",
        "chat([HumanMessage(content=\"Translate this sentence from English to French. I love programming.\")])"
      ]
    },
    {
      "cell_type": "code",
      "execution_count": null,
      "metadata": {
        "id": "XneCS2z3ayXI"
      },
      "outputs": [],
      "source": [
        "from langchain.text_splitter import CharacterTextSplitter\n",
        "from langchain.docstore.document import Document\n",
        "\n",
        "\n",
        "text_splitter = CharacterTextSplitter()\n",
        "\n",
        "with open(\"/content/drive/MyDrive/Colab Notebooks/example-news-article.txt\") as f:\n",
        "    fulltext = f.read()\n",
        "\n",
        "\n"
      ]
    },
    {
      "cell_type": "code",
      "execution_count": null,
      "metadata": {
        "id": "4uiMLRXCTRWb"
      },
      "outputs": [],
      "source": [
        "from langchain.chat_models import ChatOpenAI\n",
        "\n",
        "from langchain.chains.summarize import load_summarize_chain\n",
        "\n",
        "chat = ChatOpenAI(openai_api_key=openai.api_key, openai_organization=openai.organization, temperature=0)\n",
        "\n",
        "chain = load_summarize_chain(chat, chain_type=\"map_reduce\")\n",
        "\n"
      ]
    },
    {
      "cell_type": "code",
      "execution_count": null,
      "metadata": {
        "id": "60BKMSx8bwsK"
      },
      "outputs": [],
      "source": [
        "full_doc = [Document(page_content=fulltext)]\n",
        "\n",
        "chain.run(full_doc)"
      ]
    },
    {
      "cell_type": "code",
      "execution_count": null,
      "metadata": {
        "id": "nsIzcg4Gbobq"
      },
      "outputs": [],
      "source": [
        "split_texts = text_splitter.split_text(fulltext)\n",
        "\n",
        "split_docs = [Document(page_content=t) for t in split_texts]\n",
        "\n",
        "chain.run(split_docs)"
      ]
    },
    {
      "cell_type": "markdown",
      "source": [
        "## Routines"
      ],
      "metadata": {
        "id": "Wlm_OaeUOc5V"
      }
    },
    {
      "cell_type": "code",
      "execution_count": null,
      "metadata": {
        "id": "TzOqvZt3ckio"
      },
      "outputs": [],
      "source": [
        "# Routines for Abstractive summarization\n",
        "\n",
        "import openai\n",
        "from langchain.chat_models import ChatOpenAI\n",
        "from langchain.chains.summarize import load_summarize_chain\n",
        "from langchain.text_splitter import TokenTextSplitter\n",
        "from langchain.docstore.document import Document\n",
        "\n",
        "\n",
        "def gpt4_summarize_lc_abs_mr(text):\n",
        "  return _gpt_summarize_lc_abs_common(text, 'gpt-4')\n",
        "\n",
        "\n",
        "def gpt3_summarize_lc_abs_mr(text):\n",
        "  return _gpt_summarize_lc_abs_common(text, 'gpt-3.5-turbo')\n",
        "\n",
        "\n",
        "def _gpt_summarize_lc_abs_common(text, model):\n",
        "  text_splitter = TokenTextSplitter(chunk_size=3000, chunk_overlap=100)\n",
        "\n",
        "  split_texts = text_splitter.split_text(text)\n",
        "\n",
        "  split_docs = [Document(page_content=t) for t in split_texts]\n",
        "\n",
        "  chatgpt = ChatOpenAI(model_name=model, temperature=0.75,\n",
        "                        openai_api_key=openai.api_key, openai_organization=openai.organization)\n",
        "\n",
        "  chain = load_summarize_chain(chatgpt, chain_type=\"map_reduce\") # verbose=True\n",
        "\n",
        "  summary = chain.run(split_docs)\n",
        "\n",
        "  return summary\n"
      ]
    },
    {
      "cell_type": "code",
      "execution_count": null,
      "metadata": {
        "id": "ExCwJGPulnD4"
      },
      "outputs": [],
      "source": [
        "# Routines for Extractive summarization\n",
        "\n",
        "import openai\n",
        "from langchain.chat_models import ChatOpenAI\n",
        "from langchain.chains.summarize import load_summarize_chain\n",
        "from langchain.text_splitter import TokenTextSplitter\n",
        "from langchain.docstore.document import Document\n",
        "from langchain.prompts import PromptTemplate\n",
        "\n",
        "def gpt4_summarize_lc_ext_mr(text):\n",
        "  return _gpt_summarize_lc_ext_common(text, 'gpt-4')\n",
        "\n",
        "\n",
        "def gpt3_summarize_lc_ext_mr(text):\n",
        "  return _gpt_summarize_lc_ext_common(text, 'gpt-3.5-turbo')\n",
        "\n",
        "\n",
        "def _gpt_summarize_lc_ext_common(text, model):\n",
        "  text_splitter = TokenTextSplitter(chunk_size=3000, chunk_overlap=100)\n",
        "\n",
        "  split_texts = text_splitter.split_text(text)\n",
        "\n",
        "  split_docs = [Document(page_content=t) for t in split_texts]\n",
        "\n",
        "  chatgpt = ChatOpenAI(model_name=model, temperature=0.0,\n",
        "                        openai_api_key=openai.api_key, openai_organization=openai.organization)\n",
        "\n",
        "  extractive_prompt_str = \"\"\"Just pick 3 sentences from the text in backticks that cover its main ideas best.\n",
        "  Don't rephrase any sentence. Output the 3 picked sentences as a single paragraph:\n",
        "\n",
        "  ```{text}```\n",
        "  \"\"\"\n",
        "\n",
        "  extractive_prompt_template = PromptTemplate(template=extractive_prompt_str,\n",
        "                                              input_variables=[\"text\"])\n",
        "\n",
        "  chain = load_summarize_chain(chatgpt, chain_type=\"map_reduce\",\n",
        "                               map_prompt=extractive_prompt_template,\n",
        "                               combine_prompt=extractive_prompt_template) # verbose=True\n",
        "\n",
        "  summary = chain.run(split_docs)\n",
        "\n",
        "  return summary\n"
      ]
    },
    {
      "cell_type": "code",
      "execution_count": null,
      "metadata": {
        "id": "ehZzYgSoh1nu"
      },
      "outputs": [],
      "source": [
        "with open(\"/content/drive/MyDrive/Colab Notebooks/example-news-article.txt\") as f:\n",
        "    fulltext = f.read()\n",
        "\n",
        "gpt4_summarize_lc_abs_mr(fulltext)"
      ]
    },
    {
      "cell_type": "code",
      "execution_count": null,
      "metadata": {
        "id": "Eotfj4UfnPcl"
      },
      "outputs": [],
      "source": [
        "gpt4_summarize_lc_ext_mr(fulltext)"
      ]
    },
    {
      "cell_type": "code",
      "execution_count": null,
      "metadata": {
        "id": "xnUteIn5ivo_"
      },
      "outputs": [],
      "source": [
        "gpt3_summarize_lc_abs_mr(fulltext)"
      ]
    },
    {
      "cell_type": "code",
      "execution_count": null,
      "metadata": {
        "id": "f5ByLJD0nUqQ"
      },
      "outputs": [],
      "source": [
        "gpt3_summarize_lc_ext_mr(fulltext)"
      ]
    },
    {
      "cell_type": "code",
      "source": [],
      "metadata": {
        "id": "WFJbdvv7O3XM"
      },
      "execution_count": null,
      "outputs": []
    },
    {
      "cell_type": "markdown",
      "metadata": {
        "id": "MSgP2YaPOYVA"
      },
      "source": [
        "# HuggingFace Summarization Pipelines"
      ]
    },
    {
      "cell_type": "code",
      "execution_count": null,
      "metadata": {
        "id": "SjGOWmDvOrU_"
      },
      "outputs": [],
      "source": [
        "!pip install transformers"
      ]
    },
    {
      "cell_type": "code",
      "execution_count": null,
      "metadata": {
        "id": "qmTBG8O-OXuo"
      },
      "outputs": [],
      "source": [
        "import transformers\n",
        "\n",
        "# https://huggingface.co/docs/transformers/main_classes/pipelines#transformers.SummarizationPipeline.example\n",
        "#\n",
        "# See https://huggingface.co/models?library=pytorch&pipeline_tag=summarization&sort=downloads&search=bart\n",
        "# for the up-to-date list of models.\n",
        "\n",
        "#hf_summarizer = transformers.pipeline('summarization', model='t5-base', tokenizer='t5-base')\n",
        "\n",
        "#hf_summarizer = transformers.pipeline('summarization', model='facebook/bart-large-cnn')\n",
        "\n",
        "#hf_summarizer = transformers.pipeline('summarization', model='facebook/bart-large-xsum')\n",
        "\n",
        "def hf_summarize(input_text, model, max_length=70):\n",
        "    summarizer = None\n",
        "\n",
        "    if model == 'bart':\n",
        "        summarizer = transformers.pipeline('summarization', model='facebook/bart-large-cnn')\n",
        "\n",
        "    elif model == 'brio':\n",
        "        summarizer = transformers.pipeline('summarization',\n",
        "                                           model='Yale-LILY/brio-cnndm-uncased',\n",
        "                                           tokenizer='facebook/bart-large')\n",
        "\n",
        "    elif model == 't5':\n",
        "        summarizer = transformers.pipeline('summarization', model='t5-base', tokenizer='t5-base')\n",
        "\n",
        "    elif model == 'pegasus-news':\n",
        "        summarizer = transformers.pipeline('summarization', model='google/pegasus-cnn_dailymail')\n",
        "\n",
        "    elif model == 'pegasus-large':\n",
        "        summarizer = transformers.pipeline('summarization', model='google/pegasus-large')\n",
        "\n",
        "    else:\n",
        "        raise Exception(f'Unknown model: {model}')\n",
        "\n",
        "    summary = summarizer(input_text,\n",
        "                     num_beams=5,\n",
        "                     max_length=max_length, # Max number of tokens in the summary. Tokens are usually a few characters each.\n",
        "                     min_length=5,\n",
        "                     do_sample=False\n",
        "                    )[0]['summary_text']\n",
        "\n",
        "    return summary"
      ]
    },
    {
      "cell_type": "markdown",
      "metadata": {
        "id": "ed3CaeinCQfP"
      },
      "source": [
        "# QFSumm Summarization Routines\n",
        "\n",
        "Bhaskar et al. use a combo of QFSumm+GPT as one of their pipelines. https://github.com/oja/aosumm"
      ]
    },
    {
      "cell_type": "code",
      "execution_count": null,
      "metadata": {
        "id": "w7DDOJ-WCVAp"
      },
      "outputs": [],
      "source": [
        "!git clone https://github.com/oja/aosumm"
      ]
    },
    {
      "cell_type": "markdown",
      "metadata": {
        "id": "ZCQgUJ8I-4Ri"
      },
      "source": [
        "# Metrics Libraries\n",
        "\n",
        "Evaluation metrics used by\n",
        "\n",
        "Goyal et al. https://arxiv.org/pdf/2209.12356.pdf\n",
        "\n",
        "and\n",
        "\n",
        "Bhaskar et al. https://arxiv.org/pdf/2211.15914.pdf"
      ]
    },
    {
      "cell_type": "markdown",
      "metadata": {
        "id": "eREWCfQP_A6f"
      },
      "source": [
        "## ROUGE"
      ]
    },
    {
      "cell_type": "code",
      "execution_count": null,
      "metadata": {
        "id": "QX_sIL9Q_DP8",
        "colab": {
          "base_uri": "https://localhost:8080/"
        },
        "outputId": "bdb1a958-60fe-4012-c4f6-589b5f145448"
      },
      "outputs": [
        {
          "output_type": "stream",
          "name": "stdout",
          "text": [
            "Looking in indexes: https://pypi.org/simple, https://us-python.pkg.dev/colab-wheels/public/simple/\n",
            "Collecting rouge\n",
            "  Downloading rouge-1.0.1-py3-none-any.whl (13 kB)\n",
            "Requirement already satisfied: six in /usr/local/lib/python3.10/dist-packages (from rouge) (1.16.0)\n",
            "Installing collected packages: rouge\n",
            "Successfully installed rouge-1.0.1\n"
          ]
        }
      ],
      "source": [
        "!pip install rouge"
      ]
    },
    {
      "cell_type": "code",
      "execution_count": null,
      "metadata": {
        "id": "4Ss_6lGR_IPq",
        "colab": {
          "base_uri": "https://localhost:8080/"
        },
        "outputId": "320fc57e-a9d2-4402-d61a-d2cb28e19c2f"
      },
      "outputs": [
        {
          "output_type": "execute_result",
          "data": {
            "text/plain": [
              "[{'rouge-1': {'r': 0.7777777777777778, 'p': 0.7, 'f': 0.7368421002770082},\n",
              "  'rouge-2': {'r': 0.3333333333333333,\n",
              "   'p': 0.3333333333333333,\n",
              "   'f': 0.3333333283333334},\n",
              "  'rouge-l': {'r': 0.6666666666666666, 'p': 0.6, 'f': 0.6315789423822715}}]"
            ]
          },
          "metadata": {},
          "execution_count": 62
        }
      ],
      "source": [
        "from rouge import Rouge\n",
        "\n",
        "Rouge().get_scores('This is a summary of an article on machine learning.',\n",
        "                   'This is a reference summary for a machine learning article.')"
      ]
    },
    {
      "cell_type": "markdown",
      "metadata": {
        "id": "5MN627mJ_bvS"
      },
      "source": [
        "## Reference-free Evaluation Metrics\n",
        "\n",
        "SUPERT https://github.com/yg211/acl20-ref-free-eval"
      ]
    },
    {
      "cell_type": "code",
      "execution_count": null,
      "metadata": {
        "id": "NXzemEVn_roc"
      },
      "outputs": [],
      "source": [
        "!git clone https://github.com/yg211/acl20-ref-free-eval"
      ]
    },
    {
      "cell_type": "code",
      "execution_count": null,
      "metadata": {
        "id": "i-Bo6aRB_-OV"
      },
      "outputs": [],
      "source": [
        "%cd acl20-ref-free-eval"
      ]
    },
    {
      "cell_type": "code",
      "execution_count": null,
      "metadata": {
        "id": "giqTbyT9A2BE"
      },
      "outputs": [],
      "source": [
        "!pip install pytorch-transformers"
      ]
    },
    {
      "cell_type": "code",
      "execution_count": null,
      "metadata": {
        "id": "XrYrdbAoACO2"
      },
      "outputs": [],
      "source": [
        "from ref_free_metrics.supert import Supert\n",
        "from utils.data_reader import CorpusReader"
      ]
    },
    {
      "cell_type": "code",
      "execution_count": null,
      "metadata": {
        "id": "iria4gZQBKrC"
      },
      "outputs": [],
      "source": [
        "%cd /content"
      ]
    },
    {
      "cell_type": "markdown",
      "metadata": {
        "id": "iULIagOfBIGC"
      },
      "source": [
        "## BERTScore\n",
        "\n",
        "https://github.com/Tiiiger/bert_score"
      ]
    },
    {
      "cell_type": "code",
      "execution_count": null,
      "metadata": {
        "id": "vAC1QFRdBO-q"
      },
      "outputs": [],
      "source": [
        "!pip install bert-score"
      ]
    },
    {
      "cell_type": "code",
      "execution_count": null,
      "metadata": {
        "id": "6PDdNC1uWfPE",
        "colab": {
          "base_uri": "https://localhost:8080/"
        },
        "outputId": "933ee1a9-7be7-4af0-850b-42696fc57ddb"
      },
      "outputs": [
        {
          "output_type": "stream",
          "name": "stdout",
          "text": [
            "Looking in indexes: https://pypi.org/simple, https://us-python.pkg.dev/colab-wheels/public/simple/\n",
            "Collecting torchmetrics\n",
            "  Downloading torchmetrics-0.11.4-py3-none-any.whl (519 kB)\n",
            "\u001b[2K     \u001b[90m━━━━━━━━━━━━━━━━━━━━━━━━━━━━━━━━━━━━━━━\u001b[0m \u001b[32m519.2/519.2 kB\u001b[0m \u001b[31m9.2 MB/s\u001b[0m eta \u001b[36m0:00:00\u001b[0m\n",
            "\u001b[?25hCollecting transformers\n",
            "  Downloading transformers-4.29.1-py3-none-any.whl (7.1 MB)\n",
            "\u001b[2K     \u001b[90m━━━━━━━━━━━━━━━━━━━━━━━━━━━━━━━━━━━━━━━━\u001b[0m \u001b[32m7.1/7.1 MB\u001b[0m \u001b[31m70.1 MB/s\u001b[0m eta \u001b[36m0:00:00\u001b[0m\n",
            "\u001b[?25hRequirement already satisfied: numpy>=1.17.2 in /usr/local/lib/python3.10/dist-packages (from torchmetrics) (1.22.4)\n",
            "Requirement already satisfied: torch>=1.8.1 in /usr/local/lib/python3.10/dist-packages (from torchmetrics) (2.0.0+cu118)\n",
            "Requirement already satisfied: packaging in /usr/local/lib/python3.10/dist-packages (from torchmetrics) (23.1)\n",
            "Requirement already satisfied: filelock in /usr/local/lib/python3.10/dist-packages (from transformers) (3.12.0)\n",
            "Collecting huggingface-hub<1.0,>=0.14.1 (from transformers)\n",
            "  Downloading huggingface_hub-0.14.1-py3-none-any.whl (224 kB)\n",
            "\u001b[2K     \u001b[90m━━━━━━━━━━━━━━━━━━━━━━━━━━━━━━━━━━━━━━\u001b[0m \u001b[32m224.5/224.5 kB\u001b[0m \u001b[31m22.1 MB/s\u001b[0m eta \u001b[36m0:00:00\u001b[0m\n",
            "\u001b[?25hRequirement already satisfied: pyyaml>=5.1 in /usr/local/lib/python3.10/dist-packages (from transformers) (6.0)\n",
            "Requirement already satisfied: regex!=2019.12.17 in /usr/local/lib/python3.10/dist-packages (from transformers) (2022.10.31)\n",
            "Requirement already satisfied: requests in /usr/local/lib/python3.10/dist-packages (from transformers) (2.27.1)\n",
            "Collecting tokenizers!=0.11.3,<0.14,>=0.11.1 (from transformers)\n",
            "  Downloading tokenizers-0.13.3-cp310-cp310-manylinux_2_17_x86_64.manylinux2014_x86_64.whl (7.8 MB)\n",
            "\u001b[2K     \u001b[90m━━━━━━━━━━━━━━━━━━━━━━━━━━━━━━━━━━━━━━━━\u001b[0m \u001b[32m7.8/7.8 MB\u001b[0m \u001b[31m76.7 MB/s\u001b[0m eta \u001b[36m0:00:00\u001b[0m\n",
            "\u001b[?25hRequirement already satisfied: tqdm>=4.27 in /usr/local/lib/python3.10/dist-packages (from transformers) (4.65.0)\n",
            "Requirement already satisfied: fsspec in /usr/local/lib/python3.10/dist-packages (from huggingface-hub<1.0,>=0.14.1->transformers) (2023.4.0)\n",
            "Requirement already satisfied: typing-extensions>=3.7.4.3 in /usr/local/lib/python3.10/dist-packages (from huggingface-hub<1.0,>=0.14.1->transformers) (4.5.0)\n",
            "Requirement already satisfied: sympy in /usr/local/lib/python3.10/dist-packages (from torch>=1.8.1->torchmetrics) (1.11.1)\n",
            "Requirement already satisfied: networkx in /usr/local/lib/python3.10/dist-packages (from torch>=1.8.1->torchmetrics) (3.1)\n",
            "Requirement already satisfied: jinja2 in /usr/local/lib/python3.10/dist-packages (from torch>=1.8.1->torchmetrics) (3.1.2)\n",
            "Requirement already satisfied: triton==2.0.0 in /usr/local/lib/python3.10/dist-packages (from torch>=1.8.1->torchmetrics) (2.0.0)\n",
            "Requirement already satisfied: cmake in /usr/local/lib/python3.10/dist-packages (from triton==2.0.0->torch>=1.8.1->torchmetrics) (3.25.2)\n",
            "Requirement already satisfied: lit in /usr/local/lib/python3.10/dist-packages (from triton==2.0.0->torch>=1.8.1->torchmetrics) (16.0.3)\n",
            "Requirement already satisfied: urllib3<1.27,>=1.21.1 in /usr/local/lib/python3.10/dist-packages (from requests->transformers) (1.26.15)\n",
            "Requirement already satisfied: certifi>=2017.4.17 in /usr/local/lib/python3.10/dist-packages (from requests->transformers) (2022.12.7)\n",
            "Requirement already satisfied: charset-normalizer~=2.0.0 in /usr/local/lib/python3.10/dist-packages (from requests->transformers) (2.0.12)\n",
            "Requirement already satisfied: idna<4,>=2.5 in /usr/local/lib/python3.10/dist-packages (from requests->transformers) (3.4)\n",
            "Requirement already satisfied: MarkupSafe>=2.0 in /usr/local/lib/python3.10/dist-packages (from jinja2->torch>=1.8.1->torchmetrics) (2.1.2)\n",
            "Requirement already satisfied: mpmath>=0.19 in /usr/local/lib/python3.10/dist-packages (from sympy->torch>=1.8.1->torchmetrics) (1.3.0)\n",
            "Installing collected packages: tokenizers, huggingface-hub, transformers, torchmetrics\n",
            "Successfully installed huggingface-hub-0.14.1 tokenizers-0.13.3 torchmetrics-0.11.4 transformers-4.29.1\n"
          ]
        }
      ],
      "source": [
        "# Alternate impl available via Torch https://torchmetrics.readthedocs.io/en/stable/text/bert_score.html\n",
        "!pip install torchmetrics transformers"
      ]
    },
    {
      "cell_type": "code",
      "execution_count": null,
      "metadata": {
        "id": "n-ptNAlQVark",
        "colab": {
          "base_uri": "https://localhost:8080/",
          "height": 420,
          "referenced_widgets": [
            "3c0d1e02881b4728be5067e37241bc4f",
            "b0690b8332aa451d9846eb347010cb7b",
            "d2dec56970b1478cb729839b2649e54a",
            "4cf4c5c1212a4126917f2077d1f9ed75",
            "293ed4ebbe2143b9a9afc91f9b450dab",
            "e43ec46357e84a02b1be158a5d8dfce2",
            "25b4bfa5cb3048dcaf1261db90da2eb7",
            "e4d51a0cc63441458c97514d9637689c",
            "8621407ef1d94af6a0f7d4b65a36b18c",
            "7c242365958f48a0b0a6fe7abb12f671",
            "ab54835e328a42dba3455c3d05765be7",
            "cd03c53c874e4d6fbd79d52a7bbd9b6d",
            "d4dc15ae641c4e9496df6a2fa0c94ba4",
            "92528399220546f6a0bd165fd80efd55",
            "001acf6934ac41a29d4550ee3aeaa840",
            "c9c9f71533594d0d9890a38e35b135b0",
            "c88349c959eb4182befa8c6e4a58df23",
            "73ac4eb33e194e40a95a02a6d275ae1e",
            "88e0938f2e364bc59897c8715a7ae3cd",
            "fd2b554eb5d94670a9a3fc0b834bf6f1",
            "a83b8eb4723845d488493d61230140f7",
            "748efa9f4d534504ab1e019a68a237a4",
            "f0d5a86c924b450dace99ca2ac3b67a4",
            "7c3a1c91d3ab4a7187912b07bd5251f4",
            "8df4e32613da4ba3b6976b565077d88c",
            "01e12fb02a454c7a97ccd890be61e83a",
            "b5862be56ac3479b8638cdf9458c0750",
            "4d4a02fd48ea41119c3877c50f118405",
            "9e8b79a8944d4b449509be84a172cb0f",
            "1ec2c314cfc942a39e80c8f440a66144",
            "7055689b12374d7c859441a0f60c5d02",
            "039c86acfe7f4a0e807a0a5bba0adc78",
            "b6a112ef61de47479af748f62911b309",
            "056f0af3117e4a6db3c9bc93bc21782f",
            "8828d1978784434184d2ea173ee70631",
            "fce0256f051c44b88c22c3832dd9f80f",
            "63daed43f74e430e96e7bf2d1b1a3a08",
            "0a3de8a89fe443079a368d9030101a2c",
            "466926299cfa41da9615e624ebcacacd",
            "8e21316d336f4cc19003a4dd2d7c4cf1",
            "a5663b09ea1a47a6a5810571b6c6afe1",
            "b4b50f0986a94015bc34b7ca732009d6",
            "b2188a834abb4752b808c8789ef46c3d",
            "31ac413f01984a71a21d580ca505ae7f",
            "269f87de3dd348c9981919e7f6198490",
            "a363d911e9fa42598b931c9eef3b5bbf",
            "3f79fcb4ff6b4160af57ad750283369d",
            "134a6acbf4bd42cf8609047d91410795",
            "e43633ba9fd14d97ad2b299d26a41e8d",
            "b44a14c3ef034c4784fc2def825e8837",
            "c256e0f3215445e1a831438bd98e5b4e",
            "c1eebe0c4fd640e3808f833549e30da9",
            "e5f52505ae504a149515d063add51c13",
            "5efa0bb920114414977f019b2e094925",
            "e0314d3d567743f490548a5d6cddf438"
          ]
        },
        "outputId": "1c4306aa-e39b-4879-c217-cfdbbcfbc8cc"
      },
      "outputs": [
        {
          "output_type": "display_data",
          "data": {
            "text/plain": [
              "Downloading (…)lve/main/config.json:   0%|          | 0.00/482 [00:00<?, ?B/s]"
            ],
            "application/vnd.jupyter.widget-view+json": {
              "version_major": 2,
              "version_minor": 0,
              "model_id": "3c0d1e02881b4728be5067e37241bc4f"
            }
          },
          "metadata": {}
        },
        {
          "output_type": "display_data",
          "data": {
            "text/plain": [
              "Downloading (…)olve/main/vocab.json:   0%|          | 0.00/899k [00:00<?, ?B/s]"
            ],
            "application/vnd.jupyter.widget-view+json": {
              "version_major": 2,
              "version_minor": 0,
              "model_id": "cd03c53c874e4d6fbd79d52a7bbd9b6d"
            }
          },
          "metadata": {}
        },
        {
          "output_type": "display_data",
          "data": {
            "text/plain": [
              "Downloading (…)olve/main/merges.txt:   0%|          | 0.00/456k [00:00<?, ?B/s]"
            ],
            "application/vnd.jupyter.widget-view+json": {
              "version_major": 2,
              "version_minor": 0,
              "model_id": "f0d5a86c924b450dace99ca2ac3b67a4"
            }
          },
          "metadata": {}
        },
        {
          "output_type": "display_data",
          "data": {
            "text/plain": [
              "Downloading (…)/main/tokenizer.json:   0%|          | 0.00/1.36M [00:00<?, ?B/s]"
            ],
            "application/vnd.jupyter.widget-view+json": {
              "version_major": 2,
              "version_minor": 0,
              "model_id": "056f0af3117e4a6db3c9bc93bc21782f"
            }
          },
          "metadata": {}
        },
        {
          "output_type": "display_data",
          "data": {
            "text/plain": [
              "Downloading pytorch_model.bin:   0%|          | 0.00/1.43G [00:00<?, ?B/s]"
            ],
            "application/vnd.jupyter.widget-view+json": {
              "version_major": 2,
              "version_minor": 0,
              "model_id": "269f87de3dd348c9981919e7f6198490"
            }
          },
          "metadata": {}
        },
        {
          "output_type": "stream",
          "name": "stderr",
          "text": [
            "Some weights of the model checkpoint at roberta-large were not used when initializing RobertaModel: ['lm_head.dense.bias', 'lm_head.decoder.weight', 'lm_head.dense.weight', 'lm_head.layer_norm.weight', 'lm_head.layer_norm.bias', 'lm_head.bias']\n",
            "- This IS expected if you are initializing RobertaModel from the checkpoint of a model trained on another task or with another architecture (e.g. initializing a BertForSequenceClassification model from a BertForPreTraining model).\n",
            "- This IS NOT expected if you are initializing RobertaModel from the checkpoint of a model that you expect to be exactly identical (initializing a BertForSequenceClassification model from a BertForSequenceClassification model).\n",
            "/usr/local/lib/python3.10/dist-packages/torch/utils/data/dataloader.py:561: UserWarning: This DataLoader will create 4 worker processes in total. Our suggested max number of worker in current system is 2, which is smaller than what this DataLoader is going to create. Please be aware that excessive worker creation might get DataLoader running slow or even freeze, lower the worker number to avoid potential slowness/freeze if necessary.\n",
            "  warnings.warn(_create_warning_msg(\n"
          ]
        },
        {
          "output_type": "execute_result",
          "data": {
            "text/plain": [
              "{'precision': 0.9888111352920532,\n",
              " 'recall': 0.9884637594223022,\n",
              " 'f1': 0.9886374473571777}"
            ]
          },
          "metadata": {},
          "execution_count": 68
        }
      ],
      "source": [
        "# From https://torchmetrics.readthedocs.io/en/stable/text/bert_score.html\n",
        "\n",
        "from torchmetrics.text.bert import BERTScore\n",
        "\n",
        "test_summaries = ['This is a summary of an article on machine learning.']\n",
        "test_references = ['This is a reference summary for a machine learning article.']\n",
        "\n",
        "bert_scores = BERTScore('roberta-large')(test_summaries,\n",
        "                          test_references)\n",
        "\n",
        "bert_scores"
      ]
    },
    {
      "cell_type": "markdown",
      "metadata": {
        "id": "-0nctgVoCAzC"
      },
      "source": [
        "## MoverScore\n",
        "\n",
        "https://github.com/AIPHES/emnlp19-moverscore"
      ]
    },
    {
      "cell_type": "code",
      "execution_count": null,
      "metadata": {
        "id": "XLmNs7YICC98"
      },
      "outputs": [],
      "source": [
        "!pip install moverscore"
      ]
    },
    {
      "cell_type": "code",
      "execution_count": null,
      "metadata": {
        "id": "u00E5cAyDJxm"
      },
      "outputs": [],
      "source": [
        "!pip install pyemd"
      ]
    },
    {
      "cell_type": "code",
      "execution_count": null,
      "metadata": {
        "id": "LCt8g1FoCxBR"
      },
      "outputs": [],
      "source": [
        "from moverscore_v2 import get_idf_dict, word_mover_score\n",
        "from collections import defaultdict\n",
        "\n",
        "test_summaries = ['This is a summary of an article on machine learning.']\n",
        "test_references = ['This is a reference summary for a machine learning article.']\n",
        "\n",
        "idf_dict_hyp = get_idf_dict(test_summaries) # idf_dict_hyp = defaultdict(lambda: 1.)\n",
        "idf_dict_ref = get_idf_dict(test_references) # idf_dict_ref = defaultdict(lambda: 1.)\n",
        "\n",
        "scores = word_mover_score(test_references, test_summaries, idf_dict_ref, idf_dict_hyp, \\\n",
        "                          stop_words=[], n_gram=1, remove_subwords=True, device='cpu')\n",
        "\n",
        "scores"
      ]
    },
    {
      "cell_type": "markdown",
      "metadata": {
        "id": "Sp7NOugxCWF8"
      },
      "source": [
        "## QAEval\n",
        "\n",
        "https://github.com/danieldeutsch/qaeval\n",
        "\n",
        "Setup and usage: https://github.com/danieldeutsch/sacrerouge/blob/master/doc/metrics/qaeval.md\n",
        "\n",
        "DROPPING due to dependency version conflicts"
      ]
    },
    {
      "cell_type": "code",
      "execution_count": null,
      "metadata": {
        "id": "s7CTOM8oFI4W"
      },
      "outputs": [],
      "source": [
        "\n",
        "!pip install sacrerouge qaeval"
      ]
    },
    {
      "cell_type": "code",
      "execution_count": null,
      "metadata": {
        "id": "R8DP5-X9CZ8Q"
      },
      "outputs": [],
      "source": []
    },
    {
      "cell_type": "markdown",
      "metadata": {
        "id": "dHvMqDexF9y8"
      },
      "source": [
        "## Entailment-based Qualitative Metrics\n",
        "\n",
        "From Bhaskar et al.\n",
        "\n",
        "https://github.com/testzer0/ZS-Summ-GPT3"
      ]
    },
    {
      "cell_type": "code",
      "execution_count": null,
      "metadata": {
        "id": "ojBNjrJAGFIn"
      },
      "outputs": [],
      "source": [
        "%cd /content"
      ]
    },
    {
      "cell_type": "code",
      "execution_count": null,
      "metadata": {
        "id": "iIJup3JSGHf4"
      },
      "outputs": [],
      "source": [
        "!git clone https://github.com/testzer0/ZS-Summ-GPT3"
      ]
    },
    {
      "cell_type": "markdown",
      "metadata": {
        "id": "sVmJDMqxLW18"
      },
      "source": [
        "# Use Case #1: News Summarization"
      ]
    },
    {
      "cell_type": "markdown",
      "metadata": {
        "id": "9F2-_iQSh5Oh"
      },
      "source": [
        "## Download News Datasets"
      ]
    },
    {
      "cell_type": "code",
      "execution_count": null,
      "metadata": {
        "id": "S_4N20RyMQDO"
      },
      "outputs": [],
      "source": [
        "!pip install datasets"
      ]
    },
    {
      "cell_type": "markdown",
      "metadata": {
        "id": "o1Khn15SLegu"
      },
      "source": [
        "###1. CNN dataset\n",
        "\n",
        "https://huggingface.co/datasets/cnn_dailymail"
      ]
    },
    {
      "cell_type": "code",
      "execution_count": null,
      "metadata": {
        "id": "3F3X5KXyHnnQ"
      },
      "outputs": [],
      "source": [
        "from datasets import load_dataset\n",
        "\n",
        "cnn_dataset = load_dataset(\"cnn_dailymail\", '3.0.0')"
      ]
    },
    {
      "cell_type": "code",
      "execution_count": null,
      "metadata": {
        "id": "GjLURWW3MmYA"
      },
      "outputs": [],
      "source": [
        "cnn_dataset"
      ]
    },
    {
      "cell_type": "code",
      "execution_count": null,
      "metadata": {
        "id": "QC-0YAEI0wD8"
      },
      "outputs": [],
      "source": [
        "len(cnn_dataset['validation'])"
      ]
    },
    {
      "cell_type": "markdown",
      "metadata": {
        "id": "FXynDZAXYEOa"
      },
      "source": [
        "###2. XLSum dataset\n",
        "\n",
        "https://github.com/csebuetnlp/xl-sum"
      ]
    },
    {
      "cell_type": "code",
      "execution_count": null,
      "metadata": {
        "id": "UxMM3qRmYV2b"
      },
      "outputs": [],
      "source": [
        "!mkdir -p /content/data/xlsum"
      ]
    },
    {
      "cell_type": "code",
      "execution_count": null,
      "metadata": {
        "id": "ZXM6tfy7Op1R"
      },
      "outputs": [],
      "source": [
        "!cp '/content/drive/MyDrive/Colab Notebooks/xlsum-dataset/english_XLSum_v2.0.tar.bz2' /content/data/xlsum/"
      ]
    },
    {
      "cell_type": "code",
      "execution_count": null,
      "metadata": {
        "id": "4p6VE_qUYM-U"
      },
      "outputs": [],
      "source": [
        "%cd /content/data/xlsum/"
      ]
    },
    {
      "cell_type": "code",
      "execution_count": null,
      "metadata": {
        "id": "-02BbCtMYjUw"
      },
      "outputs": [],
      "source": [
        "!tar -xf english_XLSum_v2.0.tar.bz2"
      ]
    },
    {
      "cell_type": "code",
      "execution_count": null,
      "metadata": {
        "id": "pOKCqdkyYuh3"
      },
      "outputs": [],
      "source": [
        "!ls"
      ]
    },
    {
      "cell_type": "code",
      "execution_count": null,
      "metadata": {
        "id": "L0--LJo9YzUD"
      },
      "outputs": [],
      "source": [
        "!head -n1 english_val.jsonl"
      ]
    },
    {
      "cell_type": "markdown",
      "metadata": {
        "id": "-RHXywuOlU-a"
      },
      "source": [
        "## Load Articles"
      ]
    },
    {
      "cell_type": "code",
      "execution_count": null,
      "metadata": {
        "id": "ESuuCBrhOJjl"
      },
      "outputs": [],
      "source": [
        "example1 = cnn_dataset['validation'][0]"
      ]
    },
    {
      "cell_type": "code",
      "execution_count": null,
      "metadata": {
        "id": "ZRO-tUJuOSvl"
      },
      "outputs": [],
      "source": [
        "import textwrap\n",
        "\n",
        "article1 = example1['article']\n",
        "print(textwrap.fill(article1, width=70))"
      ]
    },
    {
      "cell_type": "code",
      "execution_count": null,
      "metadata": {
        "id": "vP_rpT0POlp4"
      },
      "outputs": [],
      "source": [
        "ref_summary1 = example1['highlights']\n",
        "print(textwrap.fill(ref_summary1, width=70))"
      ]
    },
    {
      "cell_type": "code",
      "execution_count": null,
      "metadata": {
        "id": "YtET7JyyqqNZ"
      },
      "outputs": [],
      "source": [
        "example2 = cnn_dataset['validation'][29]"
      ]
    },
    {
      "cell_type": "code",
      "execution_count": null,
      "metadata": {
        "id": "Oud-Ctk-rFbc"
      },
      "outputs": [],
      "source": [
        "import textwrap\n",
        "\n",
        "article2 = example2['article']\n",
        "print(textwrap.fill(article2, width=70))"
      ]
    },
    {
      "cell_type": "code",
      "execution_count": null,
      "metadata": {
        "id": "5h8tqyrmrNgJ"
      },
      "outputs": [],
      "source": [
        "ref_summary2 = example2['highlights']\n",
        "print(textwrap.fill(ref_summary2, width=70))"
      ]
    },
    {
      "cell_type": "code",
      "execution_count": null,
      "metadata": {
        "id": "lRmswGOZrYCe"
      },
      "outputs": [],
      "source": [
        "news_articles = []\n",
        "ref_summaries = []\n",
        "\n",
        "sel_articles = [0, 29, 319, 495, 589]\n",
        "\n",
        "for i in sel_articles:\n",
        "  entry = cnn_dataset['validation'][i]\n",
        "  news_articles.append(entry['article'])\n",
        "  ref_summaries.append(entry['highlights'])"
      ]
    },
    {
      "cell_type": "code",
      "execution_count": null,
      "metadata": {
        "id": "1k49ja6mxduG"
      },
      "outputs": [],
      "source": [
        "import tiktoken\n",
        "\n",
        "tokenizer = tiktoken.encoding_for_model('gpt-4')\n",
        "for a in news_articles:\n",
        "  tokens = tokenizer.encode(a)\n",
        "  print(len(tokens))"
      ]
    },
    {
      "cell_type": "markdown",
      "metadata": {
        "id": "I4aeZxmzZSU1"
      },
      "source": [
        "## Search Articles"
      ]
    },
    {
      "cell_type": "code",
      "execution_count": null,
      "metadata": {
        "id": "wcMbmNI5ZQDM"
      },
      "outputs": [],
      "source": [
        "import textwrap\n",
        "\n",
        "i = 0\n",
        "for entry in cnn_dataset['validation']:\n",
        "  text = entry['article']\n",
        "  if ' wine ' in text.lower():\n",
        "    print(entry['id'])\n",
        "    print(textwrap.fill(entry['article'], width=80))\n",
        "\n",
        "    i += 1\n",
        "    if i > 3:\n",
        "      break\n"
      ]
    },
    {
      "cell_type": "markdown",
      "metadata": {
        "id": "FR45JPPoatOs"
      },
      "source": [
        "## GPT Summaries using Simple Prompts\n",
        "\n",
        "Using the same prompt as Goyal et al:\n",
        "\n",
        "> Article: {{article}}\n",
        ">\n",
        "> Summarize the above article in N sentences."
      ]
    },
    {
      "cell_type": "code",
      "execution_count": null,
      "metadata": {
        "id": "okQw42KTrtHO"
      },
      "outputs": [],
      "source": [
        "gpt4_summaries = []\n",
        "gpt3_summaries = []\n",
        "\n",
        "for article in news_articles:\n",
        "  summarize_news_simple_prompt = f\"\"\"\n",
        "  Article: {article}\n",
        "\n",
        "  Summarize the above article in 3 sentences.\n",
        "  \"\"\"\n",
        "\n",
        "  gpt4_summary_simple, _ = gpt4_summarize_direct('',\n",
        "                                        summarize_news_simple_prompt,\n",
        "                                        temperature=0.75)\n",
        "\n",
        "  gpt4_summaries.append(gpt4_summary_simple)\n",
        "\n",
        "  gpt3_summary_simple, _ = gpt3_summarize_direct('',\n",
        "                                        summarize_news_simple_prompt,\n",
        "                                        temperature=0.75)\n",
        "\n",
        "  gpt3_summaries.append(gpt3_summary_simple)"
      ]
    },
    {
      "cell_type": "code",
      "execution_count": null,
      "metadata": {
        "id": "_C0rZIXNjW5J"
      },
      "outputs": [],
      "source": [
        "import pickle\n",
        "\n",
        "with open('simple-summaries.pkl', 'wb') as savefile:\n",
        "  pickle.dump( (gpt4_summaries, gpt3_summaries), savefile )"
      ]
    },
    {
      "cell_type": "code",
      "execution_count": null,
      "metadata": {
        "id": "oXS1XjHHpUWz"
      },
      "outputs": [],
      "source": [
        "!ls -lah"
      ]
    },
    {
      "cell_type": "code",
      "execution_count": null,
      "metadata": {
        "id": "rZvkdpkrj0r-"
      },
      "outputs": [],
      "source": [
        "!cp simple-summaries.pkl '/content/drive/MyDrive/Colab Notebooks/gp4-summ-saved-data/'"
      ]
    },
    {
      "cell_type": "code",
      "execution_count": null,
      "metadata": {
        "id": "FeFYNZXnp5E9"
      },
      "outputs": [],
      "source": [
        "!cp '/content/drive/MyDrive/Colab Notebooks/gp4-summ-saved-data/simple-summaries.pkl' ./"
      ]
    },
    {
      "cell_type": "code",
      "execution_count": null,
      "metadata": {
        "id": "nhtYq53jpd9f"
      },
      "outputs": [],
      "source": [
        "import pickle\n",
        "\n",
        "with open('simple-summaries.pkl', 'rb') as saved_file:\n",
        "  gpt4_summaries, gpt3_summaries = pickle.load(saved_file)"
      ]
    },
    {
      "cell_type": "code",
      "execution_count": null,
      "metadata": {
        "id": "Ym72RI8wbd4R"
      },
      "outputs": [],
      "source": [
        "import textwrap\n",
        "\n",
        "for s in gpt4_summaries:\n",
        "  print(textwrap.fill(s,width=70))\n",
        "  print('\\n\\n')\n",
        "\n",
        "for s in gpt3_summaries:\n",
        "  print(textwrap.fill(s,width=70))\n",
        "  print('\\n\\n')"
      ]
    },
    {
      "cell_type": "markdown",
      "metadata": {
        "id": "RY7x82G-mIfi"
      },
      "source": [
        "## GPT Summaries using Complex Prompts"
      ]
    },
    {
      "cell_type": "code",
      "execution_count": null,
      "metadata": {
        "id": "D6sMSKoUszyD"
      },
      "outputs": [],
      "source": [
        "system_instruction = \"\"\"You are an assistant that summarizes a news article to a\n",
        "simple summary at 8th grade reading level.\n",
        "\"\"\"\n",
        "\n",
        "summarize_news_prompt = f\"\"\"\n",
        "  Summarize this news article in at most 3 sentences, each sentence not exceeding 15 words,\n",
        "  keep only the most important details, rephrase all other details:\n",
        "  \"\"\""
      ]
    },
    {
      "cell_type": "code",
      "execution_count": null,
      "metadata": {
        "id": "cOAyQJMYs6ZG"
      },
      "outputs": [],
      "source": [
        "gpt4_summaries_complex = []\n",
        "gpt3_summaries_complex = []\n",
        "\n",
        "for article in news_articles:\n",
        "  gpt4_summary_complex, _ = gpt4_summarize_direct(article,\n",
        "                                        summarize_news_prompt,\n",
        "                                        system_msg=system_instruction,\n",
        "                                        temperature=0.75)\n",
        "\n",
        "  gpt4_summaries_complex.append(gpt4_summary_complex)\n",
        "\n",
        "  gpt3_summary_complex, _ = gpt3_summarize_direct(article,\n",
        "                                        summarize_news_prompt,\n",
        "                                        system_msg=system_instruction,\n",
        "                                        temperature=0.75)\n",
        "\n",
        "  gpt3_summaries_complex.append(gpt3_summary_complex)\n"
      ]
    },
    {
      "cell_type": "code",
      "execution_count": null,
      "metadata": {
        "id": "pLZyfSB_q_fR"
      },
      "outputs": [],
      "source": [
        "import pickle\n",
        "\n",
        "with open('complex-summaries.pkl', 'wb') as savefile:\n",
        "  pickle.dump( (gpt4_summaries_complex, gpt3_summaries_complex), savefile )"
      ]
    },
    {
      "cell_type": "code",
      "execution_count": null,
      "metadata": {
        "id": "UT42rbqyrM5b"
      },
      "outputs": [],
      "source": [
        "!cp complex-summaries.pkl '/content/drive/MyDrive/Colab Notebooks/gp4-summ-saved-data/'"
      ]
    },
    {
      "cell_type": "code",
      "execution_count": null,
      "metadata": {
        "id": "aKyt4pNQrM5d"
      },
      "outputs": [],
      "source": [
        "!cp '/content/drive/MyDrive/Colab Notebooks/gp4-summ-saved-data/complex-summaries.pkl' ./"
      ]
    },
    {
      "cell_type": "code",
      "execution_count": null,
      "metadata": {
        "id": "J8IPoH0qrM5h"
      },
      "outputs": [],
      "source": [
        "import pickle\n",
        "\n",
        "with open('complex-summaries.pkl', 'rb') as saved_file:\n",
        "  gpt4_summaries_complex, gpt3_summaries_complex = pickle.load(saved_file)"
      ]
    },
    {
      "cell_type": "code",
      "execution_count": null,
      "metadata": {
        "id": "7ylUEH5Wv1AC"
      },
      "outputs": [],
      "source": [
        "import textwrap\n",
        "\n",
        "for s in gpt4_summaries_complex:\n",
        "  print(textwrap.fill(s,width=70))\n",
        "  print('\\n\\n')\n",
        "\n",
        "for s in gpt3_summaries_complex:\n",
        "  print(textwrap.fill(s,width=70))\n",
        "  print('\\n\\n')"
      ]
    },
    {
      "cell_type": "code",
      "execution_count": null,
      "metadata": {
        "id": "ZxI3oFNSbkoV"
      },
      "outputs": [],
      "source": [
        "import textwrap\n",
        "\n",
        "print(textwrap.fill(gpt4_summary_example,width=70))"
      ]
    },
    {
      "cell_type": "code",
      "execution_count": null,
      "metadata": {
        "id": "zMYJQgUYvo6e"
      },
      "outputs": [],
      "source": [
        "[i*0.01 for i in range(0, 101, 25)]"
      ]
    },
    {
      "cell_type": "code",
      "execution_count": null,
      "metadata": {
        "id": "bB3W6d3SZTeu"
      },
      "outputs": [],
      "source": [
        "import textwrap\n",
        "\n",
        "news_results = []\n",
        "\n",
        "for temperature in [i*0.01 for i in range(0, 101, 25)]:\n",
        "  print(f'\\n\\nTemperature:{temperature}')\n",
        "\n",
        "  gpt4_summary, _ = gpt4_summarize_direct(article, summarize_news_prompt,\n",
        "                                          system_msg=system_instruction,\n",
        "                                          temperature=temperature)\n",
        "  print('\\n\\nGPT4:')\n",
        "  print(textwrap.fill(gpt4_summary,width=70))\n",
        "\n",
        "  gpt3_summary, _ = gpt3_summarize_direct(article, summarize_news_prompt,\n",
        "                                          system_msg=system_instruction,\n",
        "                                          temperature=temperature)\n",
        "  print('\\n\\nGPT3:')\n",
        "  print(textwrap.fill(gpt3_summary,width=70))\n",
        "\n",
        "  news_results.append( (temperature, gpt4_summary, gpt3_summary) )\n"
      ]
    },
    {
      "cell_type": "markdown",
      "metadata": {
        "id": "yMnCheBo3ScD"
      },
      "source": [
        "## GPT ROUGE Metrics"
      ]
    },
    {
      "cell_type": "code",
      "execution_count": null,
      "metadata": {
        "id": "fLmU7SBZ3W7L"
      },
      "outputs": [],
      "source": [
        "from pprint import pprint\n",
        "import statistics\n",
        "\n",
        "from rouge import Rouge\n",
        "\n",
        "rouge1_f = []\n",
        "rouge2_f = []\n",
        "rougel_f = []\n",
        "\n",
        "R = Rouge()\n",
        "for s,r in zip(gpt4_summaries, ref_summaries):\n",
        "  scores = R.get_scores(s,r)[0]\n",
        "  #print(scores)\n",
        "  rouge1_f.append(scores['rouge-1']['f'])\n",
        "  rouge2_f.append(scores['rouge-2']['f'])\n",
        "  rougel_f.append(scores['rouge-l']['f'])\n",
        "\n",
        "print('Mean rouge-1 f:', statistics.mean(rouge1_f))\n",
        "print('Mean rouge-2 f:', statistics.mean(rouge2_f))\n",
        "print('Mean rouge-l f:', statistics.mean(rougel_f))\n"
      ]
    },
    {
      "cell_type": "code",
      "execution_count": null,
      "metadata": {
        "id": "cdn2isjsAeQa"
      },
      "outputs": [],
      "source": [
        "from pprint import pprint\n",
        "import statistics\n",
        "\n",
        "from rouge import Rouge\n",
        "\n",
        "rouge1_f = []\n",
        "rouge2_f = []\n",
        "rougel_f = []\n",
        "\n",
        "R = Rouge()\n",
        "for s,r in zip(gpt4_summaries_complex, ref_summaries):\n",
        "  scores = R.get_scores(s,r)[0]\n",
        "  #print(scores)\n",
        "  rouge1_f.append(scores['rouge-1']['f'])\n",
        "  rouge2_f.append(scores['rouge-2']['f'])\n",
        "  rougel_f.append(scores['rouge-l']['f'])\n",
        "\n",
        "print('Mean rouge-1 f:', statistics.mean(rouge1_f))\n",
        "print('Mean rouge-2 f:', statistics.mean(rouge2_f))\n",
        "print('Mean rouge-l f:', statistics.mean(rougel_f))\n"
      ]
    },
    {
      "cell_type": "code",
      "execution_count": null,
      "metadata": {
        "id": "pB5kkVDmAqwo"
      },
      "outputs": [],
      "source": [
        "from pprint import pprint\n",
        "import statistics\n",
        "\n",
        "from rouge import Rouge\n",
        "\n",
        "rouge1_f = []\n",
        "rouge2_f = []\n",
        "rougel_f = []\n",
        "\n",
        "R = Rouge()\n",
        "for s,r in zip(gpt3_summaries, ref_summaries):\n",
        "  scores = R.get_scores(s,r)[0]\n",
        "  #print(scores)\n",
        "  rouge1_f.append(scores['rouge-1']['f'])\n",
        "  rouge2_f.append(scores['rouge-2']['f'])\n",
        "  rougel_f.append(scores['rouge-l']['f'])\n",
        "\n",
        "print('Mean rouge-1 f:', statistics.mean(rouge1_f))\n",
        "print('Mean rouge-2 f:', statistics.mean(rouge2_f))\n",
        "print('Mean rouge-l f:', statistics.mean(rougel_f))\n"
      ]
    },
    {
      "cell_type": "code",
      "execution_count": null,
      "metadata": {
        "id": "bSsez80WAtaT"
      },
      "outputs": [],
      "source": [
        "from pprint import pprint\n",
        "import statistics\n",
        "\n",
        "from rouge import Rouge\n",
        "\n",
        "rouge1_f = []\n",
        "rouge2_f = []\n",
        "rougel_f = []\n",
        "\n",
        "R = Rouge()\n",
        "for s,r in zip(gpt3_summaries_complex, ref_summaries):\n",
        "  scores = R.get_scores(s,r)[0]\n",
        "  #print(scores)\n",
        "  rouge1_f.append(scores['rouge-1']['f'])\n",
        "  rouge2_f.append(scores['rouge-2']['f'])\n",
        "  rougel_f.append(scores['rouge-l']['f'])\n",
        "\n",
        "print('Mean rouge-1 f:', statistics.mean(rouge1_f))\n",
        "print('Mean rouge-2 f:', statistics.mean(rouge2_f))\n",
        "print('Mean rouge-l f:', statistics.mean(rougel_f))\n"
      ]
    },
    {
      "cell_type": "markdown",
      "metadata": {
        "id": "szLCuXhIOyYg"
      },
      "source": [
        "## BRIO summaries"
      ]
    },
    {
      "cell_type": "code",
      "execution_count": null,
      "metadata": {
        "id": "wvpDn2_r3vkt"
      },
      "outputs": [],
      "source": [
        "\n",
        "\n",
        "brio_news_summaries = []\n",
        "\n",
        "for article in news_articles:\n",
        "  brio_summary = hf_summarize(article, 'brio')\n",
        "\n",
        "  brio_news_summaries.append(brio_summary)\n"
      ]
    },
    {
      "cell_type": "code",
      "execution_count": null,
      "metadata": {
        "id": "j0xY_hGOt8Ow"
      },
      "outputs": [],
      "source": [
        "import pickle\n",
        "\n",
        "with open('brio-summaries.pkl', 'wb') as savefile:\n",
        "  pickle.dump( brio_news_summaries, savefile )"
      ]
    },
    {
      "cell_type": "code",
      "execution_count": null,
      "metadata": {
        "id": "prC4cR10t8O0"
      },
      "outputs": [],
      "source": [
        "!cp brio-summaries.pkl '/content/drive/MyDrive/Colab Notebooks/gp4-summ-saved-data/'"
      ]
    },
    {
      "cell_type": "code",
      "execution_count": null,
      "metadata": {
        "id": "9sCcnPrUt8O2"
      },
      "outputs": [],
      "source": [
        "!cp '/content/drive/MyDrive/Colab Notebooks/gp4-summ-saved-data/brio-summaries.pkl' ./"
      ]
    },
    {
      "cell_type": "code",
      "execution_count": null,
      "metadata": {
        "id": "4bLRdaX2t8O3"
      },
      "outputs": [],
      "source": [
        "import pickle\n",
        "\n",
        "with open('brio-summaries.pkl', 'rb') as saved_file:\n",
        "  brio_news_summaries = pickle.load(saved_file)"
      ]
    },
    {
      "cell_type": "code",
      "execution_count": null,
      "metadata": {
        "id": "jl6ff8WyO-1X"
      },
      "outputs": [],
      "source": [
        "import textwrap\n",
        "\n",
        "for s in brio_news_summaries:\n",
        "  print(textwrap.fill(s, width=70))"
      ]
    },
    {
      "cell_type": "code",
      "execution_count": null,
      "metadata": {
        "id": "9gV_9vzMRWhe"
      },
      "outputs": [],
      "source": [
        "from pprint import pprint\n",
        "import statistics\n",
        "\n",
        "from rouge import Rouge\n",
        "\n",
        "rouge1_f = []\n",
        "rouge2_f = []\n",
        "rougel_f = []\n",
        "\n",
        "R = Rouge()\n",
        "for s,r in zip(brio_news_summaries, ref_summaries):\n",
        "  scores = R.get_scores(s,r)[0]\n",
        "  #print(scores)\n",
        "  rouge1_f.append(scores['rouge-1']['f'])\n",
        "  rouge2_f.append(scores['rouge-2']['f'])\n",
        "  rougel_f.append(scores['rouge-l']['f'])\n",
        "\n",
        "print('Mean rouge-1 f:', statistics.mean(rouge1_f))\n",
        "print('Mean rouge-2 f:', statistics.mean(rouge2_f))\n",
        "print('Mean rouge-l f:', statistics.mean(rougel_f))"
      ]
    },
    {
      "cell_type": "markdown",
      "metadata": {
        "id": "LA1O8sO-ic40"
      },
      "source": [
        "## BERTScore Metrics"
      ]
    },
    {
      "cell_type": "code",
      "execution_count": null,
      "metadata": {
        "id": "oWvrhtHCicgd"
      },
      "outputs": [],
      "source": [
        "from torchmetrics.text.bert import BERTScore\n",
        "\n",
        "scorer = BERTScore('roberta-large')\n",
        "\n",
        "bert_scores = scorer(gpt4_summaries, ref_summaries)\n",
        "\n",
        "bert_scores"
      ]
    },
    {
      "cell_type": "code",
      "execution_count": null,
      "metadata": {
        "id": "N77aYqGjslWd"
      },
      "outputs": [],
      "source": [
        "import statistics\n",
        "\n",
        "statistics.mean(bert_scores['f1'])"
      ]
    },
    {
      "cell_type": "code",
      "execution_count": null,
      "metadata": {
        "id": "Ann7HDDcs-lb"
      },
      "outputs": [],
      "source": [
        "import statistics\n",
        "\n",
        "bert_scores = scorer(gpt3_summaries, ref_summaries)\n",
        "\n",
        "statistics.mean(bert_scores['f1'])"
      ]
    },
    {
      "cell_type": "code",
      "execution_count": null,
      "metadata": {
        "id": "v2l7Yr6rtRCy"
      },
      "outputs": [],
      "source": [
        "import statistics\n",
        "\n",
        "bert_scores = scorer(gpt4_summaries_complex, ref_summaries)\n",
        "\n",
        "statistics.mean(bert_scores['f1'])"
      ]
    },
    {
      "cell_type": "code",
      "execution_count": null,
      "metadata": {
        "id": "df76j2dYtdTP"
      },
      "outputs": [],
      "source": [
        "import statistics\n",
        "\n",
        "bert_scores = scorer(gpt3_summaries_complex, ref_summaries)\n",
        "\n",
        "statistics.mean(bert_scores['f1'])"
      ]
    },
    {
      "cell_type": "code",
      "execution_count": null,
      "metadata": {
        "id": "PvA-6Htktsz4"
      },
      "outputs": [],
      "source": [
        "import statistics\n",
        "\n",
        "bert_scores = scorer(brio_news_summaries, ref_summaries)\n",
        "\n",
        "statistics.mean(bert_scores['f1'])"
      ]
    },
    {
      "cell_type": "markdown",
      "metadata": {
        "id": "pbZAibn3jANB"
      },
      "source": [
        "\n",
        "\n",
        "---\n",
        "\n",
        "# Use Case #2: Long-form Post Summarization"
      ]
    },
    {
      "cell_type": "markdown",
      "metadata": {
        "id": "kDFdWompm__b"
      },
      "source": [
        "## Set up WikiHow Dataset"
      ]
    },
    {
      "cell_type": "markdown",
      "metadata": {
        "id": "mSRgEo9UnFnK"
      },
      "source": [
        "**WikiHow dataset**\n",
        "\n",
        "https://github.com/mahnazkoupaee/WikiHow-Dataset\n",
        "\n",
        "This is a CSV file with 3 fields:\n",
        "\n",
        "+ Title: the title of the article as it appears on the WikiHow knowledge base\n",
        "\n",
        "+ Headline: the concatenation of all the bold lines (the summary sentences) of all the paragraphs to serve as the reference summary\n",
        "\n",
        "+ Text: the concatenation of all paragraphs (except the bold lines) to generate the article to be summarized\n",
        "\n",
        "Note that not all entries have summaries or even text"
      ]
    },
    {
      "cell_type": "code",
      "execution_count": null,
      "metadata": {
        "id": "LntTG-3blSvH",
        "colab": {
          "base_uri": "https://localhost:8080/"
        },
        "outputId": "662a8153-2186-4327-f277-bd297ad13c35"
      },
      "outputs": [
        {
          "output_type": "stream",
          "name": "stdout",
          "text": [
            "/content\n"
          ]
        }
      ],
      "source": [
        "%cd /content"
      ]
    },
    {
      "cell_type": "code",
      "execution_count": null,
      "metadata": {
        "id": "hDXHF88blXVC"
      },
      "outputs": [],
      "source": [
        "!ls -lah"
      ]
    },
    {
      "cell_type": "code",
      "execution_count": null,
      "metadata": {
        "id": "D_JBa_I6R3G1"
      },
      "outputs": [],
      "source": [
        "!curl 'https://public.boxcloud.com/d/1/b1!mFymrCPjULN50ZpfDmFcHlrzQfKFYMsRPXF76jOTsoDX5qnnNaHFjqGEZq5KCAZQ4BmvFXAWK1xmSqbM6Ut7OA8ngK9BID8KD1wljxn2HAydZyEmd8SccShcsek4J5Qfd_TXCDPpKOqKbNbHe0S_60Wbqbkq4pONecsU-p0LL7qEb9xkbL7lsxhQhdN8NKyxvZA5FZpmMYsFrFjPc1PRyvA7EZQ4yQDl4nhras6Pcv8dPrCiJ06lnhU2jjzzfwSeOGtF2xfiPwnmkH1Dq-bEFpwuHUUYn6L9XUbcDSZz1pL-4VOdjV1i5J4RCMbXcKXQxD0fzRB97ZRxBN32x-kM5fVhfGWu0t5etw9GSfwKPbrRgUyHyMhhTQBTPcyPmAdZOJ0tAkwWpxGcgo8lkHTXkuNrbsJOfyeBa9dI96zb0e4EtvpZp6S8KcvjxpYCNOqPGPEORQgGUAQz5GBtVP2uppcxjJPX5eSnwtBdqEI0BArJip398L8DDMMVUXO5VY719oNK3_D3fz2VUwhzG05UBkbpCYQlUU32y__w8DJaVQ4U7EFz069ufylbIrBMwS6RoOyA6NNKq6e_UFZ0MlO1ryX3jOYbXrTa-FjnFEpmMCHaynKXIk9cdanMdocBbwOY0JQw502FqMeStivYdAI6JcwnneBqiahXFY_CW9TZKRpcXdFzoDopwVPKczqkiQG142pHiI3dINyAC3UFJ24dwzlz1cDGYpkLjJ-DB3v1mnEBgccxq68honFTqSJmpFfQreNsjv8TJf3fvajvSrak_rOoLu8yDDFhQ21XxaQcjLCmndBi04pDxp7s322ibUmz8lisy83FRFhZz6yxmXEZstROBx_bELD1BAtDsGRcwtNGR-QdqXQDDLY4UYp7-wLOExePOzqS0FcFsxxVOIuZ0QltYILbVH7t03FYUhvl1TXPVqv9h6UiNcnEvuSeUVew3r_JXuczgdAdjGLFQ7-2absiQjEeRv0J1T6BI9PcLLuKlhsuFxAx1zaqeKXpIzVWqcv1YOyWlIVhpBF3Pefy0vPbibz1L4U02NIeuuSzPm5iEHbR0oqqeMx05SEQ8yUCVqQ0cmX7mACzOt1WnTLO-Te-nxJA25cpJ-IK9gMlpU9JxvZzYXyC82WUA8IbEDVK5rN67lIVxETs8RXu6-8UVHEMUgrwsbNYR2crOpq1vKpKrm_iu5BaZgZgbTV02WxoG3HfCCeisN5W87yfmSz3uc7eDgusiMI0xoi0TiDN99yVBA0gy_dIlADS/download' \\\n",
        "-H 'User-Agent: Mozilla/5.0 (X11; Ubuntu; Linux x86_64; rv:109.0) Gecko/20100101 Firefox/112.0' -H 'Accept: text/html,application/xhtml+xml,application/xml;q=0.9,image/avif,image/webp,*/*;q=0.8' -H 'Accept-Language: en-US,en;q=0.5' -H 'Accept-Encoding: gzip, deflate, br' -H 'Alt-Used: public.boxcloud.com' -H 'Connection: keep-alive' -H 'Referer: https://ucsb.app.box.com/' -H 'Upgrade-Insecure-Requests: 1' -H 'Sec-Fetch-Dest: iframe' -H 'Sec-Fetch-Mode: navigate' -H 'Sec-Fetch-Site: cross-site' \\\n",
        "--output wikihowAll.csv.gz"
      ]
    },
    {
      "cell_type": "code",
      "execution_count": null,
      "metadata": {
        "id": "STrSUoIJjJGC"
      },
      "outputs": [],
      "source": [
        "!ls -lah"
      ]
    },
    {
      "cell_type": "code",
      "execution_count": null,
      "metadata": {
        "id": "QBjXXzCCl5vP"
      },
      "outputs": [],
      "source": [
        "!cp wikihowAll.csv.gz '/content/drive/MyDrive/Colab Notebooks/wikihow-summ-dataset/'"
      ]
    },
    {
      "cell_type": "code",
      "execution_count": null,
      "metadata": {
        "id": "3ycKNh5ClKJ2"
      },
      "outputs": [],
      "source": [
        "!cp '/content/drive/MyDrive/Colab Notebooks/wikihow-summ-dataset/wikihowAll.csv.gz' ./"
      ]
    },
    {
      "cell_type": "code",
      "execution_count": null,
      "metadata": {
        "id": "e4dnpvqTmAv1"
      },
      "outputs": [],
      "source": [
        "!gunzip -k wikihowAll.csv.gz"
      ]
    },
    {
      "cell_type": "code",
      "execution_count": null,
      "metadata": {
        "id": "bJogipEPnZF5"
      },
      "outputs": [],
      "source": [
        "!git clone https://github.com/mahnazkoupaee/WikiHow-Dataset"
      ]
    },
    {
      "cell_type": "code",
      "execution_count": null,
      "metadata": {
        "id": "5dJuU2XGo_BM"
      },
      "outputs": [],
      "source": [
        "%cd WikiHow-Dataset"
      ]
    },
    {
      "cell_type": "code",
      "execution_count": null,
      "metadata": {
        "id": "3-xLssaLpZVs"
      },
      "outputs": [],
      "source": [
        "!ln -s /content/wikihowAll.csv wikihowAll.csv"
      ]
    },
    {
      "cell_type": "code",
      "execution_count": null,
      "metadata": {
        "id": "KZTt9dP3pCTI"
      },
      "outputs": [],
      "source": [
        "!ls -lah"
      ]
    },
    {
      "cell_type": "code",
      "execution_count": null,
      "metadata": {
        "id": "Iq5vK9Xmr9gh"
      },
      "outputs": [],
      "source": [
        "!head -n20 wikihowAll.csv"
      ]
    },
    {
      "cell_type": "code",
      "execution_count": null,
      "metadata": {
        "id": "WBGyiuq6pC_9",
        "colab": {
          "base_uri": "https://localhost:8080/"
        },
        "outputId": "3f33741e-6b10-4077-ce90-a356bb0c366d"
      },
      "outputs": [
        {
          "output_type": "stream",
          "name": "stdout",
          "text": [
            "23665 11868 54475 How to Hike the John Muir Trail\n",
            "82748 10699 33638 How to Solve Differential Equations\n",
            "95398 8078 28299 How to Program Excel to Show Spheroids Visiting Their Home Planet\n",
            "95489 8148 28448 How to Create the Idea of an Idea Image\n",
            "98790 8161 28602 How to Create a Dakini and Boddhisattva Aspect of the Mother Planet\n",
            "100039 15479 59544 How to Create an Overall Status Workbook in XL and VBA for Your wikiHow Articles\n",
            "139904 14611 74231 How to Understand Your Website Traffic Variation with Time\n",
            "147497 8572 42984 How to Understand Your Website Audience Profile\n",
            "153631 13168 58892 How to Feed Cattle\n",
            "Total number of entries in CSV: 215364\n"
          ]
        }
      ],
      "source": [
        "# Find long posts in this dataset.\n",
        "# Processing code based on https://github.com/mahnazkoupaee/WikiHow-Dataset/blob/master/process.py\n",
        "# but without using Pandas.\n",
        "\n",
        "import csv\n",
        "import tiktoken\n",
        "\n",
        "with open('wikihowAll.csv', 'r', newline='') as csvfile:\n",
        "\n",
        "    csv_reader = csv.reader(csvfile)\n",
        "\n",
        "    # Skip header\n",
        "    next(csv_reader)\n",
        "\n",
        "    tokenizer = tiktoken.encoding_for_model('gpt-4')\n",
        "\n",
        "    long_posts = []\n",
        "\n",
        "    for i, row in enumerate(csv_reader):\n",
        "      #print(row)\n",
        "\n",
        "      summary = row[0] if len(row) > 0 else ''\n",
        "      title = row[1] if len(row) > 1 else ''\n",
        "      text = row[2] if len(row) > 2 else ''\n",
        "\n",
        "      #print(title, len(title))\n",
        "      #print(summary, len(summary))\n",
        "      #print(text, len(text))\n",
        "\n",
        "      if len(text) > 25000:\n",
        "        tokens = tokenizer.encode(text)\n",
        "        if len(tokens) > 8000:\n",
        "          print(i, len(tokens), len(text), title)\n",
        "          long_posts.append( (i, len(tokens), title, summary, text) )\n",
        "\n",
        "    print('Total number of entries in CSV:', i)\n"
      ]
    },
    {
      "cell_type": "markdown",
      "metadata": {
        "id": "gU3AnHfHyXte"
      },
      "source": [
        "Out of 215,364 entries, only 9 exceed 8,192 tokens.\n",
        "\n",
        "Only a few of these 9 seem suitable for general-purpose summarization and evaluation:\n",
        "\n",
        "\\#23665 11868 54475 How to Hike the John Muir Trail\n",
        "\n",
        "\\#98790 8161 28602 How to Create a Dakini and Boddhisattva Aspect of the Mother Planet\n",
        "\n",
        "\\#147497 8572 42984 How to Understand Your Website Audience Profile\n",
        "\n",
        "\\#153631 13168 58892 How to Feed Cattle\n",
        "\n"
      ]
    },
    {
      "cell_type": "code",
      "execution_count": null,
      "metadata": {
        "id": "B5EhVTE9xzA0"
      },
      "outputs": [],
      "source": [
        "sel_long_posts = [long_posts[i] for i in [0, 4, 7, 8]]"
      ]
    },
    {
      "cell_type": "code",
      "execution_count": null,
      "metadata": {
        "id": "TQD0E-BTzf4K"
      },
      "outputs": [],
      "source": [
        "[s[0] for s in sel_long_posts]"
      ]
    },
    {
      "cell_type": "code",
      "source": [
        "# Print example [post]\n",
        "print(sel_long_posts[0][4])"
      ],
      "metadata": {
        "colab": {
          "base_uri": "https://localhost:8080/"
        },
        "id": "GHFI7aEkaM10",
        "outputId": "4731c963-1abe-457d-8c8a-92340e7dc3b0"
      },
      "execution_count": null,
      "outputs": [
        {
          "output_type": "stream",
          "name": "stdout",
          "text": [
            " The JMT is a high elevation (for the US at least) mountain trail through remote terrain.\n",
            "\n",
            "\n",
            "The JMT ranges in elevation from about 4000 feet above sea level, to 14,505 ft at the summit of Mt. Whitney. All of the southern half is above 8000 ft.\n",
            "The trail passes through 3 national parks, 5 wilderness areas, 2 national forests, and 1 national monument. There's a very helpful \"tour\" of each with photos here.\n",
            "There are no huts or shelters along the trail, so you will be responsible for your own campsite and protection from the elements at all times.\n",
            "There are 10 passes (the high points between valleys) over 10,000 ft, and you will usually be hiking several thousand feet up and then down in a single day.\n",
            "The JMT grows gradually higher and the passes more demanding as you hike from north to south. In fact, if heading out from Muir Trail Ranch (the halfway resupply stop) with 100 miles (160 km) of food on your back and the most difficult terrain still ahead, it almost feels like the first 100 miles (160 km) were just the warm up!\n",
            "The trail is well marked, impressively constructed and well maintained. You won't have problems with navigation if you pay attention, and as long as you prepare well and use good common sense, you can enjoy a relatively safe wilderness experience.;\n",
            ", A map and guidebook will be your best friends.\n",
            "\n",
            "\n",
            "Many maps are available. The Tom Harrison maps are generally considered very good, but you can also get maps from National Geographic, Blackwoods Press, or Halfmile.\n",
            "The guidebook by Elizabeth Wenk is a thoroughly researched resource. Her book, \"John Muir Trail - The Essential Guide to Hiking America's Most Famous Trail\", contains a good mix of real-world trip planning advice, human history, natural history, and detailed trail descriptions. The latest version is the 5th edition, released in June 2014.\n",
            "A good planning guide is Ray Rippel's e-book, \"Planning Your Thru Hike of the John Muir Trail\". Loaded with practical tips, it provides packing lists and three suggested itineraries for different lengths of time.\n",
            "There are tons of helpful and inspiring JMT videos on YouTube and other websites, including \"Mile... Mile & a Half\". These videos include documentaries, time lapse videos, gear list demos, and how-to tutorials.\n",
            "A number of online groups and forums exist, including the John Muir Trail Yahoo Group, the John Muir Trail Facebook Group, and the Ladies of the JMT Facebook Group. These forums host an active community of people who plan to hike, or have already hiked, the JMT, and they contain a wide range of resources, including web links, documents, and databases.\n",
            "\n",
            ", The JMT is usually mostly free from snow between July and September, but it varies by year. Your options are:\n",
            "\n",
            "\n",
            "June - July: You may encounter some snow, possibly a lot, depending on the year. Stream crossings will be more difficult but water sources will be abundant. You'll see more wildflowers, but also have to fend off more mosquitoes. Days are longer and weather is generally warmer, but afternoon thunderstorms are not uncommon during summer in the Sierra.\n",
            "August: Generally a good month for hiking the JMT. Snow is usually not an issue and the weather is still warm. A good balance of the trade-offs from earlier and later, which means demand for permits is higher.\n",
            "September: Some say this is the most stable weather of the year in the Sierra, but it depends on the year. Thunderstorms are usually less frequent, but the risk of an early winter storm is higher. Days are also shorter leaving less daylight for hiking, and nighttime temperatures will drop below freezing at higher elevations. In a dry year, some water sources may be unreliable but this won't be a problem if you do your research. Mosquitoes and people are both less abundant. Wildfires (and their smoke) pose more of a risk, however, especially during dry years.\n",
            "October: Generally a less pleasant time to hike the JMT. Many resupply locations are already closed, daylight is short, and the risk of encountering an early winter storm is high. On the plus side, getting a permit should be easy and you'll encounter fewer people on the trail, but only experienced backpackers prepared for snow should attempt hiking this late.\n",
            "\n",
            ",\n",
            "\n",
            "\n",
            "North to south is most common and allows the hiker to \"warm up\" on the easier and lower passes in the north and acclimatize gradually to the higher elevations in the south. Summiting 14,505 foot Mt. Whitney is far easier after several weeks in the mountains.\n",
            "South to north is preferred by some who want to get the most challenging climbs out of the way first, or appreciate the aesthetics of the steeper and more dramatic south-side approaches to many of the passes. Starting late in the season might also be a good reason to get the higher elevation passes - and their potential for cold and dangerous storms - out of the way early. It is also easier to get a permit going in this direction.\n",
            "Allow for a couple of days near your starting point before beginning your hike to acclimatize to the altitude if you live at low elevation and don't know how your body responds. This important whether you're starting in the north or south, but is critical if you're starting on Mt. Whitney. Do some easy day hikes during that time. Learn about altitude sickness and be familiar with the symptoms before you go.\n",
            "\n",
            ", Many hikers take about 3 weeks to complete the trail, traveling at a pace that's challenging but still leaves time to enjoy the scenery and take a day or two for rest or side trips. This works out to roughly 10-13 miles per day, though some days will likely be longer or shorter.\n",
            "\n",
            "An important limiting factor is the stretch between Muir Trail Ranch and Mt. Whitney. Unless you hire or convince someone to bring you food during this section, or add a couple of days to hike out to town, you'll need to cover over 100 miles on a single resupply package. Food is heavy and has to fit in your bear canister, so this really limits the amount of time you can spend on this section. Nine to ten days is about the max unless you arrange another resupply.\n",
            "People who prefer more leisure sometimes take 4 or more weeks, and need to plan extra food resupplies accordingly.  The record for fastest known time on the JMT, set by some amazing ultrarunners, is under 4 days, but that won't be even remotely possible for most people.\n",
            "If you can manage the time off from work and your life at home, err on the side of allowing more time for your trip. You'll be traveling through remote terrain that's very hard to get to, so you may as well make the most of it while you're there! It's also better to have added flexibility for rest and recovery days--the worst case scenario is finishing a little early, which can be avoided by having some scenic detours lined up.\n",
            "\n",
            ", You can hike solo, with a partner, or a larger group, and each option will shape your experience in a different way.\n",
            "\n",
            "Keep in mind that everyone hikes at different paces and has different goals, so it can be difficult to keep a larger group together. Even a group of 4 may find it easier to split into pairs and arrange to meet for lunch and camping. Larger groups camping in the same place also tend to have a more harmful impact on delicate ecosystems.\n",
            "Be sure to discuss details of your plan with prospective hiking partners before deciding to hike together.  Do you want to hike 8 miles a day at a relaxed pace while taking lots of pictures, while they want to push their limits and do 18? Do you like to sip coffee in the morning and hike into the night, while they prefer to rise at dawn and hit the trail? Are you more comfortable with a fixed schedule, while they like to play everything by ear? You might not make great hiking partners.\n",
            "Don't be afraid to try a solo hike. A long solo hike can be an amazing life-changing experience, and many people prefer solo hiking after trying it the first time. To test it out, take a short solo weekend trip on a familiar trail, then decide if a solo JMT hike is right for you. There are many friendly people hiking the JMT during the summer hiking season, so in case you get lonely there will be plenty of opportunities to hike and camp with other hikers, and in case something unexpected comes up, there are people around to help out. By the mid-point of the trail, there are many solo hikers who have joined pairs or groups, and there are lots of people sharing food or helping other people out in other ways.\n",
            "\n",
            ", The trail is too long to carry all your food from the start, so you will need to plan and mail resupply packages to places along the way. Fortunately there are several resorts that will accept and hold a package for you (for a fee).  Your options are:\n",
            "\n",
            "\n",
            "Tuolumne Meadows: about 24 miles from the trail's northern start in Yosemite, this is a good place to restock if you don't want to carry too much weight between the start and Red's Meadow.\n",
            "Red's Meadow: about 62 miles in. Friendly resort with well stocked store, picnic tables, bathrooms, restaurant and campground.\n",
            "Vermilion Valley Resort: 88 miles. You'll need to catch a boat shuttle or walk 4.5 miles around the lake. Popular backpacker-friendly spot with a store, restaurant, and free campground. Your first beer is on the house, and if you ask nicely you might be able to get a complimentary spot in a tent cabin for the night.Muir Trail Ranch: 108 miles, right at the mid-point of the trail, and the last on-trail resupply option for the southern half of the trail. Very small store and no food or bathroom options, unless you're spending the night in a cabin there, but you'll likely want to resupply here anyway since it's your last convenient opportunity. To resupply here, you need to mail a plastic bucket there more than three weeks in advance of your pickup date and pay a fee in addition to the shipping cost.If you don't want to carry all your food for the next 100 miles after Muir Trail Ranch, which could take around 9 days or more, you have a couple of options: You can leave the JMT at mile 186, hike out over Kearsarge Pass to the Onion Valley trailhead and pick up your food resupply box that has been cached in a bear locker. Or hitchhike to town from Onion Valley and get a motel for the night. The Mt. Williamson Motel and Independence Inn have a resupply package that offers pickup and drop off from Onion Valley.This will add one or two days to your trip. Or, hire a pack mule service,or bribe a friend, to hike in over Kearsarge Pass or Bishop Pass with your resupply package, which will require careful scheduling, because food cannot legally be cached in the wilderness by your friend or the pack service.\n",
            "For people hiking northbound, the 100 miles at the south end of the trail is still a challenge for food resupply, but the difference is that there are plenty of bear lockers along the southern end of the JMT that it is possible to carry more food than will fit in your bear canister during the day, but at night, camp at locations with bear lockers to store the extra \"overflow\" food and other smelly items, until the everything finally fits into the bear canister.\n",
            "For a map of bear lockers in the High Sierra, visit the climber.org website.\n",
            "If you're flexible and adventurous, it's possible to resupply without shipping anything by raiding hiker bins at resupply spots and buying food from the stores. Many people ship themselves way too much food and dump the extra into bins full of food up for grabs. Red's Meadow has one basket that fills up throughout the day and gets thrown out at night. VVR has several baskets full of food, along with separate baskets for non-food items (fuel, clothing, sunblock). MTR tends to have a cornucopia of food, gear, and supplies. The stores at Red's and VVR have a good selection of things you might need, but don't count on the store at MTR for anything except fuel.\n",
            "\n",
            ", This is a good thing to do before any hike, but especially useful on the JMT because of resupply logistics. Some people will prefer to \"wing it\" between resupply stops, but for those who like to plan in advance, here's how.\n",
            "\n",
            "\n",
            "Make a spreadsheet with each hiking day as a row, and add columns for daily mileage, cumulative mileage, daily elevation gain, tentative campsite location, and notes for things like resupply stops or water sources along the route. It helps to divide your hike up into 3 or 4 segments between resupply locations, and then tackle planning each segment separately.\n",
            "Using your guidebook and map, start identifying approximate places to camp. You might choose them because they're recommended for their beauty, nice campsites, proximity to water, or simply because they're well spaced for the number of miles you want to hike that day.\n",
            "Especially in the southern half, the JMT follows a fairly regular pattern of high passes alternating with protected valleys. If you plan your campsites well, you'll often end up camping in a valley, climbing a pass in the morning, and heading downhill to your next campsite in the afternoon. Camping in the lower elevation valleys is easier because it's less cold, less windy, and water is more abundant. Most people sleep better at lower elevations. And many hikers prefer to get the difficult uphill climbs done early in the day, before it gets hot and they get tired.\n",
            "Don't forget to factor in climbing, descent, and high elevation. If you're hiking over 13,200 foot Forester Pass today, you're probably climbing 3000 feet up before lunch and another 3000 feet down in the afternoon, all in thin air at high elevation, so your mileage for the day might be shorter. On the other hand, you can cover ground relatively quickly on the more gradual, lower elevation trail in Evolution Valley. Don't underestimate the more challenging, rocky terrain of the southern half. You may have your \"trail legs\" by then if you started from the north, but the passes are higher and steeper than their northern counterparts.\n",
            "Let yourself warm up by planning a couple of shorter days at the beginning of your hike. Then try to intersperse a few shorter \"rest\" days (if you're hiking 15 miles a day, an 8 mile day feels like a rest) throughout the remainder of your hike, to give any nagging aches or pains a chance to recover. Your legs will thank you the next day.\n",
            "You will probably not follow your plan exactly as you hike. That's ok. But it's important to start with a plan, because then it's much easier to make small adjustments on the fly and still hit your resupply stops on time. It's also a great way to get familiar with the trail and its landmarks and water sources, which will help you feel oriented during your hike.\n",
            "\n",
            ", The JMT stretches between Yosemite and Mt. Whitney, over 200 miles apart. Unless you plan to turn around and walk back when you finish, you'll need some way of getting back to where you started.\n",
            "\n",
            "One option is to arrange a car shuttle with hiking partners. Drive separately to your endpoint, leave a car there, drive together to your start point, complete the hike. Then drive together from the endpoint back to the car at the start point, then head your separate ways.\n",
            "Public transportation is available via the CREST, YARTS and ESTA lines, and can be used with or instead of a car shuttle. Note that these often stop running in early September.\n",
            "A private shuttle, East Side Sierra Shuttle, offers comfortable transportation on the east side of the Sierra, and custom trips are available.\n",
            "\n",
            ", You need a permit to hike the JMT, and they're in high demand. See the PCTA permits page for current information.Fortunately, though you'll be passing through several national parks and forests, you only need a single permit for the area where you start.\n",
            "\n",
            "If you start in the north, you'll need a permit from Yosemite National Park. If you start in the south, you'll need a permit for the Mt. Whitney Zone from Inyo National Forest.\n",
            "Permits in Yosemite are a lottery system, and currently you need to apply exactly 168 days in advance to have a chance. Permits for the official start at Happy Isles are very hard to get, so many hikers start further south at Lyell Canyon in Tuolumne Meadows. Yes, this cuts about 20 miles off your hike, but it's 20 of the easiest miles to access. If you can't get a permit for Happy Isles and don't want to feel short-changed on total mileage, consider starting at Tuolumne Meadows and making up the extra miles on side trips in more spectacular and remote sections of the JMT.\n",
            "For other ideas on alternative start locations, see the Yosemite trailhead quotas page.A trailhead with a higher quota will generally be easier to get a permit for, if you're willing to start your trip from a non-traditional location.\n",
            "As of February 2015, Yosemite has implemented an additional quota for JMT hikers exiting Yosemite via Donahue Pass.Only 45 thru-hikers can get these permits per day, making it even harder to get a southbound permit than in previous years. If you cannot get a permit for the classic JMT, alternatives include:\n",
            "\n",
            "Starting in Yosemite but exiting the park via Isberg pass, meeting back up with the JMT at Red's Meadows.\n",
            "Starting at or around Devil's Postpile.\n",
            "While it's possible to start north of Yosemite in the Hoover Wilderness at a trailhead like Robinson Creek and join the JMT at Tuolumne Meadows, in 2015 the Bridgeport Ranger Station is not issuing any permits to JMT thru-hikers.Call to confirm: (760) 932-7070\n",
            "\n",
            "\n",
            "\n",
            ", Test these first on training hikes.\n",
            "\n",
            "\n",
            "Your choice of pack, shelter and sleeping bag will depend on how much weight you're willing to carry. \"Traditional\" backpackers, carrying 40-60 pounds, definitely do complete the JMT. But it's also increasingly common to see semi-lightweight backpackers carrying minimalist packs, tarps instead of tents, and lightweight down sleeping quilts instead of bulky synthetic sleeping bags.\n",
            "If you choose the lighter weight route, the best gear is often found in smaller online shops and not available at your neighborhood REI. Check out names like Mountain Laurel Designs, Enlightened Equipment, Six Moon Designs, Gossamer Gear, Tarptent, and many more.\n",
            "Whatever you choose, make sure it's adequate to keep you safe and comfortable and you know how to use it. Your pack should be able to carry food and water for your longest segment, including the extra 2-ish pounds added by a bear canister. Your sleeping bag should be rated for 30 degree F temperatures at the warmest, and cold sleepers hiking in September should consider 10 or 0 degree bags. Your tent or tarp must keep you and your gear dry through a night of rain and wind.\n",
            "\n",
            ",  If you're not an experienced backpacker, do your research on clothing systems for backcountry hiking.  Weather can range from 90 degrees F on a summer day to below freezing and windy at night. Bring the layers and accessories (gloves, hat, etc) to be safe and comfortable. Many people choose to wear long sleeves and pants for protection from the sun, since many parts of the trail are exposed and at high altitude., During a long hike, a good portion of your day revolves around water - finding it, purifying it, drinking it. You'll need:\n",
            "\n",
            "A water purification system. It's generally not a good idea to drink directly from streams and lakes in most parts of the High Sierra, because bacteria from people and livestock can make you sick, though some people do choose to take the risk and drink unfiltered water. Water purification systems come in many forms, including gravity filters, pump filters, UV sterilizers, squeeze filters, and chemical tablets and drops. Research the tradeoffs and choose what's best for you. A Sawyer squeeze filter attached to a Smart water bottle is common setup for ultralight hikers on the JMT.\n",
            "Four liters of water carrying capacity. There are many ways to arrange this, but one useful system is a 3 liter hydration bladder with hose that you can drink from while you hike, plus an extra 1 liter bottle. The bottle is faster to fill up, better for dispensing water to cook with, and easier to keep in your tent at night. While many people feel it's better to be safe than sorry, there are also many people who hike the entire trail with only two liters of carrying capacity, but this is only recommended for those who have the confidence to hike further if your planned water source is dried up (especially later in the season).\n",
            "\n",
            ", The internet is full of checklists and blog posts about what to include in your backpack. Long debates have occurred over which particular type of titanium pot is best! Do your research and look for resources from communities that match your hiking style. REI has a good standard checklist if you're just getting started.Going ultralight? Check out the gear forums at backpackinglight.com.  This is not a complete list, but here are some JMT-specific gear suggestions:\n",
            "\n",
            "\n",
            "Hiking poles are extremely useful on the steep and rocky JMT. Even if you don't normally hike with them, consider bringing a pair. They will steady you during creek crossings and support your tired knees and ankles on many steep and rock-strewn sections of trail.\n",
            "Bring a camera! The JMT is incredibly scenic. Depending on your phone for picture taking might drain the battery extremely quickly.\n",
            "You'll need a cooking system that's lightweight but reliable. A small folding stove and single titanium mug or pot would be a good choice, but do some research if you're curious about other options. Many people eat and drink out of the same pot they cook in. Keep in mind that high altitude, cold, and wind all extend cooking time of your meal, and at higher elevations on the JMT the difference is noticeable, so budget extra fuel. Post Office rules prohibit shipping fuel in resupply boxes, but you'll be able to purchase standard backpacking stove fuel canisters at resupply points.\n",
            "Some kind of light, ideally a headlamp (and extra batteries), is essential.\n",
            "Don't forget rain gear! Sudden thunderstorms are common in the Sierra in summer, and the temperature can drop below freezing at night, making wet clothing and gear a dangerous problem.  A waterproof pack cover and/or lining, rain pants and waterproof jacket, or poncho, are essential.\n",
            "\n",
            ", Parts of the JMT are fairly remote, and you may hike for half a day or more without seeing anyone. The nearest town can be a three day hike away. In addition to being prepared with proper gear, you should always have a basic first aid kit (and know how to use its contents!). A compass should always be carried though the trail is well-marked, and a good map is a must. Know how to use them both, and know the exit routes in case of emergency., A camera, small journal, or good book (consider the Kindle app if you carry a smart phone) are nice options, but don't go overboard. It's easy to think you can't do without something, but your daily routine on the trail will be so different that you probably won't miss what you don't bring., More exhaustive general lists can be found on the internet, but here are some notable items to consider for many long hikes and the JMT in particular.\n",
            "\n",
            "Entire days of hiking will be spent above treeline with no shade, so sunscreen and sunglasses are required. Some people wear lightweight gloves to protect the backs of their hands, which get a lot of sun exposure if you use trekking poles. Many people wear lightweight pants and a long-sleeved sun shirt to provide sun protection as an alternative to applying sunblock.\n",
            "A small bottle of bug repellent is helpful if hiking earlier in the summer. A headnet is also recommended if you are one of those people that bugs really enjoy eating.\n",
            "Baby wipes will seem like the best thing ever. At the end of a long and dusty day (the JMT is a dusty trail when dry), start with your face and hands and proceed to progressively dirtier areas. Pack out the used wipe in your trash bag.\n",
            "Deodorant, lotion, and soap are all optional, believe it or not. You'll have to carry them the whole way, and many people stop using them after a few days once they've adjusted to life on the trail. A small bottle of hand sanitizer is a great alternative to soap, and doesn't harm the environment (even \"natural,\" biodegradable soaps can disrupt fragile ecosystems). For brushing your teeth, a few drops of biodegradable soap per brushing will do the trick and is better for the environment than toothpaste. Bringing a packet or two hand ointment such as Aquaphor in case your hands get very dry and crack later in the trail can be a nice luxury.\n",
            "Don't forget toilet paper or wipes! Just as importantly, don't forget a way to pack it out. Yes, all of it. No, burying it doesn't count. It doesn't always stay buried thanks to animals and erosion, and no one wants to hike through other people's used TP. Here's a system that works: put some bleach powder in a plastic bag, then double bag it in another plastic bag, ideally an opaque (non-see-through) bag if you can find one (or just cover it with duct tape). Include one of these setups in each resupply package so you don't have to reuse them. You might even want a spare inner bag to change out between resupplies. If this sounds gross to you, don't worry, you'll get used to it. It's well worth the minor unpleasantness to keep the wilderness lovely for many years to come.\n",
            "Extra plastic bags are always useful for something. Bring a few in several sizes and include a few more in your resupplies. Large ones (kitchen garbage bags) make useful lightweight pack liners and emergency pack covers. Medium ones (gallon ziplocks) are great for your food-related and personal trash. Small ones (sandwich bags) are perfect for protecting your camera or journal from water.\n",
            "\n",
            ", Ideally you will do this several times on shorter training hikes. The day before hitting the trail is not a good time to find out that your pack weighs half as much as you do and your sleeping bag won't fit inside it.\n",
            "\n",
            "If you are really into shaving ounces, weigh each item of gear separately and create a spreadsheet. This will allow you to make informed decisions about weight tradeoffs, like \"if I don't bring that bottle of biodegradable shampoo, I can bring 10 baby wipes and an extra pair of socks!\"\n",
            "If you're not quite that detail-oriented, simply put all your gear and clothing in your pack, step on a bathroom scale, then subtract your weight without the pack. This is known as your \"base weight,\" the weight of your gear without food and water.\n",
            "When weighing your gear, don't underestimate the amount of weight food and water will add. Food weighs 1.5 to 2 pounds per day, and water weighs 2.2 pounds per liter. For example, 5 days of food and 3 liters of water would add over 16 pounds to your pack!\n",
            "\n",
            ", Black bears on the JMT are typically not dangerous to humans, but hikers need to take special precautions to keep it that way. Storing your food and scented toiletries in a bear canister is required on the John Muir Trail, both for your safety and that of the bears.  A bear that makes a habit of eating hiker's food in the backcountry will often be killed by rangers due to safety concerns, and no one wants to be responsible for that. And, if a bear eats your food supply on the most remote portions of the trail, you're going to have an unpleasantly hungry hike out to the nearest town two days away.\n",
            "\n",
            "A standard bear canister can be purchased for about $80 from an outdoor gear store. It will add about 2.5 lbs to your pack weight.\n",
            "Lighter canisters are more expensive, so decide how much you care about weight. If you spring for the \"Cadillac of bear canisters,\" the carbon fiber Wild Ideas Bearikade, you will pay over 3 times as much for 31 ounces of carbon fiber and aircraft aluminum alloy awesomeness. Wild Ideas also rents these to JMT hikers for a much more reasonable price.If you don't need a bear canister in your gear collection permanently, you can rent one in Yosemite for much less money.Depending on your resupply plans, you may be trying to fit as much as 10 days of food into a bear canister on the southern half of the JMT! This is almost impossible unless you plan on eating nothing but peanut butter for 10 days (not recommended). Consider getting a larger canister, like the Bearikade Expedition, to make your life easier. Note that national park regulations may allow you to bear hang your food in the area near Muir Trail Ranch (check local regulations), so if you choose your camp location carefully and bring rope/cord, you can cut a day off the amount that must fit in your canister.\n",
            "\n",
            ", Review your goal itinerary from part one.  Your hiking speed, time constraints, and pack weight concerns should have already determined where you'll need to mail food packages or (if you have really nice friends) have a friend hike in to meet you.\n",
            "\n",
            "Each resupply location has specific mailing instructions, forms and fees, so make sure to read their websites carefully or your package may not be waiting for you when you arrive.\n",
            "Be prepared to mail your resupply packages about 3 weeks before you'll pick them up.\n",
            "\n",
            ", If you haven't already, make a spreadsheet with a row for each day you'll be on the trail. Mark resupply days on the spreadsheet, and figure out exactly how many breakfasts, lunches, dinners, and snacks you'll need based on how many days are in each segment.\n",
            "\n",
            "For example, if you plan to eat lunch and resupply at Red's Meadow around lunchtime on day 4, and you will have breakfast in Yosemite before you start on day 1, you'll need 3 breakfasts, 3 lunches, 3 dinners, and about 3.5 days worth of snacks to get you through the first segment.\n",
            "If you have space in your bear canister, consider packing an extra partial or whole day of food. Yes, it's extra weight, but life is uncertain in the backcountry. If your resupply stop is delayed by a day while you wait to avoid a dangerous electrical storm on the next high pass, you'll be hungry and grumpy unless you have a little extra food stashed away.\n",
            "\n",
            ", There are many great resources on the internet for optimizing hiking food, so do your research. Everyone seems to have their own preferences, but here are some general guidelines that apply especially well to longer trips like the JMT:\n",
            "\n",
            "\n",
            "Most hikers need about 3000-3500 calories per day. That's probably a lot more than you usually eat, but after a few days of climbing high mountain passes with a heavy backpack, you'll still be fantasizing about food, no matter how much you brought. Your food will weigh about 1.5 to 2 pounds per day.\n",
            "Dense foods high in protein and fat are satisfying and full of energy: nut butters, hard cheeses, salami. These pair great with tortillas, which happen to fit nicely in the bottom of a bear canister...\n",
            "Dehydrated food helps save space and weight, especially for staples like grains. At higher elevations on the JMT, a traditional canister stove takes longer to cook your food, especially when it's cold and windy, so choose foods that rehydrate quickly or learn to love crunchy rice and pasta. An insulating pot cozy can help. Couscous is the easiest grain to cook on the trail, as it rehydrates in only a couple of minutes and can even be rehydrated with cold water in a pinch (takes longer though). Rice and pasta also work if they are cooked first, then dehydrated. Grains like quinoa and uncooked pasta can take a really long time and burn through a lot of fuel. Ramen and instant mashed potatoes are common backpacker dinner staples, and ramen can be substituted for pasta in many dishes.\n",
            "Convenient foods like energy bars, dried fruit, trail mix and sports gels are great for quick snacks. Bear Valley Pemmican bars pack in more calories (over 400 in a bar) than most bars and are a great compact source of nutritious trail food.\n",
            "Freeze-dried chicken, bacon bits, or beef jerky are great ways to add more protein to your meals.\n",
            "Some hikers bring a container of olive oil or ghee and add some to each meal for more calories.\n",
            "Don't forget some favorite indulgences! Dark chocolate (may melt), instant coffee, tea, or even dehydrated pumpkin pie (really!) will taste heavenly on the trail.\n",
            "Delicate foods like crackers and cookies, though delicious, will likely get crushed in your bear can.\n",
            "\n",
            ", You have many options here, depending on how much time and money you want to spend:\n",
            "\n",
            "Purchase freeze-dried meals from an outdoor gear store. These are more expensive but very easy.\n",
            "Dehydrate your own food. This is less expensive than buying dehydrated meals, and gives you more control over your menu, but it does take time.Buy/make and combine dehydrated and freeze dried ingredients into your own recipes.  For example, mix instant oatmeal with powdered whole milk, freeze dried apples, almonds, salt and cinnamon for breakfast.  Or, mix couscous or instant rice with curry powder, freeze dried veggies, freeze dried chicken, and some added olive oil when you rehydrate for dinner.\n",
            "\n",
            ",\n",
            "\n",
            "Read the guidelines for each resupply point you're using. They all have their own preferences for packing and labeling. A five gallon plastic bucket, with the lid securely taped down, is a common choice.\n",
            "Brace yourself for the postage fees. It can cost $20 - $40 to mail each package, in addition to the fees each resort charges for picking up and holding them.\n",
            "\n",
            ", It's easy to say \"I'm sure it'll fit!\" from the comfort of your kitchen, but when packing your resupply into your bear canister on the trail and half your food doesn't fit, you'll have a dilemma on your hands. Better to know in advance and modify your menu to include denser, more compact foods.\n",
            "\n",
            "\n",
            "If the bears don't get your food, the marmots will! These guys live above treeline in higher elevation areas and can be quite aggressive, especially in areas like Guitar Lake where they are used to an easy meal because so many hikers camp there. Look away for a second and your food will be gone if it's not in the bear canister!\n",
            "\n",
            ", If you are already fit and active, you may not need much extra training to complete the JMT, but a little extra physical preparation will make your experience more enjoyable. If you're becoming more active for the first time in a while, the steps below should help you prepare., During your hike, you'll likely be walking for 6-8 hours a day or more. Getting your body used to that much activity, especially for people who work at a desk all day, is difficult. The more you make a habit of daily activity, the less foreign it will be to your body during the hike.\n",
            "\n",
            "Walk everywhere you can. Park far away from your destination. If you can, run errands on foot. Going to the grocery store? Bring a backpack (great training) and carry your groceries home on your back.\n",
            "Lots of variety will help you get strong with less risk of overdoing any particular thing. Try to incorporate a variety of activities into your week: walking, running, biking, yoga, lifting weights, whatever else you enjoy.\n",
            "\n",
            ",\n",
            "\n",
            "Start with a distance you can comfortably hike, whether that's 2 miles or 10, and add a mile or two each time. Try to get out for these shorter day hikes a couple of times a month in the months before your hike.\n",
            "Once you can comfortably hike a given distance, try adding a pack with extra weight. Hand weights, water bottles, rocks, and sand are good choices if you don't want to pack your full gear collection every time.\n",
            "Push yourself in one aspect at a time during training hikes. For example, focus on your endurance by taking longer hikes without a pack. Alternate these with shorter hikes with heavier pack to focus on strength.\n",
            "Work up to at least one two-night trip with all your gear. Ideally, do several trips of 2 or 3 nights on the trail, to get comfortable with managing your gear and hiking for several days in a row.\n",
            "Focus on hill training. Long climbs and descents are a hallmark of the JMT. Some days you'll start climbing first thing in the morning and not hit a downhill until after lunch. As much as possible, train on hills, the longer the better. If you live in a flat area, get creative and seek out stairwells, stadium bleachers, or even the stair climber machine at the gym.\n",
            "\n",
            ", Many hikers worry about their knees and ankles, but your hips and glutes (butt muscles) should be your body's main source of power and stability. Get these muscles strong and coordinated, and your knees and ankles will usually take care of themselves.\n",
            "\n",
            "Do lightweight exercises like glute bridges, clams, and quadruped hip extensions with perfect form to \"activate\" your hip and butt muscles. This will strengthen the connection between your brain and the muscles so they are easier to recruit to their full potential.\n",
            "If you have access to coaching or can carefully research technique, learn to properly and safely perform weighted barbell exercises like squats and deadlifts. These exercises are one of the fastest ways to build a strong, stable athletic body. After a few months of these, you'll be amazed at how much stronger and more comfortable you feel after a long day of hiking. You'll recover faster too, which is key when you have to wake up tomorrow and hike all day again.\n",
            "\n",
            ", Muscles adapt fairly quickly to increased activity, usually within a few weeks or months, but tendons, ligaments, and bones are slower to strengthen. If you're training seriously for your hike, make sure to take periods of rest so any weak spots have time to recover. If you injure yourself from training unwisely, your hike may never happen., This means a good diet, enough sleep, and enough rest. If you are worried about your preparation, this is not the time to go crazy and wear yourself out with intense training. Have faith in the preparation you've already done, and understand that your body takes several weeks to adapt to training, so if you're trying to cram it in at the last minute, it probably won't help anyway., Following these principles will help preserve all the things we love about the wilderness for ourselves and future generations. Everyone who bothers to secure a permit for the JMT probably knows not to leave their granola bar wrappers on the trail, but here are some equally important guidelines you may not be as familiar with:\n",
            "\n",
            "\n",
            "Don't dump your pasta water or dirty dishwater on the ground. It contains food and can disrupt fragile ecosystems and attract animals. The gold standard is to rinse out your pot or cup with water and then drink the water. When you have to purify and carry every sip of water you drink, this will seem like a good idea for multiple reasons. You actually don't need dish soap for this, which can still be disruptive when used in large quantities, even if biodegradable. Simply leave your pot or bowl out in the midday sun for an hour or two to prevent bacteria growth. Same goes for bigger food scraps; eat them or pack them out.\n",
            "If drinking the rinse water seems gross to you, try making \"cleanup soup\" with a packet of ramen or miso seasoning. It dissolves and tastes decent with cold water (though you can warm it up if you want to allocate the extra fuel) and after that you only need a much smaller rinse and sip to clean your pot.\n",
            "If you do use biodegradable soap to wash dishes (or clothing, or yourself), never dump the soapy water in a lake or stream. Soap will biodegrade quickly in the soil, but it will last for many years in a cold mountain lake, leaving a ring of bubbles around the shoreline long after you are gone. Dump it at least 100 feet away from any body of water.\n",
            "Camp in previously used campsites instead of creating new ones, no matter how inviting the spot looks. Learn to spot the mark of an established tent site: flat, rectangular, and clear from vegetation. Avoid camping on living plants, and don't camp within 200 feet of water sources to protect the fragile environments near lakes and streams.\n",
            "Check campfire regulations and always respect areas where fires are prohibited. Typically this is due to either forest fire risk or lack of sufficient firewood. On the JMT, you'll see signs prohibiting campfires in many of the higher elevation areas above treeline, because if hikers started using the scarce vegetation for fuel, the lovely high country would be stripped bare.\n",
            "Never go to the bathroom within 200 feet of a lake or stream, to avoid introducing harmful bacteria into the water supply. Avoid going near the trail or established campsites to minimize the chances of others encountering your leavings, and bury solid human waste in catholes at least 6 inches deep.\n",
            "In the Mount Whitney area, you will be required to defecate in a in a WAG bag, which you carry out with you and dump in special dumpsters located at the Whitney Portal trail head. Though the kit provided when you pick up your permit has a double bag system, you might feel more comfortable if you have yet a third bag in which to enclose the stuff.Pack out all used toilet paper. See the section above on preparing your gear for more detail. Some people think burying it is acceptable, but sometimes animals dig it up or erosion uncovers it for future hikers to encounter. If you've ever hiked in highly used areas where people don't respect the wilderness, you know how unpleasant these \"toilet paper blooms\" can be.\n",
            "\n",
            ", Have a plan for where you'll fill up next, and arrange to camp near water as often as possible. Water on the JMT is usually abundant, especially earlier in the summer and following high snow winters. Even in September after the dry winter of 2013-2014, it was still possible to situate almost every campsite and lunch spot by a lake or stream. If you pay attention to the map and know where the next reliable water source is, you can often save weight by carrying only a liter or two at a time. But even with water every few miles, missing a refill opportunity when you're running low can leave you uncomfortably thirsty for a few miles at best. At worst, you risk heat exhaustion and dehydration if hiking in the heat of summer through very exposed terrain.\n",
            "\n",
            "\n",
            "Don't assume every creek or small lake on your map is reliable. Snowmelt in the mountains is dynamic and varies each year. Many small creeks dry up every year during late season. Some small lakes may completely disappear during a dry year.\n",
            "Water is often available every mile or so on the JMT, but there are a few longer potentially dry stretches to be aware of.Notably, the section between Guitar Lake and Whitney Portal has a few water sources on the descent from Whitney (heading south), but between Guitar Lake and Trail Crest the options are very unreliable. You'll want to stay well hydrated on the high-elevation ascent of Whitney, so be sure to pack extra water for this stretch. At the northern end of the trail, Little Yosemite Valley to Cathedral Lake can also be a long dry stretch if a few key water sources are unavailable.\n",
            "Ask hikers coming the other direction where the next water source is. They'll be happy to tell you, especially if you exchange some information about the direction they're headed.\n",
            "When in doubt, top off your supply of water whenever you have a chance.\n",
            "When you stop for lunch or arrive at camp for the night, start filtering water right away. This is especially true if you have a gravity filter - fill it up, eat, and it'll be ready when you're done.\n",
            "\n",
            ",\n",
            "\n",
            "If you feel a blister coming on (the feeling often called a \"hotspot\"), stop and take care of it right away. If there is no evidence of a blister yet, apply a generous amount of anti-friction ointment like BodyGlide. If you do see a blister developing, treat it immediately. You did bring a blister kit, right? Some athletic tape and moleskin will come in very handy. Cut the moleskin into a donut that surrounds the blister so that it takes pressure off the irritated spot.\n",
            "Rinse your feet and socks regularly, ideally when you stop for lunch and at each night's camp. It not only feels good, it also helps prevent dust from irritating your skin and causing blisters. It even helps just to change your socks every few hours; smack the socks you just removed against a rock a few times to shake off the dust, then strap them to your pack to dry off and air out as you walk before putting them back on later. Keeping your feet clean and dry goes a long way in blister prevention.\n",
            "Your body may feel stiff and unbalanced after so much hiking, so take some time in the mornings, evenings, or during rest breaks to stretch and move around in ways that don't just involve putting one foot in front of the other.\n",
            "Bring a golf ball! It sounds strange, but it's small, lightweight, and the perfect remedy for tired feet at the end of a long day. Roll it gently under the arch of your foot, the backs of your calves, or anywhere else that could use a massage.\n",
            "\n",
            ", The more serious forms can be fatal: High Altitude Cerebral Edema (HACE) and High Altitude Pulmonary Edema (HAPE). The best response depends on the severity of symptoms. For mild AMS, taking an extra day before ascending further may be all that is necessary and symptoms may resolve. For HAPE, and especially HACE, descent may be required. , Not only is it fun to identify all the landmarks in distant vistas, it's also a basic wilderness skill that will help you identify water sources, predict the time to your planned campsite, and understand the difficulty of the terrain ahead of you., Summer thunderstorms are common in the Sierra, and the high, exposed passes on the JMT are dangerous during electrical storms. You should never attempt a pass when there is lightening or possibility of lightening nearby. Instead, rest your legs and wait out the storm in a safer, lower valley.\n",
            "\n",
            "\n",
            "This is especially true of Mt. Whitney, where hikers have died from lightening strikes on the summit. It's never a good idea to be the tallest thing around in an electrical storm, so being on top of the tallest mountain in the lower 48 states is obviously a horrible idea. If you hiked north to south, Whitney might be your final day and you are probably excited about finishing and almost out of food. It can be very, very tempting to push though during a storm but it's not a risk worth taking. You won't die from one day without food, but you can certainly die from a lightening strike.\n",
            "Mountain thunderstorms often form in the early to mid-afternoon. This is another good reason (along with cooler temperatures and fresher legs) to arrange your campsites so that you're up and over the highest passes before noon.\n",
            "Reading the weather can be difficult, because it's normal to see harmless puffy clouds that don't turn into thunderstorms. Keep an eye out for clouds that grow taller, darker on the bottom, and/or flatter on top, as these signal a thunderstorm forming.\n",
            "For vague but longer-range planning, try asking other hikers if they've heard a recent weather forecast. Forecasts often aren't accurate several days out so don't depend on them completely, but they can give you a general idea of what to expect. It may have been weeks since you last had access to the internet, but hikers out for \"only\" a long weekend might have more recent information and will be happy to share it with you. You can also ask staff for the latest forecast at resupply stops.\n",
            "\n",
            ", You're in a beautiful, remote location that's impossible to drive to and requires, at best, several days of hiking to reach. Make the most of it! Your guidebook will have numerous suggestions for short day trips off the JMT. Make time and energy for a few, you won't regret it., The simplicity of hiking for days can make it easy to feel joy over small things. Savor an energy bar on top of a 12,000 foot pass while looking back at all the ground you just covered. Soak your dusty feet in a creek during lunch. Watch the sun set while you make camp at the end of a long day. Spend a few minutes looking at the stars before you zip up your tent at night.\n",
            "\n",
            "Go for a swim whenever possible. It will be cold and you will need to garner courage to fully submerge, but you will feel cleaner and more refreshed, and there's a saying that \"you never regret a swim\" which applies on this trail. Do watch your footing, though, or wear sandals or your stream crossing shoes to make sure you don't cut your foot on a rock or branch.\n",
            "\n",
            ", These are often where you will run into other hikers who have been slightly ahead of or behind you on the trail, so take a minute to chat and celebrate your shared progress as you cram your resupply into your bear canister. These are also good places to indulge that random food craving you've been obsessing about for the last 50 miles. A beer and an ice cream sandwich at the Red's Meadow picnic tables just might be the best snack you've ever had.\n",
            "\n",
            "Red's Meadow and Vermilion Valley Resort are great places to buy snacks or a hot meal, enjoy the wonders of a real bathroom, and restock on anything you may have forgotten from the general store.\n",
            "Muir Trail Ranch is more minimal. No bathroom, no ice cream, no beer unless you're a paid guest. There is a small store but it carries only bare essentials, because they have to pack everything in on horseback. If you're not staying the night in their cabins, you'll probably may want to unpack your resupply box and move on, or enjoy the public Blaney Hot Springs across the river.\n",
            "The directions to the campground and hot springs posted at MTR are a little confusing. After the trail drops you off at the river, cross it into an obvious campground, but bear right as you continue forward. At some point you will bump into (well, hopefully not literally) a barbed wire fence on your right that marks the border of MTR. Follow this fence into a meadow; a hot spring is right up against the fence. Not far away is Warm Lake, which isn't actually warm, but is called that because it gets a small amount of hot spring heat which makes it not as cold as most lakes.\n",
            "Except for Tuolumne Meadows, all the resupply stops mentioned here have \"hiker bins\" where hikers can leave food and supplies they don't need, and pick up free stuff left by others. Take advantage of these, both to unload weight you don't need, and to discover someone else's discarded snack that suddenly looks like the tastiest thing in the world after eating exactly the same kind of trail mix for two weeks straight.\n",
            "\n",
            ", The first couple of days, if you're not used to backpacking in the mountains, it can seem like setting up and breaking down camp takes an eternity. By the time you've pitched the tent, filtered water, cooked dinner, packed up your bear canister, set up your sleeping pad, and crawled into your tent, an hour or two may have gone by. Don't worry, you'll get faster as your hike goes on. Here are some tips:\n",
            "\n",
            "Do tasks involving water (filtering, rinsing dust off your body) as soon as you get to camp. At high elevations surrounded by tall mountains, the sun dips behind the nearest peak well before typical sunset time. Splashing around in a cold mountain stream trying to fill your filter bag can leave you uncomfortably cold once the sun goes down. If you're lucky enough to have a gravity filter, get it started as soon as you arrive and it'll be ready by the time you've pitched the tent.\n",
            "If you're not hiking solo, you can split up camp chores to make them go faster. Maybe one person prefers to cook, while another would rather set up the tent. It can make sense for the person who gets cold most easily to do more physical tasks like setting up the tent, since it can often be done with gloves on and involves moving around more.\n",
            "\n",
            ", You will have easy days and hard days. On the hard days, it's tempting to think things will continue getting worse. But very often, the next day you will feel stronger than ever and you will marvel at your body's ability to adapt.\n",
            "\n",
            ", If you hiked from north to south, Whitney's 14,505 ft summit - the highest in the continental United States - is your moment of triumph. For a truly spectacular end to a spectacular trip, try hiking up in the dark (carefully, watch your footing) and watching the sun rise from the summit. Bring plenty of warm layers (you can drop your pack a few miles from the top) - it's chilly up there. And don't forget, you still have 11 miles of unrelenting downhill before you exit at Whitney Portal, so save some energy for the descent.\n",
            "\n",
            "\n",
            "Whitney Portal (the southern trailhead of the JMT) has a store and restaurant where you can enjoy that food item you've been dreaming about for the last week. Once you've finished celebrating, you can hitchhike the 11 miles to Lone Pine (a common practice in this area since many hikers are headed that direction) for a night in a hotel or hostel. There's also a campsite at Whitney Portal, if you can't get enough of sleeping under the stars. Check the Inyo National Forest website for more information.\n",
            "\n",
            ", Friends and family will want to know what it was like to live in the wilderness for several weeks. If you took photos, enjoy looking back through them and sharing them with people who ask. Others who didn't have the time or persistence you did may enjoy living vicariously through your adventure, and you can encourage them to plan an adventure of their own one day., If you wrote in a journal, read through it. Look back through your guidebook at your favorite parts of the trail. You might find it interesting to compare the descriptions to your actual experience, and it will help calibrate your expectations the next time you're planning a trip from a guidebook., Though you haven't actually been gone that long, it's easy to get used to the slower pace of hiking all day and sleeping under the stars at night. For many people, long distance hiking is a temporary escape from life's daily demands. Coming back to \"real life,\" with its constant stream of emails, traffic, and people, can feel overwhelming at first. Realize that you are calibrated to a slower pace (about 2-3 miles per hour!) and be patient with yourself - you'll be back in the swing of \"real life\" all too soon., After experiencing the beauty and solitude of the John Muir Trail, you might be hooked on long distance hiking. Want more of the High Sierra? Check out the Tahoe Rim Trail. Inspired to take things up a notch? Some people take months to hike thousands of miles on the Appalachian Trail or Pacific Crest Trail. Can't quite devote a whole summer to hiking? The Colorado Trail is only about 500 miles. Interested in a trail outside the US? Countless options abound, like the Torres del Paine circuit in Chile. Even when real life stands in the way of multi-week adventures, you can always tap into the peace and beauty of the trail on a weekend backpacking getaway. Happy Trails!\n"
          ]
        }
      ]
    },
    {
      "cell_type": "code",
      "source": [
        "# Print example summary\n",
        "print(sel_long_posts[0][3])"
      ],
      "metadata": {
        "colab": {
          "base_uri": "https://localhost:8080/"
        },
        "id": "SHs5x0HIaEc_",
        "outputId": "21a2708d-f709-44e6-e548-de173c6eb410"
      },
      "execution_count": null,
      "outputs": [
        {
          "output_type": "stream",
          "name": "stdout",
          "text": [
            "\n",
            "Understand the beauty and challenge of the JMT.,\n",
            "Research the trail.,\n",
            "Decide when to hike.,\n",
            "Decide which direction to hike.,\n",
            "Decide how fast to hike.,\n",
            "Decide who to hike with.,\n",
            "Plan your resupplies.,\n",
            "Plan a rough itinerary.,\n",
            "Plan your transportation.,\n",
            "Apply for and get your permit.,\n",
            "Carefully choose the \"big 3\": backpack, shelter, and sleeping system.,\n",
            "Choose your clothing.,\n",
            "Plan your hydration system.,\n",
            "Choose the rest of your gear.,\n",
            "Remember safety essentials.,\n",
            "Choose a couple of luxury items that will really enhance your trip.,\n",
            "Consider and plan for your personal needs in the wilderness.,\n",
            "Weigh your gear ahead of time and make sure it fits comfortably in your pack.,\n",
            "\n",
            "Choose a bear canister.,\n",
            "Plan your resupply details.,\n",
            "Identify your meal and snack counts.,\n",
            "Plan your menu.,\n",
            "\n",
            "Make and/or buy your meals.,\n",
            "Mail your resupplies and, if possible, confirm that they arrived.,\n",
            "Do a test pack with your bear canister to make sure it all fits.,\n",
            "Decide to train.,\n",
            "Be generally active.,\n",
            "Take progressively longer training hikes and incorporate a weighted pack.,\n",
            "Hit the gym to strengthen your hips and legs.,\n",
            "Don't overdo it.,\n",
            "Stay healthy and keep your body strong in the weeks before the hike.,\n",
            "Leave no trace.The JMT runs through a spectacular and fragile wilderness area and we are guests there.,\n",
            "Manage your water supply carefully.,\n",
            "\n",
            "Take care of your body, before small problems turn into big ones.,\n",
            "Know the symptoms of Acute Mountain Sickness (AMS), such as headache, loss of appetite, nausea or vomiting, fatigue, dizziness and trouble sleeping.,\n",
            "Study the map often, and always know where you are and what's around you.,\n",
            "Keep an eye on the weather and modify your plans if necessary.,\n",
            "\n",
            "Take side trips.,\n",
            "\n",
            "Enjoy the little pleasures.,\n",
            "\n",
            "Give yourself a few extra hours to enjoy resupply stops like Red's Meadow, Vermilion Valley Resort and Muir Trail Ranch.,\n",
            "Streamline your camp chores.,\n",
            "Don't worry!,\n",
            "Celebrate on Whitney!,\n",
            "Share your story.,\n",
            "Relive your favorite moments.,\n",
            "Give yourself time to readjust.,\n",
            "Start planning your next trip.\n"
          ]
        }
      ]
    },
    {
      "cell_type": "markdown",
      "source": [
        "## GPT Abstractive Summarization with Simple Chunking\n",
        "\n",
        "Uses simple overlapping chunking implementation from langchain."
      ],
      "metadata": {
        "id": "Bza0PiRhNSAW"
      }
    },
    {
      "cell_type": "code",
      "source": [
        "!ln -s '/content/drive/MyDrive/Colab Notebooks/wikihow-summ-dataset' wikihow-summ"
      ],
      "metadata": {
        "id": "QibqqT-gS8xL"
      },
      "execution_count": null,
      "outputs": []
    },
    {
      "cell_type": "code",
      "source": [
        "import os\n",
        "\n",
        "for i, token_len, title, summary, text in sel_long_posts:\n",
        "\n",
        "  title_comp = title.replace(' ','-')\n",
        "\n",
        "  gpt4_abs_summ = gpt4_summarize_lc_abs_mr(text)\n",
        "  with open(f'wikihow-summ/{title_comp}.gpt4-abs.txt', 'w') as f:\n",
        "    f.write(gpt4_abs_summ)\n",
        "\n",
        "  gpt3_abs_summ = gpt3_summarize_lc_abs_mr(text)\n",
        "  with open(f'wikihow-summ/{title_comp}.gpt3-abs.txt', 'w') as f:\n",
        "    f.write(gpt3_abs_summ)\n",
        "\n"
      ],
      "metadata": {
        "id": "OCSfOyOTRkW-"
      },
      "execution_count": null,
      "outputs": []
    },
    {
      "cell_type": "markdown",
      "metadata": {
        "id": "i2FlvIQ943LY"
      },
      "source": [
        "## GPT Extractive Summarization with Simple Chunking\n",
        "\n",
        "Uses simple overlapping chunking implementation from langchain."
      ]
    },
    {
      "cell_type": "code",
      "execution_count": null,
      "metadata": {
        "id": "jFjYN-FHmQO2",
        "colab": {
          "base_uri": "https://localhost:8080/"
        },
        "outputId": "0a959d3b-ab25-4796-b1f7-88e867fb598c"
      },
      "outputs": [
        {
          "output_type": "stream",
          "name": "stderr",
          "text": [
            "WARNING:langchain.chat_models.openai:Retrying langchain.chat_models.openai.ChatOpenAI.completion_with_retry.<locals>._completion_with_retry in 1.0 seconds as it raised APIError: Bad gateway. {\"error\":{\"code\":502,\"message\":\"Bad gateway.\",\"param\":null,\"type\":\"cf_bad_gateway\"}} 502 {'error': {'code': 502, 'message': 'Bad gateway.', 'param': None, 'type': 'cf_bad_gateway'}} {'Date': 'Fri, 12 May 2023 14:48:45 GMT', 'Content-Type': 'application/json', 'Content-Length': '84', 'Connection': 'keep-alive', 'X-Frame-Options': 'SAMEORIGIN', 'Referrer-Policy': 'same-origin', 'Cache-Control': 'private, max-age=0, no-store, no-cache, must-revalidate, post-check=0, pre-check=0', 'Expires': 'Thu, 01 Jan 1970 00:00:01 GMT', 'Server': 'cloudflare', 'CF-RAY': '7c636e8d4889b105-ATL', 'alt-svc': 'h3=\":443\"; ma=86400, h3-29=\":443\"; ma=86400'}.\n"
          ]
        }
      ],
      "source": [
        "import os\n",
        "\n",
        "for i, token_len, title, summary, text in sel_long_posts:\n",
        "\n",
        "  title_comp = title.replace(' ','-')\n",
        "\n",
        "  gpt4_ext_summ = gpt4_summarize_lc_ext_mr(text)\n",
        "  with open(f'wikihow-summ/{title_comp}.gpt4-ext.txt', 'w') as f:\n",
        "    f.write(gpt4_ext_summ)\n",
        "\n",
        "  gpt3_ext_summ = gpt3_summarize_lc_ext_mr(text)\n",
        "  with open(f'wikihow-summ/{title_comp}.gpt3-ext.txt', 'w') as f:\n",
        "    f.write(gpt3_ext_summ)"
      ]
    },
    {
      "cell_type": "code",
      "source": [],
      "metadata": {
        "id": "H9u6X9iIdX93"
      },
      "execution_count": null,
      "outputs": []
    },
    {
      "cell_type": "markdown",
      "source": [
        "## WikiHow ROUGE Metrics"
      ],
      "metadata": {
        "id": "TqUWwgrbW6zK"
      }
    },
    {
      "cell_type": "code",
      "source": [
        "!cp wikihow-summ/*.txt '/content/drive/MyDrive/Colab Notebooks/wikihow-summ-dataset/'"
      ],
      "metadata": {
        "id": "pGBHpYCHdZC6"
      },
      "execution_count": null,
      "outputs": []
    },
    {
      "cell_type": "code",
      "source": [
        "!pip install rouge"
      ],
      "metadata": {
        "colab": {
          "base_uri": "https://localhost:8080/"
        },
        "id": "eotxyCrKXlW-",
        "outputId": "bbf121d4-e66f-4d07-f88a-d7a23f37b421"
      },
      "execution_count": null,
      "outputs": [
        {
          "output_type": "stream",
          "name": "stdout",
          "text": [
            "Looking in indexes: https://pypi.org/simple, https://us-python.pkg.dev/colab-wheels/public/simple/\n",
            "Collecting rouge\n",
            "  Downloading rouge-1.0.1-py3-none-any.whl (13 kB)\n",
            "Requirement already satisfied: six in /usr/local/lib/python3.10/dist-packages (from rouge) (1.16.0)\n",
            "Installing collected packages: rouge\n",
            "Successfully installed rouge-1.0.1\n"
          ]
        }
      ]
    },
    {
      "cell_type": "code",
      "source": [
        "from rouge import Rouge\n",
        "\n",
        "Rouge().get_scores('this is a summary', 'this is a reference summary')"
      ],
      "metadata": {
        "colab": {
          "base_uri": "https://localhost:8080/"
        },
        "id": "bzGSFQ5TdmKC",
        "outputId": "6b8a957a-4544-40d2-dbe9-8c3a7a9ae0af"
      },
      "execution_count": null,
      "outputs": [
        {
          "output_type": "execute_result",
          "data": {
            "text/plain": [
              "[{'rouge-1': {'r': 0.8, 'p': 1.0, 'f': 0.8888888839506174},\n",
              "  'rouge-2': {'r': 0.5, 'p': 0.6666666666666666, 'f': 0.5714285665306124},\n",
              "  'rouge-l': {'r': 0.8, 'p': 1.0, 'f': 0.8888888839506174}}]"
            ]
          },
          "metadata": {},
          "execution_count": 20
        }
      ]
    },
    {
      "cell_type": "code",
      "source": [
        "from rouge import Rouge\n",
        "import statistics\n",
        "\n",
        "R = Rouge()\n",
        "\n",
        "gpt4_abs_scores = {\n",
        "    '1':[],\n",
        "    '2':[],\n",
        "    'l':[]\n",
        "}\n",
        "gpt3_abs_scores = {\n",
        "    '1':[],\n",
        "    '2':[],\n",
        "    'l':[]\n",
        "}\n",
        "gpt4_ext_scores = {\n",
        "    '1':[],\n",
        "    '2':[],\n",
        "    'l':[]\n",
        "}\n",
        "gpt3_ext_scores = {\n",
        "    '1':[],\n",
        "    '2':[],\n",
        "    'l':[]\n",
        "}\n",
        "\n",
        "for i, token_len, title, summary, text in sel_long_posts:\n",
        "  title_comp = title.replace(' ','-')\n",
        "\n",
        "  with open(f'wikihow-summ/{title_comp}.gpt4-abs.txt', 'r') as f:\n",
        "    gpt4_abs_summ = f.read()\n",
        "    scores = R.get_scores(gpt4_abs_summ, summary)[0]\n",
        "    gpt4_abs_scores['1'].append(scores['rouge-1']['f'])\n",
        "    gpt4_abs_scores['2'].append(scores['rouge-2']['f'])\n",
        "    gpt4_abs_scores['l'].append(scores['rouge-l']['f'])\n",
        "\n",
        "  with open(f'wikihow-summ/{title_comp}.gpt3-abs.txt', 'r') as f:\n",
        "    gpt3_abs_summ = f.read()\n",
        "    scores = R.get_scores(gpt3_abs_summ, summary)[0]\n",
        "    gpt3_abs_scores['1'].append(scores['rouge-1']['f'])\n",
        "    gpt3_abs_scores['2'].append(scores['rouge-2']['f'])\n",
        "    gpt3_abs_scores['l'].append(scores['rouge-l']['f'])\n",
        "\n",
        "  with open(f'wikihow-summ/{title_comp}.gpt4-ext.txt', 'r') as f:\n",
        "    gpt4_ext_summ = f.read()\n",
        "    scores = R.get_scores(gpt4_ext_summ, summary)[0]\n",
        "    gpt4_ext_scores['1'].append(scores['rouge-1']['f'])\n",
        "    gpt4_ext_scores['2'].append(scores['rouge-2']['f'])\n",
        "    gpt4_ext_scores['l'].append(scores['rouge-l']['f'])\n",
        "\n",
        "  with open(f'wikihow-summ/{title_comp}.gpt3-ext.txt', 'r') as f:\n",
        "    gpt3_ext_summ = f.read()\n",
        "    scores = R.get_scores(gpt3_ext_summ, summary)[0]\n",
        "    gpt3_ext_scores['1'].append(scores['rouge-1']['f'])\n",
        "    gpt3_ext_scores['2'].append(scores['rouge-2']['f'])\n",
        "    gpt3_ext_scores['l'].append(scores['rouge-l']['f'])\n",
        "\n",
        "print('GPT4 Abs Mean rouge-1 f:', statistics.mean(gpt4_abs_scores['1']))\n",
        "print('GPT4 Abs Mean rouge-2 f:', statistics.mean(gpt4_abs_scores['2']))\n",
        "print('GPT4 Abs Mean rouge-l f:', statistics.mean(gpt4_abs_scores['l']))\n",
        "\n",
        "print('GPT3 Abs Mean rouge-1 f:', statistics.mean(gpt3_abs_scores['1']))\n",
        "print('GPT3 Abs Mean rouge-2 f:', statistics.mean(gpt3_abs_scores['2']))\n",
        "print('GPT3 Abs Mean rouge-l f:', statistics.mean(gpt3_abs_scores['l']))\n",
        "\n",
        "print('GPT4 Ext Mean rouge-1 f:', statistics.mean(gpt4_ext_scores['1']))\n",
        "print('GPT4 Ext Mean rouge-2 f:', statistics.mean(gpt4_ext_scores['2']))\n",
        "print('GPT4 Ext Mean rouge-l f:', statistics.mean(gpt4_ext_scores['l']))\n",
        "\n",
        "print('GPT3 Ext Mean rouge-1 f:', statistics.mean(gpt3_ext_scores['1']))\n",
        "print('GPT3 Ext Mean rouge-2 f:', statistics.mean(gpt3_ext_scores['2']))\n",
        "print('GPT3 Ext Mean rouge-l f:', statistics.mean(gpt3_ext_scores['l']))\n"
      ],
      "metadata": {
        "colab": {
          "base_uri": "https://localhost:8080/"
        },
        "id": "9Sdu937SW0wR",
        "outputId": "fb60c6dd-5a8d-429a-a1e7-cc79beb8e602"
      },
      "execution_count": null,
      "outputs": [
        {
          "output_type": "stream",
          "name": "stdout",
          "text": [
            "GPT4 Abs Mean rouge-1 f: 0.14388908870860545\n",
            "GPT4 Abs Mean rouge-2 f: 0.015779481242014805\n",
            "GPT4 Abs Mean rouge-l f: 0.13451371756745656\n",
            "GPT3 Abs Mean rouge-1 f: 0.17302190780729163\n",
            "GPT3 Abs Mean rouge-2 f: 0.025540420004049436\n",
            "GPT3 Abs Mean rouge-l f: 0.15577159152703804\n",
            "GPT4 Ext Mean rouge-1 f: 0.1868099677950608\n",
            "GPT4 Ext Mean rouge-2 f: 0.03667096883325839\n",
            "GPT4 Ext Mean rouge-l f: 0.16843717796265487\n",
            "GPT3 Ext Mean rouge-1 f: 0.17289398658150873\n",
            "GPT3 Ext Mean rouge-2 f: 0.024418690008306217\n",
            "GPT3 Ext Mean rouge-l f: 0.15923032795341682\n"
          ]
        }
      ]
    },
    {
      "cell_type": "markdown",
      "metadata": {
        "id": "dPkqtg_v46qP"
      },
      "source": [
        "## BertSum Extractive Summarization with Chunking\n",
        "\n",
        "SOTA model : https://paperswithcode.com/paper/abstractive-summarization-of-spoken\n",
        "\n",
        "https://github.com/alebryvas/berk266\n",
        "\n",
        "Pretrained version of the model for extractive summarization on CNN dataset: https://w266.blob.core.windows.net/pretraining/model_step_50000.pt"
      ]
    },
    {
      "cell_type": "code",
      "execution_count": null,
      "metadata": {
        "id": "TT9oneLe13So"
      },
      "outputs": [],
      "source": [
        "# https://github.com/alebryvas/berk266/blob/master/code/bertsumabs/requirements.txt\n",
        "!pip install pytorch_transformers tensorboardX pyrouge"
      ]
    },
    {
      "cell_type": "code",
      "execution_count": null,
      "metadata": {
        "id": "iiiIilq-soN3"
      },
      "outputs": [],
      "source": [
        "%cd /content\n",
        "\n",
        "!git clone https://github.com/alebryvas/berk266"
      ]
    },
    {
      "cell_type": "code",
      "execution_count": null,
      "metadata": {
        "id": "UXLfcZZftTkj"
      },
      "outputs": [],
      "source": [
        "%cd berk266"
      ]
    },
    {
      "cell_type": "code",
      "execution_count": null,
      "metadata": {
        "id": "QIlSg0sf7XNj"
      },
      "outputs": [],
      "source": [
        "!mv '/content/berk266/wikihow all' '/content/berk266/wikihow_all'"
      ]
    },
    {
      "cell_type": "code",
      "execution_count": null,
      "metadata": {
        "id": "Ubwb-DL31kq5"
      },
      "outputs": [],
      "source": [
        "!ls /content/berk266"
      ]
    },
    {
      "cell_type": "code",
      "execution_count": null,
      "metadata": {
        "id": "WsQVm2aT7uBk"
      },
      "outputs": [],
      "source": [
        "!ls /content/berk266/wikihow_all"
      ]
    },
    {
      "cell_type": "code",
      "execution_count": null,
      "metadata": {
        "id": "P69AD-dftofB"
      },
      "outputs": [],
      "source": [
        "!wget https://w266.blob.core.windows.net/pretraining/model_step_50000.pt"
      ]
    },
    {
      "cell_type": "code",
      "execution_count": null,
      "metadata": {
        "id": "3lBnt77q9ddD"
      },
      "outputs": [],
      "source": [
        "!ls /content/berk266/"
      ]
    },
    {
      "cell_type": "code",
      "execution_count": null,
      "metadata": {
        "id": "QXPdocsL9htc"
      },
      "outputs": [],
      "source": [
        ""
      ]
    },
    {
      "cell_type": "code",
      "execution_count": null,
      "metadata": {
        "id": "IQgIAhMlt-hX"
      },
      "outputs": [],
      "source": [
        "%cd code/bertsumabs/src/"
      ]
    },
    {
      "cell_type": "code",
      "execution_count": null,
      "metadata": {
        "id": "zs5z4HQOt9jl"
      },
      "outputs": [],
      "source": [
        "!ls"
      ]
    },
    {
      "cell_type": "code",
      "execution_count": null,
      "metadata": {
        "id": "cU49G-7g1wPN"
      },
      "outputs": [],
      "source": [
        "!python train.py -h"
      ]
    },
    {
      "cell_type": "code",
      "execution_count": null,
      "metadata": {
        "id": "eMt2qku07EYG"
      },
      "outputs": [],
      "source": [
        "# This script is not very usable. BERT_DATA_PATH  is supposed to be the dataset directory\n",
        "# but it must be in some Pytorch .pt binary format.\n",
        "#\n",
        "# -bert_data_path BERT_DATA_PATH\n",
        "#  -sep_optim true -use_interval true\n",
        "  #-test_from /content/berk266/wikihow_all/bert.pt_files_wikihow.train.90.bert.pt \\\n",
        "\n",
        "!python train.py -task ext -mode test \\\n",
        "  -test_from /content/berk266/model_step_50000.pt \\\n",
        "  -visible_gpus -1 -max_pos 512 -max_length 200 -alpha 0.95 -min_length 50 \\\n",
        "  -result_path ../results -report_rouge True\n",
        "\n"
      ]
    },
    {
      "cell_type": "markdown",
      "metadata": {
        "id": "z47v9VTJDIWT"
      },
      "source": [
        "Trying direct Pytorch logic based on https://github.com/alebryvas/berk266/blob/28c2015de7a42290b99aec0dab836472b352beb5/code/bertsumabs/src/train_extractive.py#L176\n",
        "\n",
        "\n",
        "Forwarding data through this model requires some special inputs like \"segs\", \"mask_src\", etc. It looks like these are produced by BertSumAbs' data preprocessor."
      ]
    },
    {
      "cell_type": "code",
      "execution_count": null,
      "metadata": {
        "id": "50zHs0Ji8TlS"
      },
      "outputs": [],
      "source": [
        "import torch\n",
        "\n"
      ]
    },
    {
      "cell_type": "code",
      "execution_count": null,
      "metadata": {
        "id": "t7oLPCV0DDSU"
      },
      "outputs": [],
      "source": [
        "\n",
        "#checkpoint = torch.load('/content/berk266/wikihow_all/bert.pt_files_wikihow.train.90.bert.pt')\n",
        "\n",
        "checkpoint = torch.load('/content/berk266/model_step_50000.pt', map_location=torch.device('cpu'))\n"
      ]
    },
    {
      "cell_type": "code",
      "execution_count": null,
      "metadata": {
        "id": "OvFA64dxKxiK"
      },
      "outputs": [],
      "source": [
        "type(checkpoint)"
      ]
    },
    {
      "cell_type": "code",
      "execution_count": null,
      "metadata": {
        "id": "6oI-KfTTK0_5"
      },
      "outputs": [],
      "source": [
        "checkpoint.keys()"
      ]
    },
    {
      "cell_type": "code",
      "execution_count": null,
      "metadata": {
        "id": "g2bdwrY3HbWA"
      },
      "outputs": [],
      "source": [
        "# Args expected by the ExtSummarizer code in https://github.com/alebryvas/berk266/blob/28c2015de7a42290b99aec0dab836472b352beb5/code/bertsumabs/src/models/model_builder.py#L135\n",
        "\n",
        "import argparse\n",
        "\n",
        "args = argparse.Namespace()\n",
        "\n",
        "args.large = False\n",
        "args.temp_dir = '../temp'\n",
        "args.encoder = 'bert'\n",
        "args.finetune_bert = True\n",
        "args.max_pos = 512\n",
        "args.ext_ff_size = 2048\n",
        "args.ext_heads = 8\n",
        "args.ext_dropout = 0.2\n",
        "args.ext_layers = 2\n"
      ]
    },
    {
      "cell_type": "code",
      "execution_count": null,
      "metadata": {
        "id": "SHU4l2vLFZ5q"
      },
      "outputs": [],
      "source": [
        "from models.model_builder import ExtSummarizer\n",
        "\n",
        "model = ExtSummarizer(args, 'cpu', checkpoint)"
      ]
    },
    {
      "cell_type": "code",
      "execution_count": null,
      "metadata": {
        "id": "3yO4s15NRE6c"
      },
      "outputs": [],
      "source": []
    },
    {
      "cell_type": "code",
      "execution_count": null,
      "metadata": {
        "id": "j6wmXINGtR7a"
      },
      "outputs": [],
      "source": [
        "%cd /content"
      ]
    },
    {
      "cell_type": "markdown",
      "metadata": {
        "id": "wswMoR2n5Gv7"
      },
      "source": [
        "## Metrics"
      ]
    },
    {
      "cell_type": "markdown",
      "metadata": {
        "id": "zvHFRLqm5M8U"
      },
      "source": [
        "&nbsp;\n",
        "&nbsp;\n",
        "&nbsp;\n",
        "&nbsp;\n",
        "&nbsp;\n",
        "# Use Case #3: Opinions / Reviews Summarization\n",
        "\n",
        "Reproduce Zero-Shot Opinion Summarization with GPT-3, Bhaskar et al., https://arxiv.org/pdf/2211.15914.pdf  but with GPT-4 in the mix."
      ]
    },
    {
      "cell_type": "markdown",
      "metadata": {
        "id": "3SqhaFhX-ntM"
      },
      "source": [
        "## Set up SPACE reviews dataset\n",
        "\n",
        "SPACE = Summaries of Popular and Aspect-specific Customer Experiences\n",
        "\n",
        "https://github.com/stangelid/qt/ => Its /data contains the gold reference summaries on different aspects.\n",
        "\n",
        "https://drive.google.com/u/0/uc?id=1C6SaRQkas2B-9MolbwZbl0fuLgqdSKDT&export=download => Raw review data\n",
        "\n",
        "&nbsp;\n",
        "\n",
        "space_summ.json => Contains the golden summaries for 50 hotels.\n",
        "+ It's a list of 50 dicts, one for each hotel. Each has 4 keys - 'entity_id', 'entity_name', 'reviews', 'summaries'.\n",
        "\n",
        "+ `reviews` : A list of 100 reviews for the hotel. Each review is a dict with a `review_id`, a `sentences` list, and a `rating` integer.\n",
        "\n",
        "+ `summaries` : A dict with the 7 aspects as keys and a list of golden summaries for each aspect. Each golden summary is a paragraph with one ore more sentences.\n",
        "\n"
      ]
    },
    {
      "cell_type": "code",
      "execution_count": null,
      "metadata": {
        "colab": {
          "base_uri": "https://localhost:8080/"
        },
        "id": "lTBevZH2_ops",
        "outputId": "bfe2deee-a7f4-460a-c60c-709472963c6b"
      },
      "outputs": [
        {
          "output_type": "stream",
          "name": "stdout",
          "text": [
            "/content\n"
          ]
        }
      ],
      "source": [
        "%cd /content"
      ]
    },
    {
      "cell_type": "code",
      "execution_count": null,
      "metadata": {
        "id": "MzVXu6Xu5ZqO"
      },
      "outputs": [],
      "source": [
        "!cp '/content/drive/MyDrive/Colab Notebooks/SPACE-hotel-reviews-dataset/space.tar.gz' ./"
      ]
    },
    {
      "cell_type": "code",
      "execution_count": null,
      "metadata": {
        "colab": {
          "base_uri": "https://localhost:8080/"
        },
        "id": "Xj6yZkXD_qfo",
        "outputId": "c17029c9-78cd-4cf0-9c7e-dd7a1b38fae4"
      },
      "outputs": [
        {
          "output_type": "stream",
          "name": "stdout",
          "text": [
            "space_train.json\n",
            "space_summ.json\n",
            "space_summ_splits.txt\n"
          ]
        }
      ],
      "source": [
        "!tar -xvf space.tar.gz"
      ]
    },
    {
      "cell_type": "code",
      "execution_count": null,
      "metadata": {
        "id": "FtBXD0zN_zEW",
        "colab": {
          "base_uri": "https://localhost:8080/"
        },
        "outputId": "a799e479-ec5d-49f8-e696-f71fabd970ea"
      },
      "outputs": [
        {
          "output_type": "stream",
          "name": "stdout",
          "text": [
            "-rw-r--r-- 1 1000 1000 5.1M Dec  9  2020 space_summ.json\n",
            "-rw-r--r-- 1 1000 1000  588 Dec  9  2020 space_summ_splits.txt\n",
            "-r-------- 1 root root 405M May 15 15:36 space.tar.gz\n",
            "-rw------- 1 1000 1000 1.2G Dec  9  2020 space_train.json\n"
          ]
        }
      ],
      "source": [
        "!ls -lah space*"
      ]
    },
    {
      "cell_type": "code",
      "execution_count": null,
      "metadata": {
        "id": "1O_qgHfO__-k"
      },
      "outputs": [],
      "source": [
        "!head -n512 space_summ.json"
      ]
    },
    {
      "cell_type": "code",
      "source": [
        "import json\n",
        "\n",
        "with open('space_summ.json', 'r') as f:\n",
        "  space = json.load(f)\n",
        "\n"
      ],
      "metadata": {
        "id": "JCwsOAMhc7ml"
      },
      "execution_count": null,
      "outputs": []
    },
    {
      "cell_type": "code",
      "source": [
        "type(space), type(space[0])"
      ],
      "metadata": {
        "id": "EUJSxa-WdFsq"
      },
      "execution_count": null,
      "outputs": []
    },
    {
      "cell_type": "code",
      "source": [
        "len(space)"
      ],
      "metadata": {
        "colab": {
          "base_uri": "https://localhost:8080/"
        },
        "id": "0G9qR1wzdJ0s",
        "outputId": "7c03024d-887a-41be-c640-385871fbb8bd"
      },
      "execution_count": null,
      "outputs": [
        {
          "output_type": "execute_result",
          "data": {
            "text/plain": [
              "50"
            ]
          },
          "metadata": {},
          "execution_count": 50
        }
      ]
    },
    {
      "cell_type": "code",
      "source": [
        "for hotel in space:\n",
        "  print(hotel['entity_id'])\n",
        "  print(hotel['entity_name'])\n",
        "  print(len(hotel['reviews']))\n",
        "  print()"
      ],
      "metadata": {
        "id": "3qEbKRXAF_jM"
      },
      "execution_count": null,
      "outputs": []
    },
    {
      "cell_type": "code",
      "source": [
        "# These are the selected hotel entity_ids in the paper's code.\n",
        "sel_hotels = ['100597', '112429', '120274', '121241', '182002',\n",
        "              '183092', '185804', '1029276', '1113787', '1176198']"
      ],
      "metadata": {
        "id": "udQ_YpUQJPlF"
      },
      "execution_count": null,
      "outputs": []
    },
    {
      "cell_type": "code",
      "source": [
        "space[0].keys()"
      ],
      "metadata": {
        "id": "gO646Ob_dT1Z"
      },
      "execution_count": null,
      "outputs": []
    },
    {
      "cell_type": "code",
      "source": [
        "space[0]['entity_id']"
      ],
      "metadata": {
        "id": "P2r_ZEZEdt7u",
        "colab": {
          "base_uri": "https://localhost:8080/",
          "height": 36
        },
        "outputId": "758ded77-2409-4e7e-9235-d6bba7c4349f"
      },
      "execution_count": null,
      "outputs": [
        {
          "output_type": "execute_result",
          "data": {
            "text/plain": [
              "'100597'"
            ],
            "application/vnd.google.colaboratory.intrinsic+json": {
              "type": "string"
            }
          },
          "metadata": {},
          "execution_count": 51
        }
      ]
    },
    {
      "cell_type": "code",
      "source": [
        "type(space[0]['reviews'])"
      ],
      "metadata": {
        "colab": {
          "base_uri": "https://localhost:8080/"
        },
        "id": "kvijQtcsfea8",
        "outputId": "bf4a6382-db9a-49e9-b77a-aa7110b1142f"
      },
      "execution_count": null,
      "outputs": [
        {
          "output_type": "execute_result",
          "data": {
            "text/plain": [
              "list"
            ]
          },
          "metadata": {},
          "execution_count": 26
        }
      ]
    },
    {
      "cell_type": "code",
      "source": [
        "space[0]['reviews'][0]"
      ],
      "metadata": {
        "colab": {
          "base_uri": "https://localhost:8080/"
        },
        "id": "3XWJ0XeofiAe",
        "outputId": "625e447b-907b-4d11-b6b9-e45af21a1fc9"
      },
      "execution_count": null,
      "outputs": [
        {
          "output_type": "execute_result",
          "data": {
            "text/plain": [
              "{'review_id': 'UR59977476',\n",
              " 'sentences': ['We stayed here on a lay over home from Cancun.',\n",
              "  'It was great to have a comfortable bed and room on our final night of holidays.',\n",
              "  'The kids loved the pool which was warmer than the ones at the resort in Cancun which we could not believe as we were in Seattle!',\n",
              "  'The staff was friendly and we appreciated the cookies after a long flight when we were waiting to check inn.',\n",
              "  'Just a nice touch!',\n",
              "  'Shuttle was convenient and would definitely stay here again.'],\n",
              " 'rating': 5}"
            ]
          },
          "metadata": {},
          "execution_count": 28
        }
      ]
    },
    {
      "cell_type": "code",
      "source": [
        "[ print(s) for s in space[0]['reviews'][0]['sentences'] ]"
      ],
      "metadata": {
        "colab": {
          "base_uri": "https://localhost:8080/"
        },
        "id": "SrO7ZG8bCD2g",
        "outputId": "b3d62ecf-44d3-4688-8702-03fe5de918a0"
      },
      "execution_count": null,
      "outputs": [
        {
          "output_type": "stream",
          "name": "stdout",
          "text": [
            "We stayed here on a lay over home from Cancun.\n",
            "It was great to have a comfortable bed and room on our final night of holidays.\n",
            "The kids loved the pool which was warmer than the ones at the resort in Cancun which we could not believe as we were in Seattle!\n",
            "The staff was friendly and we appreciated the cookies after a long flight when we were waiting to check inn.\n",
            "Just a nice touch!\n",
            "Shuttle was convenient and would definitely stay here again.\n"
          ]
        },
        {
          "output_type": "execute_result",
          "data": {
            "text/plain": [
              "[None, None, None, None, None, None]"
            ]
          },
          "metadata": {},
          "execution_count": 31
        }
      ]
    },
    {
      "cell_type": "code",
      "source": [
        "space[0]['summaries']['building'], len(space[0]['summaries']['building'])"
      ],
      "metadata": {
        "colab": {
          "base_uri": "https://localhost:8080/"
        },
        "id": "flJ-uJDGdX_2",
        "outputId": "5310326d-2b7c-46a2-9b92-a39ef1b4bd7b"
      },
      "execution_count": null,
      "outputs": [
        {
          "output_type": "execute_result",
          "data": {
            "text/plain": [
              "(['The historical hotel lobby were very attractive. The balcony had a great view of trees . The spa and heated pool is a kid-friendly area and also has wi-fi. There is even a laundry room available to the guests.',\n",
              "  'Hotel with very nice lobby and relaxing spa/pool area with lounge and free wifi. The pool is big and kid-friendly. There is also a beautiful view of the trees from the balcony.',\n",
              "  'Warm, beautiful, large pool for the family. Old fashioned interior but pleasant rooms, great balcony, and the view outside to the trees was relaxing.'],\n",
              " 3)"
            ]
          },
          "metadata": {},
          "execution_count": 25
        }
      ]
    },
    {
      "cell_type": "code",
      "execution_count": null,
      "metadata": {
        "id": "T79O5NGrAMbj"
      },
      "outputs": [],
      "source": [
        "!cat space_summ_splits.txt"
      ]
    },
    {
      "cell_type": "code",
      "execution_count": null,
      "metadata": {
        "id": "aP2h3d3zAk12"
      },
      "outputs": [],
      "source": [
        "!head -c 340960 space_train.json"
      ]
    },
    {
      "cell_type": "markdown",
      "source": [],
      "metadata": {
        "id": "LS54_EVRkrne"
      }
    },
    {
      "cell_type": "code",
      "execution_count": null,
      "metadata": {
        "id": "N3BzgahMAqqU"
      },
      "outputs": [],
      "source": [
        "%cd /content"
      ]
    },
    {
      "cell_type": "code",
      "execution_count": null,
      "metadata": {
        "id": "eFnf0NtoBgSP"
      },
      "outputs": [],
      "source": [
        "!git clone https://github.com/stangelid/qt/  space_gold"
      ]
    },
    {
      "cell_type": "code",
      "execution_count": null,
      "metadata": {
        "id": "hoePq2jBBlB9",
        "colab": {
          "base_uri": "https://localhost:8080/"
        },
        "outputId": "7dfb4dce-4179-4cdb-aa7f-76974414df88"
      },
      "outputs": [
        {
          "output_type": "stream",
          "name": "stdout",
          "text": [
            "total 20K\n",
            "drwxr-xr-x 1 root root 4.0K May 11 16:33 .\n",
            "drwxr-xr-x 1 root root 4.0K May 11 16:14 ..\n",
            "drwxr-xr-x 4 root root 4.0K May  9 13:34 .config\n",
            "drwx------ 5 root root 4.0K May 11 16:15 drive\n",
            "lrwxrwxrwx 1 root root   51 May 11 16:33 opinion-summ -> '/content/drive/MyDrive/Colab Notebooks/opinion-summ'\n",
            "drwxr-xr-x 1 root root 4.0K May  9 13:35 sample_data\n"
          ]
        }
      ],
      "source": [
        "!ls -lah"
      ]
    },
    {
      "cell_type": "code",
      "source": [
        "!ln -s '/content/drive/MyDrive/Colab Notebooks/opinion-summ' opinion-summ"
      ],
      "metadata": {
        "id": "DMwHMxF4qCBV"
      },
      "execution_count": null,
      "outputs": []
    },
    {
      "cell_type": "code",
      "source": [
        "!ls opinion-summ/space"
      ],
      "metadata": {
        "colab": {
          "base_uri": "https://localhost:8080/"
        },
        "id": "Y0_DV7lA3VPd",
        "outputId": "0b031990-ce63-430b-833d-0d3e5b8241e2"
      },
      "execution_count": null,
      "outputs": [
        {
          "output_type": "stream",
          "name": "stdout",
          "text": [
            "reviews  sentaspects\n"
          ]
        }
      ]
    },
    {
      "cell_type": "code",
      "source": [
        "!rm -rf opinion-summ/space/sentaspects/*"
      ],
      "metadata": {
        "id": "PWcLHtRzE_5X"
      },
      "execution_count": null,
      "outputs": []
    },
    {
      "cell_type": "code",
      "source": [
        "OUTPUT_DIR = '/content/opinion-summ'\n",
        "\n",
        "SPACE_OUTPUT_DIR = '/content/opinion-summ/space'\n",
        "\n",
        "FEWSUM_OUTPUT_DIR = '/content/opinion-summ/fewsum'\n",
        "\n",
        "import os\n",
        "\n",
        "os.makedirs(SPACE_OUTPUT_DIR, exist_ok=True)\n",
        "os.makedirs(FEWSUM_OUTPUT_DIR, exist_ok=True)"
      ],
      "metadata": {
        "id": "Y7kMOCB81OlF"
      },
      "execution_count": null,
      "outputs": []
    },
    {
      "cell_type": "markdown",
      "source": [
        "## Topic-wise Clustering for Hotel reviews\n",
        "\n",
        "1. Collect all review sentences for the hotel.\n",
        "\n",
        "2. Keeping under the token limit, send batches of review sentences to GPT and ask it to generate aspect labels for each sentence.\n",
        "\n",
        "3. Verify that the number of label rows match the number of sentences passed in.\n",
        "\n",
        "4. Cache all the aspect labels.\n",
        "\n",
        "5. Group review sentences by aspects. Save them to different files.\n",
        "\n",
        "6. Summarize each aspect review group."
      ],
      "metadata": {
        "id": "Do18-U7-t3LM"
      }
    },
    {
      "cell_type": "code",
      "source": [
        "import pickle\n",
        "\n",
        "def savedata(filepath, obj):\n",
        "  with open(filepath, 'wb') as f:\n",
        "    pickle.dump(obj, f)\n",
        "\n",
        "def loaddata(filepath):\n",
        "  with open(filepath, 'rb') as f:\n",
        "    ret = pickle.load(f)\n",
        "  return ret"
      ],
      "metadata": {
        "id": "jm3LlnaA4_L7"
      },
      "execution_count": null,
      "outputs": []
    },
    {
      "cell_type": "code",
      "execution_count": null,
      "metadata": {
        "id": "1Umgn7J4Bxaq"
      },
      "outputs": [],
      "source": [
        "def get_all_review_sentences_for_hotel(eid):\n",
        "  hotel = get_hotel(eid)\n",
        "  hotel_reviews = hotel['reviews']\n",
        "  all_review_sents = []\n",
        "  for r in hotel_reviews:\n",
        "    all_review_sents.extend(r['sentences'])\n",
        "\n",
        "  return all_review_sents\n",
        "\n",
        "\n",
        "def get_hotel(entity_id):\n",
        "  for h in space:\n",
        "    if h['entity_id'] == entity_id:\n",
        "      return h\n",
        "\n",
        "  raise ValueError(f'Hotel {entity_id} does not exist')"
      ]
    },
    {
      "cell_type": "code",
      "source": [
        "import os\n",
        "\n",
        "SPACE_REVIEWS_DIR = f'{SPACE_OUTPUT_DIR}/reviews/'\n",
        "os.makedirs(SPACE_REVIEWS_DIR, exist_ok=True)"
      ],
      "metadata": {
        "id": "Ea4_AuZ84hQ-"
      },
      "execution_count": null,
      "outputs": []
    },
    {
      "cell_type": "code",
      "source": [
        "# Cache all review sentences as List objects.\n",
        "import pickle\n",
        "\n",
        "for eid in sel_hotels:\n",
        "  all_sents = get_all_review_sentences_for_hotel(eid)\n",
        "  savedata(f'{SPACE_REVIEWS_DIR}/{eid}_allsents.pkl', all_sents)\n"
      ],
      "metadata": {
        "id": "OBtYXzSMyfB1"
      },
      "execution_count": null,
      "outputs": []
    },
    {
      "cell_type": "code",
      "source": [
        "!pip install tiktoken"
      ],
      "metadata": {
        "colab": {
          "base_uri": "https://localhost:8080/"
        },
        "id": "RZorREGA7ott",
        "outputId": "b64516dd-d0b4-4254-b795-81528ae175fe"
      },
      "execution_count": null,
      "outputs": [
        {
          "output_type": "stream",
          "name": "stdout",
          "text": [
            "Looking in indexes: https://pypi.org/simple, https://us-python.pkg.dev/colab-wheels/public/simple/\n",
            "Requirement already satisfied: tiktoken in /usr/local/lib/python3.10/dist-packages (0.4.0)\n",
            "Requirement already satisfied: regex>=2022.1.18 in /usr/local/lib/python3.10/dist-packages (from tiktoken) (2022.10.31)\n",
            "Requirement already satisfied: requests>=2.26.0 in /usr/local/lib/python3.10/dist-packages (from tiktoken) (2.27.1)\n",
            "Requirement already satisfied: urllib3<1.27,>=1.21.1 in /usr/local/lib/python3.10/dist-packages (from requests>=2.26.0->tiktoken) (1.26.15)\n",
            "Requirement already satisfied: certifi>=2017.4.17 in /usr/local/lib/python3.10/dist-packages (from requests>=2.26.0->tiktoken) (2022.12.7)\n",
            "Requirement already satisfied: charset-normalizer~=2.0.0 in /usr/local/lib/python3.10/dist-packages (from requests>=2.26.0->tiktoken) (2.0.12)\n",
            "Requirement already satisfied: idna<4,>=2.5 in /usr/local/lib/python3.10/dist-packages (from requests>=2.26.0->tiktoken) (3.4)\n"
          ]
        }
      ]
    },
    {
      "cell_type": "code",
      "source": [
        "import os\n",
        "\n",
        "SPACE_SENTASPECTS_DIR = f'{SPACE_OUTPUT_DIR}/sentaspects/'\n",
        "os.makedirs(SPACE_SENTASPECTS_DIR, exist_ok=True)"
      ],
      "metadata": {
        "id": "my_NnPVck65n"
      },
      "execution_count": null,
      "outputs": []
    },
    {
      "cell_type": "code",
      "source": [
        "!ls $SPACE_SENTASPECTS_DIR"
      ],
      "metadata": {
        "id": "_s4wV9MilIyH",
        "colab": {
          "base_uri": "https://localhost:8080/"
        },
        "outputId": "50fa3421-872e-4e3a-dd26-66c2ed1bd64c"
      },
      "execution_count": null,
      "outputs": [
        {
          "output_type": "stream",
          "name": "stdout",
          "text": [
            "100597-aspect-sent-map.pkl   120274-aspect-sent-map.pkl\n",
            "100597.pkl\t\t     120274.pkl\n",
            "1029276-aspect-sent-map.pkl  121241-aspect-sent-map.pkl\n",
            "1029276.pkl\t\t     121241.pkl\n",
            "1113787-aspect-sent-map.pkl  182002-aspect-sent-map.pkl\n",
            "1113787.pkl\t\t     182002.pkl\n",
            "112429-aspect-sent-map.pkl   183092-aspect-sent-map.pkl\n",
            "112429.pkl\t\t     183092.pkl\n",
            "1176198-aspect-sent-map.pkl  185804-aspect-sent-map.pkl\n",
            "1176198.pkl\t\t     185804.pkl\n"
          ]
        }
      ]
    },
    {
      "cell_type": "markdown",
      "source": [
        "### Classify sentences using GPT-4\n",
        "\n",
        "Turns out to be extremely slow"
      ],
      "metadata": {
        "id": "X8HU3Beml7jj"
      }
    },
    {
      "cell_type": "code",
      "source": [
        "import openai\n",
        "import tiktoken\n",
        "import pickle\n",
        "import json\n",
        "\n",
        "def gpt4_label_sentence_aspects(eid):\n",
        "  # Get all sentences\n",
        "  all_sents = loaddata(f'{SPACE_REVIEWS_DIR}/{eid}_allsents.pkl')\n",
        "  print('Total sentences:', len(all_sents))\n",
        "\n",
        "  # Batching optimally based on token limit didn't work out well.\n",
        "  # When things are too close to the limit and there are too many sentences,\n",
        "  # it appears that GPT simply gives up and sends partial results back.\n",
        "  # A request for labeling around 200+ sentences resulted in just 11 being labeled.\n",
        "  # When the input was cut by half, it sent back around 1000+ results but still\n",
        "  # failed at the end.\n",
        "  # So, just send a small fixed count of sentences instead of trying to optimize.\n",
        "\n",
        "  all_labels = []\n",
        "\n",
        "  batch_count = 25\n",
        "  for startidx in range(0, len(all_sents), batch_count):\n",
        "    batch_sents = all_sents[startidx:startidx+batch_count]\n",
        "    num_sents_in_batch = len(batch_sents)\n",
        "\n",
        "    print(f'\\nNum sents={num_sents_in_batch}')\n",
        "\n",
        "    sents_labels = _gpt_label_instruction(batch_sents)\n",
        "\n",
        "    print('Num labels:', len(sents_labels))\n",
        "    #print(sents_labels)\n",
        "\n",
        "    if len(sents_labels) != num_sents_in_batch:\n",
        "      raise RuntimeError(\"Num labels doesn't match num sentences\")\n",
        "\n",
        "    all_labels.extend(sents_labels)\n",
        "    savedata(f'{SPACE_SENTASPECTS_DIR}/{eid}.pkl', all_labels)\n",
        "\n",
        "  print('Total labels:', len(all_labels))\n",
        "  return all_labels\n",
        "\n",
        "\n",
        "def _gpt_label_instruction(sents_batch):\n",
        "\n",
        "  '''\n",
        "  num_sents = len(sents_batch)\n",
        "  batch = '\\n'.join(sents_batch)\n",
        "  #print(batch)\n",
        "\n",
        "  prompt = f\"\"\"\n",
        "  The text below in backticks contains exactly {num_sents} sentences from reviews about a hotel.\n",
        "  Don't ignore any sentence even if it's an incomplete sentence. Don't combine any lines or sentences.\n",
        "  Classify each sentence as one of these 6 aspect labels - rooms, building, cleanliness, location, service, food.\n",
        "  If none of these labels is suitable, label it as 'general'. Don't generate more than one label for a line.\n",
        "  Output the label for each sentence in a separate line. Ensure exactly {num_sents} labels are produced.\n",
        "\n",
        "  ```\n",
        "  {batch}\n",
        "  ```\n",
        "  \"\"\"\n",
        "  '''\n",
        "\n",
        "\n",
        "  num_sents = len(sents_batch)\n",
        "  batch = [ {\"s\":s, \"aspect\":\"\"} for s in sents_batch ]\n",
        "  batch = json.dumps(batch) #, indent=1)\n",
        "\n",
        "  prompt = f\"\"\"\n",
        "  Your task is to classify the sentences in the backticks below. Classify each\n",
        "  \"sentence\" value as one of these 6 \"aspect\" labels - rooms, building, cleanliness, location, service, food.\n",
        "  If none of these labels is suitable, label it as 'general'.\n",
        "  Don't include backticks in your output.\n",
        "\n",
        "  ```\n",
        "  [\n",
        "    {\"sentence\": \"We landed in Cancun.\", \"aspect\":\"\"},\n",
        "    {\"sentence\": \"The rooms were exquisite.\", \"aspect\":\"\"},\n",
        "    ...\n",
        "  ]\n",
        "  ```\n",
        "  \"\"\"\n",
        "\n",
        "  print('Prompt length:', len(tiktoken.encoding_for_model('gpt-4').encode(prompt)))\n",
        "\n",
        "  msgs = [{'role':'user', 'content':prompt}]\n",
        "\n",
        "  resp = openai.ChatCompletion.create(\n",
        "      model='gpt-4',\n",
        "      messages=msgs,\n",
        "      temperature=0.0 # No need of randomness; we need very specific labels.\n",
        "  )\n",
        "\n",
        "  sent_labels_str = resp['choices'][0]['message']['content']\n",
        "  print(sent_labels_str)\n",
        "  #sent_labels = sent_labels_str.splitlines()\n",
        "  sent_labels = json.loads(sent_labels_str)\n",
        "\n",
        "\n",
        "  return sent_labels\n"
      ],
      "metadata": {
        "id": "LiiAE0zV4LVF"
      },
      "execution_count": null,
      "outputs": []
    },
    {
      "cell_type": "markdown",
      "source": [
        "### Classify sentences on aspects using OpenAI Embeddings\n",
        "\n",
        "Extremely fast. Quite accurate, especially if top 2 labels are used instead of just the top-most."
      ],
      "metadata": {
        "id": "a95NeROZmBkl"
      }
    },
    {
      "cell_type": "code",
      "source": [
        "# Sentence classification implementation using OpenAI Embeddings API instead of GPT-4 classification\n",
        "# because the latter is extremely slow while the former is far faster and cheaper.\n",
        "#\n",
        "# Another observation: OpenAI's embeddings are unit normalized. So np.dot\n",
        "# is far faster than using openai.embeddings_utils.\n",
        "# Also the similarities returned by np.dot seem better than that returned by\n",
        "# openai.embeddings_utils.distances_from_embeddings() which uses cosine similarity.\n",
        "\n",
        "from openai import embeddings_utils\n",
        "import numpy as np\n",
        "\n",
        "def _get_embeddings(text_list):\n",
        "  embeddings = openai.embeddings_utils.get_embeddings(text_list,\n",
        "                                                      engine='text-embedding-ada-002')\n",
        "  return embeddings\n",
        "\n",
        "aspect_labels = [\"rooms\", \"building\", \"cleanliness\", \"location\", \"service\",\n",
        "                 \"food\", \"general\"]\n",
        "\n",
        "# Use slightly descriptive aspect label phrases for better embeddings.\n",
        "aspect_label_desc = [\"hotel rooms\", \"hotel building\", \"hotel cleanliness\",\n",
        "                 \"hotel location\", \"hotel service\", \"hotel food\",\n",
        "                 \"information\"]\n",
        "\n",
        "aspect_label_embeddings = _get_embeddings(aspect_label_desc)"
      ],
      "metadata": {
        "id": "CB1HFIFZniFP"
      },
      "execution_count": null,
      "outputs": []
    },
    {
      "cell_type": "code",
      "source": [
        "\n",
        "def openai_embeddings_label_sentence_aspects(eid):\n",
        "  all_sents = loaddata(f'{SPACE_REVIEWS_DIR}/{eid}_allsents.pkl')\n",
        "  print('Total sentences:', len(all_sents))\n",
        "\n",
        "  all_labels = []\n",
        "\n",
        "  batch_count = 100\n",
        "  for startidx in range(0, len(all_sents), batch_count):\n",
        "    batch_sents = all_sents[startidx:startidx+batch_count]\n",
        "    num_sents_in_batch = len(batch_sents)\n",
        "\n",
        "    print(f'\\nNum sents={num_sents_in_batch}')\n",
        "\n",
        "    sent_batch_embeddings = _get_embeddings(batch_sents)\n",
        "\n",
        "    # Calculate cosine similarity between sentences and aspects labels,\n",
        "    # using dot product of [BATCHxD] . [Dx7] where D -> embedding dimension.\n",
        "    dists = np.dot(np.array(sent_batch_embeddings), np.array(aspect_label_embeddings).T)\n",
        "\n",
        "    # Every row in dists corresponds to one sentence and gives that sentence's\n",
        "    # cosine similarity with each aspect label.\n",
        "    # np.argsort -> Sorts every sentence row by ascending order of cosine similarity.\n",
        "    #         Higher the value, more similar it is.\n",
        "    sorted_idxes = np.argsort(dists)\n",
        "    best_label_idxes = sorted_idxes[:,-1]\n",
        "    next_best_label_idxes = sorted_idxes[:,-2]\n",
        "\n",
        "    for sent,idx1,idx2 in zip(batch_sents, best_label_idxes, next_best_label_idxes):\n",
        "\n",
        "      best_label, next_best_label = aspect_labels[idx1], aspect_labels[idx2]\n",
        "      #print(f'{sent}\\n{best_label}, {next_best_label}\\n\\n')\n",
        "      all_labels.append( (sent, best_label, next_best_label) )\n",
        "\n",
        "    savedata(f'{SPACE_SENTASPECTS_DIR}/{eid}.pkl', all_labels)\n",
        "\n",
        "    # Older implementation using openai.embeddings_utils. It's very inefficient\n",
        "    # compared to direct numpy routines.\n",
        "    '''\n",
        "    for sent, sent_emb in zip(batch_sents, sent_batch_embeddings):\n",
        "      print(sent)\n",
        "      dists = openai.embeddings_utils.distances_from_embeddings(sent_emb, aspect_label_embeddings)\n",
        "      print(dists)\n",
        "      dist_idx = np.argsort(dists)\n",
        "      label1, label2 = dist_idx[0], dist_idx[1]\n",
        "      print(aspect_labels[label1], aspect_labels[label2])\n",
        "      break\n",
        "      label_distances = openai.embeddings_utils.indices_of_nearest_neighbors_from_distances(dists)\n",
        "      top_label_idx, next_label_idx = label_distances[0], label_distances[1]\n",
        "      print(sent)\n",
        "      print(aspect_labels[top_label_idx], aspect_labels[next_label_idx])\n",
        "      print()\n",
        "    '''\n",
        "\n",
        "\n"
      ],
      "metadata": {
        "id": "PvRRVgFxggET"
      },
      "execution_count": null,
      "outputs": []
    },
    {
      "cell_type": "code",
      "source": [
        "for eid in sel_hotels:\n",
        "  #all_labels = gpt4_label_sentence_aspects(eid)\n",
        "  all_labels = openai_embeddings_label_sentence_aspects(eid)\n"
      ],
      "metadata": {
        "colab": {
          "base_uri": "https://localhost:8080/"
        },
        "id": "cThADTH49sLV",
        "outputId": "d7fb4a71-4d76-4337-fb41-061dd88a4afe"
      },
      "execution_count": null,
      "outputs": [
        {
          "output_type": "stream",
          "name": "stdout",
          "text": [
            "Total sentences: 893\n",
            "\n",
            "Num sents=100\n",
            "\n",
            "Num sents=100\n",
            "\n",
            "Num sents=100\n",
            "\n",
            "Num sents=100\n",
            "\n",
            "Num sents=100\n",
            "\n",
            "Num sents=100\n",
            "\n",
            "Num sents=100\n",
            "\n",
            "Num sents=100\n",
            "\n",
            "Num sents=93\n",
            "Total sentences: 881\n",
            "\n",
            "Num sents=100\n",
            "\n",
            "Num sents=100\n",
            "\n",
            "Num sents=100\n",
            "\n",
            "Num sents=100\n",
            "\n",
            "Num sents=100\n",
            "\n",
            "Num sents=100\n",
            "\n",
            "Num sents=100\n",
            "\n",
            "Num sents=100\n",
            "\n",
            "Num sents=81\n",
            "Total sentences: 1003\n",
            "\n",
            "Num sents=100\n",
            "\n",
            "Num sents=100\n",
            "\n",
            "Num sents=100\n",
            "\n",
            "Num sents=100\n",
            "\n",
            "Num sents=100\n",
            "\n",
            "Num sents=100\n",
            "\n",
            "Num sents=100\n",
            "\n",
            "Num sents=100\n",
            "\n",
            "Num sents=100\n",
            "\n",
            "Num sents=100\n",
            "\n",
            "Num sents=3\n",
            "Total sentences: 948\n",
            "\n",
            "Num sents=100\n",
            "\n",
            "Num sents=100\n",
            "\n",
            "Num sents=100\n",
            "\n",
            "Num sents=100\n",
            "\n",
            "Num sents=100\n",
            "\n",
            "Num sents=100\n",
            "\n",
            "Num sents=100\n",
            "\n",
            "Num sents=100\n",
            "\n",
            "Num sents=100\n",
            "\n",
            "Num sents=48\n",
            "Total sentences: 958\n",
            "\n",
            "Num sents=100\n",
            "\n",
            "Num sents=100\n",
            "\n",
            "Num sents=100\n",
            "\n",
            "Num sents=100\n",
            "\n",
            "Num sents=100\n",
            "\n",
            "Num sents=100\n",
            "\n",
            "Num sents=100\n",
            "\n",
            "Num sents=100\n",
            "\n",
            "Num sents=100\n",
            "\n",
            "Num sents=58\n",
            "Total sentences: 843\n",
            "\n",
            "Num sents=100\n",
            "\n",
            "Num sents=100\n",
            "\n",
            "Num sents=100\n",
            "\n",
            "Num sents=100\n",
            "\n",
            "Num sents=100\n",
            "\n",
            "Num sents=100\n",
            "\n",
            "Num sents=100\n",
            "\n",
            "Num sents=100\n",
            "\n",
            "Num sents=43\n",
            "Total sentences: 903\n",
            "\n",
            "Num sents=100\n",
            "\n",
            "Num sents=100\n",
            "\n",
            "Num sents=100\n",
            "\n",
            "Num sents=100\n",
            "\n",
            "Num sents=100\n",
            "\n",
            "Num sents=100\n",
            "\n",
            "Num sents=100\n",
            "\n",
            "Num sents=100\n",
            "\n",
            "Num sents=100\n",
            "\n",
            "Num sents=3\n",
            "Total sentences: 939\n",
            "\n",
            "Num sents=100\n",
            "\n",
            "Num sents=100\n",
            "\n",
            "Num sents=100\n",
            "\n",
            "Num sents=100\n",
            "\n",
            "Num sents=100\n",
            "\n",
            "Num sents=100\n",
            "\n",
            "Num sents=100\n",
            "\n",
            "Num sents=100\n",
            "\n",
            "Num sents=100\n",
            "\n",
            "Num sents=39\n",
            "Total sentences: 874\n",
            "\n",
            "Num sents=100\n",
            "\n",
            "Num sents=100\n",
            "\n",
            "Num sents=100\n",
            "\n",
            "Num sents=100\n",
            "\n",
            "Num sents=100\n",
            "\n",
            "Num sents=100\n",
            "\n",
            "Num sents=100\n",
            "\n",
            "Num sents=100\n",
            "\n",
            "Num sents=74\n",
            "Total sentences: 918\n",
            "\n",
            "Num sents=100\n",
            "\n",
            "Num sents=100\n",
            "\n",
            "Num sents=100\n",
            "\n",
            "Num sents=100\n",
            "\n",
            "Num sents=100\n",
            "\n",
            "Num sents=100\n",
            "\n",
            "Num sents=100\n",
            "\n",
            "Num sents=100\n",
            "\n",
            "Num sents=100\n",
            "\n",
            "Num sents=18\n"
          ]
        }
      ]
    },
    {
      "cell_type": "code",
      "source": [
        "!ls -lah {SPACE_SENTASPECTS_DIR}"
      ],
      "metadata": {
        "colab": {
          "base_uri": "https://localhost:8080/"
        },
        "id": "jH0a2fV0n38T",
        "outputId": "2b9ecdf2-3f4d-4ec8-afde-9bbf874fe7ce"
      },
      "execution_count": null,
      "outputs": [
        {
          "output_type": "stream",
          "name": "stdout",
          "text": [
            "total 829K\n",
            "-rw------- 1 root root 79K May 16 08:13 100597.pkl\n",
            "-rw------- 1 root root 85K May 16 08:13 1029276.pkl\n",
            "-rw------- 1 root root 78K May 16 08:13 1113787.pkl\n",
            "-rw------- 1 root root 78K May 16 08:13 112429.pkl\n",
            "-rw------- 1 root root 84K May 16 08:14 1176198.pkl\n",
            "-rw------- 1 root root 98K May 16 08:13 120274.pkl\n",
            "-rw------- 1 root root 75K May 16 08:13 121241.pkl\n",
            "-rw------- 1 root root 91K May 16 08:13 182002.pkl\n",
            "-rw------- 1 root root 79K May 16 08:13 183092.pkl\n",
            "-rw------- 1 root root 85K May 16 08:13 185804.pkl\n"
          ]
        }
      ]
    },
    {
      "cell_type": "markdown",
      "source": [
        "### Group sentences by aspects"
      ],
      "metadata": {
        "id": "XDcdv3P3mRDl"
      }
    },
    {
      "cell_type": "code",
      "source": [
        "for eid in sel_hotels:\n",
        "\n",
        "  # keys are aspects; values are lists of sentences with that aspect label.\n",
        "  sentences_by_aspect = {aspect:[] for aspect in aspect_labels}\n",
        "\n",
        "  all_labels = loaddata(f'{SPACE_SENTASPECTS_DIR}/{eid}.pkl')\n",
        "\n",
        "  for sent, best_label, next_best_label in all_labels:\n",
        "    sentences_by_aspect[best_label].append(sent)\n",
        "    sentences_by_aspect[next_best_label].append(sent)\n",
        "\n",
        "  print(f'{eid}')\n",
        "  for aspect, sents in sentences_by_aspect.items():\n",
        "    print(aspect, len(sents))\n",
        "\n",
        "  savedata(f'{SPACE_SENTASPECTS_DIR}/{eid}-aspect-sent-map.pkl', sentences_by_aspect)\n",
        "\n",
        "\n"
      ],
      "metadata": {
        "id": "sYmYmV8I-qu8",
        "colab": {
          "base_uri": "https://localhost:8080/"
        },
        "outputId": "81b53917-6d69-49ad-9a2a-a1227379fef0"
      },
      "execution_count": null,
      "outputs": [
        {
          "output_type": "stream",
          "name": "stdout",
          "text": [
            "100597\n",
            "rooms 584\n",
            "building 115\n",
            "cleanliness 664\n",
            "location 36\n",
            "service 262\n",
            "food 93\n",
            "general 32\n",
            "112429\n",
            "rooms 494\n",
            "building 159\n",
            "cleanliness 639\n",
            "location 108\n",
            "service 233\n",
            "food 91\n",
            "general 38\n",
            "120274\n",
            "rooms 565\n",
            "building 41\n",
            "cleanliness 811\n",
            "location 64\n",
            "service 290\n",
            "food 159\n",
            "general 76\n",
            "121241\n",
            "rooms 569\n",
            "building 100\n",
            "cleanliness 786\n",
            "location 56\n",
            "service 212\n",
            "food 101\n",
            "general 72\n",
            "182002\n",
            "rooms 554\n",
            "building 162\n",
            "cleanliness 747\n",
            "location 82\n",
            "service 249\n",
            "food 80\n",
            "general 42\n",
            "183092\n",
            "rooms 448\n",
            "building 166\n",
            "cleanliness 593\n",
            "location 104\n",
            "service 244\n",
            "food 98\n",
            "general 33\n",
            "185804\n",
            "rooms 432\n",
            "building 136\n",
            "cleanliness 594\n",
            "location 140\n",
            "service 302\n",
            "food 159\n",
            "general 43\n",
            "1029276\n",
            "rooms 486\n",
            "building 162\n",
            "cleanliness 716\n",
            "location 58\n",
            "service 294\n",
            "food 101\n",
            "general 61\n",
            "1113787\n",
            "rooms 363\n",
            "building 142\n",
            "cleanliness 660\n",
            "location 67\n",
            "service 343\n",
            "food 105\n",
            "general 68\n",
            "1176198\n",
            "rooms 504\n",
            "building 139\n",
            "cleanliness 708\n",
            "location 90\n",
            "service 251\n",
            "food 100\n",
            "general 44\n"
          ]
        }
      ]
    },
    {
      "cell_type": "markdown",
      "source": [
        "### Chunking summarization by aspect"
      ],
      "metadata": {
        "id": "HI-uMrEFg2xa"
      }
    },
    {
      "cell_type": "code",
      "source": [
        "import nltk\n",
        "\n",
        "nltk.download('punkt')\n",
        ""
      ],
      "metadata": {
        "colab": {
          "base_uri": "https://localhost:8080/"
        },
        "id": "PmNfDkA1iQrA",
        "outputId": "be4e506a-d9ba-4f1e-8fda-ff51c409ce64"
      },
      "execution_count": null,
      "outputs": [
        {
          "output_type": "stream",
          "name": "stderr",
          "text": [
            "[nltk_data] Downloading package punkt to /root/nltk_data...\n",
            "[nltk_data]   Unzipping tokenizers/punkt.zip.\n"
          ]
        },
        {
          "output_type": "execute_result",
          "data": {
            "text/plain": [
              "True"
            ]
          },
          "metadata": {},
          "execution_count": 21
        }
      ]
    },
    {
      "cell_type": "code",
      "source": [
        "import nltk.tokenize\n",
        "\n",
        "nltk.tokenize.sent_tokenize(\"This is a summary. This is generated by GPT-4.\")"
      ],
      "metadata": {
        "colab": {
          "base_uri": "https://localhost:8080/"
        },
        "id": "VcSugYduiJ9d",
        "outputId": "f92c2d6c-547c-4c84-af63-a70c9e65107a"
      },
      "execution_count": null,
      "outputs": [
        {
          "output_type": "execute_result",
          "data": {
            "text/plain": [
              "['This is a summary.', 'This is generated by GPT-4.']"
            ]
          },
          "metadata": {},
          "execution_count": 22
        }
      ]
    },
    {
      "cell_type": "code",
      "source": [
        "import nltk.tokenize\n",
        "import time\n",
        "import tiktoken\n",
        "\n",
        "token_counters = {\n",
        "    'gpt-4': tiktoken.encoding_for_model('gpt-4'),\n",
        "    'gpt-3.5-turbo': tiktoken.encoding_for_model('gpt-3.5-turbo')\n",
        "}\n",
        "\n",
        "def get_gpt_aspect_summary(model, aspect, sentences, group_size=30, is_summarized=False, \\\n",
        "    return_all_levels=False):\n",
        "\n",
        "    if len(sentences) > group_size:\n",
        "\n",
        "        n_groups = (len(sentences)+group_size-1) // group_size\n",
        "        group_size = len(sentences) // n_groups\n",
        "        summaries = []\n",
        "        ss = []\n",
        "        cur = 0\n",
        "\n",
        "        while cur < len(sentences):\n",
        "            if cur + group_size >= len(sentences):\n",
        "                summary = get_gpt_aspect_summary(model, aspect, \\\n",
        "                    sentences[cur:], group_size, is_summarized)\n",
        "            else:\n",
        "                summary = get_gpt_aspect_summary(model, aspect, \\\n",
        "                    sentences[cur:cur+group_size], group_size, is_summarized)\n",
        "            summaries.append(summary)\n",
        "            ss += nltk.tokenize.sent_tokenize(summary)\n",
        "            cur += group_size\n",
        "\n",
        "        if return_all_levels:\n",
        "            return [summaries] + get_gpt_aspect_summary(model, aspect, ss, \\\n",
        "                group_size, is_summarized=True, return_all_levels=True)\n",
        "        else:\n",
        "            return get_gpt_aspect_summary(model, aspect, ss, group_size, is_summarized=True)\n",
        "\n",
        "    if is_summarized:\n",
        "        prompt = \"Here are some accounts of the reviews of a hotel:\\n\\n\"\n",
        "    else:\n",
        "        prompt = \"Here are some reviews of a hotel:\\n\\n\"\n",
        "\n",
        "    joined = \"\\n\".join(sentences)\n",
        "    if len(joined) > 3400:\n",
        "        # Truncate if the length is too much\n",
        "        joined = joined[:3400]\n",
        "        joined = joined[:joined.rfind('\\n')]\n",
        "    prompt += joined+\"\\n\\n\"\n",
        "\n",
        "    if is_summarized:\n",
        "        prompt += \"Summarize what the accounts said of the {}:\".format(aspect)\n",
        "    else:\n",
        "        prompt += \"Summarize what the reviews said of the {}:\".format(aspect)\n",
        "\n",
        "    if return_all_levels:\n",
        "        return [[get_gpt_response(model, prompt)]]\n",
        "    else:\n",
        "        return get_gpt_response(model, prompt)\n",
        "\n",
        "\n",
        "def get_gpt_response(model, prompt, tokenize=False):\n",
        "  print('Tokens:', len(token_counters[model].encode(prompt)))\n",
        "\n",
        "  msgs = []\n",
        "  msgs.append({'role':'user', 'content':prompt})\n",
        "\n",
        "  response = None\n",
        "\n",
        "  for attempt in range(1,4):\n",
        "    print(f'Attempt#:{attempt}')\n",
        "\n",
        "    try:\n",
        "      response = openai.ChatCompletion.create(\n",
        "          model=model,\n",
        "          messages=msgs,\n",
        "          temperature=0.7,\n",
        "          max_tokens=256\n",
        "      )\n",
        "\n",
        "      response = response['choices'][0]['message']['content'].strip()\n",
        "\n",
        "      if tokenize:\n",
        "        response = nltk.tokenize.sent_tokenize(response)\n",
        "\n",
        "      print(response)\n",
        "\n",
        "      time.sleep(10) # To avoid overloading the API\n",
        "\n",
        "      break\n",
        "\n",
        "    except openai.error.APIError as e:\n",
        "      print(f\"OpenAI API returned an API Error: {e}\")\n",
        "      time.sleep(10) # To avoid overloading the API\n",
        "\n",
        "    except openai.error.RateLimitError as e:\n",
        "      print(f\"OpenAI API returned a rate limit Error: {e}\")\n",
        "      time.sleep(15) # To avoid overloading the API\n",
        "\n",
        "\n",
        "    except openai.error.Timeout as e:\n",
        "      print(f\"OpenAI API returned a timeout Error: {e}\")\n",
        "      time.sleep(10) # Wait before retrying\n",
        "\n",
        "    except openai.error.ServiceUnavailableError as e:\n",
        "      print(f\"OpenAI API returned a service unavailable Error: {e}\")\n",
        "      time.sleep(10) # Wait before retrying\n",
        "\n",
        "  return response"
      ],
      "metadata": {
        "id": "skQuHIhhhxz9"
      },
      "execution_count": null,
      "outputs": []
    },
    {
      "cell_type": "code",
      "source": [
        "from pprint import pprint\n",
        "\n",
        "for eid in sel_hotels[1:]:\n",
        "\n",
        "  # keys are aspects; values are lists of sentences with that aspect label.\n",
        "  sentences_by_aspect = loaddata(f'{SPACE_SENTASPECTS_DIR}/{eid}-aspect-sent-map.pkl')\n",
        "\n",
        "  for aspect in aspect_labels[:-1]: # Exclude 'general'\n",
        "    print(aspect, len(sentences_by_aspect[aspect]))\n",
        "    #pprint(sentences_by_aspect[aspect])\n",
        "\n",
        "    # This returns a list of list with each level of recursive summaries.\n",
        "    # The summary[-1][0] would be the final summary.\n",
        "    summary = get_gpt_aspect_summary('gpt-4',\n",
        "                                     aspect,\n",
        "                                     sentences_by_aspect[aspect],\n",
        "                                     is_summarized=False,\n",
        "                                     return_all_levels=True)\n",
        "\n",
        "    savedata(f'{SPACE_SENTASPECTS_DIR}/{eid}-{aspect}-summary.pkl', summary)\n",
        "\n",
        "#  break\n",
        "\n",
        ""
      ],
      "metadata": {
        "colab": {
          "base_uri": "https://localhost:8080/",
          "height": 1000
        },
        "id": "F_SItymMpZR0",
        "outputId": "84e19e5b-5094-4c68-f8da-b6c24c8c3665"
      },
      "execution_count": null,
      "outputs": [
        {
          "output_type": "stream",
          "name": "stdout",
          "text": [
            "rooms 494\n",
            "Tokens: 618\n",
            "Attempt#:1\n",
            "The reviews of the rooms at the hotel are mixed. Some guests found the rooms to be clean, stylish, comfortable, and well-equipped with amenities such as a refrigerator, comfortable furniture, and a great king bed. However, others found the rooms to be small, with issues such as poor air conditioning and cleanliness, as well as noise from garbage trucks and neighbors. The bathrooms were also described as small, with hot water taking a long time to warm up. Some guests mentioned an odd smell in the hallways and a daily deposit for room service that was not disclosed during booking.\n",
            "Tokens: 513\n",
            "Attempt#:1\n",
            "The reviews mention that the rooms at the Paramount Hotel are nice, clean, and well-priced compared to other downtown hotels. Some rooms, particularly the corner ones, have nice city views. However, there were some issues with hot water and the in-room hairdryer being small and weak. Overall, the Paramount is a solid choice for a stay in Seattle.\n",
            "Tokens: 430\n",
            "Attempt#:1\n",
            "The reviews generally praised the rooms for being clean, modern, and comfortable, with some mentioning excellent views and comfortable beds. However, some guests experienced issues with room sizes and bed arrangements, especially for families with small children. The sink area was also mentioned as being a bit tight. Overall, the reviewers recommend the hotel for its comfortable and well-decorated rooms.\n",
            "Tokens: 503\n",
            "Attempt#:1\n",
            "The reviews mentioned that the rooms were clean, with comfortable beds and a nice view. However, some guests experienced issues with the A/C not keeping the room cool enough. The shampoo and conditioner dispensers in the shower were not well-received, with some guests preferring individual bottles. Overall, the rooms were considered good value for a 3-star hotel, especially given the central location.\n",
            "Tokens: 587\n",
            "Attempt#:1\n",
            "The rooms at the hotel are generally well-maintained and clean, with comfortable beds and soft linens. Some rooms have been recently refurnished, but the new furniture may be oversized for the small rooms, making it difficult to move around. Corner king rooms are not particularly memorable, and the two-person tub may not be as comfortable as advertised. However, the rooms offer nice amenities, flat-screen TVs, marble bathrooms, and great views. The price for a standard room is considered reasonable, and the location is convenient for accessing shopping areas and attractions such as Pike's Place Market. Soundproofing between connecting rooms may be lacking, causing some noise disturbances.\n",
            "Tokens: 594\n",
            "Attempt#:1\n",
            "The reviews generally describe the rooms as clean, comfortable, and spacious, with good beds and modern decor. Some guests appreciated having corner rooms for larger spaces, and others mentioned that the rooms were dark at night, which allowed for a great night's sleep. However, one guest had a room that faced another hotel and was a bit dark during the day. The only minor complaint was about the small closet size and ice machines being on every other floor. Overall, guests were satisfied with their stay and would recommend the hotel.\n",
            "Tokens: 540\n",
            "Attempt#:1\n",
            "The reviews mention that the rooms are clean, comfortable, and modern, with comfortable beds and almost blackout curtains. The rooms have average furnishings, some of which are old, and a full-length mirror. Higher floors are quieter, and some rooms may not have a great view. The rooms are considered affordable and well-priced for the prime location.\n",
            "Tokens: 487\n",
            "Attempt#:1\n",
            "The reviews mentioned that the rooms were spacious, clean, well-maintained, and beautifully decorated with warm tones and modern furnishings. The amenities, such as iron and blow dryer, worked well. However, some reviews mentioned issues with thin walls, shabby rooms, and noisy showers. Overall, many guests said they would stay there again.\n",
            "Tokens: 589\n",
            "Attempt#:1\n",
            "The reviews generally praised the rooms for being clean, comfortable, and well-furnished with amenities such as a big-screen TV, refrigerator, and coffee pot. The pillowtop beds were also highly appreciated. However, there were some issues with housekeeping, such as a urine stain on a mattress and the forgetting of some items during weekend cleaning. Additionally, there were minor complaints about the desk chair and the wireless bill not being charged directly to the room's bill. Despite these issues, guests seemed to enjoy their stay and would choose the hotel again.\n",
            "Tokens: 486\n",
            "Attempt#:1\n",
            "The reviews mentioned that the rooms were clean, comfortable, and had decent amenities. The beds were comfortable, and the rooms were generally quiet with minimal street noise. However, some reviews mentioned that the rooms were small, with drafty windows and potentially noisy air conditioning units. Overall, guests were satisfied with their stay and would recommend the hotel.\n",
            "Tokens: 576\n",
            "Attempt#:1\n",
            "The reviews highlight that the rooms at the hotel are spacious, clean, and comfortable, with king-sized beds providing a great sleep. The rooms have a contemporary feel and come with amenities such as a mini-fridge, flat-screen TV, and electrical outlets. The bathrooms are on the smaller side but do not present any problems. Free Wi-Fi is available in the rooms, and the hotel is within walking distance to various attractions and transportation options. Overall, the guests seemed to have a positive experience with their stay.\n",
            "Tokens: 675\n",
            "Attempt#:1\n",
            "The reviews praised the rooms at the Paramount Hotel, describing them as well-designed, nicely furnished, and offering good workspaces. The beds were mentioned as being incredibly comfortable, with one guest comparing it to lying on a cloud. The rooms were also said to be clean and well-appointed, with contemporary furnishings, large TVs, and sleek marble bathrooms. Some guests appreciated the bathroom sink configuration, while others noted the baffling omission of a coffee maker or kettle. Overall, guests were very satisfied with their stay and would recommend the hotel to others.\n",
            "Tokens: 580\n",
            "Attempt#:1\n",
            "The reviews of the rooms at the hotel were mixed. Positive aspects mentioned include comfortable beds, tasteful decor, spaciousness, and cleanliness. The hotel's location was also praised for its proximity to attractions and transportation. However, negative points included a lack of view, firm pillows, no in-room microwave, and some rooms having unpleasant smells due to their location near garbage and restaurant vents. Additionally, there were some issues with customer service, such as difficulties with reservations and an incident involving a flooded bathroom.\n",
            "Tokens: 561\n",
            "Attempt#:1\n",
            "The reviews generally mentioned that the rooms at the hotel were clean, comfortable, and tastefully updated. Some rooms were spacious, and corner rooms had great views. The beds were comfortable and the rooms had nice amenities. However, there were some minor issues such as an odd smell in the hallway, water damage in a bathroom, and noise from the street in corner rooms. Overall, the rooms provided good value for the price.\n",
            "Tokens: 547\n",
            "Attempt#:1\n",
            "The reviews mentioned that the rooms at the hotel are comfortable, with comfortable beds, thick duvet blankets, and stylish decor. The room sizes vary, but most reviews found them to be spacious enough, with a desk area and comfortable chairs. The bathrooms are roomy and well-stocked with amenities. However, some guests found the beds and pillows to be too soft and lacking in support. Overall, the rooms are clean and suitable for various types of stays, such as couples getaways, business trips, and group trips.\n",
            "Tokens: 527\n",
            "Attempt#:1\n",
            "The reviews describe the rooms at the Paramount Hotel as clean, stylish, and spacious, with updated furniture and linens. They also mentioned that the rooms have a smart layout, offering privacy in the bathrooms and plenty of plug-ins for gadgets. The flat-screen television is a nice touch, but the Wi-Fi connection can be spotty. Overall, the hotel is recommended for no-nonsense travelers who appreciate a balance between style and affordability.\n",
            "Tokens: 462\n",
            "Attempt#:1\n",
            "The reviews mentioned that the rooms at the hotel were stunning, clean, neat, and updated. They featured comfortable beds with white duvets, a bar fridge, air-conditioning, and free WiFi. The rooms also had great views, HBO on cable, and a spotless bathroom. The size of the rooms was mentioned to be good, and the hotel's location was convenient for various attractions. The only minor issue mentioned was the ice machines being on every other floor. Overall, the reviewers highly recommended the hotel and would stay there again.\n",
            "Tokens: 41\n",
            "Attempt#:1\n",
            "The reviews did not provide any information about the rooms.\n",
            "Tokens: 582\n",
            "Attempt#:1\n",
            "The accounts of the hotel rooms are mixed. Positive aspects include clean, stylish, comfortable rooms with good amenities, comfortable beds, nice views, and a convenient location. However, there are also negative comments about small room sizes, poor air conditioning, noise disturbances, and issues with hot water and bathroom amenities. Some guests experienced problems with bed arrangements for families and soundproofing between rooms. Overall, the rooms are considered good value for a 3-star hotel, and the hotel is recommended for its comfortable and well-decorated rooms.\n",
            "Tokens: 542\n",
            "Attempt#:1\n",
            "The rooms at the hotel were generally well-received by guests, who described them as clean, comfortable, modern, and spacious. They praised the comfortable beds, blackout curtains, and various amenities such as flat-screen TVs, mini-fridges, and electrical outlets. Some rooms on higher floors were quieter, but there were some issues with thin walls, drafty windows, and noisy air conditioning units. The bathrooms were mostly satisfactory, though on the smaller side. Some minor complaints included old furnishings, housekeeping issues, and the lack of a coffee maker in some rooms. Despite these drawbacks, guests were overall satisfied with their stay and would recommend the hotel.\n",
            "Tokens: 536\n",
            "Attempt#:1\n",
            "The accounts generally described the rooms at the hotel as clean, comfortable, and updated, with stylish decor, comfortable beds, and spacious bathrooms. Some rooms were spacious and had great views, while others had minor issues such as unpleasant smells or noise from the street. Amenities like flat-screen TVs, free Wi-Fi, and air conditioning were appreciated, though Wi-Fi connections could be spotty. The hotel's location was praised for its convenience to attractions and transportation. Some guests had issues with the customer service, and a few found the beds and pillows too soft or firm. Overall, the rooms were considered good value for the price, and the hotel was recommended for various types of stays.\n",
            "Tokens: 397\n",
            "Attempt#:1\n",
            "The accounts generally described the hotel rooms as clean, comfortable, and stylish with good amenities, comfortable beds, and nice views. However, there were some negative comments about small room sizes, poor air conditioning, noise disturbances, and issues with hot water and bathroom amenities. Some guests experienced problems with bed arrangements and soundproofing. Despite these drawbacks, the rooms were considered good value for a 3-star hotel, and the hotel was recommended for various types of stays.\n",
            "building 159\n",
            "Tokens: 449\n",
            "Attempt#:1\n",
            "The reviews highlight the hotel's excellent location in downtown Seattle, being central to major stores, Pike Place Market, the convention center, and various attractions. The hotel is within walking distance to many popular sites and is considered a good value for a downtown hotel in high season. The design is functional and comfortable, and the hotel is worth its price. Overall, the hotel is a solid choice for a stay in Seattle due to its convenient location and accessibility to various amenities.\n",
            "Tokens: 470\n",
            "Attempt#:1\n",
            "The reviews describe the Paramount as a lovely boutique hotel with a nicely appointed and beautifully furnished lobby, located in the heart of downtown Seattle. It is very central to various attractions and has convenient access to public transport. However, the hotel is surrounded by massive construction, causing daytime noise and lack of parking. The building also has some issues with noise from plumbing and the adjacent building's HVAC system. Despite these drawbacks, the hotel is a good choice for staying in downtown Seattle.\n",
            "Tokens: 451\n",
            "Attempt#:1\n",
            "The reviews highlight that the Paramount hotel is in a great location, right in the heart of the Westlake shopping area and within walking distance to various attractions such as Pike Place Market, the convention center, the Paramount theater, and numerous shops and restaurants. The hotel is in an older building but has been kept up to modern standards through renovations. The construction in the neighborhood starts early in the morning, which can be a downside. Overall, the hotel is convenient, well-located, and a great choice for those attending events at the Paramount Theatre or exploring downtown Seattle.\n",
            "Tokens: 479\n",
            "Attempt#:1\n",
            "The reviews describe the hotel as clean, quiet, and recently renovated, with a small and cozy lobby. The location is central, close to downtown attractions, shopping, restaurants, and the convention center. The hotel is described as tastefully designed, conveniently located, and elegant without being over the top. Overall, the Paramount Hotel receives positive feedback from its guests.\n",
            "Tokens: 517\n",
            "Attempt#:1\n",
            "The reviews generally praised the Paramount Hotel for its excellent location, being close to various attractions, shopping, and restaurants. The lobby was described as small but well-appointed, warm, and cozy with couches and a fireplace. However, some reviewers mentioned the fitness center could be improved as it was in the basement and had older equipment. The view from the rooms was not very impressive as they overlooked other high-rise buildings. Some guests also noted the construction going on around the hotel and advised asking for a room on a higher floor and away from the construction site.\n",
            "Tokens: 562\n",
            "Attempt#:1\n",
            "The reviews highlight that the hotel is in a great location, close to the convention center, public transportation, shopping, restaurants, and tourist attractions like Pike's Place Market. It has undergone a nice renovation and is well-designed, tastefully decorated, and modern. The lobby has a comfortable waiting area, and the hotel is not a huge corporate establishment. Some construction across the street caused noise in the morning, and a fire alarm went off during one guest's stay. Overall, the Paramount Hotel is highly recommended for cost-conscious travelers who want to be in the heart of downtown Seattle.\n",
            "Tokens: 81\n",
            "Attempt#:1\n",
            "The hotel is small but conveniently located near the Convention Center, making it ideal for event attendees. It is easily accessible by bus or light rail from SEA-TAC airport. Ice-makers may not be available on every floor due to its size.\n",
            "Tokens: 362\n",
            "Attempt#:1\n",
            "The accounts describe the hotel as a well-located, lovely boutique hotel in downtown Seattle, close to various attractions, shopping, and the convention center. It is an older building that has been kept up to modern standards through renovations. The hotel's design is functional and comfortable, with a nicely appointed and beautifully furnished lobby. However, there are some issues with noise from construction, plumbing, and the adjacent building's HVAC system. Despite these drawbacks, the hotel is a convenient and solid choice for a stay in Seattle.\n",
            "Tokens: 329\n",
            "Attempt#:1\n",
            "OpenAI API returned an API Error: HTTP code 502 from API (<html>\n",
            "<head><title>502 Bad Gateway</title></head>\n",
            "<body>\n",
            "<center><h1>502 Bad Gateway</h1></center>\n",
            "<hr><center>cloudflare</center>\n",
            "</body>\n",
            "</html>\n",
            ")\n",
            "Attempt#:2\n",
            "The accounts describe the Paramount Hotel as tastefully designed, conveniently located, and elegant. It is close to attractions, shopping, and restaurants, with a small but well-appointed lobby. The hotel has undergone a nice renovation and is modern. However, the fitness center could be improved, and the view from the rooms is not impressive. There is some construction noise around the hotel, and ice-makers may not be available on every floor due to its size. Despite these minor issues, the hotel is highly recommended for cost-conscious travelers who want to be in the heart of downtown Seattle.\n",
            "Tokens: 240\n",
            "Attempt#:1\n",
            "OpenAI API returned an API Error: HTTP code 502 from API (<html>\n",
            "<head><title>502 Bad Gateway</title></head>\n",
            "<body>\n",
            "<center><h1>502 Bad Gateway</h1></center>\n",
            "<hr><center>cloudflare</center>\n",
            "</body>\n",
            "</html>\n",
            ")\n",
            "Attempt#:2\n",
            "The accounts describe the hotel as a well-located, lovely boutique hotel in downtown Seattle, housed in an older building that has been modernized through renovations. The design is functional and comfortable, with a nicely appointed lobby. However, there are some issues with noise from construction, plumbing, and the adjacent building's HVAC system. Despite these drawbacks, the hotel is a convenient and solid choice for a stay in Seattle. The Paramount Hotel is tastefully designed, conveniently located, and elegant, with a small but well-appointed lobby. The hotel has undergone a nice renovation and is modern, but the fitness center could be improved, and the view from the rooms is not impressive. There may also be issues with ice-makers and construction noise. Despite these minor issues, the hotel is recommended for cost-conscious travelers wanting to stay in downtown Seattle.\n",
            "cleanliness 639\n",
            "Tokens: 546\n",
            "Attempt#:1\n",
            "The reviews mentioned that the hotel rooms were clean, with attention to detail in cleanliness. However, one reviewer mentioned that the air conditioning vent had a lot of filthy residue trapped inside, which may have contributed to them falling ill during their stay. Another reviewer mentioned that the halls had an odd smell, like a dental office.\n",
            "Tokens: 554\n",
            "Attempt#:1\n",
            "The reviews do not specifically mention the cleanliness of the hotel.\n",
            "Tokens: 514\n",
            "Attempt#:1\n",
            "The reviews generally mention that the rooms are clean and well-maintained, with one reviewer mentioning that the hotel staff had all day to clean the room. Another reviewer states that the rooms are modern and clean, and a third reviewer describes the rooms as nice, clean, and comfortable.\n",
            "Tokens: 437\n",
            "Attempt#:1\n",
            "The reviews do not specifically mention the cleanliness of the hotel. However, one guest mentioned that their room was \"neatly decorated and very up-to-date,\" which implies a well-maintained and clean room.\n",
            "Tokens: 446\n",
            "Attempt#:1\n",
            "The reviews generally mentioned that the hotel was clean, with well-maintained and meticulously cleaned rooms, as well as soft linens.\n",
            "Tokens: 514\n",
            "Attempt#:1\n",
            "The reviews do not specifically mention the cleanliness of the hotel.\n",
            "Tokens: 577\n",
            "Attempt#:1\n",
            "The reviews mentioned that the hotel had clean rooms and bathrooms, with no complaints about cleanliness. The overall cleanliness and maintenance of the hotel seemed to be satisfactory for the guests.\n",
            "Tokens: 395\n",
            "Attempt#:1\n",
            "The reviews mentioned that the hotel was very clean and well-maintained, with clean and comfortable rooms and wonderful bathrooms.\n",
            "Tokens: 463\n",
            "Attempt#:1\n",
            "The reviews mentioned that the rooms were clean and well-maintained. The hotel was described as neat and tidy, with clean and comfortable rooms.\n",
            "Tokens: 453\n",
            "Attempt#:1\n",
            "The reviews generally mention that the hotel rooms were clean, well-maintained, and beautifully decorated. The hotel lobby was also described as clean and modern. Overall, the cleanliness of the hotel was praised and positively reviewed by the guests.\n",
            "Tokens: 578\n",
            "Attempt#:1\n",
            "The reviews generally mention that the rooms were clean, and the housekeeping staff was prompt and efficient. Some issues were reported, such as a urine stain on a mattress and a few instances where amenities were not replaced, but these problems were rectified quickly. Overall, the cleanliness of the hotel was satisfactory for most guests.\n",
            "Tokens: 547\n",
            "Attempt#:1\n",
            "The reviews mentioned that the hotel was very clean, with squeaky clean rooms and well-maintained facilities. The cleanliness of the rooms and the hotel overall contributed to a comfortable and pleasant stay for the guests.\n",
            "Tokens: 385\n",
            "Attempt#:1\n",
            "The reviews mentioned that the rooms were very clean, well-maintained, and that the hotel had a beautiful and stunning appearance. The cleanliness was praised and contributed to the guests' overall positive experience.\n",
            "Tokens: 561\n",
            "Attempt#:1\n",
            "The reviews do not specifically mention the cleanliness of the hotel.\n",
            "Tokens: 536\n",
            "Attempt#:1\n",
            "The reviews mentioned that the rooms were clean and well-maintained, contributing to a positive overall experience at the hotel.\n",
            "Tokens: 566\n",
            "Attempt#:1\n",
            "The reviews mentioned that the rooms were clean, well-appointed, and had modern furnishings. The cleanliness of the hotel contributed to the guests' enjoyable stays.\n",
            "Tokens: 637\n",
            "Attempt#:1\n",
            "The reviews mentioned that the rooms were generally clean and decent, with friendly cleaning staff. However, there were issues with cleanliness in some specific instances, such as a flooded bathroom that was not properly cleaned and a room that felt dark and dirty.\n",
            "Tokens: 523\n",
            "Attempt#:1\n",
            "The reviews generally mentioned that the rooms were clean and comfortable, with some noting that they were tastefully updated. However, one review mentioned an odd smell in the hallways, but it was not present inside the rooms.\n",
            "Tokens: 467\n",
            "Attempt#:1\n",
            "The reviews overall described the hotel as clean, with modern and well-designed rooms. The rooms were also mentioned to be supplied with great amenities. However, there was a mention of some water damage in one of the bathrooms.\n",
            "Tokens: 632\n",
            "Attempt#:1\n",
            "The reviews generally mentioned that the hotel was extremely clean, with immaculate and well-maintained rooms.\n",
            "Tokens: 567\n",
            "Attempt#:1\n",
            "The reviews did not specifically mention the cleanliness of the hotel.\n",
            "Tokens: 452\n",
            "Attempt#:1\n",
            "The reviews consistently mention that the hotel is clean, well-kept, and modern. The rooms are described as spotless, neat, and comfortable.\n",
            "Tokens: 36\n",
            "Attempt#:1\n",
            "There is no mention of cleanliness in the given reviews.\n",
            "Tokens: 422\n",
            "Attempt#:1\n",
            "Overall, the accounts of the hotel's cleanliness were mostly positive, with guests praising clean and well-maintained rooms, comfortable spaces, and efficient housekeeping staff. However, there were some instances of issues, such as a dirty air conditioning vent, an odd smell in the halls, and a few cases of unattended amenities. Despite these minor issues, the general consensus was that the hotel's cleanliness was satisfactory for the guests.\n",
            "Tokens: 382\n",
            "Attempt#:1\n",
            "The accounts generally praised the hotel's cleanliness, with guests describing the rooms as clean, well-maintained, and comfortable. The hotel's overall appearance was also mentioned to be stunning and modern. However, there were a few specific instances of issues, such as a flooded bathroom, a dark and dirty room, an odd smell in the hallways, and water damage in a bathroom.\n",
            "Tokens: 33\n",
            "Attempt#:1\n",
            "There is no information available about the cleanliness of the hotel based on the given reviews.\n",
            "Tokens: 202\n",
            "Attempt#:1\n",
            "The accounts generally praised the hotel's cleanliness, highlighting clean and well-maintained rooms, comfortable spaces, and efficient housekeeping staff. However, there were some minor issues mentioned, such as a dirty air conditioning vent, odd smells in the hallways, and a few instances of unattended amenities or water damage. Despite these issues, the overall consensus was that the hotel's cleanliness was satisfactory for the guests.\n",
            "location 108\n",
            "Tokens: 528\n",
            "Attempt#:1\n",
            "The reviews highlight the hotel's excellent location, being centrally located in downtown Seattle. It is within walking distance to major attractions such as Pike Place Market, the Space Needle, Westlake Center, and the convention center. It is also near shopping destinations like Nordstrom and Macy's. The central location allows guests to easily walk to various areas, including Capitol Hill, Belltown, and the waterfront. However, some reviews mention the parking fee not being disclosed upfront. Overall, the location is highly recommended and convenient for both shopping and sightseeing.\n",
            "Tokens: 501\n",
            "Attempt#:1\n",
            "The reviews indicate that the hotel is in a great location, with many highlighting its central position in downtown Seattle. It is within walking distance to major attractions such as Pike Place Market, the Westlake shopping area, and the Seattle Convention Center. The hotel is also conveniently located near public transportation options, including the light rail and monorail. However, some reviews mention that the area is undergoing massive construction, and one reviewer felt the location was a bit too far north for their preference. Overall, the location is seen as a major selling point for the hotel.\n",
            "Tokens: 597\n",
            "Attempt#:1\n",
            "The reviews highlight that the hotel is in a great location, being close to shopping, restaurants, theaters, and tourist attractions such as the Seattle Market Place, Pike Market, and the convention center. It is within walking distance of many downtown sites and public transportation options, such as the light rail and monorail. The area is described as safe, comfortable, and centrally located, making it ideal for both business and vacation stays.\n",
            "Tokens: 607\n",
            "Attempt#:1\n",
            "The reviews generally praise the hotel's excellent location, being in the heart of downtown Seattle and within walking distance to various attractions like Pike Place Market, shopping centers, restaurants, movie theaters, and public transportation like the light rail and bus stations. Some guests mention the convenience of taking the light rail from the airport and the area feeling safe. However, a few reviews note that there is construction in the area which may require valet parking. Overall, the location is considered convenient and ideal for tourists and residents alike.\n",
            "Tokens: 430\n",
            "Attempt#:1\n",
            "The accounts consistently praise the hotel's excellent location in downtown Seattle, being within walking distance to major attractions like Pike Place Market, the Space Needle, Westlake Center, and the convention center. The hotel is also close to shopping destinations, restaurants, theaters, and public transportation options such as the light rail and monorail. The area is described as safe, comfortable, and centrally located, making it ideal for both business and vacation stays. However, some reviews mention issues with parking fees not being disclosed upfront, construction in the area, and a preference for a more southern location. Overall, the location is highly recommended and convenient for shopping, sightseeing, and public transportation.\n",
            "service 233\n",
            "Tokens: 491\n",
            "Attempt#:1\n",
            "The reviews indicate mixed opinions about the service at the hotel. Some guests found the front desk staff to be helpful and the bellman kind, while others felt the staff were clueless and not well-versed in the local area. There were positive comments about the restaurant and its service, with some guests enjoying the convenience and food offerings. However, there were also negative experiences with housekeeping and incorrect information provided by the staff. Overall, the service seemed to be inconsistent with some great customer service experiences and some disappointing encounters.\n",
            "Tokens: 514\n",
            "Attempt#:1\n",
            "The reviews highlight that the hotel staff is generally very friendly and helpful, especially the concierge who provided great recommendations for restaurants and events. The desk clerk was also friendly and efficient. However, the baggage staff was reported to be slow and lacking a sense of urgency. The valet service received mixed reviews with one valet being praised for his excellent service, while another guest mentioned the valet parking being a downside. The attached restaurant, DragonFish, serves awesome Chinese food, and there is a Starbucks nearby. Some guests found the room service overpriced for mediocre food, and there were no complimentary amenities. Overall, the service is mostly appreciated by guests, with a few areas for improvement.\n",
            "Tokens: 490\n",
            "Attempt#:1\n",
            "The reviews generally praised the hotel's service, mentioning the helpful and friendly staff, particularly the front desk, bellman, and concierge. The personal service was considered great and the staff provided useful advice, directions, and assistance with reservations and transportation. However, there was one instance of slow and inattentive service at the restaurant.\n",
            "Tokens: 496\n",
            "Attempt#:1\n",
            "The service at the hotel received mixed reviews. Many guests praised the staff for being friendly, helpful, and accommodating, with great service at the front desk, concierge, bell desk, and valet. The hotel also offered early check-in and late check-out, free Wi-Fi, and town car service to the airport. However, some guests experienced rude and impatient staff, and there was an incident where a housekeeper entered a room without knocking. The hotel's restaurant, Dragonfish, received positive reviews for its food, happy hour, and service.\n",
            "Tokens: 513\n",
            "Attempt#:1\n",
            "The service at the hotel was generally praised for being friendly, helpful, and efficient. The concierge, Tom, was particularly mentioned for providing valuable information. The front desk staff and bellmen were also commended for their assistance, including arranging transportation to the airport. However, there was one negative experience with room service being slow and unresponsive.\n",
            "Tokens: 617\n",
            "Attempt#:1\n",
            "The reviews generally praise the hotel's service, describing the staff as friendly, helpful, and professional. The front desk, room service, and valet staff are all mentioned positively, with some specific employees receiving special recognition. However, there is one instance of a guest feeling that they were not provided the same options as another couple during check-in. Overall, the service at the hotel appears to be well-regarded and contributes to an enjoyable stay for guests.\n",
            "Tokens: 463\n",
            "Attempt#:1\n",
            "The service at the hotel received mixed reviews. Some guests found the staff to be unprofessional and unhelpful, with incidents such as a lost car by the valet, a toilet issue not being properly resolved, and unreturned calls from the manager. However, other guests praised the staff for being pleasant, courteous, and helpful, with some even going out of their way to assist during difficult situations. The check-in and valet staff were also mentioned as being helpful. The hotel's location and convenience to transportation were seen as positives.\n",
            "Tokens: 621\n",
            "Attempt#:1\n",
            "The service at the hotel received mixed reviews. Many guests praised the staff for being friendly, helpful, and quick to respond to requests and problems. Some staff members, particularly Tom, Jerry, and Lolita, were mentioned as going the extra mile to ensure guest satisfaction. However, there were also negative comments about some staff members being unprofessional, gruff, and unhelpful. The front desk was often understaffed, leading to wait times for simple tasks. The attached Dragonfish Cafe received positive reviews for its food and happy hour deals, while some guests had negative experiences with the restaurant staff. Overall, the service was inconsistent and varied depending on the staff member encountered.\n",
            "Tokens: 29\n",
            "Attempt#:1\n",
            "The reviews mentioned that the service at the hotel was helpful, with the clerk assisting in printing out boarding passes.\n",
            "Tokens: 444\n",
            "Attempt#:1\n",
            "The accounts indicate mixed opinions about the service at the hotel. While many guests praised the friendly and helpful staff, particularly the front desk, concierge, and bellman, there were some negative experiences with housekeeping and incorrect information provided by the staff. The attached restaurant, DragonFish, received positive reviews for its food and service, though some found the room service overpriced and mediocre. The valet service had mixed reviews, and there were no complimentary amenities mentioned. Overall, the hotel's service was mostly appreciated by guests, with some areas for improvement.\n",
            "Tokens: 426\n",
            "Attempt#:1\n",
            "The service at the hotel received mixed reviews. Many guests praised the staff for being friendly, helpful, and efficient, with some staff members, such as Tom, receiving special recognition. The front desk, room service, and valet staff were also commended for their assistance. However, there were negative experiences reported, such as slow room service, unprofessional behavior, and the front desk being understaffed. The attached Dragonfish Cafe received positive reviews for its food, but some guests had negative experiences with the restaurant staff. Overall, the service was inconsistent and varied depending on the staff member encountered.\n",
            "Tokens: 44\n",
            "Attempt#:1\n",
            "The accounts praised the hotel's service, highlighting the helpfulness of the clerk in assisting with printing boarding passes.\n",
            "Tokens: 276\n",
            "Attempt#:1\n",
            "The accounts revealed mixed reviews regarding the hotel's service. Guests praised the friendly and helpful staff, particularly the front desk, concierge, and bellman. However, there were negative experiences with housekeeping, incorrect information provided, and slow room service. The attached restaurant, DragonFish, received positive reviews for its food and service, but some guests found the room service overpriced and mediocre. The valet service also had mixed reviews, and no complimentary amenities were mentioned. Overall, the service was mostly appreciated but had areas for improvement and inconsistencies depending on the staff member encountered.\n",
            "food 91\n",
            "Tokens: 374\n",
            "Attempt#:1\n",
            "The hotel restaurant received mixed reviews, with some guests finding it average, while others praised the food, service, and prices. The attached Asian food restaurant, Dragonfish Café, received mostly positive feedback for its dinner and breakfast options. Guests appreciated the convenience of the restaurant and its happy hour offerings. However, some found the room service overpriced and were disappointed with the lack of a breakfast buffet and complimentary fruit.\n",
            "Tokens: 410\n",
            "Attempt#:1\n",
            "The reviews generally praise the Dragonfish restaurant attached to the hotel for its delicious Chinese food, great seafood, sushi, and happy hour menu with inexpensive drinks and appetizers. The restaurant can get busy, but the service is usually good. However, there are mixed reviews on the hotel's breakfast, with some negative experiences of slow service and cold food. Other nearby restaurant options include Von's, Cheesecake Factory, and an outdoor creperie recommended by the concierge.\n",
            "Tokens: 386\n",
            "Attempt#:1\n",
            "The reviews indicate that the food at the Dragonfish restaurant is great, with reasonable pricing and excellent happy hour specials. The sushi is good, and the drink selection is interesting and delicious. However, there was an issue with slow service during breakfast, resulting in cold food.\n",
            "Tokens: 421\n",
            "Attempt#:1\n",
            "The reviews generally mention that the hotel's restaurant, Dragonfish, offers good sushi and Asian cuisine, with a great happy hour and affordable prices. Some guests enjoyed the food and found it to be a convenient option, while others felt it was mediocre or overpriced. The restaurant seemed to be busy during peak times, but there were mixed opinions on the staff's service quality. Additionally, the hotel provides a mini-fridge in the rooms but no microwave for storing leftovers, and there is a limited room service menu. There are also other shopping and dining options within a few blocks of the hotel.\n",
            "Tokens: 99\n",
            "Attempt#:1\n",
            "The reviews praised the hotel's attached Asian Fusion restaurant, Dragonfish Cafe, as a favorite. They also mentioned a Japanese restaurant with well-priced happy hours and a lively late-night atmosphere.\n",
            "Tokens: 412\n",
            "Attempt#:1\n",
            "The accounts generally praised the hotel's attached restaurant, Dragonfish Café, for its good sushi, Asian cuisine, and happy hour specials with affordable prices. However, there were mixed reviews on the breakfast offerings, with some guests experiencing slow service and cold food. Some found the room service overpriced and were disappointed with the lack of a breakfast buffet and complimentary fruit. Nearby restaurant options include Von's, Cheesecake Factory, and an outdoor creperie.\n",
            "rooms 565\n",
            "Tokens: 528\n",
            "Attempt#:1\n",
            "The reviews of the rooms in the hotel are mixed. Some guests found the rooms to be clean, well-equipped with amenities such as a microwave, fridge, freezer, hairdryer, safe, and TV with premium HBO channels, and appreciated the air conditioning units. They also mentioned that the hotel offers good value for money. However, other guests experienced issues such as stained bedsheets, dead mosquitos on towels, and noisy air conditioning units. Some guests also mentioned the lack of in-room coffee makers and an additional nightly fee. The overall satisfaction with the rooms seems to be hit or miss.\n",
            "Tokens: 739\n",
            "Attempt#:1\n",
            "The reviews indicated that the rooms were outdated, smelled bad, and had cleanliness issues, with some guests reporting bugs such as ants, crickets, cockroaches, and bedbugs. On the other hand, some guests found their rooms clean and bug-free. The rooms lacked amenities such as fridges, coffee makers, and working safes, and some guests mentioned broken ice machines and lack of alarm clocks. The wireless internet did not reach the rooms, and the hotel charged for ice. Some guests found the rooms to be cheap and good value for the price, while others recommended staying elsewhere.\n",
            "Tokens: 626\n",
            "Attempt#:1\n",
            "The rooms at this hotel are basic and not fancy, with no flat-screen TVs or numerous channels. Some rooms have small bathrooms and issues with cleanliness, such as ants around the sink area and dirty washrooms. The air conditioning is helpful but loud, so earplugs may be needed for nighttime use. Some rooms have fridges, but not all. Despite these drawbacks, the rooms are cleaned daily with fresh towels and linen, and their low cost is a selling point for some guests.\n",
            "Tokens: 732\n",
            "Attempt#:1\n",
            "The reviews indicate that the rooms at this hotel are clean and decent for a budget hotel. They offer basic amenities like iron & board, soaps, shampoos, and towels. The furnishings and fittings may be a bit worn, and the towels can be thin. However, for the price, guests seem to be satisfied with their stay. It's a suitable place for those looking for a place to rest at night after spending the day at nearby parks.\n",
            "Tokens: 604\n",
            "Attempt#:1\n",
            "The reviews indicate that the rooms at this hotel are basic and offer good value for money. They are clean, tidy, and have air conditioning. Some amenities mentioned include a safe, ironing board, iron, hairdryer, and coffee maker. However, there are some inconsistencies such as the absence of fridges in some rooms and the need for better air circulation. The rooms offer free local calls, but this may not always be accurate. Overall, guests seem to be satisfied with the rooms, considering it is a budget hotel.\n",
            "Tokens: 548\n",
            "Attempt#:1\n",
            "The reviews generally indicate that the rooms were clean and provided good value for money. Some rooms had a fridge, microwave, and tea & coffee facilities, while others had a kitchenette. However, there were also complaints about stained towels, dirty bedsheets, and a dirty bathroom. The furniture was described as a bit tired but functional. Overall, the rooms were considered satisfactory for the price and purpose of the stay (mainly for sleeping and showering).\n",
            "Tokens: 693\n",
            "Attempt#:1\n",
            "OpenAI API returned a rate limit Error: That model is currently overloaded with other requests. You can retry your request, or contact us through our help center at help.openai.com if the error persists. (Please include the request ID 499874753e1656fea545e80a16d60150 in your message.)\n",
            "Attempt#:2\n",
            "The reviews of the rooms are mixed. Some guests found the rooms clean and comfortable, with quiet nights and good WiFi. However, others described the rooms as damp, musty, and dark with a distinctive odor. Some also mentioned issues with cleanliness, such as dirty bathrooms and small ants on the sink. Standard rooms do not have a fridge or microwave, contrary to what the hotel's website states.\n",
            "Tokens: 488\n",
            "Attempt#:1\n",
            "The reviews of the rooms are mixed, with some negative aspects mentioned such as filthy carpets, non-working bathroom lights, cockroach infestations, torn bedding, and limited TV channels. However, some positive aspects were also mentioned, like clean and quiet rooms, good air conditioning, and comfortable beds. Some guests complained about the lack of free internet in the rooms and the need to pay for ice. Overall, the hotel seems to be a budget option with some issues, but also some redeeming qualities.\n",
            "Tokens: 566\n",
            "Attempt#:1\n",
            "The reviews indicate that the rooms at the hotel are generally clean and comfortable, with some rooms having a good view of the pool, lake, and highway. They are equipped with essential amenities like a TV, fridge, freezer, microwave, iron, ironing board, hairdryer, and safe. Some guests mentioned that the furniture could use an update, and the rooms could benefit from a fresh coat of paint. There were also reports of bugs in some rooms, and old, moldy juice bottles were found under the beds. The beds are described as comfortable, and the air conditioning works well. Overall, guests seemed to be satisfied with their stay and would consider returning.\n",
            "Tokens: 580\n",
            "Attempt#:1\n",
            "The reviews of the rooms at the hotel are mixed. Some guests found the rooms to be basic, plain, old, and worn, with issues like mold in the toilet. However, others were pleasantly surprised by the cleanliness and amenities such as a microwave, fridge, and TV. The rooms were described as okay for the price, and some guests even had views of Disney fireworks. Linen was changed almost daily for some guests, and a few mentioned that the rooms were similar to those at a higher-rated hotel nearby.\n",
            "Tokens: 609\n",
            "Attempt#:1\n",
            "The reviews indicate that the rooms in the hotel are basic and clean, with very comfortable beds and daily cleaning service. However, some guests found the rooms to be stuffy and below standard, with issues like loud air conditioning, paper-thin walls, and small bathrooms. There were also complaints of ants in the sink and exposed electrical wiring. Overall, the rooms were considered suitable for a budget stay but not luxurious or high-quality.\n",
            "Tokens: 626\n",
            "Attempt#:1\n",
            "The reviews mentioned that the rooms were not modern but clean, with some experiencing issues with ants and dirty toilets. The rooms were described as large and bright, with air conditioning and new-looking towels. There was a large TV and a safe, along with strong WiFi signal. However, some rooms could have benefited from a fridge and better electrical sockets. Overall, the rooms were considered comfortable and a good base for visiting theme parks.\n",
            "Tokens: 684\n",
            "Attempt#:1\n",
            "The reviews indicate that the rooms at this hotel are basic and somewhat dated, with chipped furniture and tired decor. However, they are generally clean and come with amenities such as a TV, fridge, microwave, and air conditioning. Some rooms have been updated with new carpets, tubs, and mattresses. The rooms near the pool seem to be nicer than those at the back of the hotel. Guests did not have major issues with vermin, but some mentioned encountering bugs or cockroaches. Overall, guests found the rooms to be satisfactory for the price and location, but those looking for a more upscale experience may want to consider other options.\n",
            "Tokens: 511\n",
            "Attempt#:1\n",
            "The rooms at the hotel were generally clean, comfortable, and quiet at night, providing a good night's sleep. Some rooms had minor cleanliness issues, but the staff was responsive to complaints and offered alternative rooms when needed. The hotel is considered good value for money and suitable for a budget stay.\n",
            "Tokens: 733\n",
            "Attempt#:1\n",
            "The reviews generally mentioned that the rooms were clean, with daily cleaning service and fresh towels and linens provided. Some guests had minor issues with the bedding and finding change for the ice machine. Space in the rooms was also mentioned as adequate, and the hotel was considered a good value for the price. Some guests mentioned limited seating for breakfast, but this was not a major issue as they took their breakfast back to their rooms. Overall, the rooms received mostly positive feedback.\n",
            "Tokens: 443\n",
            "Attempt#:1\n",
            "The reviews mentioned that the rooms and hotel are a bit tired and in need of renovation. The rooms were somewhat clean, with daily cleaning service that included making beds and providing fresh towels if needed. The rooms have a kitchenette and Wi-Fi is limited to the lobby area. Some rooms are on the older side, but the reviewers did not find any bed bugs. Overall, the hotel is considered a good value for the price, especially with its close proximity to attractions and parks.\n",
            "Tokens: 557\n",
            "Attempt#:1\n",
            "The reviews of the rooms are mixed. Some guests found the rooms to be clean, with comfortable beds and plenty of towels, while others described them as small, dirty, and outdated with worn-out furniture and a serious bed bug problem. Housekeeping and cleanliness seemed to vary between stays. Some guests were satisfied with the provided amenities such as a safe and daily cleaning, while others experienced issues with their requested room types or encountered rude staff.\n",
            "Tokens: 787\n",
            "Attempt#:1\n",
            "The reviews mentioned that the rooms were generally clean and secure, with housekeeping taking good care of them. Some rooms had a view of the car park and some were near the pool. However, there were issues with a musty smell and ants in some rooms. The beds were comfortable for some but hard for others. The hotel offered a kitchenette in some rooms, and the decor was current. The rooms were considered a good base for exploring Florida and its theme parks, especially for couples.\n",
            "Tokens: 762\n",
            "Attempt#:1\n",
            "The reviews mentioned that the rooms were spacious, with two large queen-sized beds, air conditioning, a safe, refrigerator, and microwave. The room interiors were recently decorated, similar to most US motel rooms. Some reviews mentioned the possibility of damp smells and crawling insects due to the subtropical climate. The rooms were clean with beds made and amenities replaced daily. The hotel offered free shuttle buses to theme parks, but some guests found the bathroom and shower to be small. Some rooms could use a little refurbishment, but overall, the rooms were suitable for a comfortable stay.\n",
            "Tokens: 716\n",
            "Attempt#:1\n",
            "The reviews indicate that the rooms at the hotel are of average quality and cleanliness. Some guests found the rooms to be reasonably clean with large TVs, clean sheets, and a safe in the room. However, others complained about the rooms smelling of mold, having dirty carpets, and lacking amenities like a kitchen, wardrobe, and fridge. Some guests also mentioned issues with room safety, broken appliances, and poor reception service. Overall, the hotel seems to be suitable for those with lower expectations and who only need a basic place to sleep, but not recommended for those who are particular about cleanliness and amenities.\n",
            "Tokens: 525\n",
            "Attempt#:1\n",
            "The accounts of the hotel rooms are mixed, with some guests finding them clean and well-equipped with amenities like air conditioning, microwaves, and safes, while others experienced issues with cleanliness, outdated furnishings, and noisy air conditioning units. Some rooms lacked amenities such as fridges, coffee makers, and working safes. The wireless internet did not reach the rooms, and some guests mentioned a charged for ice. However, many guests found the hotel to offer good value for money, suitable for budget travelers looking for a basic place to rest at night. The overall satisfaction with the rooms seems to be hit or miss.\n",
            "Tokens: 518\n",
            "Attempt#:1\n",
            "The accounts of the hotel rooms are mixed. Generally, guests found the rooms to be clean, comfortable, and offering good value for money, especially considering it is a budget hotel. Some rooms had amenities like a fridge, microwave, and kitchenette, while others did not. There were complaints about stained towels, dirty bedsheets, and dirty bathrooms. The furniture was described as tired but functional. Some guests experienced issues with damp, musty rooms and cleanliness problems, including bugs and ants. Overall, the hotel is a budget option with some issues, but also some redeeming qualities, and guests seemed to be satisfied with their stay.\n",
            "Tokens: 524\n",
            "Attempt#:1\n",
            "The rooms at the hotel were described as basic, clean, and comfortable, suitable for budget stays. Some rooms offered good views and amenities like a TV, fridge, microwave, and air conditioning. However, some guests experienced issues such as stuffiness, loud air conditioning, small bathrooms, and dated furniture. There were also reports of ants, exposed electrical wiring, and minor cleanliness issues. Despite this, the hotel was considered good value for money, with daily cleaning services, strong WiFi, and adequate space in the rooms. The hotel served as a good base for visiting theme parks and was generally quiet at night.\n",
            "Tokens: 501\n",
            "Attempt#:1\n",
            "The accounts of the hotel rooms are mixed, with some guests finding them clean, comfortable, and well-equipped, while others described them as outdated, dirty, and in need of renovation. Common positive aspects include daily cleaning service, comfortable beds, and essential amenities such as a safe, refrigerator, and microwave. However, there were also issues with musty smells, ants, and varying levels of housekeeping quality. Some rooms offered a kitchenette and views of the car park or pool, but Wi-Fi was limited to the lobby area. Overall, the rooms were considered a good base for exploring local attractions and a reasonable value for the price, despite some areas needing improvement.\n",
            "Tokens: 58\n",
            "Attempt#:1\n",
            "The rooms are basic and suitable for those with lower expectations, but not recommended for those who value cleanliness and amenities.\n",
            "Tokens: 552\n",
            "Attempt#:1\n",
            "The accounts of the hotel rooms are mixed, with some guests finding them clean, comfortable, and well-equipped with amenities such as air conditioning, microwaves, and safes, while others experienced issues with cleanliness, outdated furnishings, and noisy air conditioning units. Some rooms lacked amenities like fridges, coffee makers, and working safes, and there were complaints about stained towels, dirty bedsheets, and dirty bathrooms. Wi-Fi was limited to the lobby area, and some guests encountered problems with musty smells, ants, and varying housekeeping quality. Despite these issues, many guests found the hotel to offer good value for money, suitable for budget travelers looking for a basic place to rest at night. The overall satisfaction with the rooms seems to be hit or miss.\n",
            "building 41\n",
            "Tokens: 307\n",
            "Attempt#:1\n",
            "The hotel building is old, dated, and somewhat grimy. The location is fantastic, with nearby restaurants, gift shops, and attractions within walking distance. The hotel is not very hard to find and one can watch Disney fireworks from the upper balcony. The pool area is generally clean and well-maintained, with a heated pool that overlooks a lake. However, some reviewers found the pool area to be not very private or promising. The hotel is still clean and neat overall, but some areas like the tub may cause concern. Internet is only available in the lobby and not in the rooms.\n",
            "Tokens: 333\n",
            "Attempt#:1\n",
            "The building of the hotel has a few positive aspects, such as a warm pool and a convenient location near restaurants and attractions. However, it has several negative aspects, such as poor landscaping, dirty elevators, lack of maintenance, and being located on a loud, busy road. The hotel is considered very basic and in need of renovation. Service is limited to one of the three buildings.\n",
            "Tokens: 28\n",
            "Attempt#:1\n",
            "The reviews mentioned that the building is now called the Continental Plaza Hotel.\n",
            "Tokens: 234\n",
            "Attempt#:1\n",
            "The hotel building is old, dated, and somewhat grimy, with poor landscaping, dirty elevators, and lack of maintenance. It is located on a loud, busy road but has a convenient location near restaurants and attractions. The hotel is considered very basic and in need of renovation, with service limited to one of the three buildings. The pool area is generally clean and well-maintained, but not very private. Internet is only available in the lobby. The building is now called the Continental Plaza Hotel.\n",
            "cleanliness 811\n",
            "Tokens: 541\n",
            "Attempt#:1\n",
            "The reviews regarding the cleanliness of the hotel are mixed. Some guests mentioned that their room was clean, the bed was comfortable, and the maid service was provided six times a week. The pool area was also described as clean. However, other guests experienced issues with stained bedsheets, dead mosquitoes on towels, and ants in the sink. Overall, some guests found the hotel to be clean and satisfactory, while others had negative experiences with cleanliness.\n",
            "Tokens: 637\n",
            "Attempt#:1\n",
            "The reviews indicate mixed opinions on the cleanliness of the hotel. Some guests found the rooms to be clean and well-supplied with towels, while others experienced issues with bugs, ants, and cockroaches in their rooms. The rooms were also described as outdated and having a bad smell by some guests. Overall, the cleanliness of the hotel seems to be inconsistent and a potential concern for some visitors.\n",
            "Tokens: 620\n",
            "Attempt#:1\n",
            "The reviews regarding the cleanliness of the hotel are mixed. Some guests experienced issues with red ants, cockroaches, bedbugs, and mold, describing the hotel as \"gross\" and \"grimy.\" However, other guests found the hotel to be clean, with fresh bedding and no bug problems. The overall impression is that the cleanliness of the hotel may vary depending on the room and the individual experience.\n",
            "Tokens: 550\n",
            "Attempt#:1\n",
            "The reviews on the hotel's cleanliness are mixed. Some guests found the rooms to be clean despite being worn, while others described the hotel as dirty and even mentioned encountering unpleasant odors. The pool was mentioned as being nice and clean.\n",
            "Tokens: 649\n",
            "Attempt#:1\n",
            "The reviews regarding the cleanliness of the hotel are mixed. Some guests mentioned that the rooms were cleaned daily and provided fresh towels and linen, and the pool area was spotlessly clean. However, others complained about dirty washrooms, small bathrooms, and issues with ants around the sink area.\n",
            "Tokens: 701\n",
            "Attempt#:1\n",
            "The reviews generally mentioned that the rooms were clean, tidy, and well-maintained. Housekeeping staff was thorough and friendly. Some reviews mentioned that carpets were steam cleaned mid-week, and the rooms appeared spotless. Overall, the cleanliness of the hotel was satisfactory for the guests.\n",
            "Tokens: 545\n",
            "Attempt#:1\n",
            "The reviews generally mentioned that the rooms were clean and tidy, with daily cleaning provided. However, one review noted a slight odor in the room, possibly due to it not being aired out.\n",
            "Tokens: 484\n",
            "Attempt#:1\n",
            "The reviews regarding the cleanliness of the hotel are mixed. Some guests found the rooms, grounds, and pool area clean and well-maintained, with fresh towels and sheets provided daily. However, others reported dirty towels with stains, dirty bed sheets, and a disgusting bathroom with scum on the showerhead, bathtub, and toilet. The carpet was also mentioned as being sticky. Overall, the cleanliness seems to vary for different guests, with some having a positive experience and others having a negative one.\n",
            "Tokens: 482\n",
            "Attempt#:1\n",
            "The reviews have mixed opinions on the cleanliness of the hotel. Some guests mentioned that the hotel was clean and neat, with rooms being promptly made up each day and a clean pool area. However, one reviewer had a negative experience, stating that the rooms smelled damp and musty, and appeared shabby and dirty.\n",
            "Tokens: 725\n",
            "Attempt#:1\n",
            "The reviews regarding cleanliness are mixed. Some guests found their rooms to be clean, with excellent maid service providing fresh towels daily and making beds. However, one reviewer mentioned their room was disgusting, with a tiny and dirty bathroom, giving an overall negative impression of cleanliness.\n",
            "Tokens: 533\n",
            "Attempt#:1\n",
            "The reviews indicate that the hotel's cleanliness was poor. Guests mentioned a distinctive odor in the rooms, dampness in clothes and papers, small ants in the bathroom, filthy carpets, and even a cockroach infestation. The bedding was torn, and one guest found a bug in their purse after the stay. The pool was also not user-friendly due to bugs. Overall, the cleanliness of the hotel was not up to standard.\n",
            "Tokens: 442\n",
            "Attempt#:1\n",
            "The cleanliness of the hotel seems to be a mixed bag. Some reviews mention that the cleaning was average, the room was damp and slimy, and there were bugs in the rooms. However, other reviews describe the rooms as spotless, with clean carpets, bathrooms, and shower curtains. Rooms were also cleaned daily with fresh bedding and towels provided.\n",
            "Tokens: 613\n",
            "Attempt#:1\n",
            "The reviews on the cleanliness of the hotel are mixed. Some guests mentioned finding old moldy juice bottles under the beds and ants on the dresser. The room was described as needing a fresh coat of paint and having a musky scent. However, other guests found the rooms to be clean, free of unwanted guests, and the maid service to be efficient in providing fresh towels and daily cleaning. The pool area was also described as clean and well-maintained.\n",
            "Tokens: 651\n",
            "Attempt#:1\n",
            "The reviews on cleanliness are mixed. Some guests found the hotel clean and satisfactory, while others mentioned issues like mold in the toilet, worn and old rooms, and ants around the sink.\n",
            "Tokens: 529\n",
            "Attempt#:1\n",
            "The reviews indicate that the hotel's cleanliness was satisfactory. The rooms were clean and fresh-smelling, with linen changed almost daily and towels, shampoo, and soaps replenished daily. The grounds and pool were also well-maintained.\n",
            "Tokens: 596\n",
            "Attempt#:1\n",
            "The reviews indicate mixed opinions on the cleanliness of the hotel. Some guests found their rooms to be clean, with fresh linens and working air conditioning. However, others reported issues such as dirty elevators, poorly maintained common areas, stuffy and disgusting rooms, ants in the sink, and unclean toilets. The hotel's cleanliness seems to be inconsistent and may vary from room to room.\n",
            "Tokens: 428\n",
            "Attempt#:1\n",
            "The reviews regarding cleanliness are mixed. Some guests found the rooms clean, bright, and well-maintained, with new-looking towels and a clean pool area. However, one guest had a negative experience with a dirty room and had to request cleaning supplies to clean it themselves, as the cleaning staff was unavailable at night.\n",
            "Tokens: 715\n",
            "Attempt#:1\n",
            "The reviews on cleanliness vary, with some guests reporting a clean and well-maintained room, while others experienced issues with dirtiness, cobwebs, and even bedbugs. The housekeeping staff was praised by some guests for keeping certain rooms spotless. Overall, the cleanliness seems to depend on the specific room assigned to the guest.\n",
            "Tokens: 686\n",
            "Attempt#:1\n",
            "The reviews generally mention that the rooms and bathrooms were clean, with clean sheets and towels provided daily. However, some guests reported a damp smell in the room and encountered bugs like cockroaches. The overall impression is that the hotel is clean but somewhat worn and tired.\n",
            "Tokens: 527\n",
            "Attempt#:1\n",
            "The reviews generally mentioned that the hotel was clean, with one reviewer stating that their room was okay and another highlighting the excellent housekeeping. Overall, the hotel seems to maintain a decent level of cleanliness.\n",
            "Tokens: 644\n",
            "Attempt#:1\n",
            "The reviews generally indicate that the hotel's cleanliness is satisfactory. The rooms and pool are described as clean, and the grounds are well-maintained. There were a few minor issues mentioned, such as flies in the area, an ant on the path, and some leftover crumbs in one room, but these did not significantly impact the overall perception of cleanliness. The maid service was also praised as perfect.\n",
            "Tokens: 532\n",
            "Attempt#:1\n",
            "The majority of the reviews mentioned that the hotel was clean and well-maintained. The rooms were cleaned daily with sheets and towels changed as well. The swimming pool was also described as clean and warm. However, one reviewer mentioned concerns about the cleanliness of the bedding and reported seeing tiny ants around the sink area.\n",
            "Tokens: 591\n",
            "Attempt#:1\n",
            "The reviews generally mentioned that the rooms were clean and cleaned daily, with fresh towels and linens provided. However, one reviewer mentioned that their room was \"somewhat clean\" and they had to help clean it up a bit. Overall, the cleanliness of the hotel seems to be satisfactory for most guests.\n",
            "Tokens: 320\n",
            "Attempt#:1\n",
            "The reviews mentioned that the rooms were cleaned daily with beds made and fresh towels provided. However, there were tiny bugs in the sink and on countertops, which made it impossible to leave food lying around. The reviewer also checked for bed bugs and did not find any in the room.\n",
            "Tokens: 440\n",
            "Attempt#:1\n",
            "The reviews indicate mixed opinions on the cleanliness of the hotel. Some guests found the hotel to be clean and well-maintained, while others reported issues such as dirty carpets, bathrooms, and furniture, as well as mold and bugs. The free breakfast area seemed to be crowded and one guest mentioned finding ants in the cereal.\n",
            "Tokens: 728\n",
            "Attempt#:1\n",
            "The reviews mentioned that the rooms were clean and housekeeping was satisfactory in some cases. However, there were also reports of a serious bed bug problem and ants in multiple rooms, which caused discomfort to guests. Some rooms were also described as outdated and having unpleasant smells.\n",
            "Tokens: 772\n",
            "Attempt#:1\n",
            "The reviews generally mentioned that the rooms were clean, with one guest specifically mentioning the cleanliness of the mattresses.\n",
            "Tokens: 648\n",
            "Attempt#:1\n",
            "The reviews generally describe the hotel as clean, with nice and clean bedrooms and bathrooms. The rooms are also mentioned to be cleaned and beds made every day, with soap and other amenities replaced daily.\n",
            "Tokens: 804\n",
            "Attempt#:1\n",
            "The cleanliness of the hotel received mixed reviews. Some guests mentioned that the rooms were reasonably clean with new linens and towels provided daily. However, other guests reported issues such as mold, dirty carpets, and musty smells in the rooms. Overall, the hotel's cleanliness could be improved.\n",
            "Tokens: 448\n",
            "Attempt#:1\n",
            "The accounts of the hotel's cleanliness are mixed. Some guests found the rooms to be clean, well-maintained, and serviced daily, with fresh towels and linen provided. The pool area was also described as clean in several reviews. However, other guests experienced issues with stained bedsheets, dead mosquitoes, ants, bugs, and unpleasant odors. Some rooms were also described as outdated and having a bad smell. The overall impression is that the cleanliness of the hotel may vary depending on the room and the individual experience.\n",
            "Tokens: 463\n",
            "Attempt#:1\n",
            "The accounts of the hotel's cleanliness are mixed. Some guests had a positive experience, finding the rooms, grounds, and pool area clean and well-maintained, with daily maid service providing fresh towels and sheets. However, others reported issues such as dirty towels, stained bed sheets, disgusting bathrooms, sticky carpets, and even bug infestations. Overall, the cleanliness of the hotel seems to vary for different guests, with some having a satisfactory experience and others having a negative one.\n",
            "Tokens: 485\n",
            "Attempt#:1\n",
            "The accounts of the hotel's cleanliness are mixed. Some guests found the rooms, bathrooms, and pool area to be clean and well-maintained, with efficient maid service and fresh linens. However, others reported issues such as mold, worn rooms, ants, dirty elevators, unclean toilets, and even bedbugs. The cleanliness seems to depend on the specific room assigned to the guest. Overall, the hotel appears to maintain a decent level of cleanliness, but may be somewhat worn and tired.\n",
            "Tokens: 478\n",
            "Attempt#:1\n",
            "The accounts regarding the cleanliness of the hotel are mixed. Most reviews praise the hotel's cleanliness, daily room cleaning, and fresh towels and linens. However, some guests reported minor issues such as flies, ants, leftover crumbs, and dirty carpets. There were also concerns about mold, musty smells, and outdated rooms in some cases. Overall, the hotel's cleanliness seems to be satisfactory for most guests, but there is room for improvement.\n",
            "Tokens: 32\n",
            "Attempt#:1\n",
            "The accounts mentioned that the hotel's cleanliness needs improvement.\n",
            "Tokens: 424\n",
            "Attempt#:1\n",
            "The accounts of the hotel's cleanliness are mixed, with some guests finding the rooms, bathrooms, and pool area clean and well-maintained, while others reported issues such as stained bedsheets, bugs, mold, and unpleasant odors. The overall impression is that the cleanliness may vary depending on the room and individual experience, with the hotel generally maintaining a decent level of cleanliness but having room for improvement.\n",
            "location 64\n",
            "Tokens: 551\n",
            "Attempt#:1\n",
            "The reviews generally highlight the hotel's great location, being close to Disney parks and various restaurants and shops. It is also mentioned that the hotel is centrally situated on Highway 192 and easily accessible. However, some reviews mention that it is a bit further from other attractions such as Universal, International Drive, and Prime Outlets. One review advises against taking the free shuttle to Disney, as it takes a longer route to pick up other guests. Overall, the location is considered ideal for a holiday spent mostly out and about, with a few minor drawbacks.\n",
            "Tokens: 483\n",
            "Attempt#:1\n",
            "The reviews highlight that the hotel is in an excellent location, being close to Disney entrances, various restaurants, supermarkets, and theme parks. It is also near Walgreens, Outback, and TGI's, and has easy access to the highway. However, it is far from the Florida Mall and has no shuttle service there. The location is convenient for those driving to Orlando and serves as a great base for visiting the area.\n",
            "Tokens: 434\n",
            "Attempt#:1\n",
            "The reviews highlight the hotel's convenient location, particularly for visiting theme parks such as Disney, Universal, and Sea World. It is also close to various shops, restaurants, and attractions in the local area. The hotel is situated near a back road called Sherberth that provides easy access to the parks and helps avoid traffic on the 192. There are also nearby shopping areas, including a Walmart and Target about 20 minutes away. Some guests mention that a car is needed for transportation, but overall, the location is considered excellent for a fun-packed holiday.\n",
            "Tokens: 62\n",
            "Attempt#:1\n",
            "The location is convenient, being 5 minutes from Interstate 4, 40 minutes to Sea World and Universal, 1 hour to Busch Gardens, and 1 hour 15 minutes to Kennedy Space Center.\n",
            "Tokens: 373\n",
            "Attempt#:1\n",
            "The accounts emphasize the hotel's excellent and convenient location, being close to Disney parks, various restaurants, shops, and other theme parks such as Universal and Sea World. It is easily accessible, situated on Highway 192 and near a back road called Sherberth. However, it is a bit further from attractions like International Drive and Prime Outlets, and a car may be needed for transportation. Despite a few minor drawbacks, the location is considered ideal for a holiday spent mostly out and about, serving as a great base for visiting the area.\n",
            "service 290\n",
            "Tokens: 557\n",
            "Attempt#:1\n",
            "The reviews indicate mixed opinions about the service at the hotel. Some guests mentioned that the staff were friendly, helpful, and approachable, while others found them to be rude and unhelpful. Communication issues were also mentioned with one staff member. Additionally, there was a complaint about the head office not responding to a complaint.\n",
            "Tokens: 706\n",
            "Attempt#:1\n",
            "The service at the hotel received mixed reviews. The maids provided clean towels and made the beds daily. The front desk staff was helpful, friendly, and efficient, offering park tickets and advice. The shuttle service to the parks was free and mostly on time, though some guests found it to be limited in terms of trips and destinations. The hotel provided free continental breakfast in the past, but it was stopped in 2012, and now only coffee is available in the gift shop. The hotel also had a guest service stand, on-site laundry, and a small gift shop. Overall, the hotel's service was generally appreciated, but some areas could use improvement.\n",
            "Tokens: 506\n",
            "Attempt#:1\n",
            "The reviews generally indicate that the service at the hotel was pleasant and helpful, with friendly staff, particularly at the reception and housekeeping. There was efficient maid service with clean towels provided daily, and the front desk staff was helpful. However, there was one instance of an older woman being abrupt and unhelpful. The hotel also offered a shuttle bus service to parks, and the reception was willing to help with phone charger issues. Overall, the service was mostly positive and satisfactory.\n",
            "Tokens: 556\n",
            "Attempt#:1\n",
            "The reviews mentioned that the hotel provides free shuttle buses to theme parks and the receptionist was polite and helpful. The staff were generally pleasant, with guest services being very helpful in planning trips and visits. However, the front desk was described as polite but not eager to help, and there was no shuttle service to the Florida Mall.\n",
            "Tokens: 795\n",
            "Attempt#:1\n",
            "The reviews of the hotel service are mixed. Some guests found the staff helpful and enjoyed the free shuttle rides to theme parks and outlets. However, others had negative experiences with the shuttle service, such as arriving late or not showing up at all. The hotel manager was also mentioned as being rude and unhelpful. Overall, the service seems to be inconsistent and may vary depending on the situation.\n",
            "Tokens: 416\n",
            "Attempt#:1\n",
            "The service at the hotel received mixed reviews. Some guests praised the staff for being friendly, helpful, and polite, with prompt service and daily replenishment of towels and toiletries. They also appreciated the free shuttle to parks and the complimentary breakfast. However, other guests had negative experiences, such as encountering an unfriendly manager, being offered cleaning supplies to clean their room themselves, and facing a lack of internet service. Additionally, some guests were annoyed by the constant pestering from the ticket stand and the service being cut off at 10 AM during breakfast.\n",
            "Tokens: 628\n",
            "Attempt#:1\n",
            "The service at the hotel received mixed reviews. Some guests were quite satisfied with the housekeeping staff, front desk, and overall helpfulness and friendliness of the staff. However, others had bad experiences with reservation services, unhelpful front desk staff, and poor customer service over the phone. Issues with the metro shuttle service and the lack of breakfast were also mentioned.\n",
            "Tokens: 536\n",
            "Attempt#:1\n",
            "The reviews generally mentioned that the staff at the hotel were friendly, helpful, and attentive. Maintenance was prompt in addressing technical issues, and housekeeping was appreciated for their cleanliness and creativity with guests' belongings. The staff's pleasant demeanor contributed to a positive experience for many guests.\n",
            "Tokens: 549\n",
            "Attempt#:1\n",
            "The service at the hotel received mixed reviews. Some guests appreciated the availability of amenities such as free parking, pool, laundry facility, free wireless, and free shuttle. However, there were complaints about the hotel staff being rude when issues were brought to their attention, and some guests experienced problems with housekeeping and maintenance. Additionally, the availability of sun loungers at the pool was limited, causing queues in the morning.\n",
            "Tokens: 542\n",
            "Attempt#:1\n",
            "OpenAI API returned an API Error: Bad gateway. {\"error\":{\"code\":502,\"message\":\"Bad gateway.\",\"param\":null,\"type\":\"cf_bad_gateway\"}} 502 {'error': {'code': 502, 'message': 'Bad gateway.', 'param': None, 'type': 'cf_bad_gateway'}} {'Date': 'Tue, 16 May 2023 16:41:48 GMT', 'Content-Type': 'application/json', 'Content-Length': '84', 'Connection': 'keep-alive', 'X-Frame-Options': 'SAMEORIGIN', 'Referrer-Policy': 'same-origin', 'Cache-Control': 'private, max-age=0, no-store, no-cache, must-revalidate, post-check=0, pre-check=0', 'Expires': 'Thu, 01 Jan 1970 00:00:01 GMT', 'Server': 'cloudflare', 'CF-RAY': '7c850a159e5f8702-ORD', 'alt-svc': 'h3=\":443\"; ma=86400, h3-29=\":443\"; ma=86400'}\n",
            "Attempt#:2\n",
            "The service at the hotel was generally basic and rated at 2 stars. The hotel offered a free shuttle bus to theme parks, but the timings were not always ideal. There is a self-service laundry machine on the ground floor, and the staff was described as friendly. It may not be suitable for families or those looking for high levels of service, especially during high season.\n",
            "Tokens: 431\n",
            "Attempt#:1\n",
            "The accounts of the hotel service are mixed. Positive aspects include friendly and helpful staff, particularly at reception and housekeeping, efficient maid service with daily clean towels, and a free shuttle service to theme parks. However, some guests experienced rude and unhelpful staff, communication issues, limited shuttle service, and no shuttle service to the Florida Mall. The hotel also stopped providing free continental breakfast in 2012, and now only offers coffee in their gift shop. Overall, the service was mostly satisfactory, but there is room for improvement in certain areas.\n",
            "Tokens: 450\n",
            "Attempt#:1\n",
            "The service at the hotel received mixed reviews. Some guests praised the staff for being friendly, helpful, and polite, while others had negative experiences with rude and unhelpful staff members. The availability of amenities such as free shuttle, parking, and breakfast were appreciated, but there were complaints about limited sun loungers at the pool and inconsistent service. Overall, the service at the hotel was considered basic and rated at 2 stars.\n",
            "Tokens: 218\n",
            "Attempt#:1\n",
            "The service at the hotel received mixed reviews. Positive aspects include friendly staff, efficient housekeeping, and free shuttle service to theme parks. However, some guests encountered rude staff, communication issues, limited amenities, and no free breakfast. Overall, the service was mostly satisfactory but with room for improvement, resulting in a basic 2-star rating.\n",
            "food 159\n",
            "Tokens: 558\n",
            "Attempt#:1\n",
            "The reviews mentioned that the hotel's continental breakfast was very basic, disappointing, and limited to a few options such as cereal, toast, waffles, coffee, and juice. Some reviewers found the breakfast to be stale and of poor quality. However, many praised the hotel's location for being near a variety of good restaurants and eateries along the 192 highway, with recommendations including Ponderosa, Rainforest Cafe, Hardrock Cafe, Bennigans, and Johnny Rockets. A nearby Publix supermarket was also mentioned for those looking to buy their own food supplies.\n",
            "Tokens: 643\n",
            "Attempt#:1\n",
            "The reviews indicate that the hotel offers a continental breakfast, which is mostly adequate but could use more variety. The breakfast options include cereal, toast, coffee, juice, waffles, donuts, and muffins. Some guests enjoyed the waffles and found the breakfast to be better than other motel-like hotels in Florida. However, others found the breakfast to be boring and lacking in options. There are many restaurants nearby for alternative dining options, including TGI Friday, Red Lobster, Italian, Subway, Steak House, and fast food joints. The hotel shop is considered expensive, and the breakfast dining area is small.\n",
            "Tokens: 566\n",
            "Attempt#:1\n",
            "The reviews indicate that the hotel's breakfast buffet is disappointing, offering limited options like toast, cereal, and make-your-own waffles, which some guests found unsatisfactory. However, some guests appreciated that it was free. Many guests preferred to eat at nearby restaurants, cafes, and breakfast buffets, which offer a wider variety of food options at affordable prices. The hotel's location is convenient, with many restaurants and a supermarket nearby.\n",
            "Tokens: 484\n",
            "Attempt#:1\n",
            "The food at the hotel is generally basic, with a free breakfast consisting of coffee, tea, orange juice, toast, and cereals. Some guests found the breakfast to be satisfactory and enough to fuel up for the day, while others thought it was poor or overcrowded. The hotel is surrounded by numerous restaurants and eateries, such as an all-you-can-eat Chinese buffet, Outback Steakhouse, and TGI, offering guests a variety of dining options. However, some reviews mentioned that the hotel no longer provides a continental breakfast, requiring guests to bring their own food or eat out. Overall, the hotel's food offerings are not fancy but are convenient for guests looking for a simple meal.\n",
            "Tokens: 440\n",
            "Attempt#:1\n",
            "The reviews indicate that the hotel offers a basic breakfast, including cereal, toast, doughnuts, muffins, tea, coffee, and fruit juices. Some guests found the breakfast decent and appreciated that it was free, while others mentioned it was crowded, hard to find a seat, and had limited options. A few reviewers expressed disappointment with the lack of healthier options and the quality of the coffee. There are several restaurants and stores within walking distance, including a Dunkin Donuts, which some guests preferred for breakfast.\n",
            "Tokens: 568\n",
            "Attempt#:1\n",
            "The food reviews are mostly negative, with many guests complaining about the limited and poor quality of the free breakfast, which consisted of only cereal, toast, coffee, and juice. Some guests mentioned ants in the cereal and a lack of seating during breakfast. However, there were many restaurants and eateries nearby, with a variety of options to choose from. A few guests mentioned the Chinese restaurant next to the hotel but received mixed reviews. Overall, guests were not satisfied with the hotel's food offerings and preferred to eat at nearby establishments.\n",
            "Tokens: 138\n",
            "Attempt#:1\n",
            "The reviews indicate that the hotel's free breakfast is very poor, offering limited options such as toast, jam, sugar-coated cereal, and doughnuts. There is not enough seating, resulting in guests having to eat standing up. However, there are many restaurant choices nearby.\n",
            "Tokens: 376\n",
            "Attempt#:1\n",
            "The accounts indicate that the hotel's continental breakfast is basic, disappointing, and limited in options, with some guests finding it stale and of poor quality. However, some appreciated that it was free and found it adequate compared to other similar hotels. The hotel's location is praised for being near a variety of good restaurants and a supermarket, offering alternatives for dining and food supplies.\n",
            "Tokens: 390\n",
            "Attempt#:1\n",
            "The hotel's food offerings, specifically the free breakfast, received mostly negative reviews due to its limited options, poor quality, and overcrowding. However, guests appreciated the variety of nearby restaurants and eateries as alternatives for dining options.\n",
            "Tokens: 31\n",
            "Attempt#:1\n",
            "The accounts mentioned that there are numerous restaurant options available near the hotel.\n",
            "Tokens: 156\n",
            "Attempt#:1\n",
            "The accounts stated that the hotel's continental breakfast is basic, disappointing, and limited in options, with some guests finding it stale and of poor quality. However, some appreciated that it was free and found it adequate compared to other similar hotels. The hotel's food offerings received mostly negative reviews, but guests appreciated the variety of nearby restaurants and eateries as alternatives for dining options. The hotel's location is praised for being near a variety of good restaurants and a supermarket.\n",
            "rooms 569\n",
            "Tokens: 560\n",
            "Attempt#:1\n",
            "The reviews generally mention that the rooms at the hotel are spacious, clean, and comfortable, with soft sheets and new beds. The rooms also have amenities like a washer and dryer, coffee maker, iron, and ironing board. Some guests enjoyed the relaxing atmosphere of the rooms. However, there were a few negative comments about outdated decor and a damp or unpleasant smell in some rooms. The hotel staff were willing to accommodate requests for room changes when needed.\n",
            "Tokens: 426\n",
            "Attempt#:1\n",
            "The reviews mentioned that the rooms were generally clean and the beds were comfortable. Some rooms had nice features like private balconies and large jacuzzi tubs. However, there were some issues with the rooms, such as musty smells, small bathrooms, and a lack of extra outlets. Some rooms also had problems with the AC not working well and doors not locking properly. Overall, the hotel seems to be a bit older and in need of some updates.\n",
            "Tokens: 515\n",
            "Attempt#:1\n",
            "The reviews mentioned that the rooms were generally clean and the beds were comfortable. However, some guests found the hotel to be outdated and in need of renovation. There were also complaints about the small and dirty bathrooms, and the wooden floors causing noise. The bed linens could also use an update, but overall, the rooms were considered average and satisfactory for the price.\n",
            "Tokens: 554\n",
            "Attempt#:1\n",
            "The rooms at the Stone Castle Hotel are spacious and decorated with a medieval theme. They have adequate space and are clean with nice furnishings. However, some aspects of the rooms appear old, such as the bathrooms and blankets on the beds. The TV provided is also an older picture tube TV. Overall, the rooms are not luxurious but are considered a good deal for the price.\n",
            "Tokens: 440\n",
            "Attempt#:1\n",
            "The reviews of the rooms are mixed. Some guests found the rooms to be nice, comfortable, clean, and quiet with comfy beds and well-functioning air conditioning. However, others reported poorly made beds and tiny bathrooms. One guest specifically advised against staying in the third building.\n",
            "Tokens: 569\n",
            "Attempt#:1\n",
            "The reviews of the rooms were mixed. Some guests found the rooms and halls to be clean and neat, with comfortable beds. Others experienced issues such as water damage, musty smells, and wi-fi problems, requiring multiple room changes. Some mentioned concerns with bedding, including duvets and ripped blankets, as well as window locks. Overall, the rooms did not consistently meet the expectations of the guests.\n",
            "Tokens: 511\n",
            "Attempt#:1\n",
            "The reviews mentioned that the regular rooms at the hotel were cramped, with limited furniture and small bathrooms. The rooms also seemed outdated and in need of new carpeting. Some rooms smelled musty and had a dirty feel to them. However, the king bed was found to be comfortable, and the hotel was considered a good bargain for those who do not mind the small space. The hotel's theme rooms and suites may be more spacious, but the reviewers would only consider staying again if offered at a fair price. One reviewer had a positive experience, finding the room comfortable and affordable, and would choose the hotel again for future visits.\n",
            "Tokens: 473\n",
            "Attempt#:1\n",
            "The reviews of the rooms were mixed. Some guests found the rooms to be clean, nice, and better than expected for the price, while others mentioned that the rooms were a little dark and had some issues like broken hot tub jets. The beds could be softer, and there was a problem with room reservations and customer service at the front desk.\n",
            "Tokens: 460\n",
            "Attempt#:1\n",
            "The reviews mentioned that the rooms were a bit dated and had small TVs, but they were clean and acceptable. The furniture and art in the rooms were excellent. The rooms were small, with poor lighting and narrow sinks. The beds were comfortable and of a good size. The hotel was in the process of updating rooms.\n",
            "Tokens: 505\n",
            "Attempt#:1\n",
            "The reviews mentioned that the rooms were small, damp, and musty, with a bad smell and poor air conditioning. Some rooms were dirty, and there was a bug in one bed. However, other reviews described the rooms as clean and comfortable, with cable TV and coffee pots. The themed rooms were charming and had interesting artifacts. The beds were comfortable, and the pools and hot tubs were enjoyable.\n",
            "Tokens: 721\n",
            "Attempt#:1\n",
            "The reviews indicate that the rooms at the hotel were comfortable but not very clean, with some guests complaining about hair in bathtubs and poorly cleaned rooms. The rooms were also described as dark, worn, and having noisy AC/heat units. Some guests mentioned comfortable beds, while others were disappointed with the themed rooms and outdated features. The bathrooms were also noted to be small and the walls thin, allowing noise to travel between rooms. Overall, the reviews suggest that the hotel is in need of renovations and improvements in cleanliness, but some guests still found the rooms to be adequate for their stay.\n",
            "Tokens: 552\n",
            "Attempt#:1\n",
            "The reviews generally mentioned that the rooms were clean, comfortable, and nicely decorated, with good air conditioning and amenities like coffee makers and ironing boards. However, some reviewers mentioned that the rooms could be small and tight for a family of four, and one room had a mothball smell. Overall, the rooms received mostly positive feedback.\n",
            "Tokens: 429\n",
            "Attempt#:1\n",
            "The reviews of the hotel rooms are mixed. Some positive aspects mentioned are clean rooms, comfortable beds, and affordable pricing. However, there are also negative comments about small and dark rooms, tiny bathrooms, and cleanliness issues such as stained pillows, wet floors, and mildew. Some guests also reported a musty smell and outdated decor.\n",
            "Tokens: 597\n",
            "Attempt#:1\n",
            "The reviews generally indicate that the rooms at the hotel are nice, warm, cozy, and comfortable. Some guests were pleased with the themed rooms and found them interesting. However, there were some complaints about issues with air conditioning in certain rooms and difficulty with the wireless internet. Overall, the rooms were clean and the guests were mostly satisfied with their stays.\n",
            "Tokens: 494\n",
            "Attempt#:1\n",
            "The rooms at the hotel received mixed reviews. Some guests found them to be clean, comfortable, and nicely appointed, while others mentioned they were outdated, in need of repair, and had a damp, mildewy smell. The bathrooms were noted to be very small, and some rooms lacked a mini fridge and microwave. Despite these concerns, many guests still enjoyed their stay and found the rooms to be reasonably priced and conveniently located.\n",
            "Tokens: 455\n",
            "Attempt#:1\n",
            "The reviews generally described the rooms as clean, nicely decorated, and a great value for the price. Some guests found the rooms to be a bit cramped and poorly lit, but others mentioned them as spacious. The beds and bedding were comfortable and not the average \"hotel\" beds, but there was a mention of a musty smell in one room. The TV size varied in preference, and the bathroom was noted to be very small in one review. Overall, guests were satisfied with their stay and would consider returning to the hotel.\n",
            "Tokens: 563\n",
            "Attempt#:1\n",
            "The reviews of the hotel rooms are mixed. Some guests found the rooms clean, nicely furnished, and with comfortable beds. They also enjoyed the theme rooms and the decorations. However, others complained about the rooms being too small, especially for four adults, and having mold in the bathroom. Some also found the rooms to be filthy and not well maintained.\n",
            "Tokens: 362\n",
            "Attempt#:1\n",
            "The reviews generally praised the rooms for being clean, well-maintained, and spacious, with comfortable beds that smelled fresh. However, some reviewers mentioned that the hotel was outdated, with poorly lit rooms and small bathrooms. The walls were described as being thin, but overall, guests found the rooms to be a great value with essential amenities provided.\n",
            "Tokens: 476\n",
            "Attempt#:1\n",
            "The reviews generally praised the rooms for being clean, neat, and spacious, with some guests mentioning that they had a fridge, ironing board, and multiple televisions. The family suite with three beds was particularly well-received. However, one reviewer mentioned that their room was too small. The beds were comfortable, and the hotel offered both standard rooms and themed suites.\n",
            "Tokens: 340\n",
            "Attempt#:1\n",
            "The reviews mentioned that the rooms were generally clean, with nice decor, and comfortable beds. However, some issues were noted such as dirt under the beds, small room size, and poor lighting in the main area. The jacuzzi room received positive feedback, and the hotel was considered a good value with the use of coupons.\n",
            "Tokens: 508\n",
            "Attempt#:1\n",
            "The accounts of the hotel rooms were mixed. Positive aspects mentioned include spaciousness, cleanliness, comfortable beds, and useful amenities. Some rooms also had unique features like private balconies, large jacuzzi tubs, and themed decorations. However, there were also negative comments about outdated decor, damp or unpleasant smells, small bathrooms, and a lack of extra outlets. Some guests experienced issues with the air conditioning, door locks, and noise from wooden floors. The hotel was described as older and in need of updates, but overall, the rooms were considered average and satisfactory for the price.\n",
            "Tokens: 584\n",
            "Attempt#:1\n",
            "The accounts of the hotel rooms are mixed, with some guests finding them clean, comfortable, and affordable, while others mentioned small, dark, and outdated rooms with cleanliness issues. Positive aspects include comfortable beds, charming themed rooms, and interesting decor. However, negative comments highlight poor lighting, small bathrooms, musty smells, and issues with cleanliness such as stained pillows and mildew. Some guests also mentioned noisy AC units and thin walls. The hotel is in the process of updating rooms and may need further renovations to address these issues.\n",
            "Tokens: 574\n",
            "Attempt#:1\n",
            "The hotel rooms received mixed reviews. Many guests found them clean, comfortable, and well-appointed, with some enjoying themed rooms and nice decor. However, others reported outdated decor, musty smells, small size, and maintenance issues. Some guests experienced issues with air conditioning and Wi-Fi. Despite these concerns, most guests were satisfied with their stays and found the rooms reasonably priced and conveniently located. The hotel also offered family suites and jacuzzi rooms that received positive feedback. Overall, the hotel was considered a good value.\n",
            "Tokens: 347\n",
            "Attempt#:1\n",
            "The accounts of the hotel rooms were mixed, with some guests praising their spaciousness, cleanliness, comfortable beds, and useful amenities. Unique features like private balconies, jacuzzi tubs, and themed decorations were appreciated. However, negative comments included outdated decor, damp smells, small bathrooms, lack of outlets, and issues with air conditioning, door locks, and noise. Despite these issues, most guests found the rooms satisfactory for the price and considered the hotel a good value. The hotel is in the process of updating rooms and may need further renovations to address these concerns.\n",
            "building 100\n",
            "Tokens: 440\n",
            "Attempt#:1\n",
            "The building of the hotel has some positive aspects such as multiple swimming pools, hot tubs, and a non-smoking policy. However, it also has several negative aspects including a musty odor, being old and outdated, needing major renovations, and having confusing layouts. Some guests also mentioned safety concerns and poor lighting in the hallways and rooms.\n",
            "Tokens: 349\n",
            "Attempt#:1\n",
            "The hotel has an well-maintained exterior and has undergone some recent renovations. It has three separate buildings, with two having indoor pools and the main building housing the conference room and breakfast area. However, the hotel still shows its age with old and musty smells, particularly in the third building, which also has moldy bathtubs and security concerns. The pool area is in poor condition, and the hotel overall is in need of further updates and cleaning. The continental breakfast is only served in the first building, requiring a walk for guests staying in the other buildings.\n",
            "Tokens: 414\n",
            "Attempt#:1\n",
            "The Stone Castle hotel, formerly known as Settle Inn, has a unique castle-like design with medieval elements, situated in a beautiful Ozark hillside location. The exterior is visually appealing and the landscaping is well-maintained. The hotel has a clean swimming area, and it is close to various attractions. However, the hotel is showing signs of aging, with some issues such as ineffective air conditioning, broken ice machines, and disabled fire alarms. The buildings are spread out, which may inconvenience some guests. The conference room is adequate but may become uncomfortably warm. Despite these issues, the hotel has some positive features like a waterfall jacuzzi, medieval artifacts, and an overall pleasant atmosphere.\n",
            "Tokens: 400\n",
            "Attempt#:1\n",
            "The reviews of the Stone Castle Hotel and Conference Center are mixed. Many guests enjoyed their stay, praising the hotel's central location, indoor pool, safety features, and recent renovations. Some even mentioned that the hotel exceeded their expectations and highly recommended it for others. However, there were also negative comments, such as the building being outdated, having a musty smell, and issues with noise. Additionally, some guests felt the hotel was not worth the price they paid.\n",
            "Tokens: 439\n",
            "Attempt#:1\n",
            "The accounts of the hotel building mentioned positive aspects such as multiple swimming pools, hot tubs, a non-smoking policy, unique castle-like design, and a well-maintained exterior. However, the building also has negative aspects like a musty odor, being old and outdated, needing major renovations, and having confusing layouts. Some guests also mentioned safety concerns and poor lighting in the hallways and rooms. The hotel has undergone some recent renovations but still shows its age and is in need of further updates and cleaning. The buildings are spread out, causing inconvenience for some guests. Overall, the reviews are mixed with both positive and negative comments about the hotel building.\n",
            "cleanliness 786\n",
            "Tokens: 570\n",
            "Attempt#:1\n",
            "The reviews mentioned that the hotel rooms were very clean, and the hotel has recently undergone an extensive remodel, making it more pleasant and well-maintained.\n",
            "Tokens: 508\n",
            "Attempt#:1\n",
            "The reviews have mixed opinions on the cleanliness of the hotel. Some guests found the hotel to be clean, with comfortable beds and clean bathrooms, while others experienced musty odors in the rooms and common areas, as well as damp or animal urine smells. The hotel staff was accommodating in addressing some of these issues, but the overall condition of the property and odors were mentioned as concerns.\n",
            "Tokens: 557\n",
            "Attempt#:1\n",
            "The reviews generally mentioned that the rooms were clean, with no specific complaints about cleanliness.\n",
            "Tokens: 416\n",
            "Attempt#:1\n",
            "Most reviews mentioned that the rooms were clean and well-maintained, with comfortable beds and good overall cleanliness. However, one review mentioned a filthy and dirty bathroom, and another mentioned nasty beds. Overall, the majority of the reviews praised the cleanliness of the hotel.\n",
            "Tokens: 577\n",
            "Attempt#:1\n",
            "The reviews generally mention that the hotel was clean and well-maintained. Housekeeping and maid service were good, and the rooms were described as nice and well-decorated. However, some guests mentioned the need for new bed linens and an old-looking blanket.\n",
            "Tokens: 443\n",
            "Attempt#:1\n",
            "The reviews indicate that the hotel was clean, with well-maintained rooms and exterior. The rooms had nice furnishings and the hotel overall seemed to have been recently freshened up.\n",
            "Tokens: 434\n",
            "Attempt#:1\n",
            "The reviews regarding cleanliness were mixed. Some guests found the rooms to be large, comfortable, and clean, while others complained about the bedding feeling nasty, finding hair, and the hotel smelling old and musty. The bathroom was also mentioned to be tiny.\n",
            "Tokens: 399\n",
            "Attempt#:1\n",
            "The reviews mention that the rooms had nice furnishings, but there were issues with mold around the bathtub and possible water damage above the A/C unit in one room. The hotel seems to be in need of some tender care to restore its original character.\n",
            "Tokens: 558\n",
            "Attempt#:1\n",
            "The reviews had mixed opinions on the cleanliness of the hotel. Some guests mentioned that the rooms and halls were clean and neat, while others complained about the musty smell in the building, dirty pool with dead bugs floating in the water, and sheets that looked like they needed to be washed.\n",
            "Tokens: 513\n",
            "Attempt#:1\n",
            "The reviews have mixed opinions regarding the cleanliness of the hotel. Some guests found the rooms to be dirty, musty, and in need of updating and cleaning. On the other hand, others mentioned that the buildings were well-kept and clean, giving a positive impression.\n",
            "Tokens: 501\n",
            "Attempt#:1\n",
            "OpenAI API returned an API Error: Bad gateway. {\"error\":{\"code\":502,\"message\":\"Bad gateway.\",\"param\":null,\"type\":\"cf_bad_gateway\"}} 502 {'error': {'code': 502, 'message': 'Bad gateway.', 'param': None, 'type': 'cf_bad_gateway'}} {'Date': 'Tue, 16 May 2023 17:13:11 GMT', 'Content-Type': 'application/json', 'Content-Length': '84', 'Connection': 'keep-alive', 'X-Frame-Options': 'SAMEORIGIN', 'Referrer-Policy': 'same-origin', 'Cache-Control': 'private, max-age=0, no-store, no-cache, must-revalidate, post-check=0, pre-check=0', 'Expires': 'Thu, 01 Jan 1970 00:00:01 GMT', 'Server': 'cloudflare', 'CF-RAY': '7c853810cc8f8702-ORD', 'alt-svc': 'h3=\":443\"; ma=86400, h3-29=\":443\"; ma=86400'}\n",
            "Attempt#:2\n",
            "The reviews generally mentioned that the rooms were clean and well-maintained. The swimming area was also described as clean and fun. However, one review mentioned that some leftover food was found on the floor from previous occupants. Overall, the cleanliness seems to be satisfactory in most cases.\n",
            "Tokens: 423\n",
            "Attempt#:1\n",
            "The reviews mentioned that the hotel is clean, with neat and tidy interiors. The rooms were considered acceptable in terms of cleanliness, as were the common areas and pools.\n",
            "Tokens: 401\n",
            "Attempt#:1\n",
            "The reviews regarding cleanliness are mixed. Some guests found the hotel pleasant, comfortable, and relaxing, while others mentioned issues such as damp and musty rooms, a strong odor, and even a bug in the bed. The rooms were described as dirty and small by some guests, but others had no complaints about the staff's helpfulness and friendliness.\n",
            "Tokens: 480\n",
            "Attempt#:1\n",
            "The reviews on the cleanliness of the hotel were mixed. Some guests mentioned that the rooms were always very clean, while others complained about uncleanliness, such as hair in the bathtub and a musty smell in the rooms.\n",
            "Tokens: 697\n",
            "Attempt#:1\n",
            "The reviews regarding cleanliness are mixed. Some guests mentioned that the rooms were clean and well-maintained, while others reported issues such as worn towels and messy bedspreads upon arrival. The cleaning staff was generally praised for their good work, but overall, the cleanliness of the hotel seemed to vary between guests' experiences.\n",
            "Tokens: 537\n",
            "Attempt#:1\n",
            "The reviews generally mentioned that the rooms were very clean, with some specifically mentioning the cleanliness of the Settle Inn and the Stone Castle. However, one reviewer mentioned a negative experience at The Stone Castle with a hair found in their pancake and rusty water from the iron. Overall, the cleanliness of the hotels seems to be satisfactory to most guests.\n",
            "Tokens: 423\n",
            "Attempt#:1\n",
            "The reviews generally mentioned that the rooms were clean and well-maintained. Housekeeping was described as adequate, and the hotel's cleanliness contributed to the positive experiences of the guests.\n",
            "Tokens: 498\n",
            "Attempt#:1\n",
            "The reviews indicate that the hotel's cleanliness is inconsistent and unsatisfactory. Many guests reported stained pillows, sheets, and blankets, as well as a musty smell in the rooms. One guest even mentioned a moldy pillow and a wet floor from a leaking sink. The hallways were also described as having a bad odor. Some guests experienced dark and dingy rooms with mildew on the bathroom ceiling. However, there were a few positive comments about the hotel's staff being helpful and the location being convenient.\n",
            "Tokens: 542\n",
            "Attempt#:1\n",
            "The reviews generally mention that the rooms were clean enough, with some describing them as warm, cozy, and comfortable.\n",
            "Tokens: 500\n",
            "Attempt#:1\n",
            "Most reviews mentioned that the rooms were clean and well-maintained. However, one review mentioned a damp and mildewy smell in their room, and another review noted that the hot tub was a little dirty during their first visit, but it was clean during their second visit. Overall, the cleanliness of the hotel seems to be satisfactory for most guests.\n",
            "Tokens: 437\n",
            "Attempt#:1\n",
            "The reviews on cleanliness are mixed. Some guests found the rooms to be clean and relaxing, while others thought the hotel did not seem clean at all. The bathrooms were mentioned as being small and crowded, and there was a musty smell in some areas. However, the staff was quick to fix any issues that arose during the guests' stays.\n",
            "Tokens: 381\n",
            "Attempt#:1\n",
            "The reviews have mixed opinions on cleanliness. One reviewer mentioned that their room was dusty, making them question the overall cleanliness, while another found the rooms, especially the bathroom, to be very clean.\n",
            "Tokens: 656\n",
            "Attempt#:1\n",
            "The reviews mentioned that the rooms were very clean, but one of the rooms had a bit of a musty smell that went away after turning on the air. The bathroom was very tiny, but overall, the guests were pleased with the cleanliness of the hotel.\n",
            "Tokens: 542\n",
            "Attempt#:1\n",
            "The reviews on the cleanliness of the hotel are mixed. Some guests found their rooms to be filthy, with mold in the bathroom and a musty smell, while others had a positive experience, describing their rooms as clean, with nice furnishings and a well-maintained pool area.\n",
            "Tokens: 362\n",
            "Attempt#:1\n",
            "The reviews generally mention that the hotel rooms, bathrooms, and pool area are clean and well-maintained. The beds are fresh and smell good, and the bathrooms are notably clean. The staff also keeps the breakfast area full and clean.\n",
            "Tokens: 498\n",
            "Attempt#:1\n",
            "The majority of the reviews mentioned that the rooms and hallways were clean and well-maintained.\n",
            "Tokens: 527\n",
            "Attempt#:1\n",
            "The majority of the reviews mentioned that the hotel was clean, with clean rooms, bathrooms, and breakfast areas. However, one review reported dirt under the beds and an incident involving vomit outside the entry door that was not handled well by the staff.\n",
            "Tokens: 43\n",
            "Attempt#:1\n",
            "The reviews do not mention anything about the cleanliness of the hotel.\n",
            "Tokens: 503\n",
            "Attempt#:1\n",
            "The accounts of the hotel's cleanliness were mixed. Many reviews praised the clean and well-maintained rooms, comfortable beds, and recent renovations. However, some guests experienced musty odors, damp smells, and issues with mold or dirty linens. The hotel staff was accommodating in addressing some concerns, but overall, opinions on the hotel's cleanliness varied.\n",
            "Tokens: 461\n",
            "Attempt#:1\n",
            "The accounts of the hotel's cleanliness are mixed. Many reviews mentioned clean and well-maintained rooms, with some praising the housekeeping staff. However, some guests reported issues such as damp and musty rooms, stained bedding, and bad odors in the hallways. Overall, the cleanliness seems to be satisfactory for most guests, but inconsistent and unsatisfactory for others.\n",
            "Tokens: 500\n",
            "Attempt#:1\n",
            "The accounts regarding the cleanliness of the hotel are mixed. While most reviews mentioned that the rooms, bathrooms, and common areas were clean and well-maintained, some guests experienced issues such as mold, mildew, musty smells, and dirt in their rooms. The staff was generally helpful in addressing any concerns, but there were a few instances where cleanliness issues were not handled well. Overall, the hotel's cleanliness seems to be satisfactory for most guests, but improvements could be made.\n",
            "Tokens: 267\n",
            "Attempt#:1\n",
            "The accounts of the hotel's cleanliness were mixed, with many guests praising the clean and well-maintained rooms, while others reported issues such as musty odors, mold, dirty linens, and stained bedding. The staff was generally helpful in addressing concerns, but some instances were not handled well. Overall, cleanliness was satisfactory for most guests, but there is room for improvement.\n",
            "location 56\n",
            "Tokens: 395\n",
            "Attempt#:1\n",
            "The reviews indicate that the hotel is located just off Green Mountain Drive in Branson, which is a central and convenient location for accessing the town's attractions. The area is quiet and family-friendly, and the hotel is nestled into the Ozark hillside. Some reviewers recommend flying into Springfield for a shorter drive to the hotel. Overall, the location is considered great and off the main strip, making it a desirable place to stay.\n",
            "Tokens: 451\n",
            "Attempt#:1\n",
            "The reviews generally praise the hotel's location, describing it as conveniently and centrally located in Branson, close to various attractions, stores, restaurants, and activities. The hotel is situated off the main strip, providing a quiet atmosphere while still being easily accessible. It is also near the yellow route, making it easy to travel to other parts of Branson and Silver Dollar City.\n",
            "Tokens: 183\n",
            "Attempt#:1\n",
            "The accounts describe the hotel's location as conveniently and centrally located in Branson, just off Green Mountain Drive. It is close to various attractions, stores, restaurants, and activities while being situated off the main strip, providing a quiet, family-friendly atmosphere. The hotel is nestled into the Ozark hillside and near the yellow route, making it easy to travel to other parts of Branson and Silver Dollar City. Some reviewers recommend flying into Springfield for a shorter drive to the hotel. Overall, the location is considered great and desirable.\n",
            "service 212\n",
            "Tokens: 480\n",
            "Attempt#:1\n",
            "The service at the hotel received mixed reviews. Many guests praised the staff for being friendly, accommodating, professional, and making them feel at home. The breakfast show entertainer was a highlight for some, and the dining area staff was attentive. However, there were issues with the wireless internet not working and the staff being unable to resolve it. The front desk staff was particularly praised for their service.\n",
            "Tokens: 419\n",
            "Attempt#:1\n",
            "The service at the hotel received mixed reviews. Many guests praised the staff for being friendly, helpful, and accommodating, with some mentioning specific employees who went above and beyond to make their stay enjoyable. However, there were also complaints about the lack of internet service, cable, and phone issues, as well as some negative comments about the front desk staff being rude or unhelpful. Overall, the service seemed to be satisfactory for most guests, but there were some notable issues that detracted from the experience for others.\n",
            "Tokens: 364\n",
            "Attempt#:1\n",
            "The service at the hotel received mixed reviews. Some guests found the staff to be helpful and polite, and room service was willing to help. On the other hand, there were instances where guests experienced rude staff members and encountered issues at the front desk. The front desk clerk did help a guest get online after they experienced difficulty.\n",
            "Tokens: 314\n",
            "Attempt#:1\n",
            "The service at the hotel received mixed reviews. Many guests mentioned that the staff was friendly and provided excellent guest service, with helpful reservation assistance and welcoming office ladies. However, there were also some complaints about inconveniences and the hotel's condition, leading to a recommendation to look elsewhere for accommodation.\n",
            "Tokens: 371\n",
            "Attempt#:1\n",
            "The service at the hotel received mixed reviews. Many guests mentioned that the staff was friendly, helpful, and accommodating. However, some reviews pointed out the lack of room service, restaurant, and bar, as well as a non-functioning ATM. A few guests also noted that some staff members were not as interested in providing service. Overall, the service was generally seen as good, but with some areas for improvement.\n",
            "Tokens: 388\n",
            "Attempt#:1\n",
            "The service at the hotel received mixed reviews. Many guests praised the friendly and helpful staff, particularly the breakfast staff and housekeeping. The front desk was responsive in some instances, like returning a lost purse and sending pillows to a room. However, there were also instances where the staff was unable to resolve issues, such as finding an unstained pillow or providing a more empathetic response to complaints. Overall, the service was mostly positive, but there were some areas for improvement.\n",
            "Tokens: 467\n",
            "Attempt#:1\n",
            "The service at the hotel generally received positive reviews, with many guests praising the friendly and accommodating staff. The front desk personnel were helpful, and issues such as TV problems were fixed promptly. However, there was an instance where the front desk staff couldn't help with a Wi-Fi issue and a maid did not follow a guest's request to clean the bathroom with bleach. Overall, the service was highly appreciated by most guests, making their stay enjoyable and stress-free.\n",
            "Tokens: 363\n",
            "Attempt#:1\n",
            "The service at the hotel received mixed reviews. Many guests found the staff to be friendly, helpful, and accommodating. They appreciated the cleanliness of the pool area and the quality of the breakfast. However, some guests experienced issues during check-out and reported unprofessional behavior from the staff. There were also complaints about staff not honoring their own coupons and appearing clueless. Overall, while there were some negative experiences, the majority of the reviews praised the hotel's service.\n",
            "Tokens: 58\n",
            "Attempt#:1\n",
            "The service at the hotel received positive feedback, with the attendant praised for their cleanliness efforts and no issues reported by the reviewers. The guests enjoyed their stay and plan to return with family.\n",
            "Tokens: 377\n",
            "Attempt#:1\n",
            "The service at the hotel received mixed reviews. Many guests praised the staff for being friendly, accommodating, and professional, with some mentioning specific employees who went above and beyond. The front desk staff and breakfast show entertainer were particularly praised. However, there were also complaints about the lack of internet service, rude staff members, and issues with the hotel's condition. Some reviews mentioned a lack of room service, restaurant, bar, and a non-functioning ATM. Overall, the service was satisfactory for most guests, but there were some notable issues for others.\n",
            "Tokens: 372\n",
            "Attempt#:1\n",
            "The service at the hotel received mixed reviews, with many guests praising the friendly and helpful staff, particularly in areas like housekeeping, breakfast, and front desk responsiveness. However, there were instances of staff being unable to resolve issues, unprofessional behavior, and not honoring coupons. Despite some negative experiences, the majority of the reviews appreciated the hotel's service, and overall, the service was seen as mostly positive with areas for improvement.\n",
            "Tokens: 219\n",
            "Attempt#:1\n",
            "The service at the hotel received mixed reviews. Many guests praised the friendly and accommodating staff, particularly the front desk and breakfast show entertainer. However, there were complaints about the lack of internet, rude staff members, and hotel condition issues. Some also mentioned the absence of room service, restaurant, bar, and a non-functioning ATM. While the majority of reviews were positive, there were instances of staff being unable to resolve issues, unprofessional behavior, and not honoring coupons. Overall, the service was mostly satisfactory with areas for improvement.\n",
            "food 101\n",
            "Tokens: 515\n",
            "Attempt#:1\n",
            "The reviews overall have a positive view of the food at the hotel. Guests particularly enjoyed the breakfast buffet, which offered a variety of hot food options, such as scrambled eggs, biscuits, sausage gravy, and french toast sticks, along with typical hotel breakfast items. The dining area was spacious and well-organized, with attentive staff present. The breakfast entertainment was also appreciated. However, some guests mentioned the lack of a restaurant on-site and a few others had negative experiences or did not try the breakfast.\n",
            "Tokens: 408\n",
            "Attempt#:1\n",
            "The reviews indicate that the hotel offers a free breakfast with a variety of hot and cold options, including eggs, sausage, ham, biscuits and gravy, waffles, donuts, and cereals. The breakfast was generally enjoyed by the guests, with some appreciating the live entertainment and the staff's efforts in keeping the food fresh and well-stocked. However, some guests found the breakfast to be bland or not of the highest quality, with one mentioning that the eggs were \"mysterious.\" Overall, the breakfast experience was mostly positive, but not exceptional.\n",
            "Tokens: 322\n",
            "Attempt#:1\n",
            "The reviews generally praise the hotel's breakfast options, describing it as a free buffet with a good variety of choices, including scrambled eggs, biscuits and gravy, waffles, hot and cold cereal, donuts, and beverages. Some reviews mention an onsite restaurant, and one mentions a breakfast show during their stay. However, there are a few minor complaints, such as the term \"breakfast\" being used loosely, a hair in a pancake, and the coffee needing to be stronger. Overall, the food seems to be a positive aspect of the hotel.\n",
            "Tokens: 389\n",
            "Attempt#:1\n",
            "The reviews generally praised the food, particularly the breakfast, which was described as warm, fresh, and offering a good variety. Guests enjoyed the variety of options such as biscuits and gravy, waffle stations, cereal, bagels, toast, oatmeal, donuts, juice, milk, and coffee. Some mentioned the breakfast being accompanied by entertainment, which was appreciated by most. However, a few reviewers mentioned a lack of healthy options and crowded breakfast areas. Overall, the breakfast was considered a positive feature of the hotel.\n",
            "Tokens: 26\n",
            "Attempt#:1\n",
            "The reviews mentioned that the hotel has a good breakfast.\n",
            "Tokens: 464\n",
            "Attempt#:1\n",
            "The accounts generally have a positive view of the hotel's food, particularly the breakfast buffet, which offers a variety of hot and cold options. The dining area is spacious and well-organized with attentive staff, and some guests appreciated the live entertainment during breakfast. However, some minor complaints include the lack of an on-site restaurant, bland food, and a few negative experiences. Overall, the food is considered a positive aspect of the hotel.\n",
            "rooms 554\n",
            "Tokens: 581\n",
            "Attempt#:1\n",
            "The reviews generally described the rooms at the Primrose Hotel as clean, comfortable, and spacious. Some guests were satisfied with their accommodations, mentioning comfortable beds and great views of the Toronto skyline. However, one guest had issues with their room, as they received two separate beds and a kitchenette instead of the requested king-size bed without a kitchenette. Additionally, they experienced issues with the non-smoking floor smelling like cigarette smoke.\n",
            "Tokens: 669\n",
            "Attempt#:1\n",
            "The reviews indicate that the rooms were of average quality, with some issues such as wrong room bookings, stained and smelly linens, and popcorn on the floor upon arrival. The bathrooms were described as tired-looking and had issues like bathtub water leakage. The furniture was dated, and there were no fridges or electric jugs in the standard rooms. However, the beds were comfortable, the sheets were of good quality, and the location was convenient. Overall, guests were not satisfied with their stay and would not recommend the hotel.\n",
            "Tokens: 747\n",
            "Attempt#:1\n",
            "The reviews mentioned that the rooms had nice white towels, a good selection of toiletries, a four-cup coffee maker, and complementary Wi-Fi. The rooms were described as spacious and clean, with nice artwork on the walls and new furniture. Some rooms had great views of the city. However, some guests noted that the carpets were not well-vacuumed and the windows were grimy. One guest mentioned that the bathroom fan automatically turned on with the light, which was inconvenient for their preference. Additionally, there was no room service available.\n",
            "Tokens: 666\n",
            "Attempt#:1\n",
            "The reviews mentioned that the rooms were updated, clean, and had comfortable beds. Some rooms had nice views of the city, and the bathrooms appeared to be newly renovated. However, some reviewers experienced issues with the rooms, such as a tile falling from the bathroom wall and a smoking floor that smelled unpleasant. Overall, most guests seemed to have a positive experience with the rooms at this hotel.\n",
            "Tokens: 654\n",
            "Attempt#:1\n",
            "The reviews of the rooms at the Primrose Best Western hotel are mixed. Some guests found the rooms to be spacious, clean, and well-equipped with amenities like a microwave and fridge, making them suitable for families. Others, however, described the rooms as old, worn down, and unclean with unpleasant smells. Some guests had issues with the beds, and one had a negative experience with a smoking room. Overall, the opinions on the rooms at this hotel vary significantly.\n",
            "Tokens: 562\n",
            "Attempt#:1\n",
            "The reviews of the rooms are mixed, with some guests having a positive experience and others having a negative one. Positive aspects mentioned include large room sizes, comfortable double beds with fresh sheets and duvets, and great city views. Negative aspects include shabby rooms, brown stuff on bathroom walls, and a scary elevator situation. Some guests also mentioned reasonable pricing and free wireless internet as perks, while others said they would have preferred to pay extra for a better hotel.\n",
            "Tokens: 520\n",
            "Attempt#:1\n",
            "The reviews generally praised the rooms at the hotel, mentioning that they were spacious, clean, and comfortable. Many guests were impressed by the great views from the higher floors. The rooms were also described as quiet, despite some being let out to students, and the beds were large and comfortable. Some guests mentioned the lack of a fridge in the room, but the hotel provided one upon request. Overall, guests were satisfied with their stays and would consider returning.\n",
            "Tokens: 548\n",
            "Attempt#:1\n",
            "The reviews mentioned that the rooms in the hotel were comfortable with nice beds and were cleaned daily. They were spacious with queen-sized beds and decent views from the 5th floor. However, some guests mentioned small, unclean bathrooms and issues with internet access in the rooms. The rooms were considered acceptable but not the greatest.\n",
            "Tokens: 572\n",
            "Attempt#:1\n",
            "The reviews of the rooms at Best Western Primrose Hotel, Toronto Downtown are mixed. Some guests found the rooms to be large, clean, and comfortable with big beds, while others experienced filthy conditions, foul smells, and dirty bathrooms. One reviewer mentioned the hotel had a history of bedbug problems. The small bathroom and slow elevators during meal times were also noted.\n",
            "Tokens: 535\n",
            "Attempt#:1\n",
            "The reviews mentioned that the rooms at the hotel were generally clean, comfortable, and some had a great view of the city. They also mentioned that the rooms had comfortable beds and some had kitchenettes with a coffee maker, microwave oven, and refrigerator. However, one reviewer mentioned that their room was dirty and had marks on the walls and carpet.\n",
            "Tokens: 591\n",
            "Attempt#:1\n",
            "The reviews mentioned that the rooms were generally clean and quite large, with comfortable beds. Some rooms had a musty smell but were still clean. The rooms on higher floors seemed to be more preferable, and it was suggested to request a room away from the elevator. The housekeeping staff was mentioned as being nice and accommodating with extra towels.\n",
            "Tokens: 567\n",
            "Attempt#:1\n",
            "The reviews mentioned that the rooms were generally comfortable, spacious, and clean, with king-size beds, sofas, desks, and coffee makers. Some rooms had great views of downtown Toronto. However, some guests experienced issues with dust buildup, worn-out furnishings, and faulty fixtures. The Wi-Fi was also reported to be slow and unreliable.\n",
            "Tokens: 668\n",
            "Attempt#:1\n",
            "The reviews mentioned that the rooms were spacious, with options for smoking or non-smoking and one or two double beds. Some rooms had great views of the city and were comfortable, with amenities such as a refrigerator and microwave. The hotel also offered adjoining rooms for larger groups. However, some guests faced issues with the air conditioning making noise and not cooling enough.\n",
            "Tokens: 624\n",
            "Attempt#:1\n",
            "The reviews mention that the rooms can be big, clean, and quite nice with comfortable beds and decent décor. However, some rooms may have poor lighting and can feel gloomy. There are also complaints about small and cold bathrooms, mold on the ceiling, and stains on the bed. Noise from neighboring rooms can be an issue, as well as inconsistent room thermostat temperatures. Despite these issues, some guests found the hotel to be good value for the price and would stay there again.\n",
            "Tokens: 636\n",
            "Attempt#:1\n",
            "The reviews indicate that the rooms at this hotel are generally clean, reasonably large, and have fairly comfortable beds. However, some guests found the rooms to be dated and in need of a revamp. There was also a mention of noise disturbance from construction work in one instance.\n",
            "Tokens: 519\n",
            "Attempt#:1\n",
            "The reviews of the rooms at the hotel are mixed. Some guests mentioned issues with windows not closing, cleanliness problems, and the rooms smelling like ashtrays. However, other guests found the rooms to be spacious, clean, and comfortable, with extremely comfortable beds and multiple pillows. Some noticed signs of wear, such as wallpaper patches and stained carpets, but overall, many guests were satisfied with their stay and found the hotel to be a good value for the price.\n",
            "Tokens: 567\n",
            "Attempt#:1\n",
            "The reviews mentioned that the rooms were clean, well-kept, and had comfortable beds and pillows. However, they also mentioned that the rooms were dated and in need of a remodel. Some rooms had great views, but the furnishings, lighting, and carpets were nothing fancy. The bathrooms were also dated and the toiletries were cheap.\n",
            "Tokens: 635\n",
            "Attempt#:1\n",
            "The reviews mentioned that the rooms at Primrose Hotel were clean, comfortable, and spacious, with some offering great views of the lake. However, there were complaints about plumbing issues and dated decor in some rooms. The hotel has made renovations to the lobby and rooms, including updating the sheets to softer duvets. Overall, the rooms were considered satisfactory for the price, but some reviewers found the hotel to be below average compared to other options in Toronto.\n",
            "Tokens: 629\n",
            "Attempt#:1\n",
            "The reviews generally describe the rooms at the hotel as clean, quiet, and comfortable, with some even having great views of the Toronto skyline. The beds and pillows are considered a highlight, providing a comfortable stay for guests. Some rooms also come with kitchenette facilities, making them more convenient for longer stays. However, a few downsides were mentioned, such as the occasional internet connectivity issues and insufficient lighting in some rooms. Overall, the rooms are considered reasonable for the price and suitable for various purposes, including business meetings and family gatherings.\n",
            "Tokens: 147\n",
            "Attempt#:1\n",
            "The reviews mentioned that the hotel was able to provide 12 rooms on the same floor for the group, making it convenient for the wedding preparations. There were no problems or complaints from the guests about the rooms. The only issue mentioned was the cost of parking, which was $23 a day, but it was considered reasonable compared to other parking options in Toronto.\n",
            "Tokens: 590\n",
            "Attempt#:1\n",
            "The accounts of the rooms at the Primrose Hotel are mixed. Positive aspects mentioned include clean, spacious, and comfortable rooms with nice views, good quality sheets, and convenient amenities like Wi-Fi, toiletries, and coffee makers. However, negative aspects include outdated furniture, issues with cleanliness, wrong room bookings, tired-looking bathrooms, and unpleasant smells. Some guests were satisfied with their stay, while others were not and would not recommend the hotel.\n",
            "Tokens: 528\n",
            "Attempt#:1\n",
            "The accounts of the rooms at the hotel were mixed. Generally, the rooms were praised for being spacious, clean, and comfortable with large beds and great views, particularly on higher floors. Some rooms also had kitchenettes and additional amenities. However, there were complaints about small, unclean bathrooms, issues with Wi-Fi, and some instances of dirty or musty rooms. Other issues mentioned were slow elevators, a history of bedbug problems, dust buildup, worn-out furnishings, and faulty fixtures. The air conditioning in some rooms was also reported to be noisy and ineffective.\n",
            "Tokens: 603\n",
            "Attempt#:1\n",
            "The accounts of the hotel rooms are mixed. Generally, the rooms are described as clean, spacious, and comfortable with good beds and pillows. Some rooms have great views, and a few even offer kitchenette facilities. However, there are complaints about dated decor, poor lighting, noise disturbances, and plumbing issues. Some rooms also have cleanliness problems and signs of wear. Despite these issues, many guests found the hotel to be good value for the price and were satisfied with their stay. The only additional complaint mentioned was the cost of parking.\n",
            "Tokens: 333\n",
            "Attempt#:1\n",
            "The accounts of the rooms at the hotel are mixed. Positive aspects include clean, spacious, and comfortable rooms with nice views, good quality sheets, and convenient amenities such as Wi-Fi and kitchenettes. However, negative aspects include outdated furniture, cleanliness issues, noise disturbances, and plumbing problems. Some guests were satisfied with their stay, while others were not, and the cost of parking was also mentioned as a complaint.\n",
            "building 162\n",
            "Tokens: 521\n",
            "Attempt#:1\n",
            "The hotel is in a good location, close to Carlton/College Ave, Yonge St, Church Street Village, a subway station, a mall, and Toronto's equivalent of Times Square. It is clean, modern and has a large, suite-like room size for downtown. However, there are concerns about limited parking in the hotel garage, extremely slow elevators that might get stuck, and the use of cheap consumer-grade access points for Wi-Fi. There is a lovely grand piano in the lobby, but it might be disrupted by children playing. The hotel staff, particularly the manager, is helpful and the hotel is generally well-liked with good proximity to restaurants and attractions.\n",
            "Tokens: 469\n",
            "Attempt#:1\n",
            "The reviews indicate that the hotel is located in a convenient downtown area, close to major attractions and public transportation. The building offers fantastic views of the city and lake from some rooms. However, the hotel is in need of some updates, particularly the elevators, which are dated and sometimes unreliable. The hotel also has an underground shopping area that stretches to the waterfront. The parking garage is difficult to maneuver and the building seems to be in a worn and somewhat undesirable area of town. Overall, the hotel's location and views are appreciated, but the building itself needs improvements.\n",
            "Tokens: 546\n",
            "Attempt#:1\n",
            "The reviews indicate that the hotel is showing signs of age, with issues such as a loud air conditioning unit, slow draining showers, and an elevator held together with plywood. The underground parking is poorly laid out with steep ramps, narrow spots, and limited driving room. The elevators are slow and small, causing inconvenience for guests. On the positive side, the hotel is in a good location, close to the College Subway station, Eaton Center, and CN Tower. However, the area has some safety concerns due to the presence of prostitutes and drug users.\n",
            "Tokens: 456\n",
            "Attempt#:1\n",
            "The reviews mentioned that the hotel is located in a great location, close to various attractions, the subway, and downtown Toronto, with some breathtaking views. However, there were several complaints about the elevators being slow, packed, and in need of urgent replacement. Some guests had issues with noise from the elevators, and the hotel's proximity to the red light district. The rooms were described as gloomy, and the sign on the building was half burnt out. The hotel has an outdoor pool on the 3rd floor, but it was not highly recommended. Overall, the hotel was considered okay, but far from great.\n",
            "Tokens: 536\n",
            "Attempt#:1\n",
            "The reviews mentioned that the hotel is in a great location, close to various attractions and public transportation. However, the building is undergoing refurbishment, which was not mentioned on the website or during booking. The hotel also serves as a university residence and hosts bus tours. There were complaints about slow and small elevators, limited parking space, and potentially unsafe surroundings at night. Despite these issues, the lobby and common areas were noted to be clean.\n",
            "Tokens: 462\n",
            "Attempt#:1\n",
            "The reviews indicate that the hotel is in a central location, close to attractions, shops, and the subway. The building is older and has a feeling of being tired and run down. The parking garage is tight and the elevators are slow, with some undergoing renovation. The hotel features a Tim Hortons in the lobby and an outdoor pool that opens in the spring. The rooms are spacious with views of the city, and the hotel has meeting rooms ideal for training sessions. Overall, the hotel is considered acceptable for its location and proximity to attractions.\n",
            "Tokens: 382\n",
            "Attempt#:1\n",
            "The accounts indicate that the hotel is in a convenient and good location, close to major attractions and public transportation. The building offers fantastic views of the city and lake from some rooms. However, it is showing signs of age and needs improvements, particularly in the elevators and parking garage. The area surrounding the hotel may also have some safety concerns due to the presence of prostitutes and drug users.\n",
            "Tokens: 332\n",
            "Attempt#:1\n",
            "The accounts indicate that the hotel is in a great location close to attractions, shops, and public transportation. However, the building is older, tired, and run down, with refurbishments taking place. The hotel's elevators are slow and in need of replacement, and the parking garage is tight. The sign on the building is also half burnt out. Despite these issues, the lobby and common areas are clean.\n",
            "Tokens: 37\n",
            "Attempt#:1\n",
            "The accounts mentioned that the hotel is deemed satisfactory due to its convenient location and closeness to various attractions.\n",
            "Tokens: 204\n",
            "Attempt#:1\n",
            "The accounts describe the hotel as being in a convenient and good location, close to attractions, shops, and public transportation. The building offers impressive views from some rooms but is showing signs of age, needing improvements in the elevators and parking garage. The surrounding area may have safety concerns due to the presence of prostitutes and drug users, and the hotel's sign is half burnt out. Despite these issues, the lobby and common areas are clean.\n",
            "cleanliness 747\n",
            "Tokens: 481\n",
            "Attempt#:1\n",
            "The reviews generally indicate that the rooms at the Primrose Hotel are clean. Some guests mentioned that the hotel was modern and well-maintained, while others specifically noted the cleanliness of the rooms and the comfortable beds. One review mentioned that the bathroom needed a little work but was still sufficient for their needs. Overall, cleanliness seems to be a positive aspect of this hotel.\n",
            "Tokens: 579\n",
            "Attempt#:1\n",
            "The reviews do not specifically mention the cleanliness of the hotel. However, they mention issues with the room assignments, elevators, and wireless internet, as well as poor customer service and the lack of fire sprinklers in guest areas.\n",
            "Tokens: 642\n",
            "Attempt#:1\n",
            "The cleanliness of the hotel received mixed reviews. Some guests found their rooms to be clean and comfortable, while others experienced issues such as stained towels, a blood-stained pillowcase, unvacuumed carpets, and a grimy window. The bathroom was described as tired-looking and the furniture as dated. However, some guests mentioned that their rooms appeared to have new furniture and were very clean.\n",
            "Tokens: 623\n",
            "Attempt#:1\n",
            "The reviews generally mentioned that the rooms were clean, with one reviewer stating that the rooms were large and clean. However, there were no specific details or elaborations on the cleanliness aspect.\n",
            "Tokens: 617\n",
            "Attempt#:1\n",
            "The reviews indicate mixed opinions on cleanliness. Some reviewers mentioned updated rooms and comfortable beds, while another mentioned a stinky 18th floor. There were no major complaints about cleanliness, but the overall impression is that the hotel could use some improvements in this aspect.\n",
            "Tokens: 676\n",
            "Attempt#:1\n",
            "The reviews generally mentioned that the rooms were large, clean, and well-maintained, with some even mentioning recent renovations. However, one reviewer felt that the hotel needed a good cleaning and appeared worn down at the edges. Overall, the majority of the reviews were positive about the cleanliness of the hotel.\n",
            "Tokens: 609\n",
            "Attempt#:1\n",
            "The reviews regarding the cleanliness of the hotel are mixed. Some guests found the rooms to be clean, well-maintained, and up to their expectations, while others described their rooms as dirty, smelly, and in need of a thorough cleaning. Some guests even reported feeling like they needed a shower just being in the hotel, and one mentioned encountering brown stuff on the bathroom walls.\n",
            "Tokens: 601\n",
            "Attempt#:1\n",
            "The reviews generally mentioned that the hotel was clean and well-kept. The rooms were described as being in good shape, with fresh sheets and clean towels provided daily. Housekeeping and front desk staff were also noted to be friendly and helpful.\n",
            "Tokens: 532\n",
            "Attempt#:1\n",
            "The reviews indicate that the hotel rooms were clean, spacious, and comfortable.\n",
            "Tokens: 561\n",
            "Attempt#:1\n",
            "The reviews indicate that the hotel was clean, with rooms being cleaned daily, fresh towels provided, and impeccable sheets and bathrooms.\n",
            "Tokens: 608\n",
            "Attempt#:1\n",
            "The cleanliness of the hotel seems to vary based on the reviews. One review mentioned that the bathroom was small and not very clean, while another review stated that the rooms were spacious and had nice bathrooms. The third review described the room as very clean and well appointed. Overall, the cleanliness appears to be inconsistent.\n",
            "Tokens: 606\n",
            "Attempt#:1\n",
            "The reviews regarding cleanliness are mixed. Some guests found the hotel to be spotlessly clean and comfortable, while one review described it as the filthiest hotel they have ever seen, with overwhelming foul smells and dirty conditions.\n",
            "Tokens: 518\n",
            "Attempt#:1\n",
            "The reviews generally mentioned that the hotel and rooms were clean. The housekeeper who came the next morning was friendly, and the rooms were well-maintained. Overall, the guests were satisfied with the cleanliness of the hotel.\n",
            "Tokens: 582\n",
            "Attempt#:1\n",
            "The reviews on the cleanliness of the hotel are mixed. Some guests found their rooms to be clean and comfortable, while others described the hotel as dirty, with disgusting showers, marks on the walls and carpet, and musty smells. The hallways were also described as dingy by some guests.\n",
            "Tokens: 504\n",
            "Attempt#:1\n",
            "The reviews mentioned that the rooms were large and impeccably clean on check-in and throughout the guests' stay. However, the pool area was described as dirty and full of pigeons.\n",
            "Tokens: 625\n",
            "Attempt#:1\n",
            "The reviews regarding cleanliness were mixed. Some guests found the hotel clean and well-maintained, while others complained about issues with cleanliness, such as dust buildup in the bathroom and on the carpet, and housekeeping not thoroughly cleaning the rooms.\n",
            "Tokens: 715\n",
            "Attempt#:1\n",
            "The reviews generally mentioned that the hotel was clean, with one reviewer specifically stating that the hotel was \"very clean.\"\n",
            "Tokens: 573\n",
            "Attempt#:1\n",
            "The reviews generally mentioned that the rooms were clean and well-maintained. One reviewer specifically mentioned that the room was large and clean with a great view of the city. However, there was a complaint about the provided cutleries not being washed by the staff. Overall, the hotel seems to maintain a decent level of cleanliness.\n",
            "Tokens: 650\n",
            "Attempt#:1\n",
            "The reviews regarding cleanliness are mixed. Some guests mentioned clean rooms with no stains and daily servicing, while others complained about mold in the bathroom, stains on the bed, and even finding a bedbug in the bathroom sink.\n",
            "Tokens: 581\n",
            "Attempt#:1\n",
            "The reviews generally mentioned that the hotel had clean rooms and accommodations. They also mentioned that the sauna appeared clean, though they did not use it.\n",
            "Tokens: 520\n",
            "Attempt#:1\n",
            "The reviews regarding the cleanliness of the hotel are mixed. Some guests found their rooms to be spacious and clean, while others reported issues such as unclean bathrooms with hair in the tub, beer caps scattered throughout the room, and a smell of cigarette smoke. The hotel is described as showing signs of wear, with some suggesting that carpets and wallpaper could use replacing. The lobby and elevator were noted to be clean, and the staff were friendly and efficient.\n",
            "Tokens: 448\n",
            "Attempt#:1\n",
            "The reviews indicate that the hotel is very clean, with well-kept rooms and clean bedding. The bathrooms are dated but do not have any cleanliness issues. Overall, the cleanliness seems to be satisfactory for the guests.\n",
            "Tokens: 600\n",
            "Attempt#:1\n",
            "The reviews indicate that the rooms were clean and comfortable. However, some guests found the hotel to be tired and run down.\n",
            "Tokens: 631\n",
            "Attempt#:1\n",
            "The reviews do not specifically mention the cleanliness of the hotel.\n",
            "Tokens: 567\n",
            "Attempt#:1\n",
            "The reviews generally mention that the rooms were clean and well-maintained, with one reviewer specifically mentioning that their room was spotlessly clean.\n",
            "Tokens: 548\n",
            "Attempt#:1\n",
            "The reviews mentioned that the rooms were clean, well-decorated, and newly renovated. There were no complaints or problems regarding cleanliness from any of the guests.\n",
            "Tokens: 448\n",
            "Attempt#:1\n",
            "The accounts regarding the cleanliness of the hotel are mixed. Some reviews praised the hotel for its clean and well-maintained rooms, comfortable beds, and modern facilities. Others mentioned issues such as stained towels, unvacuumed carpets, and dated furniture. Some guests experienced dirty and smelly rooms, while others found their rooms to be large, clean, and well-maintained. Overall, the majority of reviews were positive about the cleanliness of the hotel, but there were still some negative experiences reported.\n",
            "Tokens: 405\n",
            "Attempt#:1\n",
            "The accounts regarding the cleanliness of the hotel are mixed. While many reviews praised the hotel for its clean and well-maintained rooms, friendly staff, and daily housekeeping, others reported issues such as small and dirty bathrooms, inconsistency in cleanliness, foul smells, and dirty conditions. Some guests also mentioned dingy hallways and a dirty pool area. Overall, the cleanliness of the hotel appears to be inconsistent and varies based on the reviews.\n",
            "Tokens: 400\n",
            "Attempt#:1\n",
            "The accounts generally indicate that the hotel's cleanliness is satisfactory, with most reviews mentioning clean and well-maintained rooms. Some guests also mentioned clean public areas like the lobby and elevator. However, there are mixed reviews with some guests reporting issues such as mold, stains, and unclean bathrooms. The hotel is described as showing signs of wear and being dated, but overall, the cleanliness seems to be decent.\n",
            "Tokens: 36\n",
            "Attempt#:1\n",
            "The accounts mentioned that guests had no complaints or problems regarding the cleanliness of the hotel.\n",
            "Tokens: 310\n",
            "Attempt#:1\n",
            "The accounts of the hotel's cleanliness are mixed. While many reviews praised the clean and well-maintained rooms, modern facilities, friendly staff, and daily housekeeping, some guests reported issues such as stained towels, unvacuumed carpets, dirty and smelly rooms, inconsistent cleanliness, small and dirty bathrooms, foul smells, dingy hallways, and a dirty pool area. The hotel's cleanliness appears to be inconsistent and varies based on the reviews, with some signs of wear and dated furniture. However, overall, the majority of reviews were positive, indicating satisfactory cleanliness.\n",
            "location 82\n",
            "Tokens: 563\n",
            "Attempt#:1\n",
            "The reviews generally praise the hotel's location, mentioning that it is in a good area, close to major attractions, nightlife, shopping, and public transportation. It is within walking distance to the Church Street Village, Yorkville, and the Gay Village. Some reviews mention a few extra blocks of walking, but overall, the location is considered convenient and easily accessible. There are a couple of reviews that mention a 'shady area' and a 'terrible area of town,' but most reviews have a positive view of the location.\n",
            "Tokens: 544\n",
            "Attempt#:1\n",
            "The reviews generally highlight that the hotel is in a convenient location, close to downtown Toronto, with easy access to attractions such as the Eaton Center, Dundas Square, Hockey Hall of Fame, and CN Tower. It is also near the College Subway station, making it easy to get around the city. The area has a variety of restaurants, bars, and shops within walking distance. However, some reviewers mentioned that the area is a bit seedy and is located in a prominent gay neighborhood, which may not be suitable for everyone. Overall, the location is considered good for exploring Toronto, and the hotel offers great value for the price.\n",
            "Tokens: 547\n",
            "Attempt#:1\n",
            "The reviews generally praise the hotel's location, mentioning that it is central, close to many attractions, and within walking distance to shops, restaurants, and public transportation. Some reviews mention specific attractions nearby, such as the CN Tower, Rogers Centre, Hockey Hall of Fame, and Eaton Centre. A few reviews also mention its proximity to the College St. subway station. However, one review states that the area has some sketchy characters, but overall, the location is considered convenient and ideal for exploring the city.\n",
            "Tokens: 39\n",
            "Attempt#:1\n",
            "The hotel is conveniently located about a ten-minute walk from Massey Hall, making it ideal for attending events like a Chicago concert.\n",
            "Tokens: 383\n",
            "Attempt#:1\n",
            "The accounts generally praise the hotel's location for being in a good area, close to major attractions, nightlife, shopping, and public transportation. It is within walking distance to several popular locations such as Church Street Village, Yorkville, Gay Village, Eaton Centre, Dundas Square, Hockey Hall of Fame, and CN Tower. The hotel is also near the College Subway station, making it easy to access the rest of the city. However, some reviews mention a 'shady area' or a 'seedy' atmosphere and being located in a prominent gay neighborhood, which may not be suitable for everyone. Overall, the location is considered convenient and ideal for exploring Toronto.\n",
            "service 249\n",
            "Tokens: 544\n",
            "Attempt#:1\n",
            "The reviews of the service at the hotel are mixed. Some guests had a pleasurable stay and found the front desk staff to be pleasant, helpful, and always smiling. They were also able to get a taxi easily and enjoyed the convenience of the coffee shop in the lobby. However, other guests experienced poor customer service, with rude and inexperienced front desk staff. They faced issues with parking, wrong directions, and unapologetic behavior. The manager, Jeff, was also criticized for his customer service skills. Overall, the service at the hotel was inconsistent and varied between positive and negative experiences.\n",
            "Tokens: 604\n",
            "Attempt#:1\n",
            "The service at the hotel received mixed reviews. Most guests found the staff to be pleasant, nice, helpful, and attentive. However, there were some issues reported, such as a small mistake in a breakfast order, a broken iron, and a concierge with limited knowledge of local restaurants. The Wi-Fi service was also described as undependable. Some guests suggested that the staff could benefit from hospitality training. Despite these issues, many guests were pleased with the overall service and would consider returning to the hotel.\n",
            "Tokens: 580\n",
            "Attempt#:1\n",
            "The reviews highlight excellent customer service, with staff being friendly, helpful, and attentive. The doorman assisted with luggage, the front desk staff went out of their way to help, and the housekeeping staff was friendly and accommodating. The hotel also provided useful services such as a crib, free breakfast, and a helpful concierge. Overall, guests were very pleased with the service they received during their stay.\n",
            "Tokens: 515\n",
            "Attempt#:1\n",
            "The service at the hotel received mixed reviews. Many guests praised the front desk staff for being friendly, helpful, and efficient, particularly in providing directions and resolving booking issues. The check-in process was quick, and the staff was polite throughout the stay. The restaurant staff and maids were also commended for their service. However, some guests reported rude and unhelpful staff members. The lack of room service and an unopened restaurant were also noted as negatives.\n",
            "Tokens: 471\n",
            "Attempt#:1\n",
            "The reviews generally mention that the staff at the hotel were friendly, helpful, and polite, with some praising their assistance in planning activities and providing directions. However, there were a few instances where the staff was described as not being very friendly or helpful, particularly the concierge. Overall, the service at the hotel seems to be mostly positive with a few exceptions.\n",
            "Tokens: 492\n",
            "Attempt#:1\n",
            "The reviews mentioned that the hotel staff was friendly, accommodating, and helpful, with a special mention of the lady at the front desk who provided valuable tips and information. The staff also assisted in arranging daily taxis for a guest. However, there were some issues with housekeeping, as the room cleanliness was not up to par and an irreplaceable item was lost. The in-house Tim Hortons and affordable breakfast buffet were appreciated, and the general manager was helpful in getting broken equipment repaired overnight. The hotel's internet service was slow and not very useful.\n",
            "Tokens: 503\n",
            "Attempt#:1\n",
            "The service at the hotel received mixed reviews. While some guests found the staff to be nice, helpful, and courteous, others experienced rude and unhelpful behavior from certain front desk employees. The concierge and bellmen were generally praised for their kindness and helpfulness. There were some issues with the business center and a mistake on a bill, but it was resolved. Overall, the service was inconsistent, with some staff members providing a pleasant experience and others falling short.\n",
            "Tokens: 469\n",
            "Attempt#:1\n",
            "The service at the hotel received mixed reviews. Some guests mentioned that the staff was friendly, helpful, and efficient, while others experienced rude and curt front desk employees. The management was noted to be accommodating in some cases but did not have answers for certain issues. Check-in was reported to be smooth and fast for some guests.\n",
            "Tokens: 565\n",
            "Attempt#:1\n",
            "The reviews of the service at the hotel are mixed. Some guests found the staff to be unfriendly and unhelpful, while others had pleasant experiences with friendly and helpful staff members. The front desk service seems to be inconsistent, with some staff members being more accommodating than others. Overall, the service at the hotel appears to be average, with room for improvement in terms of friendliness and consistency.\n",
            "Tokens: 150\n",
            "Attempt#:1\n",
            "The reviews indicate that the hotel staff were very friendly and accommodating, with a special mention of Vicky at the front desk who made the guests feel welcome. The sales department was also used for booking a block of rooms for a family wedding, and the overall stay was enjoyable, with guests hoping to return in the future to explore more of Toronto.\n",
            "Tokens: 417\n",
            "Attempt#:1\n",
            "The service at the hotel received mixed reviews. Many guests found the staff to be friendly, helpful, and attentive, with some praising the front desk, restaurant staff, and housekeeping. However, there were also reports of poor customer service, rude and inexperienced staff, and management being criticized for their skills. Issues such as parking, Wi-Fi, and minor mistakes were mentioned. Despite these issues, many guests were pleased with the overall service and would consider returning to the hotel.\n",
            "Tokens: 513\n",
            "Attempt#:1\n",
            "The service at the hotel received mixed reviews. While many guests praised the friendly, helpful, and accommodating staff, particularly at the front desk and concierge, others experienced rude and unhelpful employees. The service appeared to be inconsistent with some staff members providing a pleasant experience and others falling short. Issues with housekeeping, slow internet, and the business center were also mentioned. Overall, the service at the hotel seems to be mostly positive but has room for improvement in terms of friendliness and consistency.\n",
            "Tokens: 217\n",
            "Attempt#:1\n",
            "The service at the hotel received mixed reviews, with many guests praising the friendly and helpful staff, particularly at the front desk, restaurant, and housekeeping. However, there were also accounts of poor customer service, rude and inexperienced staff, and management being criticized. Issues such as parking, Wi-Fi, and minor mistakes were mentioned. The service seemed inconsistent, with some staff providing a pleasant experience while others fell short. Despite these issues, many guests were pleased with the overall service and would consider returning. There is room for improvement in terms of friendliness and consistency.\n",
            "food 80\n",
            "Tokens: 588\n",
            "Attempt#:1\n",
            "The reviews had mixed opinions about the food and dining options at the hotel. Some guests enjoyed the nearby Tim Hortons, Thai restaurant Jasmine Garden, and Ruth Chris steakhouse, while others were disappointed with the hotel's breakfast offerings. A few guests appreciated the attentive service in the hotel restaurant, with one mentioning that kids ate free from the buffet. However, some reviewers did not use the hotel's restaurant and opted for other nearby options, like an all-day breakfast place or a Korean grill. There was also mention of a rancid ketchup incident in the hotel's restaurant. Overall, the reviews suggest that there are plenty of dining options in the area, but the hotel's restaurant may not be the best choice.\n",
            "Tokens: 547\n",
            "Attempt#:1\n",
            "The reviews mention a restaurant buffet for breakfast with pleasant wait staff, but some found the breakfast fairly average. There is a Tim Horton's donut shop inside the hotel, which is a great perk for coffee and doughnuts in the mornings. However, some guests were disappointed with the limited menu options for breakfast at Tim Horton's. There are also many good restaurants in the surrounding area, such as a great beef shawarma pita place and a decent cheap eat called \"Made in China.\" The hotel also offers an affordable breakfast buffet, and some guests received coupons for a free continental breakfast.\n",
            "Tokens: 436\n",
            "Attempt#:1\n",
            "The reviews indicate mixed opinions about the food at the hotel. Some guests found the food to be awful and had issues with the kitchenette, while others did not eat at the hotel's restaurant and cannot comment on it. However, the hotel is located near various restaurants, including a Thai restaurant, a diner, and a Chinese place. There is also a Tim Hortons on-site and a Cora's breakfast and Starbucks nearby. Some guests enjoyed the breakfast at the hotel, while others found it expensive and recommended trying the breakfast place next door instead.\n",
            "Tokens: 39\n",
            "Attempt#:1\n",
            "The reviews mentioned that the food was good, arrived on time and hot, but the restaurant was not regularly opened.\n",
            "Tokens: 418\n",
            "Attempt#:1\n",
            "The accounts of the food at the hotel are mixed. Some guests enjoyed the breakfast buffet and the on-site Tim Hortons, while others were disappointed with the hotel's breakfast offerings and limited menu options. The hotel restaurant received mixed reviews, with some guests appreciating the attentive service, but others mentioning a rancid ketchup incident. Many guests opted for nearby dining options, including a Thai restaurant, a steakhouse, a Korean grill, and various breakfast places. Overall, there are plenty of dining options in the area, but the hotel's restaurant may not be the best choice.\n",
            "rooms 448\n",
            "Tokens: 699\n",
            "Attempt#:1\n",
            "The rooms at the Marriott are described as typical Marriott rooms, with excellent housekeeping and the usual amenities. They are well done, comfortable, and have been updated with new big screen TVs. The beds are comfortable and the furniture, carpeting, and drapes are in good repair. The bathrooms are clean. However, some rooms face an office building, which can affect privacy as the curtains are easily seen through.\n",
            "Tokens: 485\n",
            "Attempt#:1\n"
          ]
        },
        {
          "output_type": "error",
          "ename": "KeyboardInterrupt",
          "evalue": "ignored",
          "traceback": [
            "\u001b[0;31m---------------------------------------------------------------------------\u001b[0m",
            "\u001b[0;31mKeyboardInterrupt\u001b[0m                         Traceback (most recent call last)",
            "\u001b[0;32m<ipython-input-59-6ea7c0c1a357>\u001b[0m in \u001b[0;36m<cell line: 3>\u001b[0;34m()\u001b[0m\n\u001b[1;32m     12\u001b[0m     \u001b[0;31m# This returns a list of list with each level of recursive summaries.\u001b[0m\u001b[0;34m\u001b[0m\u001b[0;34m\u001b[0m\u001b[0m\n\u001b[1;32m     13\u001b[0m     \u001b[0;31m# The summary[-1][0] would be the final summary.\u001b[0m\u001b[0;34m\u001b[0m\u001b[0;34m\u001b[0m\u001b[0m\n\u001b[0;32m---> 14\u001b[0;31m     summary = get_gpt_aspect_summary('gpt-4', \n\u001b[0m\u001b[1;32m     15\u001b[0m                                      \u001b[0maspect\u001b[0m\u001b[0;34m,\u001b[0m\u001b[0;34m\u001b[0m\u001b[0;34m\u001b[0m\u001b[0m\n\u001b[1;32m     16\u001b[0m                                      \u001b[0msentences_by_aspect\u001b[0m\u001b[0;34m[\u001b[0m\u001b[0maspect\u001b[0m\u001b[0;34m]\u001b[0m\u001b[0;34m,\u001b[0m\u001b[0;34m\u001b[0m\u001b[0;34m\u001b[0m\u001b[0m\n",
            "\u001b[0;32m<ipython-input-57-76f5ef50d765>\u001b[0m in \u001b[0;36mget_gpt_aspect_summary\u001b[0;34m(model, aspect, sentences, group_size, is_summarized, return_all_levels)\u001b[0m\n\u001b[1;32m     24\u001b[0m                     sentences[cur:], group_size, is_summarized)\n\u001b[1;32m     25\u001b[0m             \u001b[0;32melse\u001b[0m\u001b[0;34m:\u001b[0m\u001b[0;34m\u001b[0m\u001b[0;34m\u001b[0m\u001b[0m\n\u001b[0;32m---> 26\u001b[0;31m                 summary = get_gpt_aspect_summary(model, aspect, \\\n\u001b[0m\u001b[1;32m     27\u001b[0m                     sentences[cur:cur+group_size], group_size, is_summarized)\n\u001b[1;32m     28\u001b[0m             \u001b[0msummaries\u001b[0m\u001b[0;34m.\u001b[0m\u001b[0mappend\u001b[0m\u001b[0;34m(\u001b[0m\u001b[0msummary\u001b[0m\u001b[0;34m)\u001b[0m\u001b[0;34m\u001b[0m\u001b[0;34m\u001b[0m\u001b[0m\n",
            "\u001b[0;32m<ipython-input-57-76f5ef50d765>\u001b[0m in \u001b[0;36mget_gpt_aspect_summary\u001b[0;34m(model, aspect, sentences, group_size, is_summarized, return_all_levels)\u001b[0m\n\u001b[1;32m     56\u001b[0m         \u001b[0;32mreturn\u001b[0m \u001b[0;34m[\u001b[0m\u001b[0;34m[\u001b[0m\u001b[0mget_gpt_response\u001b[0m\u001b[0;34m(\u001b[0m\u001b[0mmodel\u001b[0m\u001b[0;34m,\u001b[0m \u001b[0mprompt\u001b[0m\u001b[0;34m)\u001b[0m\u001b[0;34m]\u001b[0m\u001b[0;34m]\u001b[0m\u001b[0;34m\u001b[0m\u001b[0;34m\u001b[0m\u001b[0m\n\u001b[1;32m     57\u001b[0m     \u001b[0;32melse\u001b[0m\u001b[0;34m:\u001b[0m\u001b[0;34m\u001b[0m\u001b[0;34m\u001b[0m\u001b[0m\n\u001b[0;32m---> 58\u001b[0;31m         \u001b[0;32mreturn\u001b[0m \u001b[0mget_gpt_response\u001b[0m\u001b[0;34m(\u001b[0m\u001b[0mmodel\u001b[0m\u001b[0;34m,\u001b[0m \u001b[0mprompt\u001b[0m\u001b[0;34m)\u001b[0m\u001b[0;34m\u001b[0m\u001b[0;34m\u001b[0m\u001b[0m\n\u001b[0m\u001b[1;32m     59\u001b[0m \u001b[0;34m\u001b[0m\u001b[0m\n\u001b[1;32m     60\u001b[0m \u001b[0;34m\u001b[0m\u001b[0m\n",
            "\u001b[0;32m<ipython-input-57-76f5ef50d765>\u001b[0m in \u001b[0;36mget_gpt_response\u001b[0;34m(model, prompt, tokenize)\u001b[0m\n\u001b[1;32m     71\u001b[0m \u001b[0;34m\u001b[0m\u001b[0m\n\u001b[1;32m     72\u001b[0m     \u001b[0;32mtry\u001b[0m\u001b[0;34m:\u001b[0m\u001b[0;34m\u001b[0m\u001b[0;34m\u001b[0m\u001b[0m\n\u001b[0;32m---> 73\u001b[0;31m       response = openai.ChatCompletion.create(\n\u001b[0m\u001b[1;32m     74\u001b[0m           \u001b[0mmodel\u001b[0m\u001b[0;34m=\u001b[0m\u001b[0mmodel\u001b[0m\u001b[0;34m,\u001b[0m\u001b[0;34m\u001b[0m\u001b[0;34m\u001b[0m\u001b[0m\n\u001b[1;32m     75\u001b[0m           \u001b[0mmessages\u001b[0m\u001b[0;34m=\u001b[0m\u001b[0mmsgs\u001b[0m\u001b[0;34m,\u001b[0m\u001b[0;34m\u001b[0m\u001b[0;34m\u001b[0m\u001b[0m\n",
            "\u001b[0;32m/usr/local/lib/python3.10/dist-packages/openai/api_resources/chat_completion.py\u001b[0m in \u001b[0;36mcreate\u001b[0;34m(cls, *args, **kwargs)\u001b[0m\n\u001b[1;32m     23\u001b[0m         \u001b[0;32mwhile\u001b[0m \u001b[0;32mTrue\u001b[0m\u001b[0;34m:\u001b[0m\u001b[0;34m\u001b[0m\u001b[0;34m\u001b[0m\u001b[0m\n\u001b[1;32m     24\u001b[0m             \u001b[0;32mtry\u001b[0m\u001b[0;34m:\u001b[0m\u001b[0;34m\u001b[0m\u001b[0;34m\u001b[0m\u001b[0m\n\u001b[0;32m---> 25\u001b[0;31m                 \u001b[0;32mreturn\u001b[0m \u001b[0msuper\u001b[0m\u001b[0;34m(\u001b[0m\u001b[0;34m)\u001b[0m\u001b[0;34m.\u001b[0m\u001b[0mcreate\u001b[0m\u001b[0;34m(\u001b[0m\u001b[0;34m*\u001b[0m\u001b[0margs\u001b[0m\u001b[0;34m,\u001b[0m \u001b[0;34m**\u001b[0m\u001b[0mkwargs\u001b[0m\u001b[0;34m)\u001b[0m\u001b[0;34m\u001b[0m\u001b[0;34m\u001b[0m\u001b[0m\n\u001b[0m\u001b[1;32m     26\u001b[0m             \u001b[0;32mexcept\u001b[0m \u001b[0mTryAgain\u001b[0m \u001b[0;32mas\u001b[0m \u001b[0me\u001b[0m\u001b[0;34m:\u001b[0m\u001b[0;34m\u001b[0m\u001b[0;34m\u001b[0m\u001b[0m\n\u001b[1;32m     27\u001b[0m                 \u001b[0;32mif\u001b[0m \u001b[0mtimeout\u001b[0m \u001b[0;32mis\u001b[0m \u001b[0;32mnot\u001b[0m \u001b[0;32mNone\u001b[0m \u001b[0;32mand\u001b[0m \u001b[0mtime\u001b[0m\u001b[0;34m.\u001b[0m\u001b[0mtime\u001b[0m\u001b[0;34m(\u001b[0m\u001b[0;34m)\u001b[0m \u001b[0;34m>\u001b[0m \u001b[0mstart\u001b[0m \u001b[0;34m+\u001b[0m \u001b[0mtimeout\u001b[0m\u001b[0;34m:\u001b[0m\u001b[0;34m\u001b[0m\u001b[0;34m\u001b[0m\u001b[0m\n",
            "\u001b[0;32m/usr/local/lib/python3.10/dist-packages/openai/api_resources/abstract/engine_api_resource.py\u001b[0m in \u001b[0;36mcreate\u001b[0;34m(cls, api_key, api_base, api_type, request_id, api_version, organization, **params)\u001b[0m\n\u001b[1;32m    151\u001b[0m         )\n\u001b[1;32m    152\u001b[0m \u001b[0;34m\u001b[0m\u001b[0m\n\u001b[0;32m--> 153\u001b[0;31m         response, _, api_key = requestor.request(\n\u001b[0m\u001b[1;32m    154\u001b[0m             \u001b[0;34m\"post\"\u001b[0m\u001b[0;34m,\u001b[0m\u001b[0;34m\u001b[0m\u001b[0;34m\u001b[0m\u001b[0m\n\u001b[1;32m    155\u001b[0m             \u001b[0murl\u001b[0m\u001b[0;34m,\u001b[0m\u001b[0;34m\u001b[0m\u001b[0;34m\u001b[0m\u001b[0m\n",
            "\u001b[0;32m/usr/local/lib/python3.10/dist-packages/openai/api_requestor.py\u001b[0m in \u001b[0;36mrequest\u001b[0;34m(self, method, url, params, headers, files, stream, request_id, request_timeout)\u001b[0m\n\u001b[1;32m    218\u001b[0m         \u001b[0mrequest_timeout\u001b[0m\u001b[0;34m:\u001b[0m \u001b[0mOptional\u001b[0m\u001b[0;34m[\u001b[0m\u001b[0mUnion\u001b[0m\u001b[0;34m[\u001b[0m\u001b[0mfloat\u001b[0m\u001b[0;34m,\u001b[0m \u001b[0mTuple\u001b[0m\u001b[0;34m[\u001b[0m\u001b[0mfloat\u001b[0m\u001b[0;34m,\u001b[0m \u001b[0mfloat\u001b[0m\u001b[0;34m]\u001b[0m\u001b[0;34m]\u001b[0m\u001b[0;34m]\u001b[0m \u001b[0;34m=\u001b[0m \u001b[0;32mNone\u001b[0m\u001b[0;34m,\u001b[0m\u001b[0;34m\u001b[0m\u001b[0;34m\u001b[0m\u001b[0m\n\u001b[1;32m    219\u001b[0m     ) -> Tuple[Union[OpenAIResponse, Iterator[OpenAIResponse]], bool, str]:\n\u001b[0;32m--> 220\u001b[0;31m         result = self.request_raw(\n\u001b[0m\u001b[1;32m    221\u001b[0m             \u001b[0mmethod\u001b[0m\u001b[0;34m.\u001b[0m\u001b[0mlower\u001b[0m\u001b[0;34m(\u001b[0m\u001b[0;34m)\u001b[0m\u001b[0;34m,\u001b[0m\u001b[0;34m\u001b[0m\u001b[0;34m\u001b[0m\u001b[0m\n\u001b[1;32m    222\u001b[0m             \u001b[0murl\u001b[0m\u001b[0;34m,\u001b[0m\u001b[0;34m\u001b[0m\u001b[0;34m\u001b[0m\u001b[0m\n",
            "\u001b[0;32m/usr/local/lib/python3.10/dist-packages/openai/api_requestor.py\u001b[0m in \u001b[0;36mrequest_raw\u001b[0;34m(self, method, url, params, supplied_headers, files, stream, request_id, request_timeout)\u001b[0m\n\u001b[1;32m    518\u001b[0m             \u001b[0m_thread_context\u001b[0m\u001b[0;34m.\u001b[0m\u001b[0msession\u001b[0m \u001b[0;34m=\u001b[0m \u001b[0m_make_session\u001b[0m\u001b[0;34m(\u001b[0m\u001b[0;34m)\u001b[0m\u001b[0;34m\u001b[0m\u001b[0;34m\u001b[0m\u001b[0m\n\u001b[1;32m    519\u001b[0m         \u001b[0;32mtry\u001b[0m\u001b[0;34m:\u001b[0m\u001b[0;34m\u001b[0m\u001b[0;34m\u001b[0m\u001b[0m\n\u001b[0;32m--> 520\u001b[0;31m             result = _thread_context.session.request(\n\u001b[0m\u001b[1;32m    521\u001b[0m                 \u001b[0mmethod\u001b[0m\u001b[0;34m,\u001b[0m\u001b[0;34m\u001b[0m\u001b[0;34m\u001b[0m\u001b[0m\n\u001b[1;32m    522\u001b[0m                 \u001b[0mabs_url\u001b[0m\u001b[0;34m,\u001b[0m\u001b[0;34m\u001b[0m\u001b[0;34m\u001b[0m\u001b[0m\n",
            "\u001b[0;32m/usr/local/lib/python3.10/dist-packages/requests/sessions.py\u001b[0m in \u001b[0;36mrequest\u001b[0;34m(self, method, url, params, data, headers, cookies, files, auth, timeout, allow_redirects, proxies, hooks, stream, verify, cert, json)\u001b[0m\n\u001b[1;32m    527\u001b[0m         }\n\u001b[1;32m    528\u001b[0m         \u001b[0msend_kwargs\u001b[0m\u001b[0;34m.\u001b[0m\u001b[0mupdate\u001b[0m\u001b[0;34m(\u001b[0m\u001b[0msettings\u001b[0m\u001b[0;34m)\u001b[0m\u001b[0;34m\u001b[0m\u001b[0;34m\u001b[0m\u001b[0m\n\u001b[0;32m--> 529\u001b[0;31m         \u001b[0mresp\u001b[0m \u001b[0;34m=\u001b[0m \u001b[0mself\u001b[0m\u001b[0;34m.\u001b[0m\u001b[0msend\u001b[0m\u001b[0;34m(\u001b[0m\u001b[0mprep\u001b[0m\u001b[0;34m,\u001b[0m \u001b[0;34m**\u001b[0m\u001b[0msend_kwargs\u001b[0m\u001b[0;34m)\u001b[0m\u001b[0;34m\u001b[0m\u001b[0;34m\u001b[0m\u001b[0m\n\u001b[0m\u001b[1;32m    530\u001b[0m \u001b[0;34m\u001b[0m\u001b[0m\n\u001b[1;32m    531\u001b[0m         \u001b[0;32mreturn\u001b[0m \u001b[0mresp\u001b[0m\u001b[0;34m\u001b[0m\u001b[0;34m\u001b[0m\u001b[0m\n",
            "\u001b[0;32m/usr/local/lib/python3.10/dist-packages/requests/sessions.py\u001b[0m in \u001b[0;36msend\u001b[0;34m(self, request, **kwargs)\u001b[0m\n\u001b[1;32m    643\u001b[0m \u001b[0;34m\u001b[0m\u001b[0m\n\u001b[1;32m    644\u001b[0m         \u001b[0;31m# Send the request\u001b[0m\u001b[0;34m\u001b[0m\u001b[0;34m\u001b[0m\u001b[0m\n\u001b[0;32m--> 645\u001b[0;31m         \u001b[0mr\u001b[0m \u001b[0;34m=\u001b[0m \u001b[0madapter\u001b[0m\u001b[0;34m.\u001b[0m\u001b[0msend\u001b[0m\u001b[0;34m(\u001b[0m\u001b[0mrequest\u001b[0m\u001b[0;34m,\u001b[0m \u001b[0;34m**\u001b[0m\u001b[0mkwargs\u001b[0m\u001b[0;34m)\u001b[0m\u001b[0;34m\u001b[0m\u001b[0;34m\u001b[0m\u001b[0m\n\u001b[0m\u001b[1;32m    646\u001b[0m \u001b[0;34m\u001b[0m\u001b[0m\n\u001b[1;32m    647\u001b[0m         \u001b[0;31m# Total elapsed time of the request (approximately)\u001b[0m\u001b[0;34m\u001b[0m\u001b[0;34m\u001b[0m\u001b[0m\n",
            "\u001b[0;32m/usr/local/lib/python3.10/dist-packages/requests/adapters.py\u001b[0m in \u001b[0;36msend\u001b[0;34m(self, request, stream, timeout, verify, cert, proxies)\u001b[0m\n\u001b[1;32m    438\u001b[0m         \u001b[0;32mtry\u001b[0m\u001b[0;34m:\u001b[0m\u001b[0;34m\u001b[0m\u001b[0;34m\u001b[0m\u001b[0m\n\u001b[1;32m    439\u001b[0m             \u001b[0;32mif\u001b[0m \u001b[0;32mnot\u001b[0m \u001b[0mchunked\u001b[0m\u001b[0;34m:\u001b[0m\u001b[0;34m\u001b[0m\u001b[0;34m\u001b[0m\u001b[0m\n\u001b[0;32m--> 440\u001b[0;31m                 resp = conn.urlopen(\n\u001b[0m\u001b[1;32m    441\u001b[0m                     \u001b[0mmethod\u001b[0m\u001b[0;34m=\u001b[0m\u001b[0mrequest\u001b[0m\u001b[0;34m.\u001b[0m\u001b[0mmethod\u001b[0m\u001b[0;34m,\u001b[0m\u001b[0;34m\u001b[0m\u001b[0;34m\u001b[0m\u001b[0m\n\u001b[1;32m    442\u001b[0m                     \u001b[0murl\u001b[0m\u001b[0;34m=\u001b[0m\u001b[0murl\u001b[0m\u001b[0;34m,\u001b[0m\u001b[0;34m\u001b[0m\u001b[0;34m\u001b[0m\u001b[0m\n",
            "\u001b[0;32m/usr/local/lib/python3.10/dist-packages/urllib3/connectionpool.py\u001b[0m in \u001b[0;36murlopen\u001b[0;34m(self, method, url, body, headers, retries, redirect, assert_same_host, timeout, pool_timeout, release_conn, chunked, body_pos, **response_kw)\u001b[0m\n\u001b[1;32m    701\u001b[0m \u001b[0;34m\u001b[0m\u001b[0m\n\u001b[1;32m    702\u001b[0m             \u001b[0;31m# Make the request on the httplib connection object.\u001b[0m\u001b[0;34m\u001b[0m\u001b[0;34m\u001b[0m\u001b[0m\n\u001b[0;32m--> 703\u001b[0;31m             httplib_response = self._make_request(\n\u001b[0m\u001b[1;32m    704\u001b[0m                 \u001b[0mconn\u001b[0m\u001b[0;34m,\u001b[0m\u001b[0;34m\u001b[0m\u001b[0;34m\u001b[0m\u001b[0m\n\u001b[1;32m    705\u001b[0m                 \u001b[0mmethod\u001b[0m\u001b[0;34m,\u001b[0m\u001b[0;34m\u001b[0m\u001b[0;34m\u001b[0m\u001b[0m\n",
            "\u001b[0;32m/usr/local/lib/python3.10/dist-packages/urllib3/connectionpool.py\u001b[0m in \u001b[0;36m_make_request\u001b[0;34m(self, conn, method, url, timeout, chunked, **httplib_request_kw)\u001b[0m\n\u001b[1;32m    447\u001b[0m                     \u001b[0;31m# Python 3 (including for exceptions like SystemExit).\u001b[0m\u001b[0;34m\u001b[0m\u001b[0;34m\u001b[0m\u001b[0m\n\u001b[1;32m    448\u001b[0m                     \u001b[0;31m# Otherwise it looks like a bug in the code.\u001b[0m\u001b[0;34m\u001b[0m\u001b[0;34m\u001b[0m\u001b[0m\n\u001b[0;32m--> 449\u001b[0;31m                     \u001b[0msix\u001b[0m\u001b[0;34m.\u001b[0m\u001b[0mraise_from\u001b[0m\u001b[0;34m(\u001b[0m\u001b[0me\u001b[0m\u001b[0;34m,\u001b[0m \u001b[0;32mNone\u001b[0m\u001b[0;34m)\u001b[0m\u001b[0;34m\u001b[0m\u001b[0;34m\u001b[0m\u001b[0m\n\u001b[0m\u001b[1;32m    450\u001b[0m         \u001b[0;32mexcept\u001b[0m \u001b[0;34m(\u001b[0m\u001b[0mSocketTimeout\u001b[0m\u001b[0;34m,\u001b[0m \u001b[0mBaseSSLError\u001b[0m\u001b[0;34m,\u001b[0m \u001b[0mSocketError\u001b[0m\u001b[0;34m)\u001b[0m \u001b[0;32mas\u001b[0m \u001b[0me\u001b[0m\u001b[0;34m:\u001b[0m\u001b[0;34m\u001b[0m\u001b[0;34m\u001b[0m\u001b[0m\n\u001b[1;32m    451\u001b[0m             \u001b[0mself\u001b[0m\u001b[0;34m.\u001b[0m\u001b[0m_raise_timeout\u001b[0m\u001b[0;34m(\u001b[0m\u001b[0merr\u001b[0m\u001b[0;34m=\u001b[0m\u001b[0me\u001b[0m\u001b[0;34m,\u001b[0m \u001b[0murl\u001b[0m\u001b[0;34m=\u001b[0m\u001b[0murl\u001b[0m\u001b[0;34m,\u001b[0m \u001b[0mtimeout_value\u001b[0m\u001b[0;34m=\u001b[0m\u001b[0mread_timeout\u001b[0m\u001b[0;34m)\u001b[0m\u001b[0;34m\u001b[0m\u001b[0;34m\u001b[0m\u001b[0m\n",
            "\u001b[0;32m/usr/local/lib/python3.10/dist-packages/urllib3/packages/six.py\u001b[0m in \u001b[0;36mraise_from\u001b[0;34m(value, from_value)\u001b[0m\n",
            "\u001b[0;32m/usr/local/lib/python3.10/dist-packages/urllib3/connectionpool.py\u001b[0m in \u001b[0;36m_make_request\u001b[0;34m(self, conn, method, url, timeout, chunked, **httplib_request_kw)\u001b[0m\n\u001b[1;32m    442\u001b[0m                 \u001b[0;31m# Python 3\u001b[0m\u001b[0;34m\u001b[0m\u001b[0;34m\u001b[0m\u001b[0m\n\u001b[1;32m    443\u001b[0m                 \u001b[0;32mtry\u001b[0m\u001b[0;34m:\u001b[0m\u001b[0;34m\u001b[0m\u001b[0;34m\u001b[0m\u001b[0m\n\u001b[0;32m--> 444\u001b[0;31m                     \u001b[0mhttplib_response\u001b[0m \u001b[0;34m=\u001b[0m \u001b[0mconn\u001b[0m\u001b[0;34m.\u001b[0m\u001b[0mgetresponse\u001b[0m\u001b[0;34m(\u001b[0m\u001b[0;34m)\u001b[0m\u001b[0;34m\u001b[0m\u001b[0;34m\u001b[0m\u001b[0m\n\u001b[0m\u001b[1;32m    445\u001b[0m                 \u001b[0;32mexcept\u001b[0m \u001b[0mBaseException\u001b[0m \u001b[0;32mas\u001b[0m \u001b[0me\u001b[0m\u001b[0;34m:\u001b[0m\u001b[0;34m\u001b[0m\u001b[0;34m\u001b[0m\u001b[0m\n\u001b[1;32m    446\u001b[0m                     \u001b[0;31m# Remove the TypeError from the exception chain in\u001b[0m\u001b[0;34m\u001b[0m\u001b[0;34m\u001b[0m\u001b[0m\n",
            "\u001b[0;32m/usr/lib/python3.10/http/client.py\u001b[0m in \u001b[0;36mgetresponse\u001b[0;34m(self)\u001b[0m\n\u001b[1;32m   1373\u001b[0m         \u001b[0;32mtry\u001b[0m\u001b[0;34m:\u001b[0m\u001b[0;34m\u001b[0m\u001b[0;34m\u001b[0m\u001b[0m\n\u001b[1;32m   1374\u001b[0m             \u001b[0;32mtry\u001b[0m\u001b[0;34m:\u001b[0m\u001b[0;34m\u001b[0m\u001b[0;34m\u001b[0m\u001b[0m\n\u001b[0;32m-> 1375\u001b[0;31m                 \u001b[0mresponse\u001b[0m\u001b[0;34m.\u001b[0m\u001b[0mbegin\u001b[0m\u001b[0;34m(\u001b[0m\u001b[0;34m)\u001b[0m\u001b[0;34m\u001b[0m\u001b[0;34m\u001b[0m\u001b[0m\n\u001b[0m\u001b[1;32m   1376\u001b[0m             \u001b[0;32mexcept\u001b[0m \u001b[0mConnectionError\u001b[0m\u001b[0;34m:\u001b[0m\u001b[0;34m\u001b[0m\u001b[0;34m\u001b[0m\u001b[0m\n\u001b[1;32m   1377\u001b[0m                 \u001b[0mself\u001b[0m\u001b[0;34m.\u001b[0m\u001b[0mclose\u001b[0m\u001b[0;34m(\u001b[0m\u001b[0;34m)\u001b[0m\u001b[0;34m\u001b[0m\u001b[0;34m\u001b[0m\u001b[0m\n",
            "\u001b[0;32m/usr/lib/python3.10/http/client.py\u001b[0m in \u001b[0;36mbegin\u001b[0;34m(self)\u001b[0m\n\u001b[1;32m    316\u001b[0m         \u001b[0;31m# read until we get a non-100 response\u001b[0m\u001b[0;34m\u001b[0m\u001b[0;34m\u001b[0m\u001b[0m\n\u001b[1;32m    317\u001b[0m         \u001b[0;32mwhile\u001b[0m \u001b[0;32mTrue\u001b[0m\u001b[0;34m:\u001b[0m\u001b[0;34m\u001b[0m\u001b[0;34m\u001b[0m\u001b[0m\n\u001b[0;32m--> 318\u001b[0;31m             \u001b[0mversion\u001b[0m\u001b[0;34m,\u001b[0m \u001b[0mstatus\u001b[0m\u001b[0;34m,\u001b[0m \u001b[0mreason\u001b[0m \u001b[0;34m=\u001b[0m \u001b[0mself\u001b[0m\u001b[0;34m.\u001b[0m\u001b[0m_read_status\u001b[0m\u001b[0;34m(\u001b[0m\u001b[0;34m)\u001b[0m\u001b[0;34m\u001b[0m\u001b[0;34m\u001b[0m\u001b[0m\n\u001b[0m\u001b[1;32m    319\u001b[0m             \u001b[0;32mif\u001b[0m \u001b[0mstatus\u001b[0m \u001b[0;34m!=\u001b[0m \u001b[0mCONTINUE\u001b[0m\u001b[0;34m:\u001b[0m\u001b[0;34m\u001b[0m\u001b[0;34m\u001b[0m\u001b[0m\n\u001b[1;32m    320\u001b[0m                 \u001b[0;32mbreak\u001b[0m\u001b[0;34m\u001b[0m\u001b[0;34m\u001b[0m\u001b[0m\n",
            "\u001b[0;32m/usr/lib/python3.10/http/client.py\u001b[0m in \u001b[0;36m_read_status\u001b[0;34m(self)\u001b[0m\n\u001b[1;32m    277\u001b[0m \u001b[0;34m\u001b[0m\u001b[0m\n\u001b[1;32m    278\u001b[0m     \u001b[0;32mdef\u001b[0m \u001b[0m_read_status\u001b[0m\u001b[0;34m(\u001b[0m\u001b[0mself\u001b[0m\u001b[0;34m)\u001b[0m\u001b[0;34m:\u001b[0m\u001b[0;34m\u001b[0m\u001b[0;34m\u001b[0m\u001b[0m\n\u001b[0;32m--> 279\u001b[0;31m         \u001b[0mline\u001b[0m \u001b[0;34m=\u001b[0m \u001b[0mstr\u001b[0m\u001b[0;34m(\u001b[0m\u001b[0mself\u001b[0m\u001b[0;34m.\u001b[0m\u001b[0mfp\u001b[0m\u001b[0;34m.\u001b[0m\u001b[0mreadline\u001b[0m\u001b[0;34m(\u001b[0m\u001b[0m_MAXLINE\u001b[0m \u001b[0;34m+\u001b[0m \u001b[0;36m1\u001b[0m\u001b[0;34m)\u001b[0m\u001b[0;34m,\u001b[0m \u001b[0;34m\"iso-8859-1\"\u001b[0m\u001b[0;34m)\u001b[0m\u001b[0;34m\u001b[0m\u001b[0;34m\u001b[0m\u001b[0m\n\u001b[0m\u001b[1;32m    280\u001b[0m         \u001b[0;32mif\u001b[0m \u001b[0mlen\u001b[0m\u001b[0;34m(\u001b[0m\u001b[0mline\u001b[0m\u001b[0;34m)\u001b[0m \u001b[0;34m>\u001b[0m \u001b[0m_MAXLINE\u001b[0m\u001b[0;34m:\u001b[0m\u001b[0;34m\u001b[0m\u001b[0;34m\u001b[0m\u001b[0m\n\u001b[1;32m    281\u001b[0m             \u001b[0;32mraise\u001b[0m \u001b[0mLineTooLong\u001b[0m\u001b[0;34m(\u001b[0m\u001b[0;34m\"status line\"\u001b[0m\u001b[0;34m)\u001b[0m\u001b[0;34m\u001b[0m\u001b[0;34m\u001b[0m\u001b[0m\n",
            "\u001b[0;32m/usr/lib/python3.10/socket.py\u001b[0m in \u001b[0;36mreadinto\u001b[0;34m(self, b)\u001b[0m\n\u001b[1;32m    703\u001b[0m         \u001b[0;32mwhile\u001b[0m \u001b[0;32mTrue\u001b[0m\u001b[0;34m:\u001b[0m\u001b[0;34m\u001b[0m\u001b[0;34m\u001b[0m\u001b[0m\n\u001b[1;32m    704\u001b[0m             \u001b[0;32mtry\u001b[0m\u001b[0;34m:\u001b[0m\u001b[0;34m\u001b[0m\u001b[0;34m\u001b[0m\u001b[0m\n\u001b[0;32m--> 705\u001b[0;31m                 \u001b[0;32mreturn\u001b[0m \u001b[0mself\u001b[0m\u001b[0;34m.\u001b[0m\u001b[0m_sock\u001b[0m\u001b[0;34m.\u001b[0m\u001b[0mrecv_into\u001b[0m\u001b[0;34m(\u001b[0m\u001b[0mb\u001b[0m\u001b[0;34m)\u001b[0m\u001b[0;34m\u001b[0m\u001b[0;34m\u001b[0m\u001b[0m\n\u001b[0m\u001b[1;32m    706\u001b[0m             \u001b[0;32mexcept\u001b[0m \u001b[0mtimeout\u001b[0m\u001b[0;34m:\u001b[0m\u001b[0;34m\u001b[0m\u001b[0;34m\u001b[0m\u001b[0m\n\u001b[1;32m    707\u001b[0m                 \u001b[0mself\u001b[0m\u001b[0;34m.\u001b[0m\u001b[0m_timeout_occurred\u001b[0m \u001b[0;34m=\u001b[0m \u001b[0;32mTrue\u001b[0m\u001b[0;34m\u001b[0m\u001b[0;34m\u001b[0m\u001b[0m\n",
            "\u001b[0;32m/usr/lib/python3.10/ssl.py\u001b[0m in \u001b[0;36mrecv_into\u001b[0;34m(self, buffer, nbytes, flags)\u001b[0m\n\u001b[1;32m   1272\u001b[0m                   \u001b[0;34m\"non-zero flags not allowed in calls to recv_into() on %s\"\u001b[0m \u001b[0;34m%\u001b[0m\u001b[0;34m\u001b[0m\u001b[0;34m\u001b[0m\u001b[0m\n\u001b[1;32m   1273\u001b[0m                   self.__class__)\n\u001b[0;32m-> 1274\u001b[0;31m             \u001b[0;32mreturn\u001b[0m \u001b[0mself\u001b[0m\u001b[0;34m.\u001b[0m\u001b[0mread\u001b[0m\u001b[0;34m(\u001b[0m\u001b[0mnbytes\u001b[0m\u001b[0;34m,\u001b[0m \u001b[0mbuffer\u001b[0m\u001b[0;34m)\u001b[0m\u001b[0;34m\u001b[0m\u001b[0;34m\u001b[0m\u001b[0m\n\u001b[0m\u001b[1;32m   1275\u001b[0m         \u001b[0;32melse\u001b[0m\u001b[0;34m:\u001b[0m\u001b[0;34m\u001b[0m\u001b[0;34m\u001b[0m\u001b[0m\n\u001b[1;32m   1276\u001b[0m             \u001b[0;32mreturn\u001b[0m \u001b[0msuper\u001b[0m\u001b[0;34m(\u001b[0m\u001b[0;34m)\u001b[0m\u001b[0;34m.\u001b[0m\u001b[0mrecv_into\u001b[0m\u001b[0;34m(\u001b[0m\u001b[0mbuffer\u001b[0m\u001b[0;34m,\u001b[0m \u001b[0mnbytes\u001b[0m\u001b[0;34m,\u001b[0m \u001b[0mflags\u001b[0m\u001b[0;34m)\u001b[0m\u001b[0;34m\u001b[0m\u001b[0;34m\u001b[0m\u001b[0m\n",
            "\u001b[0;32m/usr/lib/python3.10/ssl.py\u001b[0m in \u001b[0;36mread\u001b[0;34m(self, len, buffer)\u001b[0m\n\u001b[1;32m   1128\u001b[0m         \u001b[0;32mtry\u001b[0m\u001b[0;34m:\u001b[0m\u001b[0;34m\u001b[0m\u001b[0;34m\u001b[0m\u001b[0m\n\u001b[1;32m   1129\u001b[0m             \u001b[0;32mif\u001b[0m \u001b[0mbuffer\u001b[0m \u001b[0;32mis\u001b[0m \u001b[0;32mnot\u001b[0m \u001b[0;32mNone\u001b[0m\u001b[0;34m:\u001b[0m\u001b[0;34m\u001b[0m\u001b[0;34m\u001b[0m\u001b[0m\n\u001b[0;32m-> 1130\u001b[0;31m                 \u001b[0;32mreturn\u001b[0m \u001b[0mself\u001b[0m\u001b[0;34m.\u001b[0m\u001b[0m_sslobj\u001b[0m\u001b[0;34m.\u001b[0m\u001b[0mread\u001b[0m\u001b[0;34m(\u001b[0m\u001b[0mlen\u001b[0m\u001b[0;34m,\u001b[0m \u001b[0mbuffer\u001b[0m\u001b[0;34m)\u001b[0m\u001b[0;34m\u001b[0m\u001b[0;34m\u001b[0m\u001b[0m\n\u001b[0m\u001b[1;32m   1131\u001b[0m             \u001b[0;32melse\u001b[0m\u001b[0;34m:\u001b[0m\u001b[0;34m\u001b[0m\u001b[0;34m\u001b[0m\u001b[0m\n\u001b[1;32m   1132\u001b[0m                 \u001b[0;32mreturn\u001b[0m \u001b[0mself\u001b[0m\u001b[0;34m.\u001b[0m\u001b[0m_sslobj\u001b[0m\u001b[0;34m.\u001b[0m\u001b[0mread\u001b[0m\u001b[0;34m(\u001b[0m\u001b[0mlen\u001b[0m\u001b[0;34m)\u001b[0m\u001b[0;34m\u001b[0m\u001b[0;34m\u001b[0m\u001b[0m\n",
            "\u001b[0;31mKeyboardInterrupt\u001b[0m: "
          ]
        }
      ]
    },
    {
      "cell_type": "markdown",
      "source": [
        "### ROUGE metrics"
      ],
      "metadata": {
        "id": "PS_1E4f03IdZ"
      }
    },
    {
      "cell_type": "code",
      "source": [
        "from pprint import pprint\n",
        "import os\n",
        "import os.path\n",
        "import statistics\n",
        "\n",
        "from rouge import Rouge\n",
        "\n",
        "all_gen_summaries = []\n",
        "all_ref_summaries = []\n",
        "\n",
        "# Mean ROUGE F1-scores across all hotels and all aspects\n",
        "rouge1_f = []\n",
        "rouge2_f = []\n",
        "rougel_f = []\n",
        "\n",
        "R = Rouge()\n",
        "for eid in sel_hotels:\n",
        "  for aspect in aspect_labels[:-1]: # Exclude 'general'\n",
        "    # Get reference summary for hotel and aspect.\n",
        "    summ_file = f'{SPACE_SENTASPECTS_DIR}/{eid}-{aspect}-summary.pkl'\n",
        "    if not os.path.exists(summ_file):\n",
        "      print(f'{summ_file} does not exist.')\n",
        "      continue\n",
        "\n",
        "    h = get_hotel(eid)\n",
        "    ref_summaries = h['summaries'][aspect]\n",
        "    all_ref_summaries.extend(ref_summaries)\n",
        "\n",
        "    gen_summaries = loaddata(summ_file)\n",
        "    gen_summary = gen_summaries[-1][0]\n",
        "\n",
        "    for ref_summary in ref_summaries:\n",
        "      all_gen_summaries.append(gen_summary)\n",
        "      scores = R.get_scores(gen_summary,ref_summary)[0]\n",
        "      #print(scores)\n",
        "      rouge1_f.append(scores['rouge-1']['f'])\n",
        "      rouge2_f.append(scores['rouge-2']['f'])\n",
        "      rougel_f.append(scores['rouge-l']['f'])\n",
        "\n",
        "print('Mean rouge-1 f:', statistics.mean(rouge1_f))\n",
        "print('Mean rouge-2 f:', statistics.mean(rouge2_f))\n",
        "print('Mean rouge-l f:', statistics.mean(rougel_f))"
      ],
      "metadata": {
        "colab": {
          "base_uri": "https://localhost:8080/"
        },
        "id": "TurQ76BYhGhw",
        "outputId": "24872df8-acd3-4ee4-f598-737ff4d624e4"
      },
      "execution_count": null,
      "outputs": [
        {
          "output_type": "stream",
          "name": "stdout",
          "text": [
            "/content/opinion-summ/space/sentaspects//183092-rooms-summary.pkl does not exist.\n",
            "/content/opinion-summ/space/sentaspects//183092-building-summary.pkl does not exist.\n",
            "/content/opinion-summ/space/sentaspects//183092-cleanliness-summary.pkl does not exist.\n",
            "/content/opinion-summ/space/sentaspects//183092-location-summary.pkl does not exist.\n",
            "/content/opinion-summ/space/sentaspects//183092-service-summary.pkl does not exist.\n",
            "/content/opinion-summ/space/sentaspects//183092-food-summary.pkl does not exist.\n",
            "/content/opinion-summ/space/sentaspects//185804-rooms-summary.pkl does not exist.\n",
            "/content/opinion-summ/space/sentaspects//185804-building-summary.pkl does not exist.\n",
            "/content/opinion-summ/space/sentaspects//185804-cleanliness-summary.pkl does not exist.\n",
            "/content/opinion-summ/space/sentaspects//185804-location-summary.pkl does not exist.\n",
            "/content/opinion-summ/space/sentaspects//185804-service-summary.pkl does not exist.\n",
            "/content/opinion-summ/space/sentaspects//185804-food-summary.pkl does not exist.\n",
            "/content/opinion-summ/space/sentaspects//1029276-rooms-summary.pkl does not exist.\n",
            "/content/opinion-summ/space/sentaspects//1029276-building-summary.pkl does not exist.\n",
            "/content/opinion-summ/space/sentaspects//1029276-cleanliness-summary.pkl does not exist.\n",
            "/content/opinion-summ/space/sentaspects//1029276-location-summary.pkl does not exist.\n",
            "/content/opinion-summ/space/sentaspects//1029276-service-summary.pkl does not exist.\n",
            "/content/opinion-summ/space/sentaspects//1029276-food-summary.pkl does not exist.\n",
            "/content/opinion-summ/space/sentaspects//1113787-rooms-summary.pkl does not exist.\n",
            "/content/opinion-summ/space/sentaspects//1113787-building-summary.pkl does not exist.\n",
            "/content/opinion-summ/space/sentaspects//1113787-cleanliness-summary.pkl does not exist.\n",
            "/content/opinion-summ/space/sentaspects//1113787-location-summary.pkl does not exist.\n",
            "/content/opinion-summ/space/sentaspects//1113787-service-summary.pkl does not exist.\n",
            "/content/opinion-summ/space/sentaspects//1113787-food-summary.pkl does not exist.\n",
            "/content/opinion-summ/space/sentaspects//1176198-rooms-summary.pkl does not exist.\n",
            "/content/opinion-summ/space/sentaspects//1176198-building-summary.pkl does not exist.\n",
            "/content/opinion-summ/space/sentaspects//1176198-cleanliness-summary.pkl does not exist.\n",
            "/content/opinion-summ/space/sentaspects//1176198-location-summary.pkl does not exist.\n",
            "/content/opinion-summ/space/sentaspects//1176198-service-summary.pkl does not exist.\n",
            "/content/opinion-summ/space/sentaspects//1176198-food-summary.pkl does not exist.\n",
            "Mean rouge-1 f: 0.17999587072750584\n",
            "Mean rouge-2 f: 0.026240474509047932\n",
            "Mean rouge-l f: 0.16145115405048097\n"
          ]
        }
      ]
    },
    {
      "cell_type": "markdown",
      "metadata": {
        "id": "g7onCD3b5QZJ"
      },
      "source": [
        "### BERTScore Metrics"
      ]
    },
    {
      "cell_type": "code",
      "source": [
        "len(all_gen_summaries), len(all_ref_summaries)"
      ],
      "metadata": {
        "colab": {
          "base_uri": "https://localhost:8080/"
        },
        "id": "y7By-faLyfbk",
        "outputId": "91e484b3-8d75-4c35-c058-98ea41e7b58d"
      },
      "execution_count": null,
      "outputs": [
        {
          "output_type": "execute_result",
          "data": {
            "text/plain": [
              "(90, 90)"
            ]
          },
          "metadata": {},
          "execution_count": 65
        }
      ]
    },
    {
      "cell_type": "code",
      "execution_count": null,
      "metadata": {
        "colab": {
          "base_uri": "https://localhost:8080/"
        },
        "id": "CijgpXUv5QZN",
        "outputId": "7485662d-df43-465b-ba6a-c0a06b231727"
      },
      "outputs": [
        {
          "output_type": "stream",
          "name": "stderr",
          "text": [
            "Some weights of the model checkpoint at roberta-large were not used when initializing RobertaModel: ['lm_head.dense.bias', 'lm_head.decoder.weight', 'lm_head.dense.weight', 'lm_head.layer_norm.weight', 'lm_head.layer_norm.bias', 'lm_head.bias']\n",
            "- This IS expected if you are initializing RobertaModel from the checkpoint of a model trained on another task or with another architecture (e.g. initializing a BertForSequenceClassification model from a BertForPreTraining model).\n",
            "- This IS NOT expected if you are initializing RobertaModel from the checkpoint of a model that you expect to be exactly identical (initializing a BertForSequenceClassification model from a BertForSequenceClassification model).\n"
          ]
        },
        {
          "output_type": "execute_result",
          "data": {
            "text/plain": [
              "{'precision': [0.9487131834030151,\n",
              "  0.9459242820739746,\n",
              "  0.9476812481880188,\n",
              "  0.9486280679702759,\n",
              "  0.9414752125740051,\n",
              "  0.9455282688140869,\n",
              "  0.9526387453079224,\n",
              "  0.9524768590927124,\n",
              "  0.9528357982635498,\n",
              "  0.9490207433700562,\n",
              "  0.9576573967933655,\n",
              "  0.9519209265708923,\n",
              "  0.9561426639556885,\n",
              "  0.9485679864883423,\n",
              "  0.9480463862419128,\n",
              "  0.9469122290611267,\n",
              "  0.9454221129417419,\n",
              "  0.9510140419006348,\n",
              "  0.947048008441925,\n",
              "  0.9494012594223022,\n",
              "  0.951958954334259,\n",
              "  0.9473575353622437,\n",
              "  0.9464818835258484,\n",
              "  0.9480583071708679,\n",
              "  0.9523980617523193,\n",
              "  0.9491949677467346,\n",
              "  0.9484856128692627,\n",
              "  0.9481065273284912,\n",
              "  0.9466752409934998,\n",
              "  0.9518048763275146,\n",
              "  0.9514337778091431,\n",
              "  0.9505701661109924,\n",
              "  0.9479382038116455,\n",
              "  0.957195520401001,\n",
              "  0.9528428316116333,\n",
              "  0.951153039932251,\n",
              "  0.9486376643180847,\n",
              "  0.9470864534378052,\n",
              "  0.9505252242088318,\n",
              "  0.9476030468940735,\n",
              "  0.9501947164535522,\n",
              "  0.9453746676445007,\n",
              "  0.947884738445282,\n",
              "  0.9496846199035645,\n",
              "  0.9448795318603516,\n",
              "  0.9465241432189941,\n",
              "  0.9502127170562744,\n",
              "  0.9471986293792725,\n",
              "  0.9443804025650024,\n",
              "  0.946398138999939,\n",
              "  0.9431480169296265,\n",
              "  0.949905276298523,\n",
              "  0.9479180574417114,\n",
              "  0.9489238262176514,\n",
              "  0.9490155577659607,\n",
              "  0.949506938457489,\n",
              "  0.9507626295089722,\n",
              "  0.9467965364456177,\n",
              "  0.9483704566955566,\n",
              "  0.9438601732254028,\n",
              "  0.9493812322616577,\n",
              "  0.950491189956665,\n",
              "  0.9492532014846802,\n",
              "  0.9531365036964417,\n",
              "  0.9554836750030518,\n",
              "  0.9549206495285034,\n",
              "  0.9516821503639221,\n",
              "  0.9452753067016602,\n",
              "  0.9483638405799866,\n",
              "  0.9478843808174133,\n",
              "  0.9551101922988892,\n",
              "  0.9520959258079529,\n",
              "  0.9584062099456787,\n",
              "  0.954932451248169,\n",
              "  0.9497873783111572,\n",
              "  0.9431343674659729,\n",
              "  0.947507917881012,\n",
              "  0.9485536813735962,\n",
              "  0.9537134170532227,\n",
              "  0.9506593942642212,\n",
              "  0.957004725933075,\n",
              "  0.954119861125946,\n",
              "  0.9550183415412903,\n",
              "  0.9517292976379395,\n",
              "  0.9442079067230225,\n",
              "  0.9454995393753052,\n",
              "  0.9443161487579346,\n",
              "  0.9453302025794983,\n",
              "  0.9459221959114075,\n",
              "  0.9441738128662109],\n",
              " 'recall': [0.9677602648735046,\n",
              "  0.9596896171569824,\n",
              "  0.9706579446792603,\n",
              "  0.9816838502883911,\n",
              "  0.960002064704895,\n",
              "  0.9663194417953491,\n",
              "  0.9711615443229675,\n",
              "  0.9726085662841797,\n",
              "  0.976767897605896,\n",
              "  0.9669840335845947,\n",
              "  0.9826383590698242,\n",
              "  0.969660222530365,\n",
              "  0.9776232242584229,\n",
              "  0.9644509553909302,\n",
              "  0.9687101244926453,\n",
              "  0.9655625820159912,\n",
              "  0.9636949896812439,\n",
              "  0.9681039452552795,\n",
              "  0.9721655249595642,\n",
              "  0.967583954334259,\n",
              "  0.9714667797088623,\n",
              "  0.9682573080062866,\n",
              "  0.9716282486915588,\n",
              "  0.971961498260498,\n",
              "  0.9706712365150452,\n",
              "  0.9613683819770813,\n",
              "  0.9645853042602539,\n",
              "  0.9758808016777039,\n",
              "  0.9605055451393127,\n",
              "  0.9661373496055603,\n",
              "  0.9687697887420654,\n",
              "  0.9688407182693481,\n",
              "  0.9688595533370972,\n",
              "  0.9701260924339294,\n",
              "  0.9625885486602783,\n",
              "  0.9567850828170776,\n",
              "  0.9681577086448669,\n",
              "  0.9649442434310913,\n",
              "  0.9623720645904541,\n",
              "  0.9690873622894287,\n",
              "  0.9667313694953918,\n",
              "  0.9674968719482422,\n",
              "  0.9656128883361816,\n",
              "  0.9655552506446838,\n",
              "  0.9599117636680603,\n",
              "  0.9579336643218994,\n",
              "  0.9654279351234436,\n",
              "  0.9648743271827698,\n",
              "  0.9585466384887695,\n",
              "  0.964709460735321,\n",
              "  0.9600282311439514,\n",
              "  0.9615796804428101,\n",
              "  0.9621942639350891,\n",
              "  0.9604923129081726,\n",
              "  0.9593974351882935,\n",
              "  0.9560800790786743,\n",
              "  0.9599292278289795,\n",
              "  0.9605888724327087,\n",
              "  0.9515058398246765,\n",
              "  0.942524790763855,\n",
              "  0.96083664894104,\n",
              "  0.9636321067810059,\n",
              "  0.9585051536560059,\n",
              "  0.9573034048080444,\n",
              "  0.9662882089614868,\n",
              "  0.9616758823394775,\n",
              "  0.9620463252067566,\n",
              "  0.9553856253623962,\n",
              "  0.958412766456604,\n",
              "  0.9576048851013184,\n",
              "  0.9635789394378662,\n",
              "  0.9592970013618469,\n",
              "  0.9710546731948853,\n",
              "  0.9728221297264099,\n",
              "  0.959598958492279,\n",
              "  0.9530472755432129,\n",
              "  0.9604172706604004,\n",
              "  0.9614355564117432,\n",
              "  0.9607771039009094,\n",
              "  0.9539816379547119,\n",
              "  0.9656301736831665,\n",
              "  0.9605599045753479,\n",
              "  0.96529221534729,\n",
              "  0.9571500420570374,\n",
              "  0.9524953365325928,\n",
              "  0.9527604579925537,\n",
              "  0.9506410360336304,\n",
              "  0.9543333053588867,\n",
              "  0.95633864402771,\n",
              "  0.9560044407844543],\n",
              " 'f1': [0.958142101764679,\n",
              "  0.9527572393417358,\n",
              "  0.9590319395065308,\n",
              "  0.9648728966712952,\n",
              "  0.950648307800293,\n",
              "  0.9558107852935791,\n",
              "  0.9618110060691833,\n",
              "  0.9624374508857727,\n",
              "  0.9646534323692322,\n",
              "  0.9579181671142578,\n",
              "  0.9699870944023132,\n",
              "  0.9607086777687073,\n",
              "  0.9667636156082153,\n",
              "  0.9564435482025146,\n",
              "  0.9582668542861938,\n",
              "  0.9561464190483093,\n",
              "  0.9544711112976074,\n",
              "  0.9594829678535461,\n",
              "  0.9594424366950989,\n",
              "  0.9584063291549683,\n",
              "  0.9616140127182007,\n",
              "  0.9576933979988098,\n",
              "  0.9588902592658997,\n",
              "  0.9598610997200012,\n",
              "  0.9614478945732117,\n",
              "  0.9552428722381592,\n",
              "  0.9564677476882935,\n",
              "  0.9617931842803955,\n",
              "  0.9535402059555054,\n",
              "  0.9589175581932068,\n",
              "  0.9600235819816589,\n",
              "  0.9596184492111206,\n",
              "  0.9582847356796265,\n",
              "  0.9636174440383911,\n",
              "  0.9576908946037292,\n",
              "  0.9539607167243958,\n",
              "  0.9582982659339905,\n",
              "  0.9559319019317627,\n",
              "  0.9564119577407837,\n",
              "  0.9582248330116272,\n",
              "  0.9583916664123535,\n",
              "  0.9563078284263611,\n",
              "  0.9566666483879089,\n",
              "  0.9575542211532593,\n",
              "  0.952336311340332,\n",
              "  0.9521947503089905,\n",
              "  0.9577599167823792,\n",
              "  0.9559547901153564,\n",
              "  0.9514107704162598,\n",
              "  0.955466091632843,\n",
              "  0.9515132308006287,\n",
              "  0.9557068347930908,\n",
              "  0.9550027847290039,\n",
              "  0.9546729922294617,\n",
              "  0.9541783332824707,\n",
              "  0.9527822136878967,\n",
              "  0.9553239345550537,\n",
              "  0.9536429047584534,\n",
              "  0.9499355554580688,\n",
              "  0.9431920051574707,\n",
              "  0.9550746083259583,\n",
              "  0.9570165276527405,\n",
              "  0.9538567066192627,\n",
              "  0.9552153944969177,\n",
              "  0.9608555436134338,\n",
              "  0.9582864046096802,\n",
              "  0.9568361639976501,\n",
              "  0.9503035545349121,\n",
              "  0.9533617496490479,\n",
              "  0.9527198672294617,\n",
              "  0.959325909614563,\n",
              "  0.9556829333305359,\n",
              "  0.9646890163421631,\n",
              "  0.9637942314147949,\n",
              "  0.9546679258346558,\n",
              "  0.948064923286438,\n",
              "  0.9539189338684082,\n",
              "  0.9549511671066284,\n",
              "  0.9572322368621826,\n",
              "  0.9523175954818726,\n",
              "  0.9612981081008911,\n",
              "  0.9573290944099426,\n",
              "  0.9601278305053711,\n",
              "  0.9544320106506348,\n",
              "  0.9483335018157959,\n",
              "  0.9491161108016968,\n",
              "  0.9474680423736572,\n",
              "  0.9498104453086853,\n",
              "  0.9511019587516785,\n",
              "  0.9500523805618286]}"
            ]
          },
          "metadata": {},
          "execution_count": 69
        }
      ],
      "source": [
        "from torchmetrics.text.bert import BERTScore\n",
        "\n",
        "scorer = BERTScore('roberta-large')\n",
        "\n",
        "bert_scores = scorer(all_gen_summaries, all_ref_summaries)\n",
        "\n",
        "bert_scores"
      ]
    },
    {
      "cell_type": "code",
      "execution_count": null,
      "metadata": {
        "colab": {
          "base_uri": "https://localhost:8080/"
        },
        "id": "TxMKdYGd5QZP",
        "outputId": "2b29918b-f3ef-4348-8783-bb415765b53f"
      },
      "outputs": [
        {
          "output_type": "execute_result",
          "data": {
            "text/plain": [
              "0.9564774228466881"
            ]
          },
          "metadata": {},
          "execution_count": 70
        }
      ],
      "source": [
        "import statistics\n",
        "\n",
        "statistics.mean(bert_scores['f1'])"
      ]
    },
    {
      "cell_type": "markdown",
      "source": [
        "## QFSumm-Long + GPT Summarization"
      ],
      "metadata": {
        "id": "e4rq1eNL_kTb"
      }
    },
    {
      "cell_type": "code",
      "source": [],
      "metadata": {
        "id": "iSilgwUn0OLE"
      },
      "execution_count": null,
      "outputs": []
    },
    {
      "cell_type": "code",
      "source": [
        "%cd /content"
      ],
      "metadata": {
        "id": "83NKBRcuEB5G"
      },
      "execution_count": null,
      "outputs": []
    },
    {
      "cell_type": "code",
      "source": [
        " !git clone https://github.com/pathbreak/gpt4-opinion-summ"
      ],
      "metadata": {
        "id": "cMAkpn1ZDnmW"
      },
      "execution_count": null,
      "outputs": []
    },
    {
      "cell_type": "code",
      "source": [
        "# This is a dict of dicts :\n",
        "#  {eid: {\n",
        "#     aspect: Newline-separated text summary\n",
        "#  }}\n",
        "qfsumm = loaddata('/content/gpt4-opinion-summ/saved-data/space/all-new-pkls/summaries-pkl/qfsumm-long.pkl')"
      ],
      "metadata": {
        "id": "TDZESIt8D1Qu"
      },
      "execution_count": null,
      "outputs": []
    },
    {
      "cell_type": "code",
      "source": [
        "import nltk.tokenize\n",
        "\n",
        "for eid in sel_hotels:\n",
        "  for aspect in aspect_labels[:-1]: #Exclude 'general'\n",
        "    sel_aspect_sents = qfsumm[eid][aspect]\n",
        "\n",
        "    sel_aspect_sents = nltk.tokenize.sent_tokenize(sel_aspect_sents)\n",
        "\n",
        "    summary = get_gpt_aspect_summary('gpt-4',\n",
        "                                     aspect,\n",
        "                                     sel_aspect_sents,\n",
        "                                     is_summarized=False,\n",
        "                                     return_all_levels=True)\n",
        "\n",
        "    savedata(f'{SPACE_SENTASPECTS_DIR}/{eid}-{aspect}-qfsummary.pkl', summary)\n"
      ],
      "metadata": {
        "id": "G6lsuKcrErK6"
      },
      "execution_count": null,
      "outputs": []
    },
    {
      "cell_type": "code",
      "source": [],
      "metadata": {
        "id": "3dU7D37CIEoW"
      },
      "execution_count": null,
      "outputs": []
    },
    {
      "cell_type": "markdown",
      "source": [
        "### ROUGE metrics"
      ],
      "metadata": {
        "id": "1Wu5AyMeIHEW"
      }
    },
    {
      "cell_type": "code",
      "source": [
        "from pprint import pprint\n",
        "import statistics\n",
        "\n",
        "from rouge import Rouge\n",
        "\n",
        "all_gen_summaries = []\n",
        "all_ref_summaries = []\n",
        "\n",
        "# Mean ROUGE F1-scores across all hotels and all aspects\n",
        "rouge1_f = []\n",
        "rouge2_f = []\n",
        "rougel_f = []\n",
        "\n",
        "R = Rouge()\n",
        "for eid in sel_hotels:\n",
        "  for aspect in aspect_labels[:-1]: # Exclude 'general'\n",
        "    # Get reference summary for hotel and aspect.\n",
        "    h = get_hotel(eid)\n",
        "    ref_summary = h['summaries'][aspect]\n",
        "    all_ref_summaries.append(ref_summary)\n",
        "\n",
        "    gen_summaries = loaddata(f'{SPACE_SENTASPECTS_DIR}/{eid}-{aspect}-qfsummary.pkl')\n",
        "    gen_summary = gen_summaries[-1][0]\n",
        "\n",
        "    all_gen_summaries.append(gen_summary)\n",
        "    scores = R.get_scores(gen_summary,ref_summary)[0]\n",
        "    #print(scores)\n",
        "    rouge1_f.append(scores['rouge-1']['f'])\n",
        "    rouge2_f.append(scores['rouge-2']['f'])\n",
        "    rougel_f.append(scores['rouge-l']['f'])\n",
        "\n",
        "print('Mean rouge-1 f:', statistics.mean(rouge1_f))\n",
        "print('Mean rouge-2 f:', statistics.mean(rouge2_f))\n",
        "print('Mean rouge-l f:', statistics.mean(rougel_f))"
      ],
      "metadata": {
        "id": "lhY9RFPjIHEZ"
      },
      "execution_count": null,
      "outputs": []
    },
    {
      "cell_type": "markdown",
      "metadata": {
        "id": "R048PngAIHEd"
      },
      "source": [
        "### BERTScore Metrics"
      ]
    },
    {
      "cell_type": "code",
      "execution_count": null,
      "metadata": {
        "id": "41bKsYr8IHEf"
      },
      "outputs": [],
      "source": [
        "from torchmetrics.text.bert import BERTScore\n",
        "\n",
        "scorer = BERTScore('roberta-large')\n",
        "\n",
        "bert_scores = scorer(all_gen_summaries, all_ref_summaries)\n",
        "\n",
        "bert_scores"
      ]
    },
    {
      "cell_type": "code",
      "source": [
        "import statistics\n",
        "\n",
        "statistics.mean(bert_scores['f1'])"
      ],
      "metadata": {
        "id": "ftxQyVXEIe1f"
      },
      "execution_count": null,
      "outputs": []
    }
  ],
  "metadata": {
    "colab": {
      "provenance": [],
      "toc_visible": true
    },
    "kernelspec": {
      "display_name": "Python 3",
      "name": "python3"
    },
    "language_info": {
      "name": "python"
    },
    "widgets": {
      "application/vnd.jupyter.widget-state+json": {
        "3c0d1e02881b4728be5067e37241bc4f": {
          "model_module": "@jupyter-widgets/controls",
          "model_name": "HBoxModel",
          "model_module_version": "1.5.0",
          "state": {
            "_dom_classes": [],
            "_model_module": "@jupyter-widgets/controls",
            "_model_module_version": "1.5.0",
            "_model_name": "HBoxModel",
            "_view_count": null,
            "_view_module": "@jupyter-widgets/controls",
            "_view_module_version": "1.5.0",
            "_view_name": "HBoxView",
            "box_style": "",
            "children": [
              "IPY_MODEL_b0690b8332aa451d9846eb347010cb7b",
              "IPY_MODEL_d2dec56970b1478cb729839b2649e54a",
              "IPY_MODEL_4cf4c5c1212a4126917f2077d1f9ed75"
            ],
            "layout": "IPY_MODEL_293ed4ebbe2143b9a9afc91f9b450dab"
          }
        },
        "b0690b8332aa451d9846eb347010cb7b": {
          "model_module": "@jupyter-widgets/controls",
          "model_name": "HTMLModel",
          "model_module_version": "1.5.0",
          "state": {
            "_dom_classes": [],
            "_model_module": "@jupyter-widgets/controls",
            "_model_module_version": "1.5.0",
            "_model_name": "HTMLModel",
            "_view_count": null,
            "_view_module": "@jupyter-widgets/controls",
            "_view_module_version": "1.5.0",
            "_view_name": "HTMLView",
            "description": "",
            "description_tooltip": null,
            "layout": "IPY_MODEL_e43ec46357e84a02b1be158a5d8dfce2",
            "placeholder": "​",
            "style": "IPY_MODEL_25b4bfa5cb3048dcaf1261db90da2eb7",
            "value": "Downloading (…)lve/main/config.json: 100%"
          }
        },
        "d2dec56970b1478cb729839b2649e54a": {
          "model_module": "@jupyter-widgets/controls",
          "model_name": "FloatProgressModel",
          "model_module_version": "1.5.0",
          "state": {
            "_dom_classes": [],
            "_model_module": "@jupyter-widgets/controls",
            "_model_module_version": "1.5.0",
            "_model_name": "FloatProgressModel",
            "_view_count": null,
            "_view_module": "@jupyter-widgets/controls",
            "_view_module_version": "1.5.0",
            "_view_name": "ProgressView",
            "bar_style": "success",
            "description": "",
            "description_tooltip": null,
            "layout": "IPY_MODEL_e4d51a0cc63441458c97514d9637689c",
            "max": 482,
            "min": 0,
            "orientation": "horizontal",
            "style": "IPY_MODEL_8621407ef1d94af6a0f7d4b65a36b18c",
            "value": 482
          }
        },
        "4cf4c5c1212a4126917f2077d1f9ed75": {
          "model_module": "@jupyter-widgets/controls",
          "model_name": "HTMLModel",
          "model_module_version": "1.5.0",
          "state": {
            "_dom_classes": [],
            "_model_module": "@jupyter-widgets/controls",
            "_model_module_version": "1.5.0",
            "_model_name": "HTMLModel",
            "_view_count": null,
            "_view_module": "@jupyter-widgets/controls",
            "_view_module_version": "1.5.0",
            "_view_name": "HTMLView",
            "description": "",
            "description_tooltip": null,
            "layout": "IPY_MODEL_7c242365958f48a0b0a6fe7abb12f671",
            "placeholder": "​",
            "style": "IPY_MODEL_ab54835e328a42dba3455c3d05765be7",
            "value": " 482/482 [00:00&lt;00:00, 4.92kB/s]"
          }
        },
        "293ed4ebbe2143b9a9afc91f9b450dab": {
          "model_module": "@jupyter-widgets/base",
          "model_name": "LayoutModel",
          "model_module_version": "1.2.0",
          "state": {
            "_model_module": "@jupyter-widgets/base",
            "_model_module_version": "1.2.0",
            "_model_name": "LayoutModel",
            "_view_count": null,
            "_view_module": "@jupyter-widgets/base",
            "_view_module_version": "1.2.0",
            "_view_name": "LayoutView",
            "align_content": null,
            "align_items": null,
            "align_self": null,
            "border": null,
            "bottom": null,
            "display": null,
            "flex": null,
            "flex_flow": null,
            "grid_area": null,
            "grid_auto_columns": null,
            "grid_auto_flow": null,
            "grid_auto_rows": null,
            "grid_column": null,
            "grid_gap": null,
            "grid_row": null,
            "grid_template_areas": null,
            "grid_template_columns": null,
            "grid_template_rows": null,
            "height": null,
            "justify_content": null,
            "justify_items": null,
            "left": null,
            "margin": null,
            "max_height": null,
            "max_width": null,
            "min_height": null,
            "min_width": null,
            "object_fit": null,
            "object_position": null,
            "order": null,
            "overflow": null,
            "overflow_x": null,
            "overflow_y": null,
            "padding": null,
            "right": null,
            "top": null,
            "visibility": null,
            "width": null
          }
        },
        "e43ec46357e84a02b1be158a5d8dfce2": {
          "model_module": "@jupyter-widgets/base",
          "model_name": "LayoutModel",
          "model_module_version": "1.2.0",
          "state": {
            "_model_module": "@jupyter-widgets/base",
            "_model_module_version": "1.2.0",
            "_model_name": "LayoutModel",
            "_view_count": null,
            "_view_module": "@jupyter-widgets/base",
            "_view_module_version": "1.2.0",
            "_view_name": "LayoutView",
            "align_content": null,
            "align_items": null,
            "align_self": null,
            "border": null,
            "bottom": null,
            "display": null,
            "flex": null,
            "flex_flow": null,
            "grid_area": null,
            "grid_auto_columns": null,
            "grid_auto_flow": null,
            "grid_auto_rows": null,
            "grid_column": null,
            "grid_gap": null,
            "grid_row": null,
            "grid_template_areas": null,
            "grid_template_columns": null,
            "grid_template_rows": null,
            "height": null,
            "justify_content": null,
            "justify_items": null,
            "left": null,
            "margin": null,
            "max_height": null,
            "max_width": null,
            "min_height": null,
            "min_width": null,
            "object_fit": null,
            "object_position": null,
            "order": null,
            "overflow": null,
            "overflow_x": null,
            "overflow_y": null,
            "padding": null,
            "right": null,
            "top": null,
            "visibility": null,
            "width": null
          }
        },
        "25b4bfa5cb3048dcaf1261db90da2eb7": {
          "model_module": "@jupyter-widgets/controls",
          "model_name": "DescriptionStyleModel",
          "model_module_version": "1.5.0",
          "state": {
            "_model_module": "@jupyter-widgets/controls",
            "_model_module_version": "1.5.0",
            "_model_name": "DescriptionStyleModel",
            "_view_count": null,
            "_view_module": "@jupyter-widgets/base",
            "_view_module_version": "1.2.0",
            "_view_name": "StyleView",
            "description_width": ""
          }
        },
        "e4d51a0cc63441458c97514d9637689c": {
          "model_module": "@jupyter-widgets/base",
          "model_name": "LayoutModel",
          "model_module_version": "1.2.0",
          "state": {
            "_model_module": "@jupyter-widgets/base",
            "_model_module_version": "1.2.0",
            "_model_name": "LayoutModel",
            "_view_count": null,
            "_view_module": "@jupyter-widgets/base",
            "_view_module_version": "1.2.0",
            "_view_name": "LayoutView",
            "align_content": null,
            "align_items": null,
            "align_self": null,
            "border": null,
            "bottom": null,
            "display": null,
            "flex": null,
            "flex_flow": null,
            "grid_area": null,
            "grid_auto_columns": null,
            "grid_auto_flow": null,
            "grid_auto_rows": null,
            "grid_column": null,
            "grid_gap": null,
            "grid_row": null,
            "grid_template_areas": null,
            "grid_template_columns": null,
            "grid_template_rows": null,
            "height": null,
            "justify_content": null,
            "justify_items": null,
            "left": null,
            "margin": null,
            "max_height": null,
            "max_width": null,
            "min_height": null,
            "min_width": null,
            "object_fit": null,
            "object_position": null,
            "order": null,
            "overflow": null,
            "overflow_x": null,
            "overflow_y": null,
            "padding": null,
            "right": null,
            "top": null,
            "visibility": null,
            "width": null
          }
        },
        "8621407ef1d94af6a0f7d4b65a36b18c": {
          "model_module": "@jupyter-widgets/controls",
          "model_name": "ProgressStyleModel",
          "model_module_version": "1.5.0",
          "state": {
            "_model_module": "@jupyter-widgets/controls",
            "_model_module_version": "1.5.0",
            "_model_name": "ProgressStyleModel",
            "_view_count": null,
            "_view_module": "@jupyter-widgets/base",
            "_view_module_version": "1.2.0",
            "_view_name": "StyleView",
            "bar_color": null,
            "description_width": ""
          }
        },
        "7c242365958f48a0b0a6fe7abb12f671": {
          "model_module": "@jupyter-widgets/base",
          "model_name": "LayoutModel",
          "model_module_version": "1.2.0",
          "state": {
            "_model_module": "@jupyter-widgets/base",
            "_model_module_version": "1.2.0",
            "_model_name": "LayoutModel",
            "_view_count": null,
            "_view_module": "@jupyter-widgets/base",
            "_view_module_version": "1.2.0",
            "_view_name": "LayoutView",
            "align_content": null,
            "align_items": null,
            "align_self": null,
            "border": null,
            "bottom": null,
            "display": null,
            "flex": null,
            "flex_flow": null,
            "grid_area": null,
            "grid_auto_columns": null,
            "grid_auto_flow": null,
            "grid_auto_rows": null,
            "grid_column": null,
            "grid_gap": null,
            "grid_row": null,
            "grid_template_areas": null,
            "grid_template_columns": null,
            "grid_template_rows": null,
            "height": null,
            "justify_content": null,
            "justify_items": null,
            "left": null,
            "margin": null,
            "max_height": null,
            "max_width": null,
            "min_height": null,
            "min_width": null,
            "object_fit": null,
            "object_position": null,
            "order": null,
            "overflow": null,
            "overflow_x": null,
            "overflow_y": null,
            "padding": null,
            "right": null,
            "top": null,
            "visibility": null,
            "width": null
          }
        },
        "ab54835e328a42dba3455c3d05765be7": {
          "model_module": "@jupyter-widgets/controls",
          "model_name": "DescriptionStyleModel",
          "model_module_version": "1.5.0",
          "state": {
            "_model_module": "@jupyter-widgets/controls",
            "_model_module_version": "1.5.0",
            "_model_name": "DescriptionStyleModel",
            "_view_count": null,
            "_view_module": "@jupyter-widgets/base",
            "_view_module_version": "1.2.0",
            "_view_name": "StyleView",
            "description_width": ""
          }
        },
        "cd03c53c874e4d6fbd79d52a7bbd9b6d": {
          "model_module": "@jupyter-widgets/controls",
          "model_name": "HBoxModel",
          "model_module_version": "1.5.0",
          "state": {
            "_dom_classes": [],
            "_model_module": "@jupyter-widgets/controls",
            "_model_module_version": "1.5.0",
            "_model_name": "HBoxModel",
            "_view_count": null,
            "_view_module": "@jupyter-widgets/controls",
            "_view_module_version": "1.5.0",
            "_view_name": "HBoxView",
            "box_style": "",
            "children": [
              "IPY_MODEL_d4dc15ae641c4e9496df6a2fa0c94ba4",
              "IPY_MODEL_92528399220546f6a0bd165fd80efd55",
              "IPY_MODEL_001acf6934ac41a29d4550ee3aeaa840"
            ],
            "layout": "IPY_MODEL_c9c9f71533594d0d9890a38e35b135b0"
          }
        },
        "d4dc15ae641c4e9496df6a2fa0c94ba4": {
          "model_module": "@jupyter-widgets/controls",
          "model_name": "HTMLModel",
          "model_module_version": "1.5.0",
          "state": {
            "_dom_classes": [],
            "_model_module": "@jupyter-widgets/controls",
            "_model_module_version": "1.5.0",
            "_model_name": "HTMLModel",
            "_view_count": null,
            "_view_module": "@jupyter-widgets/controls",
            "_view_module_version": "1.5.0",
            "_view_name": "HTMLView",
            "description": "",
            "description_tooltip": null,
            "layout": "IPY_MODEL_c88349c959eb4182befa8c6e4a58df23",
            "placeholder": "​",
            "style": "IPY_MODEL_73ac4eb33e194e40a95a02a6d275ae1e",
            "value": "Downloading (…)olve/main/vocab.json: 100%"
          }
        },
        "92528399220546f6a0bd165fd80efd55": {
          "model_module": "@jupyter-widgets/controls",
          "model_name": "FloatProgressModel",
          "model_module_version": "1.5.0",
          "state": {
            "_dom_classes": [],
            "_model_module": "@jupyter-widgets/controls",
            "_model_module_version": "1.5.0",
            "_model_name": "FloatProgressModel",
            "_view_count": null,
            "_view_module": "@jupyter-widgets/controls",
            "_view_module_version": "1.5.0",
            "_view_name": "ProgressView",
            "bar_style": "success",
            "description": "",
            "description_tooltip": null,
            "layout": "IPY_MODEL_88e0938f2e364bc59897c8715a7ae3cd",
            "max": 898823,
            "min": 0,
            "orientation": "horizontal",
            "style": "IPY_MODEL_fd2b554eb5d94670a9a3fc0b834bf6f1",
            "value": 898823
          }
        },
        "001acf6934ac41a29d4550ee3aeaa840": {
          "model_module": "@jupyter-widgets/controls",
          "model_name": "HTMLModel",
          "model_module_version": "1.5.0",
          "state": {
            "_dom_classes": [],
            "_model_module": "@jupyter-widgets/controls",
            "_model_module_version": "1.5.0",
            "_model_name": "HTMLModel",
            "_view_count": null,
            "_view_module": "@jupyter-widgets/controls",
            "_view_module_version": "1.5.0",
            "_view_name": "HTMLView",
            "description": "",
            "description_tooltip": null,
            "layout": "IPY_MODEL_a83b8eb4723845d488493d61230140f7",
            "placeholder": "​",
            "style": "IPY_MODEL_748efa9f4d534504ab1e019a68a237a4",
            "value": " 899k/899k [00:00&lt;00:00, 6.32MB/s]"
          }
        },
        "c9c9f71533594d0d9890a38e35b135b0": {
          "model_module": "@jupyter-widgets/base",
          "model_name": "LayoutModel",
          "model_module_version": "1.2.0",
          "state": {
            "_model_module": "@jupyter-widgets/base",
            "_model_module_version": "1.2.0",
            "_model_name": "LayoutModel",
            "_view_count": null,
            "_view_module": "@jupyter-widgets/base",
            "_view_module_version": "1.2.0",
            "_view_name": "LayoutView",
            "align_content": null,
            "align_items": null,
            "align_self": null,
            "border": null,
            "bottom": null,
            "display": null,
            "flex": null,
            "flex_flow": null,
            "grid_area": null,
            "grid_auto_columns": null,
            "grid_auto_flow": null,
            "grid_auto_rows": null,
            "grid_column": null,
            "grid_gap": null,
            "grid_row": null,
            "grid_template_areas": null,
            "grid_template_columns": null,
            "grid_template_rows": null,
            "height": null,
            "justify_content": null,
            "justify_items": null,
            "left": null,
            "margin": null,
            "max_height": null,
            "max_width": null,
            "min_height": null,
            "min_width": null,
            "object_fit": null,
            "object_position": null,
            "order": null,
            "overflow": null,
            "overflow_x": null,
            "overflow_y": null,
            "padding": null,
            "right": null,
            "top": null,
            "visibility": null,
            "width": null
          }
        },
        "c88349c959eb4182befa8c6e4a58df23": {
          "model_module": "@jupyter-widgets/base",
          "model_name": "LayoutModel",
          "model_module_version": "1.2.0",
          "state": {
            "_model_module": "@jupyter-widgets/base",
            "_model_module_version": "1.2.0",
            "_model_name": "LayoutModel",
            "_view_count": null,
            "_view_module": "@jupyter-widgets/base",
            "_view_module_version": "1.2.0",
            "_view_name": "LayoutView",
            "align_content": null,
            "align_items": null,
            "align_self": null,
            "border": null,
            "bottom": null,
            "display": null,
            "flex": null,
            "flex_flow": null,
            "grid_area": null,
            "grid_auto_columns": null,
            "grid_auto_flow": null,
            "grid_auto_rows": null,
            "grid_column": null,
            "grid_gap": null,
            "grid_row": null,
            "grid_template_areas": null,
            "grid_template_columns": null,
            "grid_template_rows": null,
            "height": null,
            "justify_content": null,
            "justify_items": null,
            "left": null,
            "margin": null,
            "max_height": null,
            "max_width": null,
            "min_height": null,
            "min_width": null,
            "object_fit": null,
            "object_position": null,
            "order": null,
            "overflow": null,
            "overflow_x": null,
            "overflow_y": null,
            "padding": null,
            "right": null,
            "top": null,
            "visibility": null,
            "width": null
          }
        },
        "73ac4eb33e194e40a95a02a6d275ae1e": {
          "model_module": "@jupyter-widgets/controls",
          "model_name": "DescriptionStyleModel",
          "model_module_version": "1.5.0",
          "state": {
            "_model_module": "@jupyter-widgets/controls",
            "_model_module_version": "1.5.0",
            "_model_name": "DescriptionStyleModel",
            "_view_count": null,
            "_view_module": "@jupyter-widgets/base",
            "_view_module_version": "1.2.0",
            "_view_name": "StyleView",
            "description_width": ""
          }
        },
        "88e0938f2e364bc59897c8715a7ae3cd": {
          "model_module": "@jupyter-widgets/base",
          "model_name": "LayoutModel",
          "model_module_version": "1.2.0",
          "state": {
            "_model_module": "@jupyter-widgets/base",
            "_model_module_version": "1.2.0",
            "_model_name": "LayoutModel",
            "_view_count": null,
            "_view_module": "@jupyter-widgets/base",
            "_view_module_version": "1.2.0",
            "_view_name": "LayoutView",
            "align_content": null,
            "align_items": null,
            "align_self": null,
            "border": null,
            "bottom": null,
            "display": null,
            "flex": null,
            "flex_flow": null,
            "grid_area": null,
            "grid_auto_columns": null,
            "grid_auto_flow": null,
            "grid_auto_rows": null,
            "grid_column": null,
            "grid_gap": null,
            "grid_row": null,
            "grid_template_areas": null,
            "grid_template_columns": null,
            "grid_template_rows": null,
            "height": null,
            "justify_content": null,
            "justify_items": null,
            "left": null,
            "margin": null,
            "max_height": null,
            "max_width": null,
            "min_height": null,
            "min_width": null,
            "object_fit": null,
            "object_position": null,
            "order": null,
            "overflow": null,
            "overflow_x": null,
            "overflow_y": null,
            "padding": null,
            "right": null,
            "top": null,
            "visibility": null,
            "width": null
          }
        },
        "fd2b554eb5d94670a9a3fc0b834bf6f1": {
          "model_module": "@jupyter-widgets/controls",
          "model_name": "ProgressStyleModel",
          "model_module_version": "1.5.0",
          "state": {
            "_model_module": "@jupyter-widgets/controls",
            "_model_module_version": "1.5.0",
            "_model_name": "ProgressStyleModel",
            "_view_count": null,
            "_view_module": "@jupyter-widgets/base",
            "_view_module_version": "1.2.0",
            "_view_name": "StyleView",
            "bar_color": null,
            "description_width": ""
          }
        },
        "a83b8eb4723845d488493d61230140f7": {
          "model_module": "@jupyter-widgets/base",
          "model_name": "LayoutModel",
          "model_module_version": "1.2.0",
          "state": {
            "_model_module": "@jupyter-widgets/base",
            "_model_module_version": "1.2.0",
            "_model_name": "LayoutModel",
            "_view_count": null,
            "_view_module": "@jupyter-widgets/base",
            "_view_module_version": "1.2.0",
            "_view_name": "LayoutView",
            "align_content": null,
            "align_items": null,
            "align_self": null,
            "border": null,
            "bottom": null,
            "display": null,
            "flex": null,
            "flex_flow": null,
            "grid_area": null,
            "grid_auto_columns": null,
            "grid_auto_flow": null,
            "grid_auto_rows": null,
            "grid_column": null,
            "grid_gap": null,
            "grid_row": null,
            "grid_template_areas": null,
            "grid_template_columns": null,
            "grid_template_rows": null,
            "height": null,
            "justify_content": null,
            "justify_items": null,
            "left": null,
            "margin": null,
            "max_height": null,
            "max_width": null,
            "min_height": null,
            "min_width": null,
            "object_fit": null,
            "object_position": null,
            "order": null,
            "overflow": null,
            "overflow_x": null,
            "overflow_y": null,
            "padding": null,
            "right": null,
            "top": null,
            "visibility": null,
            "width": null
          }
        },
        "748efa9f4d534504ab1e019a68a237a4": {
          "model_module": "@jupyter-widgets/controls",
          "model_name": "DescriptionStyleModel",
          "model_module_version": "1.5.0",
          "state": {
            "_model_module": "@jupyter-widgets/controls",
            "_model_module_version": "1.5.0",
            "_model_name": "DescriptionStyleModel",
            "_view_count": null,
            "_view_module": "@jupyter-widgets/base",
            "_view_module_version": "1.2.0",
            "_view_name": "StyleView",
            "description_width": ""
          }
        },
        "f0d5a86c924b450dace99ca2ac3b67a4": {
          "model_module": "@jupyter-widgets/controls",
          "model_name": "HBoxModel",
          "model_module_version": "1.5.0",
          "state": {
            "_dom_classes": [],
            "_model_module": "@jupyter-widgets/controls",
            "_model_module_version": "1.5.0",
            "_model_name": "HBoxModel",
            "_view_count": null,
            "_view_module": "@jupyter-widgets/controls",
            "_view_module_version": "1.5.0",
            "_view_name": "HBoxView",
            "box_style": "",
            "children": [
              "IPY_MODEL_7c3a1c91d3ab4a7187912b07bd5251f4",
              "IPY_MODEL_8df4e32613da4ba3b6976b565077d88c",
              "IPY_MODEL_01e12fb02a454c7a97ccd890be61e83a"
            ],
            "layout": "IPY_MODEL_b5862be56ac3479b8638cdf9458c0750"
          }
        },
        "7c3a1c91d3ab4a7187912b07bd5251f4": {
          "model_module": "@jupyter-widgets/controls",
          "model_name": "HTMLModel",
          "model_module_version": "1.5.0",
          "state": {
            "_dom_classes": [],
            "_model_module": "@jupyter-widgets/controls",
            "_model_module_version": "1.5.0",
            "_model_name": "HTMLModel",
            "_view_count": null,
            "_view_module": "@jupyter-widgets/controls",
            "_view_module_version": "1.5.0",
            "_view_name": "HTMLView",
            "description": "",
            "description_tooltip": null,
            "layout": "IPY_MODEL_4d4a02fd48ea41119c3877c50f118405",
            "placeholder": "​",
            "style": "IPY_MODEL_9e8b79a8944d4b449509be84a172cb0f",
            "value": "Downloading (…)olve/main/merges.txt: 100%"
          }
        },
        "8df4e32613da4ba3b6976b565077d88c": {
          "model_module": "@jupyter-widgets/controls",
          "model_name": "FloatProgressModel",
          "model_module_version": "1.5.0",
          "state": {
            "_dom_classes": [],
            "_model_module": "@jupyter-widgets/controls",
            "_model_module_version": "1.5.0",
            "_model_name": "FloatProgressModel",
            "_view_count": null,
            "_view_module": "@jupyter-widgets/controls",
            "_view_module_version": "1.5.0",
            "_view_name": "ProgressView",
            "bar_style": "success",
            "description": "",
            "description_tooltip": null,
            "layout": "IPY_MODEL_1ec2c314cfc942a39e80c8f440a66144",
            "max": 456318,
            "min": 0,
            "orientation": "horizontal",
            "style": "IPY_MODEL_7055689b12374d7c859441a0f60c5d02",
            "value": 456318
          }
        },
        "01e12fb02a454c7a97ccd890be61e83a": {
          "model_module": "@jupyter-widgets/controls",
          "model_name": "HTMLModel",
          "model_module_version": "1.5.0",
          "state": {
            "_dom_classes": [],
            "_model_module": "@jupyter-widgets/controls",
            "_model_module_version": "1.5.0",
            "_model_name": "HTMLModel",
            "_view_count": null,
            "_view_module": "@jupyter-widgets/controls",
            "_view_module_version": "1.5.0",
            "_view_name": "HTMLView",
            "description": "",
            "description_tooltip": null,
            "layout": "IPY_MODEL_039c86acfe7f4a0e807a0a5bba0adc78",
            "placeholder": "​",
            "style": "IPY_MODEL_b6a112ef61de47479af748f62911b309",
            "value": " 456k/456k [00:00&lt;00:00, 6.55MB/s]"
          }
        },
        "b5862be56ac3479b8638cdf9458c0750": {
          "model_module": "@jupyter-widgets/base",
          "model_name": "LayoutModel",
          "model_module_version": "1.2.0",
          "state": {
            "_model_module": "@jupyter-widgets/base",
            "_model_module_version": "1.2.0",
            "_model_name": "LayoutModel",
            "_view_count": null,
            "_view_module": "@jupyter-widgets/base",
            "_view_module_version": "1.2.0",
            "_view_name": "LayoutView",
            "align_content": null,
            "align_items": null,
            "align_self": null,
            "border": null,
            "bottom": null,
            "display": null,
            "flex": null,
            "flex_flow": null,
            "grid_area": null,
            "grid_auto_columns": null,
            "grid_auto_flow": null,
            "grid_auto_rows": null,
            "grid_column": null,
            "grid_gap": null,
            "grid_row": null,
            "grid_template_areas": null,
            "grid_template_columns": null,
            "grid_template_rows": null,
            "height": null,
            "justify_content": null,
            "justify_items": null,
            "left": null,
            "margin": null,
            "max_height": null,
            "max_width": null,
            "min_height": null,
            "min_width": null,
            "object_fit": null,
            "object_position": null,
            "order": null,
            "overflow": null,
            "overflow_x": null,
            "overflow_y": null,
            "padding": null,
            "right": null,
            "top": null,
            "visibility": null,
            "width": null
          }
        },
        "4d4a02fd48ea41119c3877c50f118405": {
          "model_module": "@jupyter-widgets/base",
          "model_name": "LayoutModel",
          "model_module_version": "1.2.0",
          "state": {
            "_model_module": "@jupyter-widgets/base",
            "_model_module_version": "1.2.0",
            "_model_name": "LayoutModel",
            "_view_count": null,
            "_view_module": "@jupyter-widgets/base",
            "_view_module_version": "1.2.0",
            "_view_name": "LayoutView",
            "align_content": null,
            "align_items": null,
            "align_self": null,
            "border": null,
            "bottom": null,
            "display": null,
            "flex": null,
            "flex_flow": null,
            "grid_area": null,
            "grid_auto_columns": null,
            "grid_auto_flow": null,
            "grid_auto_rows": null,
            "grid_column": null,
            "grid_gap": null,
            "grid_row": null,
            "grid_template_areas": null,
            "grid_template_columns": null,
            "grid_template_rows": null,
            "height": null,
            "justify_content": null,
            "justify_items": null,
            "left": null,
            "margin": null,
            "max_height": null,
            "max_width": null,
            "min_height": null,
            "min_width": null,
            "object_fit": null,
            "object_position": null,
            "order": null,
            "overflow": null,
            "overflow_x": null,
            "overflow_y": null,
            "padding": null,
            "right": null,
            "top": null,
            "visibility": null,
            "width": null
          }
        },
        "9e8b79a8944d4b449509be84a172cb0f": {
          "model_module": "@jupyter-widgets/controls",
          "model_name": "DescriptionStyleModel",
          "model_module_version": "1.5.0",
          "state": {
            "_model_module": "@jupyter-widgets/controls",
            "_model_module_version": "1.5.0",
            "_model_name": "DescriptionStyleModel",
            "_view_count": null,
            "_view_module": "@jupyter-widgets/base",
            "_view_module_version": "1.2.0",
            "_view_name": "StyleView",
            "description_width": ""
          }
        },
        "1ec2c314cfc942a39e80c8f440a66144": {
          "model_module": "@jupyter-widgets/base",
          "model_name": "LayoutModel",
          "model_module_version": "1.2.0",
          "state": {
            "_model_module": "@jupyter-widgets/base",
            "_model_module_version": "1.2.0",
            "_model_name": "LayoutModel",
            "_view_count": null,
            "_view_module": "@jupyter-widgets/base",
            "_view_module_version": "1.2.0",
            "_view_name": "LayoutView",
            "align_content": null,
            "align_items": null,
            "align_self": null,
            "border": null,
            "bottom": null,
            "display": null,
            "flex": null,
            "flex_flow": null,
            "grid_area": null,
            "grid_auto_columns": null,
            "grid_auto_flow": null,
            "grid_auto_rows": null,
            "grid_column": null,
            "grid_gap": null,
            "grid_row": null,
            "grid_template_areas": null,
            "grid_template_columns": null,
            "grid_template_rows": null,
            "height": null,
            "justify_content": null,
            "justify_items": null,
            "left": null,
            "margin": null,
            "max_height": null,
            "max_width": null,
            "min_height": null,
            "min_width": null,
            "object_fit": null,
            "object_position": null,
            "order": null,
            "overflow": null,
            "overflow_x": null,
            "overflow_y": null,
            "padding": null,
            "right": null,
            "top": null,
            "visibility": null,
            "width": null
          }
        },
        "7055689b12374d7c859441a0f60c5d02": {
          "model_module": "@jupyter-widgets/controls",
          "model_name": "ProgressStyleModel",
          "model_module_version": "1.5.0",
          "state": {
            "_model_module": "@jupyter-widgets/controls",
            "_model_module_version": "1.5.0",
            "_model_name": "ProgressStyleModel",
            "_view_count": null,
            "_view_module": "@jupyter-widgets/base",
            "_view_module_version": "1.2.0",
            "_view_name": "StyleView",
            "bar_color": null,
            "description_width": ""
          }
        },
        "039c86acfe7f4a0e807a0a5bba0adc78": {
          "model_module": "@jupyter-widgets/base",
          "model_name": "LayoutModel",
          "model_module_version": "1.2.0",
          "state": {
            "_model_module": "@jupyter-widgets/base",
            "_model_module_version": "1.2.0",
            "_model_name": "LayoutModel",
            "_view_count": null,
            "_view_module": "@jupyter-widgets/base",
            "_view_module_version": "1.2.0",
            "_view_name": "LayoutView",
            "align_content": null,
            "align_items": null,
            "align_self": null,
            "border": null,
            "bottom": null,
            "display": null,
            "flex": null,
            "flex_flow": null,
            "grid_area": null,
            "grid_auto_columns": null,
            "grid_auto_flow": null,
            "grid_auto_rows": null,
            "grid_column": null,
            "grid_gap": null,
            "grid_row": null,
            "grid_template_areas": null,
            "grid_template_columns": null,
            "grid_template_rows": null,
            "height": null,
            "justify_content": null,
            "justify_items": null,
            "left": null,
            "margin": null,
            "max_height": null,
            "max_width": null,
            "min_height": null,
            "min_width": null,
            "object_fit": null,
            "object_position": null,
            "order": null,
            "overflow": null,
            "overflow_x": null,
            "overflow_y": null,
            "padding": null,
            "right": null,
            "top": null,
            "visibility": null,
            "width": null
          }
        },
        "b6a112ef61de47479af748f62911b309": {
          "model_module": "@jupyter-widgets/controls",
          "model_name": "DescriptionStyleModel",
          "model_module_version": "1.5.0",
          "state": {
            "_model_module": "@jupyter-widgets/controls",
            "_model_module_version": "1.5.0",
            "_model_name": "DescriptionStyleModel",
            "_view_count": null,
            "_view_module": "@jupyter-widgets/base",
            "_view_module_version": "1.2.0",
            "_view_name": "StyleView",
            "description_width": ""
          }
        },
        "056f0af3117e4a6db3c9bc93bc21782f": {
          "model_module": "@jupyter-widgets/controls",
          "model_name": "HBoxModel",
          "model_module_version": "1.5.0",
          "state": {
            "_dom_classes": [],
            "_model_module": "@jupyter-widgets/controls",
            "_model_module_version": "1.5.0",
            "_model_name": "HBoxModel",
            "_view_count": null,
            "_view_module": "@jupyter-widgets/controls",
            "_view_module_version": "1.5.0",
            "_view_name": "HBoxView",
            "box_style": "",
            "children": [
              "IPY_MODEL_8828d1978784434184d2ea173ee70631",
              "IPY_MODEL_fce0256f051c44b88c22c3832dd9f80f",
              "IPY_MODEL_63daed43f74e430e96e7bf2d1b1a3a08"
            ],
            "layout": "IPY_MODEL_0a3de8a89fe443079a368d9030101a2c"
          }
        },
        "8828d1978784434184d2ea173ee70631": {
          "model_module": "@jupyter-widgets/controls",
          "model_name": "HTMLModel",
          "model_module_version": "1.5.0",
          "state": {
            "_dom_classes": [],
            "_model_module": "@jupyter-widgets/controls",
            "_model_module_version": "1.5.0",
            "_model_name": "HTMLModel",
            "_view_count": null,
            "_view_module": "@jupyter-widgets/controls",
            "_view_module_version": "1.5.0",
            "_view_name": "HTMLView",
            "description": "",
            "description_tooltip": null,
            "layout": "IPY_MODEL_466926299cfa41da9615e624ebcacacd",
            "placeholder": "​",
            "style": "IPY_MODEL_8e21316d336f4cc19003a4dd2d7c4cf1",
            "value": "Downloading (…)/main/tokenizer.json: 100%"
          }
        },
        "fce0256f051c44b88c22c3832dd9f80f": {
          "model_module": "@jupyter-widgets/controls",
          "model_name": "FloatProgressModel",
          "model_module_version": "1.5.0",
          "state": {
            "_dom_classes": [],
            "_model_module": "@jupyter-widgets/controls",
            "_model_module_version": "1.5.0",
            "_model_name": "FloatProgressModel",
            "_view_count": null,
            "_view_module": "@jupyter-widgets/controls",
            "_view_module_version": "1.5.0",
            "_view_name": "ProgressView",
            "bar_style": "success",
            "description": "",
            "description_tooltip": null,
            "layout": "IPY_MODEL_a5663b09ea1a47a6a5810571b6c6afe1",
            "max": 1355863,
            "min": 0,
            "orientation": "horizontal",
            "style": "IPY_MODEL_b4b50f0986a94015bc34b7ca732009d6",
            "value": 1355863
          }
        },
        "63daed43f74e430e96e7bf2d1b1a3a08": {
          "model_module": "@jupyter-widgets/controls",
          "model_name": "HTMLModel",
          "model_module_version": "1.5.0",
          "state": {
            "_dom_classes": [],
            "_model_module": "@jupyter-widgets/controls",
            "_model_module_version": "1.5.0",
            "_model_name": "HTMLModel",
            "_view_count": null,
            "_view_module": "@jupyter-widgets/controls",
            "_view_module_version": "1.5.0",
            "_view_name": "HTMLView",
            "description": "",
            "description_tooltip": null,
            "layout": "IPY_MODEL_b2188a834abb4752b808c8789ef46c3d",
            "placeholder": "​",
            "style": "IPY_MODEL_31ac413f01984a71a21d580ca505ae7f",
            "value": " 1.36M/1.36M [00:00&lt;00:00, 19.9MB/s]"
          }
        },
        "0a3de8a89fe443079a368d9030101a2c": {
          "model_module": "@jupyter-widgets/base",
          "model_name": "LayoutModel",
          "model_module_version": "1.2.0",
          "state": {
            "_model_module": "@jupyter-widgets/base",
            "_model_module_version": "1.2.0",
            "_model_name": "LayoutModel",
            "_view_count": null,
            "_view_module": "@jupyter-widgets/base",
            "_view_module_version": "1.2.0",
            "_view_name": "LayoutView",
            "align_content": null,
            "align_items": null,
            "align_self": null,
            "border": null,
            "bottom": null,
            "display": null,
            "flex": null,
            "flex_flow": null,
            "grid_area": null,
            "grid_auto_columns": null,
            "grid_auto_flow": null,
            "grid_auto_rows": null,
            "grid_column": null,
            "grid_gap": null,
            "grid_row": null,
            "grid_template_areas": null,
            "grid_template_columns": null,
            "grid_template_rows": null,
            "height": null,
            "justify_content": null,
            "justify_items": null,
            "left": null,
            "margin": null,
            "max_height": null,
            "max_width": null,
            "min_height": null,
            "min_width": null,
            "object_fit": null,
            "object_position": null,
            "order": null,
            "overflow": null,
            "overflow_x": null,
            "overflow_y": null,
            "padding": null,
            "right": null,
            "top": null,
            "visibility": null,
            "width": null
          }
        },
        "466926299cfa41da9615e624ebcacacd": {
          "model_module": "@jupyter-widgets/base",
          "model_name": "LayoutModel",
          "model_module_version": "1.2.0",
          "state": {
            "_model_module": "@jupyter-widgets/base",
            "_model_module_version": "1.2.0",
            "_model_name": "LayoutModel",
            "_view_count": null,
            "_view_module": "@jupyter-widgets/base",
            "_view_module_version": "1.2.0",
            "_view_name": "LayoutView",
            "align_content": null,
            "align_items": null,
            "align_self": null,
            "border": null,
            "bottom": null,
            "display": null,
            "flex": null,
            "flex_flow": null,
            "grid_area": null,
            "grid_auto_columns": null,
            "grid_auto_flow": null,
            "grid_auto_rows": null,
            "grid_column": null,
            "grid_gap": null,
            "grid_row": null,
            "grid_template_areas": null,
            "grid_template_columns": null,
            "grid_template_rows": null,
            "height": null,
            "justify_content": null,
            "justify_items": null,
            "left": null,
            "margin": null,
            "max_height": null,
            "max_width": null,
            "min_height": null,
            "min_width": null,
            "object_fit": null,
            "object_position": null,
            "order": null,
            "overflow": null,
            "overflow_x": null,
            "overflow_y": null,
            "padding": null,
            "right": null,
            "top": null,
            "visibility": null,
            "width": null
          }
        },
        "8e21316d336f4cc19003a4dd2d7c4cf1": {
          "model_module": "@jupyter-widgets/controls",
          "model_name": "DescriptionStyleModel",
          "model_module_version": "1.5.0",
          "state": {
            "_model_module": "@jupyter-widgets/controls",
            "_model_module_version": "1.5.0",
            "_model_name": "DescriptionStyleModel",
            "_view_count": null,
            "_view_module": "@jupyter-widgets/base",
            "_view_module_version": "1.2.0",
            "_view_name": "StyleView",
            "description_width": ""
          }
        },
        "a5663b09ea1a47a6a5810571b6c6afe1": {
          "model_module": "@jupyter-widgets/base",
          "model_name": "LayoutModel",
          "model_module_version": "1.2.0",
          "state": {
            "_model_module": "@jupyter-widgets/base",
            "_model_module_version": "1.2.0",
            "_model_name": "LayoutModel",
            "_view_count": null,
            "_view_module": "@jupyter-widgets/base",
            "_view_module_version": "1.2.0",
            "_view_name": "LayoutView",
            "align_content": null,
            "align_items": null,
            "align_self": null,
            "border": null,
            "bottom": null,
            "display": null,
            "flex": null,
            "flex_flow": null,
            "grid_area": null,
            "grid_auto_columns": null,
            "grid_auto_flow": null,
            "grid_auto_rows": null,
            "grid_column": null,
            "grid_gap": null,
            "grid_row": null,
            "grid_template_areas": null,
            "grid_template_columns": null,
            "grid_template_rows": null,
            "height": null,
            "justify_content": null,
            "justify_items": null,
            "left": null,
            "margin": null,
            "max_height": null,
            "max_width": null,
            "min_height": null,
            "min_width": null,
            "object_fit": null,
            "object_position": null,
            "order": null,
            "overflow": null,
            "overflow_x": null,
            "overflow_y": null,
            "padding": null,
            "right": null,
            "top": null,
            "visibility": null,
            "width": null
          }
        },
        "b4b50f0986a94015bc34b7ca732009d6": {
          "model_module": "@jupyter-widgets/controls",
          "model_name": "ProgressStyleModel",
          "model_module_version": "1.5.0",
          "state": {
            "_model_module": "@jupyter-widgets/controls",
            "_model_module_version": "1.5.0",
            "_model_name": "ProgressStyleModel",
            "_view_count": null,
            "_view_module": "@jupyter-widgets/base",
            "_view_module_version": "1.2.0",
            "_view_name": "StyleView",
            "bar_color": null,
            "description_width": ""
          }
        },
        "b2188a834abb4752b808c8789ef46c3d": {
          "model_module": "@jupyter-widgets/base",
          "model_name": "LayoutModel",
          "model_module_version": "1.2.0",
          "state": {
            "_model_module": "@jupyter-widgets/base",
            "_model_module_version": "1.2.0",
            "_model_name": "LayoutModel",
            "_view_count": null,
            "_view_module": "@jupyter-widgets/base",
            "_view_module_version": "1.2.0",
            "_view_name": "LayoutView",
            "align_content": null,
            "align_items": null,
            "align_self": null,
            "border": null,
            "bottom": null,
            "display": null,
            "flex": null,
            "flex_flow": null,
            "grid_area": null,
            "grid_auto_columns": null,
            "grid_auto_flow": null,
            "grid_auto_rows": null,
            "grid_column": null,
            "grid_gap": null,
            "grid_row": null,
            "grid_template_areas": null,
            "grid_template_columns": null,
            "grid_template_rows": null,
            "height": null,
            "justify_content": null,
            "justify_items": null,
            "left": null,
            "margin": null,
            "max_height": null,
            "max_width": null,
            "min_height": null,
            "min_width": null,
            "object_fit": null,
            "object_position": null,
            "order": null,
            "overflow": null,
            "overflow_x": null,
            "overflow_y": null,
            "padding": null,
            "right": null,
            "top": null,
            "visibility": null,
            "width": null
          }
        },
        "31ac413f01984a71a21d580ca505ae7f": {
          "model_module": "@jupyter-widgets/controls",
          "model_name": "DescriptionStyleModel",
          "model_module_version": "1.5.0",
          "state": {
            "_model_module": "@jupyter-widgets/controls",
            "_model_module_version": "1.5.0",
            "_model_name": "DescriptionStyleModel",
            "_view_count": null,
            "_view_module": "@jupyter-widgets/base",
            "_view_module_version": "1.2.0",
            "_view_name": "StyleView",
            "description_width": ""
          }
        },
        "269f87de3dd348c9981919e7f6198490": {
          "model_module": "@jupyter-widgets/controls",
          "model_name": "HBoxModel",
          "model_module_version": "1.5.0",
          "state": {
            "_dom_classes": [],
            "_model_module": "@jupyter-widgets/controls",
            "_model_module_version": "1.5.0",
            "_model_name": "HBoxModel",
            "_view_count": null,
            "_view_module": "@jupyter-widgets/controls",
            "_view_module_version": "1.5.0",
            "_view_name": "HBoxView",
            "box_style": "",
            "children": [
              "IPY_MODEL_a363d911e9fa42598b931c9eef3b5bbf",
              "IPY_MODEL_3f79fcb4ff6b4160af57ad750283369d",
              "IPY_MODEL_134a6acbf4bd42cf8609047d91410795"
            ],
            "layout": "IPY_MODEL_e43633ba9fd14d97ad2b299d26a41e8d"
          }
        },
        "a363d911e9fa42598b931c9eef3b5bbf": {
          "model_module": "@jupyter-widgets/controls",
          "model_name": "HTMLModel",
          "model_module_version": "1.5.0",
          "state": {
            "_dom_classes": [],
            "_model_module": "@jupyter-widgets/controls",
            "_model_module_version": "1.5.0",
            "_model_name": "HTMLModel",
            "_view_count": null,
            "_view_module": "@jupyter-widgets/controls",
            "_view_module_version": "1.5.0",
            "_view_name": "HTMLView",
            "description": "",
            "description_tooltip": null,
            "layout": "IPY_MODEL_b44a14c3ef034c4784fc2def825e8837",
            "placeholder": "​",
            "style": "IPY_MODEL_c256e0f3215445e1a831438bd98e5b4e",
            "value": "Downloading pytorch_model.bin: 100%"
          }
        },
        "3f79fcb4ff6b4160af57ad750283369d": {
          "model_module": "@jupyter-widgets/controls",
          "model_name": "FloatProgressModel",
          "model_module_version": "1.5.0",
          "state": {
            "_dom_classes": [],
            "_model_module": "@jupyter-widgets/controls",
            "_model_module_version": "1.5.0",
            "_model_name": "FloatProgressModel",
            "_view_count": null,
            "_view_module": "@jupyter-widgets/controls",
            "_view_module_version": "1.5.0",
            "_view_name": "ProgressView",
            "bar_style": "success",
            "description": "",
            "description_tooltip": null,
            "layout": "IPY_MODEL_c1eebe0c4fd640e3808f833549e30da9",
            "max": 1425941629,
            "min": 0,
            "orientation": "horizontal",
            "style": "IPY_MODEL_e5f52505ae504a149515d063add51c13",
            "value": 1425941629
          }
        },
        "134a6acbf4bd42cf8609047d91410795": {
          "model_module": "@jupyter-widgets/controls",
          "model_name": "HTMLModel",
          "model_module_version": "1.5.0",
          "state": {
            "_dom_classes": [],
            "_model_module": "@jupyter-widgets/controls",
            "_model_module_version": "1.5.0",
            "_model_name": "HTMLModel",
            "_view_count": null,
            "_view_module": "@jupyter-widgets/controls",
            "_view_module_version": "1.5.0",
            "_view_name": "HTMLView",
            "description": "",
            "description_tooltip": null,
            "layout": "IPY_MODEL_5efa0bb920114414977f019b2e094925",
            "placeholder": "​",
            "style": "IPY_MODEL_e0314d3d567743f490548a5d6cddf438",
            "value": " 1.43G/1.43G [00:14&lt;00:00, 47.1MB/s]"
          }
        },
        "e43633ba9fd14d97ad2b299d26a41e8d": {
          "model_module": "@jupyter-widgets/base",
          "model_name": "LayoutModel",
          "model_module_version": "1.2.0",
          "state": {
            "_model_module": "@jupyter-widgets/base",
            "_model_module_version": "1.2.0",
            "_model_name": "LayoutModel",
            "_view_count": null,
            "_view_module": "@jupyter-widgets/base",
            "_view_module_version": "1.2.0",
            "_view_name": "LayoutView",
            "align_content": null,
            "align_items": null,
            "align_self": null,
            "border": null,
            "bottom": null,
            "display": null,
            "flex": null,
            "flex_flow": null,
            "grid_area": null,
            "grid_auto_columns": null,
            "grid_auto_flow": null,
            "grid_auto_rows": null,
            "grid_column": null,
            "grid_gap": null,
            "grid_row": null,
            "grid_template_areas": null,
            "grid_template_columns": null,
            "grid_template_rows": null,
            "height": null,
            "justify_content": null,
            "justify_items": null,
            "left": null,
            "margin": null,
            "max_height": null,
            "max_width": null,
            "min_height": null,
            "min_width": null,
            "object_fit": null,
            "object_position": null,
            "order": null,
            "overflow": null,
            "overflow_x": null,
            "overflow_y": null,
            "padding": null,
            "right": null,
            "top": null,
            "visibility": null,
            "width": null
          }
        },
        "b44a14c3ef034c4784fc2def825e8837": {
          "model_module": "@jupyter-widgets/base",
          "model_name": "LayoutModel",
          "model_module_version": "1.2.0",
          "state": {
            "_model_module": "@jupyter-widgets/base",
            "_model_module_version": "1.2.0",
            "_model_name": "LayoutModel",
            "_view_count": null,
            "_view_module": "@jupyter-widgets/base",
            "_view_module_version": "1.2.0",
            "_view_name": "LayoutView",
            "align_content": null,
            "align_items": null,
            "align_self": null,
            "border": null,
            "bottom": null,
            "display": null,
            "flex": null,
            "flex_flow": null,
            "grid_area": null,
            "grid_auto_columns": null,
            "grid_auto_flow": null,
            "grid_auto_rows": null,
            "grid_column": null,
            "grid_gap": null,
            "grid_row": null,
            "grid_template_areas": null,
            "grid_template_columns": null,
            "grid_template_rows": null,
            "height": null,
            "justify_content": null,
            "justify_items": null,
            "left": null,
            "margin": null,
            "max_height": null,
            "max_width": null,
            "min_height": null,
            "min_width": null,
            "object_fit": null,
            "object_position": null,
            "order": null,
            "overflow": null,
            "overflow_x": null,
            "overflow_y": null,
            "padding": null,
            "right": null,
            "top": null,
            "visibility": null,
            "width": null
          }
        },
        "c256e0f3215445e1a831438bd98e5b4e": {
          "model_module": "@jupyter-widgets/controls",
          "model_name": "DescriptionStyleModel",
          "model_module_version": "1.5.0",
          "state": {
            "_model_module": "@jupyter-widgets/controls",
            "_model_module_version": "1.5.0",
            "_model_name": "DescriptionStyleModel",
            "_view_count": null,
            "_view_module": "@jupyter-widgets/base",
            "_view_module_version": "1.2.0",
            "_view_name": "StyleView",
            "description_width": ""
          }
        },
        "c1eebe0c4fd640e3808f833549e30da9": {
          "model_module": "@jupyter-widgets/base",
          "model_name": "LayoutModel",
          "model_module_version": "1.2.0",
          "state": {
            "_model_module": "@jupyter-widgets/base",
            "_model_module_version": "1.2.0",
            "_model_name": "LayoutModel",
            "_view_count": null,
            "_view_module": "@jupyter-widgets/base",
            "_view_module_version": "1.2.0",
            "_view_name": "LayoutView",
            "align_content": null,
            "align_items": null,
            "align_self": null,
            "border": null,
            "bottom": null,
            "display": null,
            "flex": null,
            "flex_flow": null,
            "grid_area": null,
            "grid_auto_columns": null,
            "grid_auto_flow": null,
            "grid_auto_rows": null,
            "grid_column": null,
            "grid_gap": null,
            "grid_row": null,
            "grid_template_areas": null,
            "grid_template_columns": null,
            "grid_template_rows": null,
            "height": null,
            "justify_content": null,
            "justify_items": null,
            "left": null,
            "margin": null,
            "max_height": null,
            "max_width": null,
            "min_height": null,
            "min_width": null,
            "object_fit": null,
            "object_position": null,
            "order": null,
            "overflow": null,
            "overflow_x": null,
            "overflow_y": null,
            "padding": null,
            "right": null,
            "top": null,
            "visibility": null,
            "width": null
          }
        },
        "e5f52505ae504a149515d063add51c13": {
          "model_module": "@jupyter-widgets/controls",
          "model_name": "ProgressStyleModel",
          "model_module_version": "1.5.0",
          "state": {
            "_model_module": "@jupyter-widgets/controls",
            "_model_module_version": "1.5.0",
            "_model_name": "ProgressStyleModel",
            "_view_count": null,
            "_view_module": "@jupyter-widgets/base",
            "_view_module_version": "1.2.0",
            "_view_name": "StyleView",
            "bar_color": null,
            "description_width": ""
          }
        },
        "5efa0bb920114414977f019b2e094925": {
          "model_module": "@jupyter-widgets/base",
          "model_name": "LayoutModel",
          "model_module_version": "1.2.0",
          "state": {
            "_model_module": "@jupyter-widgets/base",
            "_model_module_version": "1.2.0",
            "_model_name": "LayoutModel",
            "_view_count": null,
            "_view_module": "@jupyter-widgets/base",
            "_view_module_version": "1.2.0",
            "_view_name": "LayoutView",
            "align_content": null,
            "align_items": null,
            "align_self": null,
            "border": null,
            "bottom": null,
            "display": null,
            "flex": null,
            "flex_flow": null,
            "grid_area": null,
            "grid_auto_columns": null,
            "grid_auto_flow": null,
            "grid_auto_rows": null,
            "grid_column": null,
            "grid_gap": null,
            "grid_row": null,
            "grid_template_areas": null,
            "grid_template_columns": null,
            "grid_template_rows": null,
            "height": null,
            "justify_content": null,
            "justify_items": null,
            "left": null,
            "margin": null,
            "max_height": null,
            "max_width": null,
            "min_height": null,
            "min_width": null,
            "object_fit": null,
            "object_position": null,
            "order": null,
            "overflow": null,
            "overflow_x": null,
            "overflow_y": null,
            "padding": null,
            "right": null,
            "top": null,
            "visibility": null,
            "width": null
          }
        },
        "e0314d3d567743f490548a5d6cddf438": {
          "model_module": "@jupyter-widgets/controls",
          "model_name": "DescriptionStyleModel",
          "model_module_version": "1.5.0",
          "state": {
            "_model_module": "@jupyter-widgets/controls",
            "_model_module_version": "1.5.0",
            "_model_name": "DescriptionStyleModel",
            "_view_count": null,
            "_view_module": "@jupyter-widgets/base",
            "_view_module_version": "1.2.0",
            "_view_name": "StyleView",
            "description_width": ""
          }
        }
      }
    }
  },
  "nbformat": 4,
  "nbformat_minor": 0
}